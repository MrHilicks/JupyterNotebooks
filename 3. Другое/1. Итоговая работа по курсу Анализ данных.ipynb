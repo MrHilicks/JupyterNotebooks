{
 "cells": [
  {
   "cell_type": "markdown",
   "id": "b0736e60",
   "metadata": {},
   "source": [
    "# Итоговая работа по курсу \"Анализ данных\""
   ]
  },
  {
   "cell_type": "markdown",
   "id": "ff240d04",
   "metadata": {},
   "source": [
    "Магистерская программа \"Управление развитием бизнеса\" планирует открыть онлайн-курс на платформе [Udemy](https://www.udemy.com/) для увеличения узнаваемости бренда программы. Для принятия решения о том, каким именно должен быть курс, необходимо провести анализ уже существующих на платформе курсов. "
   ]
  },
  {
   "cell_type": "markdown",
   "id": "6ffb69e2",
   "metadata": {},
   "source": [
    "Вот ключевые вопросы, на которые необходимо дать ответы в результате анализа:<br>\n",
    "- каким должен быть курс?\n",
    "- сколько он должен длится и из скольких лекций состоять?\n",
    "- должен ли он быть платным? если да, то какую цену необходимо выбрать?\n",
    "- когда лучше разместить курс на платформе?\n",
    "- какие курсы посмотреть в качестве примера?"
   ]
  },
  {
   "cell_type": "markdown",
   "id": "eaacf11a",
   "metadata": {},
   "source": [
    "Информация о курсах на платформе [Udemy](https://www.udemy.com/) представлена в таблице `udemy_courses.csv`"
   ]
  },
  {
   "cell_type": "markdown",
   "id": "08ace321",
   "metadata": {},
   "source": [
    "# Инструкция к выполнению работы"
   ]
  },
  {
   "cell_type": "markdown",
   "id": "2178f752",
   "metadata": {},
   "source": [
    "## 1. Откройте таблицу и изучите общую информацию о данных"
   ]
  },
  {
   "cell_type": "markdown",
   "id": "87e9b066",
   "metadata": {},
   "source": [
    "Скачайте с портала on.econ.msu.ru таблицу `udemy_courses.csv`. Помните, что для корректной работы файл с данными и файл с проектом должны находиться в одной папке.<br>\n",
    "Изучите общую информацию о таблице и сделайте выводы о следующих шагах анализа."
   ]
  },
  {
   "cell_type": "code",
   "execution_count": 152,
   "id": "bb2b7ac2",
   "metadata": {},
   "outputs": [],
   "source": [
    "import pandas as pd\n",
    "import numpy as np\n",
    "import matplotlib.pyplot as plt\n",
    "\n",
    "%matplotlib inline"
   ]
  },
  {
   "cell_type": "markdown",
   "id": "993db214",
   "metadata": {},
   "source": [
    "Загрузка данных"
   ]
  },
  {
   "cell_type": "code",
   "execution_count": 131,
   "id": "a544ced4",
   "metadata": {},
   "outputs": [
    {
     "data": {
      "text/html": [
       "<div>\n",
       "<style scoped>\n",
       "    .dataframe tbody tr th:only-of-type {\n",
       "        vertical-align: middle;\n",
       "    }\n",
       "\n",
       "    .dataframe tbody tr th {\n",
       "        vertical-align: top;\n",
       "    }\n",
       "\n",
       "    .dataframe thead th {\n",
       "        text-align: right;\n",
       "    }\n",
       "</style>\n",
       "<table border=\"1\" class=\"dataframe\">\n",
       "  <thead>\n",
       "    <tr style=\"text-align: right;\">\n",
       "      <th></th>\n",
       "      <th>courseID</th>\n",
       "      <th>course_title</th>\n",
       "      <th>URL</th>\n",
       "      <th>is_paid</th>\n",
       "      <th>PRICE</th>\n",
       "      <th>num_subscribers</th>\n",
       "      <th>NUMreviews</th>\n",
       "      <th>num_lectures</th>\n",
       "      <th>Level</th>\n",
       "      <th>content_duration</th>\n",
       "      <th>published_timestamp</th>\n",
       "      <th>Subject</th>\n",
       "    </tr>\n",
       "  </thead>\n",
       "  <tbody>\n",
       "    <tr>\n",
       "      <th>0</th>\n",
       "      <td>1070968</td>\n",
       "      <td>Ultimate Investment Banking Course</td>\n",
       "      <td>https://www.udemy.com/ultimate-investment-bank...</td>\n",
       "      <td>ИСТИНА</td>\n",
       "      <td>200.0</td>\n",
       "      <td>2147</td>\n",
       "      <td>23</td>\n",
       "      <td>51</td>\n",
       "      <td>All Levels</td>\n",
       "      <td>1.5</td>\n",
       "      <td>18.01.2017Z23:58:58</td>\n",
       "      <td>Business Finance</td>\n",
       "    </tr>\n",
       "    <tr>\n",
       "      <th>1</th>\n",
       "      <td>1113822</td>\n",
       "      <td>Complete GST Course &amp; Certification - Grow You...</td>\n",
       "      <td>https://www.udemy.com/goods-and-services-tax/</td>\n",
       "      <td>ИСТИНА</td>\n",
       "      <td>75.0</td>\n",
       "      <td>2792</td>\n",
       "      <td>923</td>\n",
       "      <td>274</td>\n",
       "      <td>All Levels</td>\n",
       "      <td>39.0</td>\n",
       "      <td>09.03.2017Z19:34:20</td>\n",
       "      <td>Business Finance</td>\n",
       "    </tr>\n",
       "    <tr>\n",
       "      <th>2</th>\n",
       "      <td>1006314</td>\n",
       "      <td>Financial Modeling for Business Analysts and C...</td>\n",
       "      <td>https://www.udemy.com/financial-modeling-for-b...</td>\n",
       "      <td>ИСТИНА</td>\n",
       "      <td>45.0</td>\n",
       "      <td>2174</td>\n",
       "      <td>74</td>\n",
       "      <td>51</td>\n",
       "      <td>Intermediate Level</td>\n",
       "      <td>2.5</td>\n",
       "      <td>19.12.2016Z22:26:30</td>\n",
       "      <td>Business Finance</td>\n",
       "    </tr>\n",
       "    <tr>\n",
       "      <th>3</th>\n",
       "      <td>1210588</td>\n",
       "      <td>Beginner to Pro - Financial Analysis in Excel ...</td>\n",
       "      <td>https://www.udemy.com/complete-excel-finance-c...</td>\n",
       "      <td>ИСТИНА</td>\n",
       "      <td>95.0</td>\n",
       "      <td>2451</td>\n",
       "      <td>11</td>\n",
       "      <td>36</td>\n",
       "      <td>All Levels</td>\n",
       "      <td>3.0</td>\n",
       "      <td>30.05.2017Z23:07:24</td>\n",
       "      <td>Business Finance</td>\n",
       "    </tr>\n",
       "    <tr>\n",
       "      <th>4</th>\n",
       "      <td>1011058</td>\n",
       "      <td>How To Maximize Your Profits Trading Options</td>\n",
       "      <td>https://www.udemy.com/how-to-maximize-your-pro...</td>\n",
       "      <td>ИСТИНА</td>\n",
       "      <td>200.0</td>\n",
       "      <td>1276</td>\n",
       "      <td>45</td>\n",
       "      <td>26</td>\n",
       "      <td>Intermediate Level</td>\n",
       "      <td>2.0</td>\n",
       "      <td>13.12.2016Z17:57:18</td>\n",
       "      <td>Business Finance</td>\n",
       "    </tr>\n",
       "  </tbody>\n",
       "</table>\n",
       "</div>"
      ],
      "text/plain": [
       "   courseID                                       course_title  \\\n",
       "0   1070968                 Ultimate Investment Banking Course   \n",
       "1   1113822  Complete GST Course & Certification - Grow You...   \n",
       "2   1006314  Financial Modeling for Business Analysts and C...   \n",
       "3   1210588  Beginner to Pro - Financial Analysis in Excel ...   \n",
       "4   1011058       How To Maximize Your Profits Trading Options   \n",
       "\n",
       "  URL                                                            is_paid  \\\n",
       "0  https://www.udemy.com/ultimate-investment-bank...              ИСТИНА   \n",
       "1      https://www.udemy.com/goods-and-services-tax/              ИСТИНА   \n",
       "2  https://www.udemy.com/financial-modeling-for-b...              ИСТИНА   \n",
       "3  https://www.udemy.com/complete-excel-finance-c...              ИСТИНА   \n",
       "4  https://www.udemy.com/how-to-maximize-your-pro...              ИСТИНА   \n",
       "\n",
       "   PRICE  num_subscribers  NUMreviews  num_lectures  \\\n",
       "0  200.0             2147          23            51   \n",
       "1   75.0             2792         923           274   \n",
       "2   45.0             2174          74            51   \n",
       "3   95.0             2451          11            36   \n",
       "4  200.0             1276          45            26   \n",
       "\n",
       "                                         Level  content_duration  \\\n",
       "0                                   All Levels               1.5   \n",
       "1                                   All Levels              39.0   \n",
       "2                           Intermediate Level               2.5   \n",
       "3                                   All Levels               3.0   \n",
       "4                           Intermediate Level               2.0   \n",
       "\n",
       "   published_timestamp           Subject  \n",
       "0  18.01.2017Z23:58:58  Business Finance  \n",
       "1  09.03.2017Z19:34:20  Business Finance  \n",
       "2  19.12.2016Z22:26:30  Business Finance  \n",
       "3  30.05.2017Z23:07:24  Business Finance  \n",
       "4  13.12.2016Z17:57:18  Business Finance  "
      ]
     },
     "execution_count": 131,
     "metadata": {},
     "output_type": "execute_result"
    }
   ],
   "source": [
    "df = pd.read_csv('udemy_courses.csv', sep=';')\n",
    "df.head()"
   ]
  },
  {
   "cell_type": "code",
   "execution_count": 132,
   "id": "c35cf00d",
   "metadata": {},
   "outputs": [
    {
     "data": {
      "text/plain": [
       "(3678, 12)"
      ]
     },
     "execution_count": 132,
     "metadata": {},
     "output_type": "execute_result"
    }
   ],
   "source": [
    "df.shape"
   ]
  },
  {
   "cell_type": "markdown",
   "id": "14057309",
   "metadata": {},
   "source": [
    "## 2. Подготовьте данные для анализа"
   ]
  },
  {
   "cell_type": "markdown",
   "id": "261695e5",
   "metadata": {},
   "source": [
    "1. Вспомните основные правила оформления заголовков столбцов. Все ли столбцы в `udemy_courses.csv` соотвествуют требованиям? Приведите их к верному виду."
   ]
  },
  {
   "cell_type": "code",
   "execution_count": 133,
   "id": "7d68a604",
   "metadata": {},
   "outputs": [
    {
     "data": {
      "text/plain": [
       "Index(['courseID', 'course_title',\n",
       "       'URL                                                           ',\n",
       "       'is_paid', 'PRICE', 'num_subscribers', 'NUMreviews', 'num_lectures',\n",
       "       '                                       Level', 'content_duration',\n",
       "       'published_timestamp', 'Subject'],\n",
       "      dtype='object')"
      ]
     },
     "execution_count": 133,
     "metadata": {},
     "output_type": "execute_result"
    }
   ],
   "source": [
    "df.columns"
   ]
  },
  {
   "cell_type": "code",
   "execution_count": 134,
   "id": "e33d2697",
   "metadata": {},
   "outputs": [
    {
     "data": {
      "text/html": [
       "<div>\n",
       "<style scoped>\n",
       "    .dataframe tbody tr th:only-of-type {\n",
       "        vertical-align: middle;\n",
       "    }\n",
       "\n",
       "    .dataframe tbody tr th {\n",
       "        vertical-align: top;\n",
       "    }\n",
       "\n",
       "    .dataframe thead th {\n",
       "        text-align: right;\n",
       "    }\n",
       "</style>\n",
       "<table border=\"1\" class=\"dataframe\">\n",
       "  <thead>\n",
       "    <tr style=\"text-align: right;\">\n",
       "      <th></th>\n",
       "      <th>Course_ID</th>\n",
       "      <th>Course_Title</th>\n",
       "      <th>URL</th>\n",
       "      <th>Is_Paid</th>\n",
       "      <th>Price</th>\n",
       "      <th>Num_Subscribers</th>\n",
       "      <th>Num_Reviews</th>\n",
       "      <th>Num_Lectures</th>\n",
       "      <th>Level</th>\n",
       "      <th>Content_Duration</th>\n",
       "      <th>Published_Timestamp</th>\n",
       "      <th>Subject</th>\n",
       "    </tr>\n",
       "  </thead>\n",
       "  <tbody>\n",
       "    <tr>\n",
       "      <th>0</th>\n",
       "      <td>1070968</td>\n",
       "      <td>Ultimate Investment Banking Course</td>\n",
       "      <td>https://www.udemy.com/ultimate-investment-bank...</td>\n",
       "      <td>ИСТИНА</td>\n",
       "      <td>200.0</td>\n",
       "      <td>2147</td>\n",
       "      <td>23</td>\n",
       "      <td>51</td>\n",
       "      <td>All Levels</td>\n",
       "      <td>1.5</td>\n",
       "      <td>18.01.2017Z23:58:58</td>\n",
       "      <td>Business Finance</td>\n",
       "    </tr>\n",
       "    <tr>\n",
       "      <th>1</th>\n",
       "      <td>1113822</td>\n",
       "      <td>Complete GST Course &amp; Certification - Grow You...</td>\n",
       "      <td>https://www.udemy.com/goods-and-services-tax/</td>\n",
       "      <td>ИСТИНА</td>\n",
       "      <td>75.0</td>\n",
       "      <td>2792</td>\n",
       "      <td>923</td>\n",
       "      <td>274</td>\n",
       "      <td>All Levels</td>\n",
       "      <td>39.0</td>\n",
       "      <td>09.03.2017Z19:34:20</td>\n",
       "      <td>Business Finance</td>\n",
       "    </tr>\n",
       "    <tr>\n",
       "      <th>2</th>\n",
       "      <td>1006314</td>\n",
       "      <td>Financial Modeling for Business Analysts and C...</td>\n",
       "      <td>https://www.udemy.com/financial-modeling-for-b...</td>\n",
       "      <td>ИСТИНА</td>\n",
       "      <td>45.0</td>\n",
       "      <td>2174</td>\n",
       "      <td>74</td>\n",
       "      <td>51</td>\n",
       "      <td>Intermediate Level</td>\n",
       "      <td>2.5</td>\n",
       "      <td>19.12.2016Z22:26:30</td>\n",
       "      <td>Business Finance</td>\n",
       "    </tr>\n",
       "    <tr>\n",
       "      <th>3</th>\n",
       "      <td>1210588</td>\n",
       "      <td>Beginner to Pro - Financial Analysis in Excel ...</td>\n",
       "      <td>https://www.udemy.com/complete-excel-finance-c...</td>\n",
       "      <td>ИСТИНА</td>\n",
       "      <td>95.0</td>\n",
       "      <td>2451</td>\n",
       "      <td>11</td>\n",
       "      <td>36</td>\n",
       "      <td>All Levels</td>\n",
       "      <td>3.0</td>\n",
       "      <td>30.05.2017Z23:07:24</td>\n",
       "      <td>Business Finance</td>\n",
       "    </tr>\n",
       "    <tr>\n",
       "      <th>4</th>\n",
       "      <td>1011058</td>\n",
       "      <td>How To Maximize Your Profits Trading Options</td>\n",
       "      <td>https://www.udemy.com/how-to-maximize-your-pro...</td>\n",
       "      <td>ИСТИНА</td>\n",
       "      <td>200.0</td>\n",
       "      <td>1276</td>\n",
       "      <td>45</td>\n",
       "      <td>26</td>\n",
       "      <td>Intermediate Level</td>\n",
       "      <td>2.0</td>\n",
       "      <td>13.12.2016Z17:57:18</td>\n",
       "      <td>Business Finance</td>\n",
       "    </tr>\n",
       "  </tbody>\n",
       "</table>\n",
       "</div>"
      ],
      "text/plain": [
       "   Course_ID                                       Course_Title  \\\n",
       "0    1070968                 Ultimate Investment Banking Course   \n",
       "1    1113822  Complete GST Course & Certification - Grow You...   \n",
       "2    1006314  Financial Modeling for Business Analysts and C...   \n",
       "3    1210588  Beginner to Pro - Financial Analysis in Excel ...   \n",
       "4    1011058       How To Maximize Your Profits Trading Options   \n",
       "\n",
       "                                                 URL Is_Paid  Price  \\\n",
       "0  https://www.udemy.com/ultimate-investment-bank...  ИСТИНА  200.0   \n",
       "1      https://www.udemy.com/goods-and-services-tax/  ИСТИНА   75.0   \n",
       "2  https://www.udemy.com/financial-modeling-for-b...  ИСТИНА   45.0   \n",
       "3  https://www.udemy.com/complete-excel-finance-c...  ИСТИНА   95.0   \n",
       "4  https://www.udemy.com/how-to-maximize-your-pro...  ИСТИНА  200.0   \n",
       "\n",
       "   Num_Subscribers  Num_Reviews  Num_Lectures               Level  \\\n",
       "0             2147           23            51          All Levels   \n",
       "1             2792          923           274          All Levels   \n",
       "2             2174           74            51  Intermediate Level   \n",
       "3             2451           11            36          All Levels   \n",
       "4             1276           45            26  Intermediate Level   \n",
       "\n",
       "   Content_Duration  Published_Timestamp           Subject  \n",
       "0               1.5  18.01.2017Z23:58:58  Business Finance  \n",
       "1              39.0  09.03.2017Z19:34:20  Business Finance  \n",
       "2               2.5  19.12.2016Z22:26:30  Business Finance  \n",
       "3               3.0  30.05.2017Z23:07:24  Business Finance  \n",
       "4               2.0  13.12.2016Z17:57:18  Business Finance  "
      ]
     },
     "execution_count": 134,
     "metadata": {},
     "output_type": "execute_result"
    }
   ],
   "source": [
    "df.rename(columns={'courseID' : 'Course_ID',\n",
    "          'course_title':'Course_Title',\n",
    "          'URL                                                           ':'URL',\n",
    "          'is_paid':'Is_Paid',\n",
    "          'PRICE':'Price',\n",
    "          'num_subscribers':'Num_Subscribers',\n",
    "          'NUMreviews':'Num_Reviews',\n",
    "          'num_lectures':'Num_Lectures',\n",
    "          '                                       Level':'Level',\n",
    "          'content_duration':'Content_Duration',\n",
    "          'published_timestamp':'Published_Timestamp'}, inplace=True)\n",
    "df.head()"
   ]
  },
  {
   "cell_type": "markdown",
   "id": "093ad8f7",
   "metadata": {},
   "source": [
    "2. В таблице есть пропущенные значения. Опишите, какие пропущенные значения вы обнаружили. Почему могли возникнуть эти пропуски? Можно ли их заполнить или лучше удалить данные с пропусками? Объясните, почему вы принимаете то или иное решение."
   ]
  },
  {
   "cell_type": "code",
   "execution_count": 135,
   "id": "0e41ed21",
   "metadata": {},
   "outputs": [
    {
     "data": {
      "text/plain": [
       "Course_ID                0\n",
       "Course_Title             0\n",
       "URL                      0\n",
       "Is_Paid                134\n",
       "Price                  282\n",
       "Num_Subscribers          0\n",
       "Num_Reviews              0\n",
       "Num_Lectures             0\n",
       "Level                    0\n",
       "Content_Duration         0\n",
       "Published_Timestamp      0\n",
       "Subject                  0\n",
       "dtype: int64"
      ]
     },
     "execution_count": 135,
     "metadata": {},
     "output_type": "execute_result"
    }
   ],
   "source": [
    "df.isnull().sum()"
   ]
  },
  {
   "cell_type": "markdown",
   "id": "c81d5c57",
   "metadata": {},
   "source": [
    "В таблице пропущено много значений, посмотрим на них"
   ]
  },
  {
   "cell_type": "code",
   "execution_count": 136,
   "id": "eb4a5a4c",
   "metadata": {},
   "outputs": [
    {
     "data": {
      "text/html": [
       "<div>\n",
       "<style scoped>\n",
       "    .dataframe tbody tr th:only-of-type {\n",
       "        vertical-align: middle;\n",
       "    }\n",
       "\n",
       "    .dataframe tbody tr th {\n",
       "        vertical-align: top;\n",
       "    }\n",
       "\n",
       "    .dataframe thead th {\n",
       "        text-align: right;\n",
       "    }\n",
       "</style>\n",
       "<table border=\"1\" class=\"dataframe\">\n",
       "  <thead>\n",
       "    <tr style=\"text-align: right;\">\n",
       "      <th></th>\n",
       "      <th>Course_ID</th>\n",
       "      <th>Course_Title</th>\n",
       "      <th>URL</th>\n",
       "      <th>Is_Paid</th>\n",
       "      <th>Price</th>\n",
       "      <th>Num_Subscribers</th>\n",
       "      <th>Num_Reviews</th>\n",
       "      <th>Num_Lectures</th>\n",
       "      <th>Level</th>\n",
       "      <th>Content_Duration</th>\n",
       "      <th>Published_Timestamp</th>\n",
       "      <th>Subject</th>\n",
       "    </tr>\n",
       "  </thead>\n",
       "  <tbody>\n",
       "    <tr>\n",
       "      <th>5</th>\n",
       "      <td>192870</td>\n",
       "      <td>Trading Penny Stocks: A Guide for All Levels I...</td>\n",
       "      <td>https://www.udemy.com/trading-penny-stocks-a-g...</td>\n",
       "      <td>NaN</td>\n",
       "      <td>150.0</td>\n",
       "      <td>9221</td>\n",
       "      <td>138</td>\n",
       "      <td>25</td>\n",
       "      <td>All Levels</td>\n",
       "      <td>3.0</td>\n",
       "      <td>02.05.2014Z19:13:30</td>\n",
       "      <td>Business Finance</td>\n",
       "    </tr>\n",
       "    <tr>\n",
       "      <th>46</th>\n",
       "      <td>1247394</td>\n",
       "      <td>Cryptocurrency Trading: Complete Guide To Trad...</td>\n",
       "      <td>https://www.udemy.com/cryptocurrency-trading/</td>\n",
       "      <td>NaN</td>\n",
       "      <td>95.0</td>\n",
       "      <td>367</td>\n",
       "      <td>42</td>\n",
       "      <td>35</td>\n",
       "      <td>All Levels</td>\n",
       "      <td>5.0</td>\n",
       "      <td>22.06.2017Z2:18:47</td>\n",
       "      <td>Business Finance</td>\n",
       "    </tr>\n",
       "    <tr>\n",
       "      <th>74</th>\n",
       "      <td>285638</td>\n",
       "      <td>Learn to Trade for Profit:Trading with Japanes...</td>\n",
       "      <td>https://www.udemy.com/introduction-to-japanese...</td>\n",
       "      <td>NaN</td>\n",
       "      <td>60.0</td>\n",
       "      <td>16385</td>\n",
       "      <td>273</td>\n",
       "      <td>45</td>\n",
       "      <td>Beginner Level</td>\n",
       "      <td>3.0</td>\n",
       "      <td>02.09.2014Z7:53:13</td>\n",
       "      <td>Business Finance</td>\n",
       "    </tr>\n",
       "    <tr>\n",
       "      <th>110</th>\n",
       "      <td>381330</td>\n",
       "      <td>Live Account - ETF Trading System - Hacking Th...</td>\n",
       "      <td>https://www.udemy.com/cracked-wall-street-hack...</td>\n",
       "      <td>NaN</td>\n",
       "      <td>150.0</td>\n",
       "      <td>2318</td>\n",
       "      <td>19</td>\n",
       "      <td>16</td>\n",
       "      <td>All Levels</td>\n",
       "      <td>5.0</td>\n",
       "      <td>31.12.2014Z6:29:21</td>\n",
       "      <td>Business Finance</td>\n",
       "    </tr>\n",
       "    <tr>\n",
       "      <th>138</th>\n",
       "      <td>252396</td>\n",
       "      <td>How to Pick The Right Penny Stocks To Invest I...</td>\n",
       "      <td>https://www.udemy.com/how-to-make-5000month-tr...</td>\n",
       "      <td>NaN</td>\n",
       "      <td>150.0</td>\n",
       "      <td>9015</td>\n",
       "      <td>65</td>\n",
       "      <td>23</td>\n",
       "      <td>All Levels</td>\n",
       "      <td>2.5</td>\n",
       "      <td>02.07.2014Z0:04:27</td>\n",
       "      <td>Business Finance</td>\n",
       "    </tr>\n",
       "  </tbody>\n",
       "</table>\n",
       "</div>"
      ],
      "text/plain": [
       "     Course_ID                                       Course_Title  \\\n",
       "5       192870  Trading Penny Stocks: A Guide for All Levels I...   \n",
       "46     1247394  Cryptocurrency Trading: Complete Guide To Trad...   \n",
       "74      285638  Learn to Trade for Profit:Trading with Japanes...   \n",
       "110     381330  Live Account - ETF Trading System - Hacking Th...   \n",
       "138     252396  How to Pick The Right Penny Stocks To Invest I...   \n",
       "\n",
       "                                                   URL Is_Paid  Price  \\\n",
       "5    https://www.udemy.com/trading-penny-stocks-a-g...     NaN  150.0   \n",
       "46       https://www.udemy.com/cryptocurrency-trading/     NaN   95.0   \n",
       "74   https://www.udemy.com/introduction-to-japanese...     NaN   60.0   \n",
       "110  https://www.udemy.com/cracked-wall-street-hack...     NaN  150.0   \n",
       "138  https://www.udemy.com/how-to-make-5000month-tr...     NaN  150.0   \n",
       "\n",
       "     Num_Subscribers  Num_Reviews  Num_Lectures           Level  \\\n",
       "5               9221          138            25      All Levels   \n",
       "46               367           42            35      All Levels   \n",
       "74             16385          273            45  Beginner Level   \n",
       "110             2318           19            16      All Levels   \n",
       "138             9015           65            23      All Levels   \n",
       "\n",
       "     Content_Duration  Published_Timestamp           Subject  \n",
       "5                 3.0  02.05.2014Z19:13:30  Business Finance  \n",
       "46                5.0   22.06.2017Z2:18:47  Business Finance  \n",
       "74                3.0   02.09.2014Z7:53:13  Business Finance  \n",
       "110               5.0   31.12.2014Z6:29:21  Business Finance  \n",
       "138               2.5   02.07.2014Z0:04:27  Business Finance  "
      ]
     },
     "execution_count": 136,
     "metadata": {},
     "output_type": "execute_result"
    }
   ],
   "source": [
    "df[df.Is_Paid.isnull()].head()"
   ]
  },
  {
   "cell_type": "code",
   "execution_count": 137,
   "id": "c466752b",
   "metadata": {},
   "outputs": [
    {
     "data": {
      "text/html": [
       "<div>\n",
       "<style scoped>\n",
       "    .dataframe tbody tr th:only-of-type {\n",
       "        vertical-align: middle;\n",
       "    }\n",
       "\n",
       "    .dataframe tbody tr th {\n",
       "        vertical-align: top;\n",
       "    }\n",
       "\n",
       "    .dataframe thead th {\n",
       "        text-align: right;\n",
       "    }\n",
       "</style>\n",
       "<table border=\"1\" class=\"dataframe\">\n",
       "  <thead>\n",
       "    <tr style=\"text-align: right;\">\n",
       "      <th></th>\n",
       "      <th>Course_ID</th>\n",
       "      <th>Course_Title</th>\n",
       "      <th>URL</th>\n",
       "      <th>Is_Paid</th>\n",
       "      <th>Price</th>\n",
       "      <th>Num_Subscribers</th>\n",
       "      <th>Num_Reviews</th>\n",
       "      <th>Num_Lectures</th>\n",
       "      <th>Level</th>\n",
       "      <th>Content_Duration</th>\n",
       "      <th>Published_Timestamp</th>\n",
       "      <th>Subject</th>\n",
       "    </tr>\n",
       "  </thead>\n",
       "  <tbody>\n",
       "    <tr>\n",
       "      <th>95</th>\n",
       "      <td>1148774</td>\n",
       "      <td>Options Trading 101: The Basics</td>\n",
       "      <td>https://www.udemy.com/options-trading-101-the-...</td>\n",
       "      <td>ЛОЖЬ</td>\n",
       "      <td>NaN</td>\n",
       "      <td>1514</td>\n",
       "      <td>66</td>\n",
       "      <td>11</td>\n",
       "      <td>Beginner Level</td>\n",
       "      <td>0.55</td>\n",
       "      <td>24.03.2017Z1:19:57</td>\n",
       "      <td>Business Finance</td>\n",
       "    </tr>\n",
       "    <tr>\n",
       "      <th>103</th>\n",
       "      <td>133536</td>\n",
       "      <td>Stock Market Investing for Beginners</td>\n",
       "      <td>https://www.udemy.com/the-beginners-guide-to-t...</td>\n",
       "      <td>ЛОЖЬ</td>\n",
       "      <td>NaN</td>\n",
       "      <td>50855</td>\n",
       "      <td>2698</td>\n",
       "      <td>15</td>\n",
       "      <td>Beginner Level</td>\n",
       "      <td>1.50</td>\n",
       "      <td>25.12.2013Z23:53:34</td>\n",
       "      <td>Business Finance</td>\n",
       "    </tr>\n",
       "    <tr>\n",
       "      <th>106</th>\n",
       "      <td>265960</td>\n",
       "      <td>Fundamentals of Forex Trading</td>\n",
       "      <td>https://www.udemy.com/fundamentals-of-forex-tr...</td>\n",
       "      <td>ЛОЖЬ</td>\n",
       "      <td>NaN</td>\n",
       "      <td>17160</td>\n",
       "      <td>620</td>\n",
       "      <td>23</td>\n",
       "      <td>All Levels</td>\n",
       "      <td>1.00</td>\n",
       "      <td>30.08.2014Z0:10:38</td>\n",
       "      <td>Business Finance</td>\n",
       "    </tr>\n",
       "    <tr>\n",
       "      <th>108</th>\n",
       "      <td>923616</td>\n",
       "      <td>Website Investing 101 - Buying &amp; Selling Onlin...</td>\n",
       "      <td>https://www.udemy.com/cash-flow-website-invest...</td>\n",
       "      <td>ЛОЖЬ</td>\n",
       "      <td>NaN</td>\n",
       "      <td>6811</td>\n",
       "      <td>151</td>\n",
       "      <td>51</td>\n",
       "      <td>All Levels</td>\n",
       "      <td>2.00</td>\n",
       "      <td>05.08.2016Z20:03:15</td>\n",
       "      <td>Business Finance</td>\n",
       "    </tr>\n",
       "    <tr>\n",
       "      <th>112</th>\n",
       "      <td>191854</td>\n",
       "      <td>Stock Market Foundations</td>\n",
       "      <td>https://www.udemy.com/how-to-invest-in-the-sto...</td>\n",
       "      <td>ЛОЖЬ</td>\n",
       "      <td>NaN</td>\n",
       "      <td>19339</td>\n",
       "      <td>794</td>\n",
       "      <td>9</td>\n",
       "      <td>Beginner Level</td>\n",
       "      <td>2.00</td>\n",
       "      <td>01.04.2014Z1:35:06</td>\n",
       "      <td>Business Finance</td>\n",
       "    </tr>\n",
       "  </tbody>\n",
       "</table>\n",
       "</div>"
      ],
      "text/plain": [
       "     Course_ID                                       Course_Title  \\\n",
       "95     1148774                    Options Trading 101: The Basics   \n",
       "103     133536               Stock Market Investing for Beginners   \n",
       "106     265960                      Fundamentals of Forex Trading   \n",
       "108     923616  Website Investing 101 - Buying & Selling Onlin...   \n",
       "112     191854                           Stock Market Foundations   \n",
       "\n",
       "                                                   URL Is_Paid  Price  \\\n",
       "95   https://www.udemy.com/options-trading-101-the-...    ЛОЖЬ    NaN   \n",
       "103  https://www.udemy.com/the-beginners-guide-to-t...    ЛОЖЬ    NaN   \n",
       "106  https://www.udemy.com/fundamentals-of-forex-tr...    ЛОЖЬ    NaN   \n",
       "108  https://www.udemy.com/cash-flow-website-invest...    ЛОЖЬ    NaN   \n",
       "112  https://www.udemy.com/how-to-invest-in-the-sto...    ЛОЖЬ    NaN   \n",
       "\n",
       "     Num_Subscribers  Num_Reviews  Num_Lectures           Level  \\\n",
       "95              1514           66            11  Beginner Level   \n",
       "103            50855         2698            15  Beginner Level   \n",
       "106            17160          620            23      All Levels   \n",
       "108             6811          151            51      All Levels   \n",
       "112            19339          794             9  Beginner Level   \n",
       "\n",
       "     Content_Duration  Published_Timestamp           Subject  \n",
       "95               0.55   24.03.2017Z1:19:57  Business Finance  \n",
       "103              1.50  25.12.2013Z23:53:34  Business Finance  \n",
       "106              1.00   30.08.2014Z0:10:38  Business Finance  \n",
       "108              2.00  05.08.2016Z20:03:15  Business Finance  \n",
       "112              2.00   01.04.2014Z1:35:06  Business Finance  "
      ]
     },
     "execution_count": 137,
     "metadata": {},
     "output_type": "execute_result"
    }
   ],
   "source": [
    "df[df.Price.isnull()].head()"
   ]
  },
  {
   "cell_type": "markdown",
   "id": "f5a37b5c",
   "metadata": {},
   "source": [
    "Пропущенные значения встречаются либо в столбце `Is_Paid`, либо в столбце `Price`. Стоимость курса и информация о том, является ли курс платным, связаными между собой. Если курс платный, то всегда должна быть указана цена за него. Если курс бесплатный, то его цена должна быть 0.\n",
    "\n",
    "Пропуски могли появиться из-за того, что при вводе данных не стали явно указывать платность курса, если ввели цену. И наоборот, не стали указывать цену если курс бесплтаный.\n",
    "\n",
    "Заменим пропуски в `Price` на 0 т.к. они встречаются в бесплатных курса. А так же заменим пропуски в столбце `Is_Paid` на истину т.к. они встречаются в платных курсах."
   ]
  },
  {
   "cell_type": "code",
   "execution_count": 138,
   "id": "c12b97b8",
   "metadata": {},
   "outputs": [],
   "source": [
    "df.Is_Paid.replace(to_replace=np.nan,value='ИСТИНА', inplace=True)\n",
    "df.Price.replace(to_replace=np.nan,value=0, inplace=True)"
   ]
  },
  {
   "cell_type": "markdown",
   "id": "16abe074",
   "metadata": {},
   "source": [
    "3. Соотвествует ли содержание всех столбцов их типам? Проведите необходимые замены типов данных, поясняя свои действия.\n",
    "> Обратите внимание, что в данные в столбце `is_paid`, скорее всего, содержат булевые значения. В python это означает, что они должны принимать значения `True` или `False`"
   ]
  },
  {
   "cell_type": "code",
   "execution_count": 139,
   "id": "82d0639f",
   "metadata": {},
   "outputs": [
    {
     "data": {
      "text/plain": [
       "Course_ID                int64\n",
       "Course_Title            object\n",
       "URL                     object\n",
       "Is_Paid                 object\n",
       "Price                  float64\n",
       "Num_Subscribers          int64\n",
       "Num_Reviews              int64\n",
       "Num_Lectures             int64\n",
       "Level                   object\n",
       "Content_Duration       float64\n",
       "Published_Timestamp     object\n",
       "Subject                 object\n",
       "dtype: object"
      ]
     },
     "execution_count": 139,
     "metadata": {},
     "output_type": "execute_result"
    }
   ],
   "source": [
    "df.dtypes"
   ]
  },
  {
   "cell_type": "markdown",
   "id": "1912ceaa",
   "metadata": {},
   "source": [
    "`Published_Timestamp` и `Is_Paid` являются строками, хотя правильный тип данных для них будет дата и булевое значение. Сделаем замену."
   ]
  },
  {
   "cell_type": "code",
   "execution_count": 140,
   "id": "1be48f96",
   "metadata": {},
   "outputs": [],
   "source": [
    "df.Is_Paid.replace({'ИСТИНА': True, 'ЛОЖЬ': False}, inplace=True)"
   ]
  },
  {
   "cell_type": "code",
   "execution_count": 141,
   "id": "7cf152b1",
   "metadata": {},
   "outputs": [],
   "source": [
    "# разделяем строку по Z\n",
    "df.Published_Timestamp = df.Published_Timestamp.map(lambda x: x.split('Z')[0])\n",
    "# делаем из строки \"dd.mm.yyyy\" дату\n",
    "df.Published_Timestamp = df.Published_Timestamp.map(lambda x: pd.to_datetime(x, infer_datetime_format=True))"
   ]
  },
  {
   "cell_type": "code",
   "execution_count": 142,
   "id": "8eae6e58",
   "metadata": {},
   "outputs": [
    {
     "data": {
      "text/plain": [
       "Course_ID                       int64\n",
       "Course_Title                   object\n",
       "URL                            object\n",
       "Is_Paid                          bool\n",
       "Price                         float64\n",
       "Num_Subscribers                 int64\n",
       "Num_Reviews                     int64\n",
       "Num_Lectures                    int64\n",
       "Level                          object\n",
       "Content_Duration              float64\n",
       "Published_Timestamp    datetime64[ns]\n",
       "Subject                        object\n",
       "dtype: object"
      ]
     },
     "execution_count": 142,
     "metadata": {},
     "output_type": "execute_result"
    }
   ],
   "source": [
    "df.dtypes"
   ]
  },
  {
   "cell_type": "markdown",
   "id": "5d69cc26",
   "metadata": {},
   "source": [
    "4. Сколько дубликатов содержит таблица? Удалите строки-дубликаты. Есть ли скрытые дубликаты в таблице? Например, что в столбце `Level` есть одни и те же значения, но записанные по-разному: где-то опечатались в количестве букв l, а где-то неверно указали уровень курса. Есть ли аналогичные артефакты в других ячейках?<br>\n",
    "> В выводах отметьте не только, сколько именно дубликатов было удалено, но и возможные причины их появления"
   ]
  },
  {
   "cell_type": "markdown",
   "id": "d64249ba",
   "metadata": {},
   "source": [
    "Посмотрим количество дупликатов самым простым способом"
   ]
  },
  {
   "cell_type": "code",
   "execution_count": 143,
   "id": "ff448318",
   "metadata": {},
   "outputs": [
    {
     "data": {
      "text/html": [
       "<div>\n",
       "<style scoped>\n",
       "    .dataframe tbody tr th:only-of-type {\n",
       "        vertical-align: middle;\n",
       "    }\n",
       "\n",
       "    .dataframe tbody tr th {\n",
       "        vertical-align: top;\n",
       "    }\n",
       "\n",
       "    .dataframe thead th {\n",
       "        text-align: right;\n",
       "    }\n",
       "</style>\n",
       "<table border=\"1\" class=\"dataframe\">\n",
       "  <thead>\n",
       "    <tr style=\"text-align: right;\">\n",
       "      <th></th>\n",
       "      <th>Course_ID</th>\n",
       "      <th>Course_Title</th>\n",
       "      <th>URL</th>\n",
       "      <th>Is_Paid</th>\n",
       "      <th>Price</th>\n",
       "      <th>Num_Subscribers</th>\n",
       "      <th>Num_Reviews</th>\n",
       "      <th>Num_Lectures</th>\n",
       "      <th>Level</th>\n",
       "      <th>Content_Duration</th>\n",
       "      <th>Published_Timestamp</th>\n",
       "      <th>Subject</th>\n",
       "    </tr>\n",
       "  </thead>\n",
       "  <tbody>\n",
       "    <tr>\n",
       "      <th>788</th>\n",
       "      <td>1157298</td>\n",
       "      <td>Introduction to Forex Trading Business For Beg...</td>\n",
       "      <td>https://www.udemy.com/introduction-to-forex-tr...</td>\n",
       "      <td>True</td>\n",
       "      <td>20.0</td>\n",
       "      <td>0</td>\n",
       "      <td>0</td>\n",
       "      <td>27</td>\n",
       "      <td>Beginner Level</td>\n",
       "      <td>1.500000</td>\n",
       "      <td>2017-04-23</td>\n",
       "      <td>Business Finance</td>\n",
       "    </tr>\n",
       "    <tr>\n",
       "      <th>894</th>\n",
       "      <td>1035638</td>\n",
       "      <td>Understanding Financial Statements</td>\n",
       "      <td>https://www.udemy.com/understanding-financial-...</td>\n",
       "      <td>True</td>\n",
       "      <td>25.0</td>\n",
       "      <td>0</td>\n",
       "      <td>0</td>\n",
       "      <td>10</td>\n",
       "      <td>All Levels</td>\n",
       "      <td>1.000000</td>\n",
       "      <td>2016-12-15</td>\n",
       "      <td>Business Finance</td>\n",
       "    </tr>\n",
       "    <tr>\n",
       "      <th>1100</th>\n",
       "      <td>1084454</td>\n",
       "      <td>CFA Level 2- Quantitative Methods</td>\n",
       "      <td>https://www.udemy.com/cfa-level-2-quantitative...</td>\n",
       "      <td>True</td>\n",
       "      <td>40.0</td>\n",
       "      <td>0</td>\n",
       "      <td>0</td>\n",
       "      <td>35</td>\n",
       "      <td>All Levels</td>\n",
       "      <td>5.500000</td>\n",
       "      <td>2017-02-07</td>\n",
       "      <td>Business Finance</td>\n",
       "    </tr>\n",
       "    <tr>\n",
       "      <th>1473</th>\n",
       "      <td>185526</td>\n",
       "      <td>MicroStation - Células</td>\n",
       "      <td>https://www.udemy.com/microstation-celulas/</td>\n",
       "      <td>True</td>\n",
       "      <td>20.0</td>\n",
       "      <td>0</td>\n",
       "      <td>0</td>\n",
       "      <td>9</td>\n",
       "      <td>Beginner Level</td>\n",
       "      <td>0.616667</td>\n",
       "      <td>2014-04-16</td>\n",
       "      <td>Graphic Design</td>\n",
       "    </tr>\n",
       "    <tr>\n",
       "      <th>2561</th>\n",
       "      <td>28295</td>\n",
       "      <td>Learn Web Designing &amp; HTML5/CSS3 Essentials in...</td>\n",
       "      <td>https://www.udemy.com/build-beautiful-html5-we...</td>\n",
       "      <td>True</td>\n",
       "      <td>75.0</td>\n",
       "      <td>43285</td>\n",
       "      <td>525</td>\n",
       "      <td>24</td>\n",
       "      <td>All Levels</td>\n",
       "      <td>4.000000</td>\n",
       "      <td>2013-03-01</td>\n",
       "      <td>Web Development</td>\n",
       "    </tr>\n",
       "  </tbody>\n",
       "</table>\n",
       "</div>"
      ],
      "text/plain": [
       "      Course_ID                                       Course_Title  \\\n",
       "788     1157298  Introduction to Forex Trading Business For Beg...   \n",
       "894     1035638                 Understanding Financial Statements   \n",
       "1100    1084454                  CFA Level 2- Quantitative Methods   \n",
       "1473     185526                             MicroStation - Células   \n",
       "2561      28295  Learn Web Designing & HTML5/CSS3 Essentials in...   \n",
       "\n",
       "                                                    URL  Is_Paid  Price  \\\n",
       "788   https://www.udemy.com/introduction-to-forex-tr...     True   20.0   \n",
       "894   https://www.udemy.com/understanding-financial-...     True   25.0   \n",
       "1100  https://www.udemy.com/cfa-level-2-quantitative...     True   40.0   \n",
       "1473        https://www.udemy.com/microstation-celulas/     True   20.0   \n",
       "2561  https://www.udemy.com/build-beautiful-html5-we...     True   75.0   \n",
       "\n",
       "      Num_Subscribers  Num_Reviews  Num_Lectures           Level  \\\n",
       "788                 0            0            27  Beginner Level   \n",
       "894                 0            0            10      All Levels   \n",
       "1100                0            0            35      All Levels   \n",
       "1473                0            0             9  Beginner Level   \n",
       "2561            43285          525            24      All Levels   \n",
       "\n",
       "      Content_Duration Published_Timestamp           Subject  \n",
       "788           1.500000          2017-04-23  Business Finance  \n",
       "894           1.000000          2016-12-15  Business Finance  \n",
       "1100          5.500000          2017-02-07  Business Finance  \n",
       "1473          0.616667          2014-04-16    Graphic Design  \n",
       "2561          4.000000          2013-03-01   Web Development  "
      ]
     },
     "execution_count": 143,
     "metadata": {},
     "output_type": "execute_result"
    }
   ],
   "source": [
    "df[df.duplicated()]"
   ]
  },
  {
   "cell_type": "markdown",
   "id": "a4a6d842",
   "metadata": {},
   "source": [
    "Проверим текстовые поля на опечатки"
   ]
  },
  {
   "cell_type": "code",
   "execution_count": 115,
   "id": "14e65bfb",
   "metadata": {},
   "outputs": [
    {
     "data": {
      "text/plain": [
       "All Levels            1900\n",
       "Beginner Level        1228\n",
       "Intermediate Level     421\n",
       "Expert Level            51\n",
       "Beginer Level           42\n",
       "Al Levels               29\n",
       "expert                   7\n",
       "Name: Level, dtype: int64"
      ]
     },
     "execution_count": 115,
     "metadata": {},
     "output_type": "execute_result"
    }
   ],
   "source": [
    "df.Level.value_counts()"
   ]
  },
  {
   "cell_type": "code",
   "execution_count": 116,
   "id": "e24f4240",
   "metadata": {},
   "outputs": [
    {
     "data": {
      "text/plain": [
       "Web Development        1200\n",
       "Business Finance       1195\n",
       "Musical Instruments     680\n",
       "Graphic Design          603\n",
       "Name: Subject, dtype: int64"
      ]
     },
     "execution_count": 116,
     "metadata": {},
     "output_type": "execute_result"
    }
   ],
   "source": [
    "df.Subject.value_counts()"
   ]
  },
  {
   "cell_type": "markdown",
   "id": "9eea9d1c",
   "metadata": {},
   "source": [
    "В уровнях курсов есть явные опечатки, заменим их."
   ]
  },
  {
   "cell_type": "code",
   "execution_count": 144,
   "id": "9c53fd78",
   "metadata": {},
   "outputs": [
    {
     "data": {
      "text/plain": [
       "All Levels            1929\n",
       "Beginner Level        1270\n",
       "Intermediate Level     421\n",
       "Expert Level            58\n",
       "Name: Level, dtype: int64"
      ]
     },
     "execution_count": 144,
     "metadata": {},
     "output_type": "execute_result"
    }
   ],
   "source": [
    "df.Level.replace({'Beginer Level': 'Beginner Level', 'Al Levels': 'All Levels', 'expert' : 'Expert Level'}, inplace=True)\n",
    "df.Level.value_counts()"
   ]
  },
  {
   "cell_type": "markdown",
   "id": "cb762e5f",
   "metadata": {},
   "source": [
    "Самый надежный способ найти дупликаты это посмотреть сколько раз встречается одна и та же ссылка. Ведь ссылка уникальна для каждого курса."
   ]
  },
  {
   "cell_type": "code",
   "execution_count": 145,
   "id": "166aedf5",
   "metadata": {},
   "outputs": [
    {
     "data": {
      "text/plain": [
       "6"
      ]
     },
     "execution_count": 145,
     "metadata": {},
     "output_type": "execute_result"
    }
   ],
   "source": [
    "(df.URL.value_counts() > 1).sum()"
   ]
  },
  {
   "cell_type": "code",
   "execution_count": 146,
   "id": "ac1c4d8c",
   "metadata": {},
   "outputs": [
    {
     "data": {
      "text/plain": [
       "https://www.udemy.com/cfa-level-2-quantitative-methods/                        2\n",
       "https://www.udemy.com/build-beautiful-html5-website/                           2\n",
       "https://www.udemy.com/microstation-celulas/                                    2\n",
       "https://www.udemy.com/introduction-to-forex-trading-business-for-beginners/    2\n",
       "https://www.udemy.com/essentials-of-money-value/                               2\n",
       "https://www.udemy.com/understanding-financial-statements/                      2\n",
       "Name: URL, dtype: int64"
      ]
     },
     "execution_count": 146,
     "metadata": {},
     "output_type": "execute_result"
    }
   ],
   "source": [
    "df.URL.value_counts()[:6]"
   ]
  },
  {
   "cell_type": "code",
   "execution_count": 148,
   "id": "9b5d71e7",
   "metadata": {},
   "outputs": [
    {
     "data": {
      "text/plain": [
       "(3678, 12)"
      ]
     },
     "execution_count": 148,
     "metadata": {},
     "output_type": "execute_result"
    }
   ],
   "source": [
    "df.shape"
   ]
  },
  {
   "cell_type": "code",
   "execution_count": 149,
   "id": "cf09cc1d",
   "metadata": {},
   "outputs": [],
   "source": [
    "df.drop_duplicates(subset='URL', inplace=True)"
   ]
  },
  {
   "cell_type": "markdown",
   "id": "6e52a842",
   "metadata": {},
   "source": [
    "Мы удалили 6 дубликатов, на 1 больше чем изначально нашли"
   ]
  },
  {
   "cell_type": "code",
   "execution_count": 150,
   "id": "a496b5ea",
   "metadata": {},
   "outputs": [
    {
     "data": {
      "text/plain": [
       "(3672, 12)"
      ]
     },
     "execution_count": 150,
     "metadata": {},
     "output_type": "execute_result"
    }
   ],
   "source": [
    "df.shape"
   ]
  },
  {
   "cell_type": "markdown",
   "id": "4bcad41e",
   "metadata": {},
   "source": [
    "## 3. Ответьте на следующие вопросы:"
   ]
  },
  {
   "cell_type": "markdown",
   "id": "ee11c444",
   "metadata": {},
   "source": [
    "**1. Каким должен быть курс?**<br>\n",
    "Какая область знаний (`Subject`) самая популярная на платформе? Какого уровня сложности лучше сделать курс?\n",
    "> Задание на получение дополнительных 5 баллов: создайте круговую диаграмму, отражающую количество курсов в каждой области знаний\n",
    "\n",
    "<br>**2. Сколько  должен длится курс и из скольких лекций состоять?**\n",
    "<br>\n",
    "Сколько в среднем длятся курсы из разных областей знаний? А из скольких лекций состоят? Есть ли различия в средней длительности платных и бесплатных курсов?\n",
    ">Для выполнения пунктов 1 и 2 рекомендуем всопмнить о сводных таблицах\n",
    "\n",
    "<br>**3. Должен ли курс быть платным? Если да, то какую цену необходимо выбрать?**<br>\n",
    "Где пользователей больше: на бесплатых или платных курсах?<br>\n",
    "Присвойте каждому курсу тип:\n",
    "- `Бесплатный` для курсов без оплаты,\n",
    "- `Недорогой` для курсов нижнего квантиля (по критерию стоимости),\n",
    "- `Дорогой` для курсов верзнего квантиля (по критерию стоимости),\n",
    "- `Средний` для всех остальных курсов.\n",
    "Курсы какой ценовой категории популярнее у пользователей платформы?\n",
    "<br><br>\n",
    "\n",
    "<br>**4. Когда лучше разместить курс на платформе?**<br>\n",
    "Есть ли зависимость между месяцев размещения курса на платформе и его популярностью среди пользователей?\n",
    ">Для выполнения пункта 4 удобно создать отдельный столбец с месяцем размещения курса на платформе\n",
    "<br><br>\n",
    "\n",
    "<br>**5. Какие курсы посмотреть в качестве примера?**<br>\n",
    "Проанализируйте топ-10 самых популярных курсов в каждой из областей знаний (`Subject`). Какие из них подходят под предмет программы \"Управление развитием бизнеса\"? Составьте список курсов, которые необходимо проанализировать совету программы в качестве примера."
   ]
  },
  {
   "cell_type": "markdown",
   "id": "46f7abd1",
   "metadata": {},
   "source": [
    "### Каким должен быть курс?"
   ]
  },
  {
   "cell_type": "code",
   "execution_count": 157,
   "id": "3ef925b4",
   "metadata": {},
   "outputs": [
    {
     "data": {
      "text/plain": [
       "Web Development        1199\n",
       "Business Finance       1191\n",
       "Musical Instruments     680\n",
       "Graphic Design          602\n",
       "Name: Subject, dtype: int64"
      ]
     },
     "execution_count": 157,
     "metadata": {},
     "output_type": "execute_result"
    }
   ],
   "source": [
    "df.Subject.value_counts()"
   ]
  },
  {
   "cell_type": "markdown",
   "id": "35ff436f",
   "metadata": {},
   "source": [
    "Самыми популярными на платформе являются курсы по веб разработке и финансам"
   ]
  },
  {
   "cell_type": "code",
   "execution_count": 158,
   "id": "f069cc01",
   "metadata": {},
   "outputs": [
    {
     "data": {
      "text/plain": [
       "All Levels            1925\n",
       "Beginner Level        1268\n",
       "Intermediate Level     421\n",
       "Expert Level            58\n",
       "Name: Level, dtype: int64"
      ]
     },
     "execution_count": 158,
     "metadata": {},
     "output_type": "execute_result"
    }
   ],
   "source": [
    "df.Level.value_counts()"
   ]
  },
  {
   "cell_type": "markdown",
   "id": "1bcdeecb",
   "metadata": {},
   "source": [
    "Самыми популярными на платформе являются курсы подходящие для всех и начального уровня"
   ]
  },
  {
   "cell_type": "code",
   "execution_count": 156,
   "id": "02dbc20d",
   "metadata": {},
   "outputs": [
    {
     "data": {
      "image/png": "[encoded data removed]",
      "text/plain": [
       "<Figure size 640x480 with 1 Axes>"
      ]
     },
     "metadata": {},
     "output_type": "display_data"
    }
   ],
   "source": [
    "serie = df.Subject.value_counts()\n",
    "labels = list(serie.index)\n",
    "values = list(serie)\n",
    "\n",
    "plt.pie(values,\n",
    "        labels=labels,\n",
    "        autopct='%1.1f%%')\n",
    "\n",
    "plt.show()"
   ]
  },
  {
   "cell_type": "markdown",
   "id": "50a1bca7",
   "metadata": {},
   "source": [
    "### Сколько должен длится курс и из скольких лекций состоять?"
   ]
  },
  {
   "cell_type": "code",
   "execution_count": 161,
   "id": "3810e0d4",
   "metadata": {},
   "outputs": [
    {
     "data": {
      "text/html": [
       "<div>\n",
       "<style scoped>\n",
       "    .dataframe tbody tr th:only-of-type {\n",
       "        vertical-align: middle;\n",
       "    }\n",
       "\n",
       "    .dataframe tbody tr th {\n",
       "        vertical-align: top;\n",
       "    }\n",
       "\n",
       "    .dataframe thead th {\n",
       "        text-align: right;\n",
       "    }\n",
       "</style>\n",
       "<table border=\"1\" class=\"dataframe\">\n",
       "  <thead>\n",
       "    <tr style=\"text-align: right;\">\n",
       "      <th></th>\n",
       "      <th>Subject</th>\n",
       "      <th>Content_Duration</th>\n",
       "      <th>Num_Lectures</th>\n",
       "    </tr>\n",
       "  </thead>\n",
       "  <tbody>\n",
       "    <tr>\n",
       "      <th>0</th>\n",
       "      <td>Business Finance</td>\n",
       "      <td>3.557697</td>\n",
       "      <td>32.462636</td>\n",
       "    </tr>\n",
       "    <tr>\n",
       "      <th>1</th>\n",
       "      <td>Graphic Design</td>\n",
       "      <td>3.585465</td>\n",
       "      <td>32.093023</td>\n",
       "    </tr>\n",
       "    <tr>\n",
       "      <th>2</th>\n",
       "      <td>Musical Instruments</td>\n",
       "      <td>2.854387</td>\n",
       "      <td>38.316176</td>\n",
       "    </tr>\n",
       "    <tr>\n",
       "      <th>3</th>\n",
       "      <td>Web Development</td>\n",
       "      <td>5.596122</td>\n",
       "      <td>52.841535</td>\n",
       "    </tr>\n",
       "  </tbody>\n",
       "</table>\n",
       "</div>"
      ],
      "text/plain": [
       "               Subject  Content_Duration  Num_Lectures\n",
       "0     Business Finance          3.557697     32.462636\n",
       "1       Graphic Design          3.585465     32.093023\n",
       "2  Musical Instruments          2.854387     38.316176\n",
       "3      Web Development          5.596122     52.841535"
      ]
     },
     "execution_count": 161,
     "metadata": {},
     "output_type": "execute_result"
    }
   ],
   "source": [
    "df.groupby(by=df.Subject, as_index=False).agg({'Content_Duration':'mean', 'Num_Lectures' : 'mean'})"
   ]
  },
  {
   "cell_type": "markdown",
   "id": "53b6f937",
   "metadata": {},
   "source": [
    "В среднем длительность контента должна быть около 3, а количество лекций около 35. Для веб разработки эти показатели 1,5 раза больше."
   ]
  },
  {
   "cell_type": "code",
   "execution_count": 162,
   "id": "78431acf",
   "metadata": {},
   "outputs": [
    {
     "data": {
      "text/html": [
       "<div>\n",
       "<style scoped>\n",
       "    .dataframe tbody tr th:only-of-type {\n",
       "        vertical-align: middle;\n",
       "    }\n",
       "\n",
       "    .dataframe tbody tr th {\n",
       "        vertical-align: top;\n",
       "    }\n",
       "\n",
       "    .dataframe thead th {\n",
       "        text-align: right;\n",
       "    }\n",
       "</style>\n",
       "<table border=\"1\" class=\"dataframe\">\n",
       "  <thead>\n",
       "    <tr style=\"text-align: right;\">\n",
       "      <th></th>\n",
       "      <th>Is_Paid</th>\n",
       "      <th>Content_Duration</th>\n",
       "    </tr>\n",
       "  </thead>\n",
       "  <tbody>\n",
       "    <tr>\n",
       "      <th>0</th>\n",
       "      <td>False</td>\n",
       "      <td>2.200000</td>\n",
       "    </tr>\n",
       "    <tr>\n",
       "      <th>1</th>\n",
       "      <td>True</td>\n",
       "      <td>4.255457</td>\n",
       "    </tr>\n",
       "  </tbody>\n",
       "</table>\n",
       "</div>"
      ],
      "text/plain": [
       "   Is_Paid  Content_Duration\n",
       "0    False          2.200000\n",
       "1     True          4.255457"
      ]
     },
     "execution_count": 162,
     "metadata": {},
     "output_type": "execute_result"
    }
   ],
   "source": [
    "df.groupby(by=df.Is_Paid, as_index=False).agg({'Content_Duration':'mean'})"
   ]
  },
  {
   "cell_type": "markdown",
   "id": "750fcb3e",
   "metadata": {},
   "source": [
    "Длительность платных курсов в среднем в 2 раза больше"
   ]
  },
  {
   "cell_type": "markdown",
   "id": "9dc90180",
   "metadata": {},
   "source": [
    "### Должен ли курс быть платным? Если да, то какую цену необходимо выбрать?"
   ]
  },
  {
   "cell_type": "markdown",
   "id": "16379974",
   "metadata": {},
   "source": [
    "Найдем квантили"
   ]
  },
  {
   "cell_type": "code",
   "execution_count": 164,
   "id": "6dd47fc2",
   "metadata": {},
   "outputs": [
    {
     "data": {
      "text/plain": [
       "count    3672.000000\n",
       "mean       66.102941\n",
       "std        61.035920\n",
       "min         0.000000\n",
       "25%        20.000000\n",
       "50%        45.000000\n",
       "75%        95.000000\n",
       "max       200.000000\n",
       "Name: Price, dtype: float64"
      ]
     },
     "execution_count": 164,
     "metadata": {},
     "output_type": "execute_result"
    }
   ],
   "source": [
    "df.Price.describe()"
   ]
  },
  {
   "cell_type": "markdown",
   "id": "cd1791ef",
   "metadata": {},
   "source": [
    "Напишем функцию, которая будет присваивать тип курсу в зависимости от его стоимости"
   ]
  },
  {
   "cell_type": "code",
   "execution_count": 169,
   "id": "eaa7ae60",
   "metadata": {},
   "outputs": [],
   "source": [
    "def apply_type(num):\n",
    "    if num == 0:\n",
    "        return 'Бесплатный'\n",
    "    elif num <= 20:\n",
    "        return 'Недорогой'\n",
    "    elif num >= 95:\n",
    "        return 'Дорогой'\n",
    "    else:\n",
    "        return 'Средний'"
   ]
  },
  {
   "cell_type": "code",
   "execution_count": 170,
   "id": "bf440fce",
   "metadata": {},
   "outputs": [],
   "source": [
    "df['Course_Type'] = df.Price.map(apply_type)"
   ]
  },
  {
   "cell_type": "code",
   "execution_count": 171,
   "id": "dadceeea",
   "metadata": {},
   "outputs": [
    {
     "data": {
      "text/html": [
       "<div>\n",
       "<style scoped>\n",
       "    .dataframe tbody tr th:only-of-type {\n",
       "        vertical-align: middle;\n",
       "    }\n",
       "\n",
       "    .dataframe tbody tr th {\n",
       "        vertical-align: top;\n",
       "    }\n",
       "\n",
       "    .dataframe thead th {\n",
       "        text-align: right;\n",
       "    }\n",
       "</style>\n",
       "<table border=\"1\" class=\"dataframe\">\n",
       "  <thead>\n",
       "    <tr style=\"text-align: right;\">\n",
       "      <th></th>\n",
       "      <th>Course_ID</th>\n",
       "      <th>Course_Title</th>\n",
       "      <th>URL</th>\n",
       "      <th>Is_Paid</th>\n",
       "      <th>Price</th>\n",
       "      <th>Num_Subscribers</th>\n",
       "      <th>Num_Reviews</th>\n",
       "      <th>Num_Lectures</th>\n",
       "      <th>Level</th>\n",
       "      <th>Content_Duration</th>\n",
       "      <th>Published_Timestamp</th>\n",
       "      <th>Subject</th>\n",
       "      <th>Course_Type</th>\n",
       "    </tr>\n",
       "  </thead>\n",
       "  <tbody>\n",
       "    <tr>\n",
       "      <th>0</th>\n",
       "      <td>1070968</td>\n",
       "      <td>Ultimate Investment Banking Course</td>\n",
       "      <td>https://www.udemy.com/ultimate-investment-bank...</td>\n",
       "      <td>True</td>\n",
       "      <td>200.0</td>\n",
       "      <td>2147</td>\n",
       "      <td>23</td>\n",
       "      <td>51</td>\n",
       "      <td>All Levels</td>\n",
       "      <td>1.5</td>\n",
       "      <td>2017-01-18</td>\n",
       "      <td>Business Finance</td>\n",
       "      <td>Дорогой</td>\n",
       "    </tr>\n",
       "    <tr>\n",
       "      <th>1</th>\n",
       "      <td>1113822</td>\n",
       "      <td>Complete GST Course &amp; Certification - Grow You...</td>\n",
       "      <td>https://www.udemy.com/goods-and-services-tax/</td>\n",
       "      <td>True</td>\n",
       "      <td>75.0</td>\n",
       "      <td>2792</td>\n",
       "      <td>923</td>\n",
       "      <td>274</td>\n",
       "      <td>All Levels</td>\n",
       "      <td>39.0</td>\n",
       "      <td>2017-09-03</td>\n",
       "      <td>Business Finance</td>\n",
       "      <td>Средний</td>\n",
       "    </tr>\n",
       "    <tr>\n",
       "      <th>2</th>\n",
       "      <td>1006314</td>\n",
       "      <td>Financial Modeling for Business Analysts and C...</td>\n",
       "      <td>https://www.udemy.com/financial-modeling-for-b...</td>\n",
       "      <td>True</td>\n",
       "      <td>45.0</td>\n",
       "      <td>2174</td>\n",
       "      <td>74</td>\n",
       "      <td>51</td>\n",
       "      <td>Intermediate Level</td>\n",
       "      <td>2.5</td>\n",
       "      <td>2016-12-19</td>\n",
       "      <td>Business Finance</td>\n",
       "      <td>Средний</td>\n",
       "    </tr>\n",
       "    <tr>\n",
       "      <th>3</th>\n",
       "      <td>1210588</td>\n",
       "      <td>Beginner to Pro - Financial Analysis in Excel ...</td>\n",
       "      <td>https://www.udemy.com/complete-excel-finance-c...</td>\n",
       "      <td>True</td>\n",
       "      <td>95.0</td>\n",
       "      <td>2451</td>\n",
       "      <td>11</td>\n",
       "      <td>36</td>\n",
       "      <td>All Levels</td>\n",
       "      <td>3.0</td>\n",
       "      <td>2017-05-30</td>\n",
       "      <td>Business Finance</td>\n",
       "      <td>Дорогой</td>\n",
       "    </tr>\n",
       "    <tr>\n",
       "      <th>4</th>\n",
       "      <td>1011058</td>\n",
       "      <td>How To Maximize Your Profits Trading Options</td>\n",
       "      <td>https://www.udemy.com/how-to-maximize-your-pro...</td>\n",
       "      <td>True</td>\n",
       "      <td>200.0</td>\n",
       "      <td>1276</td>\n",
       "      <td>45</td>\n",
       "      <td>26</td>\n",
       "      <td>Intermediate Level</td>\n",
       "      <td>2.0</td>\n",
       "      <td>2016-12-13</td>\n",
       "      <td>Business Finance</td>\n",
       "      <td>Дорогой</td>\n",
       "    </tr>\n",
       "  </tbody>\n",
       "</table>\n",
       "</div>"
      ],
      "text/plain": [
       "   Course_ID                                       Course_Title  \\\n",
       "0    1070968                 Ultimate Investment Banking Course   \n",
       "1    1113822  Complete GST Course & Certification - Grow You...   \n",
       "2    1006314  Financial Modeling for Business Analysts and C...   \n",
       "3    1210588  Beginner to Pro - Financial Analysis in Excel ...   \n",
       "4    1011058       How To Maximize Your Profits Trading Options   \n",
       "\n",
       "                                                 URL  Is_Paid  Price  \\\n",
       "0  https://www.udemy.com/ultimate-investment-bank...     True  200.0   \n",
       "1      https://www.udemy.com/goods-and-services-tax/     True   75.0   \n",
       "2  https://www.udemy.com/financial-modeling-for-b...     True   45.0   \n",
       "3  https://www.udemy.com/complete-excel-finance-c...     True   95.0   \n",
       "4  https://www.udemy.com/how-to-maximize-your-pro...     True  200.0   \n",
       "\n",
       "   Num_Subscribers  Num_Reviews  Num_Lectures               Level  \\\n",
       "0             2147           23            51          All Levels   \n",
       "1             2792          923           274          All Levels   \n",
       "2             2174           74            51  Intermediate Level   \n",
       "3             2451           11            36          All Levels   \n",
       "4             1276           45            26  Intermediate Level   \n",
       "\n",
       "   Content_Duration Published_Timestamp           Subject Course_Type  \n",
       "0               1.5          2017-01-18  Business Finance     Дорогой  \n",
       "1              39.0          2017-09-03  Business Finance     Средний  \n",
       "2               2.5          2016-12-19  Business Finance     Средний  \n",
       "3               3.0          2017-05-30  Business Finance     Дорогой  \n",
       "4               2.0          2016-12-13  Business Finance     Дорогой  "
      ]
     },
     "execution_count": 171,
     "metadata": {},
     "output_type": "execute_result"
    }
   ],
   "source": [
    "df.head()"
   ]
  },
  {
   "cell_type": "code",
   "execution_count": 177,
   "id": "482fd2d0",
   "metadata": {},
   "outputs": [
    {
     "data": {
      "text/html": [
       "<div>\n",
       "<style scoped>\n",
       "    .dataframe tbody tr th:only-of-type {\n",
       "        vertical-align: middle;\n",
       "    }\n",
       "\n",
       "    .dataframe tbody tr th {\n",
       "        vertical-align: top;\n",
       "    }\n",
       "\n",
       "    .dataframe thead th {\n",
       "        text-align: right;\n",
       "    }\n",
       "</style>\n",
       "<table border=\"1\" class=\"dataframe\">\n",
       "  <thead>\n",
       "    <tr style=\"text-align: right;\">\n",
       "      <th></th>\n",
       "      <th>Course_Type</th>\n",
       "      <th>Num_Subscribers</th>\n",
       "    </tr>\n",
       "  </thead>\n",
       "  <tbody>\n",
       "    <tr>\n",
       "      <th>1</th>\n",
       "      <td>Дорогой</td>\n",
       "      <td>4378903</td>\n",
       "    </tr>\n",
       "    <tr>\n",
       "      <th>0</th>\n",
       "      <td>Бесплатный</td>\n",
       "      <td>3575525</td>\n",
       "    </tr>\n",
       "    <tr>\n",
       "      <th>3</th>\n",
       "      <td>Средний</td>\n",
       "      <td>2440749</td>\n",
       "    </tr>\n",
       "    <tr>\n",
       "      <th>2</th>\n",
       "      <td>Недорогой</td>\n",
       "      <td>1320658</td>\n",
       "    </tr>\n",
       "  </tbody>\n",
       "</table>\n",
       "</div>"
      ],
      "text/plain": [
       "  Course_Type  Num_Subscribers\n",
       "1     Дорогой          4378903\n",
       "0  Бесплатный          3575525\n",
       "3     Средний          2440749\n",
       "2   Недорогой          1320658"
      ]
     },
     "execution_count": 177,
     "metadata": {},
     "output_type": "execute_result"
    }
   ],
   "source": [
    "df.groupby(by=df.Course_Type, as_index=False).agg({'Num_Subscribers':'sum'}).sort_values(by='Num_Subscribers', ascending=False)"
   ]
  },
  {
   "cell_type": "markdown",
   "id": "2e181f27",
   "metadata": {},
   "source": [
    "Дорогие курсы имеют больше всего пользователей. Вторые по популярности бесплатные курсы"
   ]
  },
  {
   "cell_type": "markdown",
   "id": "8fb2ee18",
   "metadata": {},
   "source": [
    "### Когда лучше разместить курс на платформе?"
   ]
  },
  {
   "cell_type": "markdown",
   "id": "8c742d68",
   "metadata": {},
   "source": [
    "Создадим столбец в месяцем"
   ]
  },
  {
   "cell_type": "code",
   "execution_count": 180,
   "id": "72d84600",
   "metadata": {},
   "outputs": [],
   "source": [
    "df['Month'] = df.Published_Timestamp.dt.month"
   ]
  },
  {
   "cell_type": "code",
   "execution_count": 183,
   "id": "a9a22efe",
   "metadata": {},
   "outputs": [
    {
     "data": {
      "text/html": [
       "<div>\n",
       "<style scoped>\n",
       "    .dataframe tbody tr th:only-of-type {\n",
       "        vertical-align: middle;\n",
       "    }\n",
       "\n",
       "    .dataframe tbody tr th {\n",
       "        vertical-align: top;\n",
       "    }\n",
       "\n",
       "    .dataframe thead th {\n",
       "        text-align: right;\n",
       "    }\n",
       "</style>\n",
       "<table border=\"1\" class=\"dataframe\">\n",
       "  <thead>\n",
       "    <tr style=\"text-align: right;\">\n",
       "      <th></th>\n",
       "      <th>Month</th>\n",
       "      <th>Num_Subscribers</th>\n",
       "    </tr>\n",
       "  </thead>\n",
       "  <tbody>\n",
       "    <tr>\n",
       "      <th>8</th>\n",
       "      <td>9</td>\n",
       "      <td>1361346</td>\n",
       "    </tr>\n",
       "    <tr>\n",
       "      <th>2</th>\n",
       "      <td>3</td>\n",
       "      <td>1108232</td>\n",
       "    </tr>\n",
       "    <tr>\n",
       "      <th>9</th>\n",
       "      <td>10</td>\n",
       "      <td>1096278</td>\n",
       "    </tr>\n",
       "    <tr>\n",
       "      <th>1</th>\n",
       "      <td>2</td>\n",
       "      <td>1033712</td>\n",
       "    </tr>\n",
       "    <tr>\n",
       "      <th>6</th>\n",
       "      <td>7</td>\n",
       "      <td>968950</td>\n",
       "    </tr>\n",
       "    <tr>\n",
       "      <th>3</th>\n",
       "      <td>4</td>\n",
       "      <td>914319</td>\n",
       "    </tr>\n",
       "    <tr>\n",
       "      <th>10</th>\n",
       "      <td>11</td>\n",
       "      <td>910841</td>\n",
       "    </tr>\n",
       "    <tr>\n",
       "      <th>0</th>\n",
       "      <td>1</td>\n",
       "      <td>907751</td>\n",
       "    </tr>\n",
       "    <tr>\n",
       "      <th>7</th>\n",
       "      <td>8</td>\n",
       "      <td>886042</td>\n",
       "    </tr>\n",
       "    <tr>\n",
       "      <th>5</th>\n",
       "      <td>6</td>\n",
       "      <td>879796</td>\n",
       "    </tr>\n",
       "    <tr>\n",
       "      <th>11</th>\n",
       "      <td>12</td>\n",
       "      <td>868405</td>\n",
       "    </tr>\n",
       "    <tr>\n",
       "      <th>4</th>\n",
       "      <td>5</td>\n",
       "      <td>780163</td>\n",
       "    </tr>\n",
       "  </tbody>\n",
       "</table>\n",
       "</div>"
      ],
      "text/plain": [
       "    Month  Num_Subscribers\n",
       "8       9          1361346\n",
       "2       3          1108232\n",
       "9      10          1096278\n",
       "1       2          1033712\n",
       "6       7           968950\n",
       "3       4           914319\n",
       "10     11           910841\n",
       "0       1           907751\n",
       "7       8           886042\n",
       "5       6           879796\n",
       "11     12           868405\n",
       "4       5           780163"
      ]
     },
     "execution_count": 183,
     "metadata": {},
     "output_type": "execute_result"
    }
   ],
   "source": [
    "df.groupby(by=df.Month, as_index=False).agg({'Num_Subscribers':'sum'}).sort_values(by='Num_Subscribers', ascending=False)"
   ]
  },
  {
   "cell_type": "markdown",
   "id": "c32d883d",
   "metadata": {},
   "source": [
    "Можно утверждать что зависимость между популярностью курсов и месяцем существует. Курсы, которые опубликованы после периода праздников, каникул и отпусков (конец лета, конец новогодних праздников), имеют большую популярность среди пользователей. И наоборот, курсы начавшиеся перед летом и новогодними праздниками имеют меньшую популярность."
   ]
  },
  {
   "cell_type": "markdown",
   "id": "369b82cd",
   "metadata": {},
   "source": [
    "### 5. Какие курсы посмотреть в качестве примера?**<br>\n",
    "Проанализируйте топ-10 самых популярных курсов в каждой из областей знаний (`Subject`). Какие из них подходят под предмет программы \"Управление развитием бизнеса\"? Составьте список курсов, которые необходимо проанализировать совету программы в качестве примера."
   ]
  },
  {
   "cell_type": "markdown",
   "id": "0ca8c5e6",
   "metadata": {},
   "source": [
    "Запишем названия 10 самых популярных курсов для каждой категории"
   ]
  },
  {
   "cell_type": "code",
   "execution_count": 191,
   "id": "3d8fb7aa",
   "metadata": {},
   "outputs": [],
   "source": [
    "Business_Finance_df = df[df.Subject == 'Business Finance'].sort_values(by='Num_Subscribers', ascending=False)[:10].Course_Title\n",
    "Graphic_Design_df = df[df.Subject == 'Graphic Design'].sort_values(by='Num_Subscribers', ascending=False)[:10].Course_Title\n",
    "Musical_Instruments_df = df[df.Subject == 'Musical Instruments'].sort_values(by='Num_Subscribers', ascending=False)[:10].Course_Title\n",
    "Web_Development_df = df[df.Subject == 'Web Development'].sort_values(by='Num_Subscribers', ascending=False)[:10].Course_Title"
   ]
  },
  {
   "cell_type": "markdown",
   "id": "bbb31542",
   "metadata": {},
   "source": [
    "Сформируем из названий таблицу популярных курсов для каждой категории"
   ]
  },
  {
   "cell_type": "code",
   "execution_count": 201,
   "id": "6bf00f64",
   "metadata": {},
   "outputs": [
    {
     "data": {
      "text/html": [
       "<div>\n",
       "<style scoped>\n",
       "    .dataframe tbody tr th:only-of-type {\n",
       "        vertical-align: middle;\n",
       "    }\n",
       "\n",
       "    .dataframe tbody tr th {\n",
       "        vertical-align: top;\n",
       "    }\n",
       "\n",
       "    .dataframe thead th {\n",
       "        text-align: right;\n",
       "    }\n",
       "</style>\n",
       "<table border=\"1\" class=\"dataframe\">\n",
       "  <thead>\n",
       "    <tr style=\"text-align: right;\">\n",
       "      <th></th>\n",
       "      <th>Business_Finance</th>\n",
       "      <th>Graphic_Design</th>\n",
       "      <th>Musical_Instruments</th>\n",
       "      <th>Web_Development</th>\n",
       "    </tr>\n",
       "  </thead>\n",
       "  <tbody>\n",
       "    <tr>\n",
       "      <th>1</th>\n",
       "      <td>Learn HTML5 Programming From Scratch</td>\n",
       "      <td>Photoshop In-Depth: Master all of Photoshop's ...</td>\n",
       "      <td>Free Beginner Electric Guitar Lessons</td>\n",
       "      <td>Learn HTML5 Programming From Scratch</td>\n",
       "    </tr>\n",
       "    <tr>\n",
       "      <th>2</th>\n",
       "      <td>Coding for Entrepreneurs Basic</td>\n",
       "      <td>Figure Drawing From Life Using The Reilly Tech...</td>\n",
       "      <td>Pianoforall - Incredible New Way To Learn Pian...</td>\n",
       "      <td>Coding for Entrepreneurs Basic</td>\n",
       "    </tr>\n",
       "    <tr>\n",
       "      <th>3</th>\n",
       "      <td>The Web Developer Bootcamp</td>\n",
       "      <td>Professional Logo Design in Adobe Illustrator</td>\n",
       "      <td>Getting Started with Playing Guitar</td>\n",
       "      <td>The Web Developer Bootcamp</td>\n",
       "    </tr>\n",
       "    <tr>\n",
       "      <th>4</th>\n",
       "      <td>Build Your First Website in 1 Week with HTML5 ...</td>\n",
       "      <td>Photoshop for Entrepreneurs - Design 11 Practi...</td>\n",
       "      <td>Complete Guitar System - Beginner to Advanced</td>\n",
       "      <td>Build Your First Website in 1 Week with HTML5 ...</td>\n",
       "    </tr>\n",
       "    <tr>\n",
       "      <th>5</th>\n",
       "      <td>The Complete Web Developer Course 2.0</td>\n",
       "      <td>Logo Design Essentials</td>\n",
       "      <td>Learn Guitar in 21 Days</td>\n",
       "      <td>The Complete Web Developer Course 2.0</td>\n",
       "    </tr>\n",
       "    <tr>\n",
       "      <th>6</th>\n",
       "      <td>Web Design for Web Developers: Build Beautiful...</td>\n",
       "      <td>The Ultimate Drawing Course - Beginner to Adva...</td>\n",
       "      <td>The Professional Guitar Masterclass</td>\n",
       "      <td>Web Design for Web Developers: Build Beautiful...</td>\n",
       "    </tr>\n",
       "    <tr>\n",
       "      <th>7</th>\n",
       "      <td>Learn Javascript &amp; JQuery From Scratch</td>\n",
       "      <td>Logo Designing for Your Business in an Hour</td>\n",
       "      <td>Introduction to Piano - By PGN Piano!</td>\n",
       "      <td>Learn Javascript &amp; JQuery From Scratch</td>\n",
       "    </tr>\n",
       "    <tr>\n",
       "      <th>8</th>\n",
       "      <td>Practical PHP: Master the Basics and Code Dyna...</td>\n",
       "      <td>How To Make Graphics For A Website</td>\n",
       "      <td>Best Beginner Guitar Lessons by Sam Lyons</td>\n",
       "      <td>Practical PHP: Master the Basics and Code Dyna...</td>\n",
       "    </tr>\n",
       "    <tr>\n",
       "      <th>9</th>\n",
       "      <td>JavaScript: Understanding the Weird Parts</td>\n",
       "      <td>Learn to Design a Letterhead - A Beginners Course</td>\n",
       "      <td>Acoustic Guitar Basics</td>\n",
       "      <td>JavaScript: Understanding the Weird Parts</td>\n",
       "    </tr>\n",
       "    <tr>\n",
       "      <th>10</th>\n",
       "      <td>Angular 4 (formerly Angular 2) - The Complete ...</td>\n",
       "      <td>Graphic Design - An Overview of the Field</td>\n",
       "      <td>Guitar Super System Level 1</td>\n",
       "      <td>Angular 4 (formerly Angular 2) - The Complete ...</td>\n",
       "    </tr>\n",
       "  </tbody>\n",
       "</table>\n",
       "</div>"
      ],
      "text/plain": [
       "                                     Business_Finance  \\\n",
       "1                Learn HTML5 Programming From Scratch   \n",
       "2                      Coding for Entrepreneurs Basic   \n",
       "3                          The Web Developer Bootcamp   \n",
       "4   Build Your First Website in 1 Week with HTML5 ...   \n",
       "5               The Complete Web Developer Course 2.0   \n",
       "6   Web Design for Web Developers: Build Beautiful...   \n",
       "7              Learn Javascript & JQuery From Scratch   \n",
       "8   Practical PHP: Master the Basics and Code Dyna...   \n",
       "9           JavaScript: Understanding the Weird Parts   \n",
       "10  Angular 4 (formerly Angular 2) - The Complete ...   \n",
       "\n",
       "                                       Graphic_Design  \\\n",
       "1   Photoshop In-Depth: Master all of Photoshop's ...   \n",
       "2   Figure Drawing From Life Using The Reilly Tech...   \n",
       "3       Professional Logo Design in Adobe Illustrator   \n",
       "4   Photoshop for Entrepreneurs - Design 11 Practi...   \n",
       "5                             Logo Design Essentials    \n",
       "6   The Ultimate Drawing Course - Beginner to Adva...   \n",
       "7         Logo Designing for Your Business in an Hour   \n",
       "8                  How To Make Graphics For A Website   \n",
       "9   Learn to Design a Letterhead - A Beginners Course   \n",
       "10          Graphic Design - An Overview of the Field   \n",
       "\n",
       "                                  Musical_Instruments  \\\n",
       "1               Free Beginner Electric Guitar Lessons   \n",
       "2   Pianoforall - Incredible New Way To Learn Pian...   \n",
       "3                 Getting Started with Playing Guitar   \n",
       "4       Complete Guitar System - Beginner to Advanced   \n",
       "5                             Learn Guitar in 21 Days   \n",
       "6                 The Professional Guitar Masterclass   \n",
       "7               Introduction to Piano - By PGN Piano!   \n",
       "8           Best Beginner Guitar Lessons by Sam Lyons   \n",
       "9                              Acoustic Guitar Basics   \n",
       "10                        Guitar Super System Level 1   \n",
       "\n",
       "                                      Web_Development  \n",
       "1                Learn HTML5 Programming From Scratch  \n",
       "2                      Coding for Entrepreneurs Basic  \n",
       "3                          The Web Developer Bootcamp  \n",
       "4   Build Your First Website in 1 Week with HTML5 ...  \n",
       "5               The Complete Web Developer Course 2.0  \n",
       "6   Web Design for Web Developers: Build Beautiful...  \n",
       "7              Learn Javascript & JQuery From Scratch  \n",
       "8   Practical PHP: Master the Basics and Code Dyna...  \n",
       "9           JavaScript: Understanding the Weird Parts  \n",
       "10  Angular 4 (formerly Angular 2) - The Complete ...  "
      ]
     },
     "execution_count": 201,
     "metadata": {},
     "output_type": "execute_result"
    }
   ],
   "source": [
    "d = {'Business_Finance': Web_Development_df.tolist(),\n",
    "     'Graphic_Design': Graphic_Design_df.tolist(),\n",
    "     'Musical_Instruments': Musical_Instruments_df.tolist(),\n",
    "     'Web_Development': Web_Development_df.tolist()}\n",
    "pd.DataFrame(data=d, index=[1, 2, 3, 4, 5, 6, 7, 8, 9,10])"
   ]
  },
  {
   "cell_type": "markdown",
   "id": "f66533e6",
   "metadata": {},
   "source": [
    "Интерпретируйте все ответы на вышестоящие вопросы: поясните, о чём именно говорит полученный вами результат."
   ]
  },
  {
   "cell_type": "markdown",
   "id": "cccd3452",
   "metadata": {},
   "source": [
    "## 4. Сделайте общий вывод по проекту"
   ]
  },
  {
   "cell_type": "markdown",
   "id": "fad2e5de",
   "metadata": {},
   "source": [
    "Сделайте общий вывод про проведённому исследованию: что удалось сделать и к каким заключения прийти? <br><br>\n",
    "Что не хватило вам в исследовании? На какие вопросы вы хотели бы получить ответы в рамках анализа предложенных данных (но не можете этого сделать, т.к. вам пока не знакомы соотвествующие инструменты анализа)?"
   ]
  },
  {
   "cell_type": "markdown",
   "id": "5a764bb2",
   "metadata": {},
   "source": [
    "## Выводы\n",
    "\n",
    "* Бесплатные и дорогие курсы самые популярные на платформе\n",
    "* Курсы по веб разработке и платные курсы в целом имеют больше обучающего контента \n",
    "* Лучше не публиковать курсы перед периодами праздников и отпусков"
   ]
  },
  {
   "cell_type": "markdown",
   "id": "7261ad3f",
   "metadata": {},
   "source": [
    "# Описание данных"
   ]
  },
  {
   "cell_type": "markdown",
   "id": "14a71934",
   "metadata": {},
   "source": [
    "- `courseID` - идентификатор курса\n",
    "- `course_title` - название курса\n",
    "- `URL` - ссылка на курс\n",
    "- `is_paid` - статус курса (Истина - платный, Ложь - бесплатный)\n",
    "- `PRICE` - стоимость курса (в долларах)\n",
    "- `num_subscribers` - количество слушателей курса\n",
    "- `NUMreviews` - количество отзывов о курсе\n",
    "- `num_lectures` - количество лекций на курсе\n",
    "- `Level` - уровень курса\n",
    "- `content_duration` - длительность курса (в зачётных единицах)\n",
    "- `published_timestamp` - дата публикации курса на платформе\n",
    "- `Subject` - область знаний курса      "
   ]
  },
  {
   "cell_type": "markdown",
   "id": "6a3e668c",
   "metadata": {},
   "source": [
    "# Критерии оценки проекта"
   ]
  },
  {
   "cell_type": "markdown",
   "id": "3d42d307",
   "metadata": {},
   "source": [
    "**1. Правильность и рациональность применения инструментов**<br>\n",
    "Используете ли вы все изученные в ходе семинаров инструменты работы с данными? Правильно ли вы используете эти методы? Какие методы замены типов данных, обработки пропусков и дубликатов применяете?"
   ]
  },
  {
   "cell_type": "markdown",
   "id": "3d4700b2",
   "metadata": {},
   "source": [
    "**2. Умение анализировать полученные данные**<br>\n",
    "Как вы описываете найденные в данных проблемы? Соблюдаете ли структуру проекта и поддерживаете аккуратность кода? Какие выводы делаете? Оставляете ли комментарии к шагам?"
   ]
  },
  {
   "cell_type": "markdown",
   "id": "4c3164fa",
   "metadata": {},
   "source": [
    "**3. Оформление работы**<br>\n",
    "Правильно оформите работу: помимо кода (в ячейках `code`) добавляйте пояснения к своим действиям (в ячейках `markdown`). Не забывайте использовать форматирование и заголовки."
   ]
  }
 ],
 "metadata": {
  "kernelspec": {
   "display_name": "Python 3 (ipykernel)",
   "language": "python",
   "name": "python3"
  },
  "language_info": {
   "codemirror_mode": {
    "name": "ipython",
    "version": 3
   },
   "file_extension": ".py",
   "mimetype": "text/x-python",
   "name": "python",
   "nbconvert_exporter": "python",
   "pygments_lexer": "ipython3",
   "version": "3.9.13"
  }
 },
 "nbformat": 4,
 "nbformat_minor": 5
}
