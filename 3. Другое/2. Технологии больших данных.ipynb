{
 "cells": [
  {
   "cell_type": "code",
   "execution_count": 1,
   "id": "7cff273d",
   "metadata": {},
   "outputs": [
    {
     "name": "stdout",
     "output_type": "stream",
     "text": [
      "Requirement already satisfied: pyspark in c:\\programdata\\anaconda3\\lib\\site-packages (3.4.0)\n",
      "Requirement already satisfied: py4j==0.10.9.7 in c:\\programdata\\anaconda3\\lib\\site-packages (from pyspark) (0.10.9.7)\n"
     ]
    }
   ],
   "source": [
    "!pip install pyspark"
   ]
  },
  {
   "cell_type": "code",
   "execution_count": 2,
   "id": "0d91078f",
   "metadata": {},
   "outputs": [],
   "source": [
    "from pyspark.sql import SparkSession\n",
    "import pyspark.sql.functions as F"
   ]
  },
  {
   "cell_type": "code",
   "execution_count": 3,
   "id": "92a68279",
   "metadata": {},
   "outputs": [],
   "source": [
    "spark = SparkSession.builder.getOrCreate()"
   ]
  },
  {
   "cell_type": "code",
   "execution_count": 4,
   "id": "f34fbdcd",
   "metadata": {},
   "outputs": [
    {
     "data": {
      "text/html": [
       "\n",
       "            <div>\n",
       "                <p><b>SparkSession - in-memory</b></p>\n",
       "                \n",
       "        <div>\n",
       "            <p><b>SparkContext</b></p>\n",
       "\n",
       "            <p><a href=\"http://host.docker.internal:4040\">Spark UI</a></p>\n",
       "\n",
       "            <dl>\n",
       "              <dt>Version</dt>\n",
       "                <dd><code>v3.4.0</code></dd>\n",
       "              <dt>Master</dt>\n",
       "                <dd><code>local[*]</code></dd>\n",
       "              <dt>AppName</dt>\n",
       "                <dd><code>pyspark-shell</code></dd>\n",
       "            </dl>\n",
       "        </div>\n",
       "        \n",
       "            </div>\n",
       "        "
      ],
      "text/plain": [
       "<pyspark.sql.session.SparkSession at 0x2179b088ee0>"
      ]
     },
     "execution_count": 4,
     "metadata": {},
     "output_type": "execute_result"
    }
   ],
   "source": [
    "spark"
   ]
  },
  {
   "cell_type": "markdown",
   "id": "163ee78c",
   "metadata": {},
   "source": [
    "## Задание 4\n",
    "\n",
    "Загрузим все данные"
   ]
  },
  {
   "cell_type": "code",
   "execution_count": 160,
   "id": "8b99f9d5",
   "metadata": {},
   "outputs": [],
   "source": [
    "metadata_df = spark.read.format('json').load('movie_dataset_public_final/raw/metadata.json')\n",
    "ratings_df = spark.read.format('json').load('movie_dataset_public_final/raw/ratings.json')\n",
    "reviews_df = spark.read.format('json').load('movie_dataset_public_final/raw/reviews.json')\n",
    "survey_answers_df = spark.read.format('json').load('movie_dataset_public_final/raw/survey_answers.json')\n",
    "tag_count_df = spark.read.format('json').load('movie_dataset_public_final/raw/tag_count.json')\n",
    "tags_df = spark.read.format('json').load('movie_dataset_public_final/raw/tags.json')"
   ]
  },
  {
   "cell_type": "markdown",
   "id": "2aab716a",
   "metadata": {},
   "source": [
    "## Задание 4.1 \n",
    "Посчитайте количество текстовых отзывов на каждый фильм. <br>\n",
    "Стоимость - 3 балла <br>"
   ]
  },
  {
   "cell_type": "code",
   "execution_count": 166,
   "id": "fcd1d269",
   "metadata": {},
   "outputs": [
    {
     "name": "stdout",
     "output_type": "stream",
     "text": [
      "+-------+--------------------+\n",
      "|item_id|                 txt|\n",
      "+-------+--------------------+\n",
      "| 172063|one-shot record o...|\n",
      "|  95541|Banging Away..; T...|\n",
      "|   7065|unbelievable; I c...|\n",
      "|   3739|I'm still starry-...|\n",
      "|   1562|Failed on every F...|\n",
      "+-------+--------------------+\n",
      "only showing top 5 rows\n",
      "\n"
     ]
    }
   ],
   "source": [
    "reviews_df.show(5)"
   ]
  },
  {
   "cell_type": "markdown",
   "id": "0d854d79",
   "metadata": {},
   "source": [
    "Посчитаем количество отзывов на каждый фильм, присоеденим название и отсортируем количество отзывов по убывания"
   ]
  },
  {
   "cell_type": "code",
   "execution_count": 164,
   "id": "aad8f7c4",
   "metadata": {},
   "outputs": [
    {
     "name": "stdout",
     "output_type": "stream",
     "text": [
      "+-------+-----+--------------------+\n",
      "|item_id|count|               title|\n",
      "+-------+-----+--------------------+\n",
      "|   4993| 5122|Lord of the Rings...|\n",
      "|  58559| 5115|Dark Knight, The ...|\n",
      "|    318| 4913|Shawshank Redempt...|\n",
      "| 122886| 4384|Star Wars: Episod...|\n",
      "|   2571| 3765|  Matrix, The (1999)|\n",
      "|   2628| 3636|Star Wars: Episod...|\n",
      "|   5378| 3556|Star Wars: Episod...|\n",
      "|   2710| 3443|Blair Witch Proje...|\n",
      "| 136864| 3358|Batman v Superman...|\n",
      "|  33493| 3331|Star Wars: Episod...|\n",
      "|   7153| 3275|Lord of the Rings...|\n",
      "|  72998| 3137|       Avatar (2009)|\n",
      "|   2959| 3082|   Fight Club (1999)|\n",
      "|  79132| 2967|    Inception (2010)|\n",
      "| 109487| 2962| Interstellar (2014)|\n",
      "|   7318| 2829|Passion of the Ch...|\n",
      "|   6365| 2801|Matrix Reloaded, ...|\n",
      "|  34048| 2762|War of the Worlds...|\n",
      "|   2858| 2757|American Beauty (...|\n",
      "|  91529| 2756|Dark Knight Rises...|\n",
      "+-------+-----+--------------------+\n",
      "only showing top 20 rows\n",
      "\n"
     ]
    }
   ],
   "source": [
    "reviews_df \\\n",
    "        .groupBy('item_id').count() \\\n",
    "        .join(metadata_df.select('item_id', 'title'), on='item_id') \\\n",
    "        .orderBy(F.col('count').desc()).show()"
   ]
  },
  {
   "cell_type": "markdown",
   "id": "1823da78",
   "metadata": {},
   "source": [
    "## Задание 4.2\n",
    "Для пользователей, поставивших оценки более, чем 5 фильмам, посчитать дисперсию оценок для каждого пользователя. <br>\n",
    "Стоимость - 4 балла <br>"
   ]
  },
  {
   "cell_type": "code",
   "execution_count": 167,
   "id": "6722e467",
   "metadata": {},
   "outputs": [
    {
     "name": "stdout",
     "output_type": "stream",
     "text": [
      "+-------+------+-------+\n",
      "|item_id|rating|user_id|\n",
      "+-------+------+-------+\n",
      "|      5|   3.0| 997206|\n",
      "|     10|   4.0| 997206|\n",
      "|     13|   4.0| 997206|\n",
      "|     17|   5.0| 997206|\n",
      "|     21|   4.0| 997206|\n",
      "+-------+------+-------+\n",
      "only showing top 5 rows\n",
      "\n"
     ]
    }
   ],
   "source": [
    "ratings_df.show(5)"
   ]
  },
  {
   "cell_type": "code",
   "execution_count": 168,
   "id": "c511a8bb",
   "metadata": {},
   "outputs": [
    {
     "name": "stdout",
     "output_type": "stream",
     "text": [
      "+-------+----------+\n",
      "|user_id|dispersion|\n",
      "+-------+----------+\n",
      "| 498965|      0.42|\n",
      "|  11190|      1.22|\n",
      "| 821354|      0.96|\n",
      "| 566437|      0.67|\n",
      "| 844513|      0.99|\n",
      "| 421791|      0.84|\n",
      "| 624860|       0.9|\n",
      "| 241098|      0.68|\n",
      "| 161277|      0.84|\n",
      "| 928453|      1.28|\n",
      "| 589066|      0.85|\n",
      "| 568706|      0.59|\n",
      "| 223139|      0.61|\n",
      "|  23116|      1.33|\n",
      "| 858526|      0.99|\n",
      "| 918211|      0.88|\n",
      "| 325281|      0.69|\n",
      "| 732747|      1.73|\n",
      "| 663151|       1.7|\n",
      "| 289627|      1.11|\n",
      "+-------+----------+\n",
      "only showing top 20 rows\n",
      "\n"
     ]
    }
   ],
   "source": [
    "ratings_df.groupBy('user_id').agg(\n",
    "                        # считаем количество оценок для пользователя\n",
    "                        F.count('rating').alias('rating_count'), \n",
    "                        # считаем стандартное отклонение оценок пользователя \n",
    "                        # возводим в квадрат чтобы получить дисперсию и округляем до 2 знаков\n",
    "                        F.round(F.pow(F.stddev('rating'), 2), 2).alias('dispersion')\n",
    "# оставляем пользователей с более чем 5 оценками\n",
    ").filter(F.col('rating_count') > 5). \\\n",
    "select('user_id', 'dispersion').show()"
   ]
  },
  {
   "cell_type": "markdown",
   "id": "1a76defc",
   "metadata": {},
   "source": [
    "## Задание 4.3\n",
    "По тегу выдать тексты отзывов на фильмы, к которым применимость заданного тега оценивается пользователями в среднем выше, чем на 4. <br>\n",
    "Стоимость - 5 баллов <br>"
   ]
  },
  {
   "cell_type": "code",
   "execution_count": 170,
   "id": "3b1942a4",
   "metadata": {},
   "outputs": [
    {
     "name": "stdout",
     "output_type": "stream",
     "text": [
      "+-------+-----+------+-------+\n",
      "|item_id|score|tag_id|user_id|\n",
      "+-------+-----+------+-------+\n",
      "|   3108|    3| 50126| 978707|\n",
      "|   2858|    1| 50126| 978707|\n",
      "|   1269|    1| 50126| 978707|\n",
      "|   1136|    1| 50126| 978707|\n",
      "|   1220|    1| 50126| 978707|\n",
      "+-------+-----+------+-------+\n",
      "only showing top 5 rows\n",
      "\n"
     ]
    }
   ],
   "source": [
    "survey_answers_df.show(5)"
   ]
  },
  {
   "cell_type": "code",
   "execution_count": 171,
   "id": "35c3f820",
   "metadata": {},
   "outputs": [
    {
     "name": "stdout",
     "output_type": "stream",
     "text": [
      "+-------+--------------------+\n",
      "|item_id|                 txt|\n",
      "+-------+--------------------+\n",
      "| 172063|one-shot record o...|\n",
      "|  95541|Banging Away..; T...|\n",
      "|   7065|unbelievable; I c...|\n",
      "|   3739|I'm still starry-...|\n",
      "|   1562|Failed on every F...|\n",
      "+-------+--------------------+\n",
      "only showing top 5 rows\n",
      "\n"
     ]
    }
   ],
   "source": [
    "reviews_df.show(5)"
   ]
  },
  {
   "cell_type": "code",
   "execution_count": 172,
   "id": "35e30429",
   "metadata": {},
   "outputs": [
    {
     "name": "stdout",
     "output_type": "stream",
     "text": [
      "+------+--------------+\n",
      "|tag_id|           tag|\n",
      "+------+--------------+\n",
      "|    22|       aardman|\n",
      "|   112|secret service|\n",
      "|   167|    hillarious|\n",
      "|   270|     christian|\n",
      "|   362|         mummy|\n",
      "+------+--------------+\n",
      "only showing top 5 rows\n",
      "\n"
     ]
    }
   ],
   "source": [
    "tags_df = tags_df.withColumnRenamed('id', 'tag_id')\n",
    "tags_df.show(5)"
   ]
  },
  {
   "cell_type": "markdown",
   "id": "448c7c85",
   "metadata": {},
   "source": [
    "Группируем по тегу для каждого фильма, считаем среднюю оценку и оставляем оценки выше 4."
   ]
  },
  {
   "cell_type": "code",
   "execution_count": 174,
   "id": "d2f16730",
   "metadata": {},
   "outputs": [
    {
     "name": "stdout",
     "output_type": "stream",
     "text": [
      "+------+-------+---------+\n",
      "|tag_id|item_id|avg_score|\n",
      "+------+-------+---------+\n",
      "|101966|   1704|      4.2|\n",
      "| 28134|  55820|      5.0|\n",
      "| 34379|   4343|      5.0|\n",
      "|  6681|   4369|      5.0|\n",
      "| 37068|   4262|      5.0|\n",
      "+------+-------+---------+\n",
      "only showing top 5 rows\n",
      "\n"
     ]
    }
   ],
   "source": [
    "result = survey_answers_df \\\n",
    "        .groupBy('tag_id', 'item_id') \\\n",
    "        .agg(F.avg('score').alias('avg_score')) \\\n",
    "        .filter(F.col('avg_score') > 4)\n",
    "result.show(5)"
   ]
  },
  {
   "cell_type": "markdown",
   "id": "c1c4e29e",
   "metadata": {},
   "source": [
    "К тексту отзыва на фильм присоединяем id тегов, которые оценены выше 4, и сам тег. Для большей ясности выведено название фильма"
   ]
  },
  {
   "cell_type": "code",
   "execution_count": 179,
   "id": "6233a8af",
   "metadata": {},
   "outputs": [
    {
     "name": "stdout",
     "output_type": "stream",
     "text": [
      "+--------------------+--------------------+--------------------+\n",
      "|               title|                 txt|                 tag|\n",
      "+--------------------+--------------------+--------------------+\n",
      "|Freaky Friday (1977)|                 ...|              comedy|\n",
      "|  Under Siege (1992)|                u...|           espionage|\n",
      "|Shawshank Redempt...|           Best m...|          adaptation|\n",
      "|Shawshank Redempt...|           Best m...|          redemption|\n",
      "|Shawshank Redempt...|           Best m...|oscar (best direc...|\n",
      "|Shawshank Redempt...|           Best m...|  exceptional acting|\n",
      "|Shawshank Redempt...|           Best m...|        heartwarming|\n",
      "|Shawshank Redempt...|           Best m...|         classic car|\n",
      "|Shawshank Redempt...|           Best m...|              prison|\n",
      "|Shawshank Redempt...|           Best m...|            downbeat|\n",
      "|Shawshank Redempt...|           Best m...|       inspirational|\n",
      "|Shawshank Redempt...|           Best m...|               drama|\n",
      "|Shawshank Redempt...|           Best m...|          futuristic|\n",
      "|Shawshank Redempt...|           Best m...|       prison escape|\n",
      "|Shawshank Redempt...|           Best m...|                good|\n",
      "|Shawshank Redempt...|           Best m...|     based on a book|\n",
      "|Shawshank Redempt...|           Best m...|    excellent script|\n",
      "|Thin Red Line, Th...|           War is...|       philosophical|\n",
      "|Thin Red Line, Th...|           War is...|        world war ii|\n",
      "|Thin Red Line, Th...|           War is...|    realistic action|\n",
      "+--------------------+--------------------+--------------------+\n",
      "only showing top 20 rows\n",
      "\n"
     ]
    }
   ],
   "source": [
    "reviews_df.join(result, on='item_id', how='right') \\\n",
    "        .join(tags_df, on='tag_id') \\\n",
    "        .join(metadata_df.select('item_id', 'title'), on='item_id') \\\n",
    "        .orderBy(F.col('txt')).select('title', 'txt', 'tag').show()"
   ]
  },
  {
   "cell_type": "markdown",
   "id": "2d8b3439",
   "metadata": {},
   "source": [
    "## Задание 4.5\n",
    "Получить средние рейтинги фильмов по годам выпуска. Год выпуска фильма указан в title. То есть надо для каждого фильма определить средний рейтинг, сгруппировать фильмы по годам выпуска и посчитать среднее. Можно и по-другому, если достигается эквивалентный результат.\n",
    "\n",
    "Стоимость - 5 баллов"
   ]
  },
  {
   "cell_type": "code",
   "execution_count": 180,
   "id": "64e9347a",
   "metadata": {},
   "outputs": [
    {
     "name": "stdout",
     "output_type": "stream",
     "text": [
      "+---------+---------+---------------+-------+-------+--------------------+--------------------+\n",
      "|avgRating|dateAdded|     directedBy| imdbId|item_id|            starring|               title|\n",
      "+---------+---------+---------------+-------+-------+--------------------+--------------------+\n",
      "|  3.89146|     null|  John Lasseter|0114709|      1|Tim Allen, Tom Ha...|    Toy Story (1995)|\n",
      "|  3.26605|     null|   Joe Johnston|0113497|      2|Jonathan Hyde, Br...|      Jumanji (1995)|\n",
      "|  3.17146|     null|  Howard Deutch|0113228|      3|Jack Lemmon, Walt...|Grumpier Old Men ...|\n",
      "|  2.86824|     null|Forest Whitaker|0114885|      4|Angela Bassett, L...|Waiting to Exhale...|\n",
      "|   3.0762|     null|  Charles Shyer|0113041|      5|Steve Martin, Mar...|Father of the Bri...|\n",
      "+---------+---------+---------------+-------+-------+--------------------+--------------------+\n",
      "only showing top 5 rows\n",
      "\n"
     ]
    }
   ],
   "source": [
    "metadata_df.show(5)"
   ]
  },
  {
   "cell_type": "code",
   "execution_count": 181,
   "id": "cb3e6750",
   "metadata": {},
   "outputs": [
    {
     "data": {
      "text/html": [
       "<div>\n",
       "<style scoped>\n",
       "    .dataframe tbody tr th:only-of-type {\n",
       "        vertical-align: middle;\n",
       "    }\n",
       "\n",
       "    .dataframe tbody tr th {\n",
       "        vertical-align: top;\n",
       "    }\n",
       "\n",
       "    .dataframe thead th {\n",
       "        text-align: right;\n",
       "    }\n",
       "</style>\n",
       "<table border=\"1\" class=\"dataframe\">\n",
       "  <thead>\n",
       "    <tr style=\"text-align: right;\">\n",
       "      <th></th>\n",
       "      <th>title</th>\n",
       "      <th>avgRating</th>\n",
       "    </tr>\n",
       "  </thead>\n",
       "  <tbody>\n",
       "    <tr>\n",
       "      <th>0</th>\n",
       "      <td>Toy Story (1995)</td>\n",
       "      <td>3.89146</td>\n",
       "    </tr>\n",
       "    <tr>\n",
       "      <th>1</th>\n",
       "      <td>Jumanji (1995)</td>\n",
       "      <td>3.26605</td>\n",
       "    </tr>\n",
       "    <tr>\n",
       "      <th>2</th>\n",
       "      <td>Grumpier Old Men (1995)</td>\n",
       "      <td>3.17146</td>\n",
       "    </tr>\n",
       "    <tr>\n",
       "      <th>3</th>\n",
       "      <td>Waiting to Exhale (1995)</td>\n",
       "      <td>2.86824</td>\n",
       "    </tr>\n",
       "    <tr>\n",
       "      <th>4</th>\n",
       "      <td>Father of the Bride Part II (1995)</td>\n",
       "      <td>3.07620</td>\n",
       "    </tr>\n",
       "  </tbody>\n",
       "</table>\n",
       "</div>"
      ],
      "text/plain": [
       "                                title  avgRating\n",
       "0                    Toy Story (1995)    3.89146\n",
       "1                      Jumanji (1995)    3.26605\n",
       "2             Grumpier Old Men (1995)    3.17146\n",
       "3            Waiting to Exhale (1995)    2.86824\n",
       "4  Father of the Bride Part II (1995)    3.07620"
      ]
     },
     "execution_count": 181,
     "metadata": {},
     "output_type": "execute_result"
    }
   ],
   "source": [
    "md_df = metadata_df.select('title', 'avgRating').toPandas()\n",
    "md_df.head()"
   ]
  },
  {
   "cell_type": "markdown",
   "id": "80211684",
   "metadata": {},
   "source": [
    "Функция ищет год выпуска фильма внутри скобок"
   ]
  },
  {
   "cell_type": "code",
   "execution_count": 196,
   "id": "d12069c9",
   "metadata": {},
   "outputs": [],
   "source": [
    "import re\n",
    "def find_year(starring):\n",
    "    year = re.search(r'(\\(\\d{4}\\))', starring)\n",
    "    if type(year) == type(None):\n",
    "        return None\n",
    "    else:\n",
    "        return year[0][1:5]"
   ]
  },
  {
   "cell_type": "code",
   "execution_count": 197,
   "id": "68158e85",
   "metadata": {},
   "outputs": [
    {
     "data": {
      "text/html": [
       "<div>\n",
       "<style scoped>\n",
       "    .dataframe tbody tr th:only-of-type {\n",
       "        vertical-align: middle;\n",
       "    }\n",
       "\n",
       "    .dataframe tbody tr th {\n",
       "        vertical-align: top;\n",
       "    }\n",
       "\n",
       "    .dataframe thead th {\n",
       "        text-align: right;\n",
       "    }\n",
       "</style>\n",
       "<table border=\"1\" class=\"dataframe\">\n",
       "  <thead>\n",
       "    <tr style=\"text-align: right;\">\n",
       "      <th></th>\n",
       "      <th>title</th>\n",
       "      <th>avgRating</th>\n",
       "      <th>year</th>\n",
       "    </tr>\n",
       "  </thead>\n",
       "  <tbody>\n",
       "    <tr>\n",
       "      <th>0</th>\n",
       "      <td>Toy Story (1995)</td>\n",
       "      <td>3.89146</td>\n",
       "      <td>1995</td>\n",
       "    </tr>\n",
       "    <tr>\n",
       "      <th>1</th>\n",
       "      <td>Jumanji (1995)</td>\n",
       "      <td>3.26605</td>\n",
       "      <td>1995</td>\n",
       "    </tr>\n",
       "    <tr>\n",
       "      <th>2</th>\n",
       "      <td>Grumpier Old Men (1995)</td>\n",
       "      <td>3.17146</td>\n",
       "      <td>1995</td>\n",
       "    </tr>\n",
       "    <tr>\n",
       "      <th>3</th>\n",
       "      <td>Waiting to Exhale (1995)</td>\n",
       "      <td>2.86824</td>\n",
       "      <td>1995</td>\n",
       "    </tr>\n",
       "    <tr>\n",
       "      <th>4</th>\n",
       "      <td>Father of the Bride Part II (1995)</td>\n",
       "      <td>3.07620</td>\n",
       "      <td>1995</td>\n",
       "    </tr>\n",
       "  </tbody>\n",
       "</table>\n",
       "</div>"
      ],
      "text/plain": [
       "                                title  avgRating  year\n",
       "0                    Toy Story (1995)    3.89146  1995\n",
       "1                      Jumanji (1995)    3.26605  1995\n",
       "2             Grumpier Old Men (1995)    3.17146  1995\n",
       "3            Waiting to Exhale (1995)    2.86824  1995\n",
       "4  Father of the Bride Part II (1995)    3.07620  1995"
      ]
     },
     "execution_count": 197,
     "metadata": {},
     "output_type": "execute_result"
    }
   ],
   "source": [
    "md_df['year'] = md_df.title.map(find_year)\n",
    "md_df.head()"
   ]
  },
  {
   "cell_type": "markdown",
   "id": "991c9c5a",
   "metadata": {},
   "source": [
    "Группируем данные по году и находим среднее"
   ]
  },
  {
   "cell_type": "code",
   "execution_count": 193,
   "id": "243119d0",
   "metadata": {},
   "outputs": [
    {
     "data": {
      "text/html": [
       "<div>\n",
       "<style scoped>\n",
       "    .dataframe tbody tr th:only-of-type {\n",
       "        vertical-align: middle;\n",
       "    }\n",
       "\n",
       "    .dataframe tbody tr th {\n",
       "        vertical-align: top;\n",
       "    }\n",
       "\n",
       "    .dataframe thead th {\n",
       "        text-align: right;\n",
       "    }\n",
       "</style>\n",
       "<table border=\"1\" class=\"dataframe\">\n",
       "  <thead>\n",
       "    <tr style=\"text-align: right;\">\n",
       "      <th></th>\n",
       "      <th>year</th>\n",
       "      <th>avgRating</th>\n",
       "    </tr>\n",
       "  </thead>\n",
       "  <tbody>\n",
       "    <tr>\n",
       "      <th>0</th>\n",
       "      <td>1874</td>\n",
       "      <td>3.129630</td>\n",
       "    </tr>\n",
       "    <tr>\n",
       "      <th>1</th>\n",
       "      <td>1878</td>\n",
       "      <td>3.102940</td>\n",
       "    </tr>\n",
       "    <tr>\n",
       "      <th>2</th>\n",
       "      <td>1880</td>\n",
       "      <td>2.550000</td>\n",
       "    </tr>\n",
       "    <tr>\n",
       "      <th>3</th>\n",
       "      <td>1883</td>\n",
       "      <td>2.676470</td>\n",
       "    </tr>\n",
       "    <tr>\n",
       "      <th>4</th>\n",
       "      <td>1887</td>\n",
       "      <td>1.934780</td>\n",
       "    </tr>\n",
       "    <tr>\n",
       "      <th>...</th>\n",
       "      <td>...</td>\n",
       "      <td>...</td>\n",
       "    </tr>\n",
       "    <tr>\n",
       "      <th>133</th>\n",
       "      <td>2017</td>\n",
       "      <td>2.590394</td>\n",
       "    </tr>\n",
       "    <tr>\n",
       "      <th>134</th>\n",
       "      <td>2018</td>\n",
       "      <td>2.448351</td>\n",
       "    </tr>\n",
       "    <tr>\n",
       "      <th>135</th>\n",
       "      <td>2019</td>\n",
       "      <td>2.127804</td>\n",
       "    </tr>\n",
       "    <tr>\n",
       "      <th>136</th>\n",
       "      <td>2020</td>\n",
       "      <td>1.695137</td>\n",
       "    </tr>\n",
       "    <tr>\n",
       "      <th>137</th>\n",
       "      <td>2021</td>\n",
       "      <td>1.566739</td>\n",
       "    </tr>\n",
       "  </tbody>\n",
       "</table>\n",
       "<p>138 rows × 2 columns</p>\n",
       "</div>"
      ],
      "text/plain": [
       "     year  avgRating\n",
       "0    1874   3.129630\n",
       "1    1878   3.102940\n",
       "2    1880   2.550000\n",
       "3    1883   2.676470\n",
       "4    1887   1.934780\n",
       "..    ...        ...\n",
       "133  2017   2.590394\n",
       "134  2018   2.448351\n",
       "135  2019   2.127804\n",
       "136  2020   1.695137\n",
       "137  2021   1.566739\n",
       "\n",
       "[138 rows x 2 columns]"
      ]
     },
     "execution_count": 193,
     "metadata": {},
     "output_type": "execute_result"
    }
   ],
   "source": [
    "md_df.groupby('year', as_index=False).agg({'avgRating' : 'mean'})"
   ]
  },
  {
   "cell_type": "markdown",
   "id": "7a1b008c",
   "metadata": {},
   "source": [
    "## Задание 4.6\n",
    "Для каждого фильма посчитать его средний рейтинг. Для каждой оценки в ratings.json посчитать разницу между выставленной оценкой и средней оценкой фильма. Выдать для каждого пользователя среднюю таких разниц по всем его оценкам.\n",
    "\n",
    "Стоимость - 6 баллов"
   ]
  },
  {
   "cell_type": "code",
   "execution_count": 200,
   "id": "bc972ff7",
   "metadata": {},
   "outputs": [
    {
     "name": "stdout",
     "output_type": "stream",
     "text": [
      "+-------+------+-------+\n",
      "|item_id|rating|user_id|\n",
      "+-------+------+-------+\n",
      "|      5|   3.0| 997206|\n",
      "|     10|   4.0| 997206|\n",
      "|     13|   4.0| 997206|\n",
      "|     17|   5.0| 997206|\n",
      "|     21|   4.0| 997206|\n",
      "+-------+------+-------+\n",
      "only showing top 5 rows\n",
      "\n"
     ]
    }
   ],
   "source": [
    "ratings_df.show(5)"
   ]
  },
  {
   "cell_type": "code",
   "execution_count": 201,
   "id": "d0054963",
   "metadata": {},
   "outputs": [
    {
     "name": "stdout",
     "output_type": "stream",
     "text": [
      "+---------+---------+---------------+-------+-------+--------------------+--------------------+\n",
      "|avgRating|dateAdded|     directedBy| imdbId|item_id|            starring|               title|\n",
      "+---------+---------+---------------+-------+-------+--------------------+--------------------+\n",
      "|  3.89146|     null|  John Lasseter|0114709|      1|Tim Allen, Tom Ha...|    Toy Story (1995)|\n",
      "|  3.26605|     null|   Joe Johnston|0113497|      2|Jonathan Hyde, Br...|      Jumanji (1995)|\n",
      "|  3.17146|     null|  Howard Deutch|0113228|      3|Jack Lemmon, Walt...|Grumpier Old Men ...|\n",
      "|  2.86824|     null|Forest Whitaker|0114885|      4|Angela Bassett, L...|Waiting to Exhale...|\n",
      "|   3.0762|     null|  Charles Shyer|0113041|      5|Steve Martin, Mar...|Father of the Bri...|\n",
      "+---------+---------+---------------+-------+-------+--------------------+--------------------+\n",
      "only showing top 5 rows\n",
      "\n"
     ]
    }
   ],
   "source": [
    "metadata_df.show(5)"
   ]
  },
  {
   "cell_type": "code",
   "execution_count": 202,
   "id": "a09e9706",
   "metadata": {},
   "outputs": [],
   "source": [
    "md_df = metadata_df.select('avgRating', 'item_id')\n",
    "rt_df = ratings_df"
   ]
  },
  {
   "cell_type": "markdown",
   "id": "380add57",
   "metadata": {},
   "source": [
    "К оценке пользователя для фильма присоединяем среднюю оценку фильма. В отдельном столбце считаем насколько оценка пользователя отличается от средней для фильма."
   ]
  },
  {
   "cell_type": "code",
   "execution_count": 203,
   "id": "9cffe6ad",
   "metadata": {},
   "outputs": [
    {
     "name": "stdout",
     "output_type": "stream",
     "text": [
      "+-------+------+-------+---------+-----+\n",
      "|item_id|rating|user_id|avgRating| diff|\n",
      "+-------+------+-------+---------+-----+\n",
      "|      5|   3.0| 997206|   3.0762|-0.08|\n",
      "|     10|   4.0| 997206|   3.4334| 0.57|\n",
      "|     13|   4.0| 997206|  3.34382| 0.66|\n",
      "|     17|   5.0| 997206|  3.94589| 1.05|\n",
      "|     21|   4.0| 997206|  3.56584| 0.43|\n",
      "+-------+------+-------+---------+-----+\n",
      "only showing top 5 rows\n",
      "\n"
     ]
    }
   ],
   "source": [
    "result = rt_df.join(md_df, on='item_id').withColumn('diff', F.round(F.col('rating') - F.col('avgRating'), 2))\n",
    "result.show(5)"
   ]
  },
  {
   "cell_type": "markdown",
   "id": "25e02a0f",
   "metadata": {},
   "source": [
    "Для каждого пользователя считаем насколько в среднем он завышает или занижает оценку для фильмов."
   ]
  },
  {
   "cell_type": "code",
   "execution_count": 204,
   "id": "01d4348b",
   "metadata": {},
   "outputs": [
    {
     "name": "stdout",
     "output_type": "stream",
     "text": [
      "+-------+--------+\n",
      "|user_id|avg_diff|\n",
      "+-------+--------+\n",
      "| 498965|    0.14|\n",
      "|  11190|    0.19|\n",
      "| 821354|   -0.04|\n",
      "| 566437|    -0.1|\n",
      "| 844513|   -0.83|\n",
      "| 421791|     0.2|\n",
      "| 624860|    0.16|\n",
      "| 241098|   -0.03|\n",
      "| 161277|     0.2|\n",
      "| 928453|   -0.37|\n",
      "| 589066|    0.26|\n",
      "| 568706|    0.46|\n",
      "| 223139|    0.35|\n",
      "|  23116|    0.45|\n",
      "| 858526|    0.43|\n",
      "| 918211|   -0.23|\n",
      "| 325281|   -0.41|\n",
      "| 732747|    0.31|\n",
      "| 663151|   -0.68|\n",
      "| 289627|    0.18|\n",
      "+-------+--------+\n",
      "only showing top 20 rows\n",
      "\n"
     ]
    }
   ],
   "source": [
    "result.groupBy('user_id').agg(F.round(F.avg('diff'), 2).alias('avg_diff')).show()"
   ]
  },
  {
   "cell_type": "markdown",
   "id": "d104372e",
   "metadata": {},
   "source": [
    "Сделать аналогично \"в другую сторону\". Для каждого пользователя посчитать среднюю оценку. Для каждой оценки в ratings.json посчитать разницу между выставленной оценкой и средней оценкой пользователя. Выдать для каждого фильма среднюю таких разниц по всем его оценкам."
   ]
  },
  {
   "cell_type": "markdown",
   "id": "e938e49c",
   "metadata": {},
   "source": [
    "Считаем среднюю оценку, которую дает каждый пользователь"
   ]
  },
  {
   "cell_type": "code",
   "execution_count": 206,
   "id": "46734409",
   "metadata": {},
   "outputs": [
    {
     "name": "stdout",
     "output_type": "stream",
     "text": [
      "+-------+----------+\n",
      "|user_id|avg_rating|\n",
      "+-------+----------+\n",
      "| 498965|      3.39|\n",
      "|  11190|       3.8|\n",
      "| 821354|      3.36|\n",
      "| 566437|      3.35|\n",
      "| 844513|      2.45|\n",
      "+-------+----------+\n",
      "only showing top 5 rows\n",
      "\n"
     ]
    }
   ],
   "source": [
    "mean_user_rating_df = ratings_df.groupBy('user_id').agg(F.round(F.avg('rating'), 2).alias('avg_rating'))\n",
    "mean_user_rating_df.show(5)"
   ]
  },
  {
   "cell_type": "markdown",
   "id": "081aa765",
   "metadata": {},
   "source": [
    "К оценкам фильмов каждого пользователя присоединяем его среднюю оценку. В отдельном столбце считаем насколько отличается оценка пользователя от его средней оценки."
   ]
  },
  {
   "cell_type": "code",
   "execution_count": 207,
   "id": "91d9c06b",
   "metadata": {},
   "outputs": [
    {
     "name": "stdout",
     "output_type": "stream",
     "text": [
      "+-------+-------+------+----------+-----------+\n",
      "|user_id|item_id|rating|avg_rating|rating_diff|\n",
      "+-------+-------+------+----------+-----------+\n",
      "| 498965|      1|   4.0|      3.39|       0.61|\n",
      "| 498965|      2|   3.0|      3.39|      -0.39|\n",
      "| 498965|      5|   3.0|      3.39|      -0.39|\n",
      "| 498965|     19|   4.0|      3.39|       0.61|\n",
      "| 498965|     22|   4.0|      3.39|       0.61|\n",
      "+-------+-------+------+----------+-----------+\n",
      "only showing top 5 rows\n",
      "\n"
     ]
    }
   ],
   "source": [
    "rt_df = ratings_df \\\n",
    "                .join(mean_user_rating_df, on='user_id') \\\n",
    "                .withColumn('rating_diff', F.round(F.col('rating') - F.col('avg_rating'), 2))\n",
    "rt_df.show(5)"
   ]
  },
  {
   "cell_type": "markdown",
   "id": "12dd63f2",
   "metadata": {},
   "source": [
    "Группируем данные по фильму и считаем насколько в среднем оценки пользователей для этого фильма отличаются от их обычных оценок.\n",
    "Присоединяем названия фильмов. Сортируем по убыванию чтобы выделить фильмы, которые понравились пользователям намного больше, чем фильмы, которые они обычно оценивают."
   ]
  },
  {
   "cell_type": "code",
   "execution_count": 210,
   "id": "34d5b23f",
   "metadata": {},
   "outputs": [
    {
     "name": "stdout",
     "output_type": "stream",
     "text": [
      "+-------+---------------+--------------------+\n",
      "|item_id|avg_rating_diff|               title|\n",
      "+-------+---------------+--------------------+\n",
      "| 159135|           3.42|   The Viking (1931)|\n",
      "| 159471|           3.42|Evening's Civil T...|\n",
      "| 159125|           3.42|Anybody's Son Wil...|\n",
      "| 215251|           3.14|   The Scheme (2020)|\n",
      "| 121919|           2.77|The Good Mother (...|\n",
      "| 194434|           2.72|   Adrenaline (1990)|\n",
      "| 203086|           2.67|Truth and Justice...|\n",
      "| 151989|           2.65|    The Thorn (1971)|\n",
      "| 216159|           2.45|He's Such a Girl ...|\n",
      "| 203882|           2.42|Dead in the Water...|\n",
      "| 159473|           2.42|Building a Broken...|\n",
      "| 213469|           2.34|         Coda (2020)|\n",
      "| 155923|           2.31|         Sing (1989)|\n",
      "| 222821|           2.31|This Changes Ever...|\n",
      "| 177209|            2.3|      Acı Aşk (2009)|\n",
      "| 219031|           2.29|Pornography: A Se...|\n",
      "| 231289|           2.29|LIFE BEYOND: Chap...|\n",
      "| 231287|           2.29|LIFE BEYOND: Chap...|\n",
      "| 217270|           2.27|       Anonym (1991)|\n",
      "| 185893|           2.25|The Fox in the Ch...|\n",
      "+-------+---------------+--------------------+\n",
      "only showing top 20 rows\n",
      "\n"
     ]
    }
   ],
   "source": [
    "result = rt_df.groupBy('item_id') \\\n",
    "        .agg(F.round(F.avg('rating_diff'), 2).alias('avg_rating_diff')) \\\n",
    "        .join(metadata_df.select('item_id', 'title'), on='item_id') \\\n",
    "        .orderBy(F.col('avg_rating_diff').desc())\n",
    "result.show()"
   ]
  },
  {
   "cell_type": "markdown",
   "id": "f9daf9a4",
   "metadata": {},
   "source": [
    "## Задание 4.7\n",
    "Для каждого фильма посчитать среднюю оценку по каждому тегу. И для каждого фильма найти список фильмов с похожими оценками.\n",
    "\n",
    "Похожесть определить по 64-битному sim-хешу. Критерий похожести - отличие не более, чем в 3 битах.\n",
    "\n",
    "Стоимость - 30 баллов"
   ]
  },
  {
   "cell_type": "code",
   "execution_count": 213,
   "id": "75b26627",
   "metadata": {},
   "outputs": [
    {
     "name": "stdout",
     "output_type": "stream",
     "text": [
      "+-------+-----+------+-------+\n",
      "|item_id|score|tag_id|user_id|\n",
      "+-------+-----+------+-------+\n",
      "|   3108|    3| 50126| 978707|\n",
      "|   2858|    1| 50126| 978707|\n",
      "|   1269|    1| 50126| 978707|\n",
      "|   1136|    1| 50126| 978707|\n",
      "|   1220|    1| 50126| 978707|\n",
      "+-------+-----+------+-------+\n",
      "only showing top 5 rows\n",
      "\n"
     ]
    }
   ],
   "source": [
    "survey_answers_df.show(5)"
   ]
  },
  {
   "cell_type": "code",
   "execution_count": 214,
   "id": "cfe59bb3",
   "metadata": {},
   "outputs": [
    {
     "data": {
      "text/plain": [
       "58903"
      ]
     },
     "execution_count": 214,
     "metadata": {},
     "output_type": "execute_result"
    }
   ],
   "source": [
    "survey_answers_df.count()"
   ]
  },
  {
   "cell_type": "markdown",
   "id": "47cc0051",
   "metadata": {},
   "source": [
    "Группируем по фильму и тегу. Считаем среднюю оценку для каждого тега для каждого фильма. Находим хеш средней оценки."
   ]
  },
  {
   "cell_type": "code",
   "execution_count": 219,
   "id": "504c734a",
   "metadata": {},
   "outputs": [
    {
     "name": "stdout",
     "output_type": "stream",
     "text": [
      "+-------+------+---------+--------------------+\n",
      "|item_id|tag_id|avg_score|                hash|\n",
      "+-------+------+---------+--------------------+\n",
      "|    648|103285|      2.0| 8973626371093010265|\n",
      "|   1199|  6270|      5.0| 2166310823221407924|\n",
      "|   2278| 31115|      1.0|-2162451265447482029|\n",
      "|    750| 94700|      5.0| 2166310823221407924|\n",
      "|    223| 33344|      1.0|-2162451265447482029|\n",
      "+-------+------+---------+--------------------+\n",
      "only showing top 5 rows\n",
      "\n"
     ]
    }
   ],
   "source": [
    "sa_df = survey_answers_df \\\n",
    "                        .groupBy('item_id', 'tag_id').agg(F.round(F.avg('score'), 2).alias('avg_score')) \\\n",
    "                        .withColumn('hash', F.xxhash64('avg_score'))\n",
    "sa_df.show(5)"
   ]
  },
  {
   "cell_type": "markdown",
   "id": "417d885f",
   "metadata": {},
   "source": [
    "Создадим копию данных и переименуем столбцы чтобы при cross join-е не было путаницы со столбцами"
   ]
  },
  {
   "cell_type": "code",
   "execution_count": 223,
   "id": "1ee23418",
   "metadata": {},
   "outputs": [],
   "source": [
    "sa_df1 = sa_df \\\n",
    "        .withColumnRenamed('item_id','other_item_id') \\\n",
    "        .withColumnRenamed('tag_id','other_tag_id') \\\n",
    "        .withColumnRenamed('avg_score','other_avg_score') \\\n",
    "        .withColumnRenamed('hash','other_hash')"
   ]
  },
  {
   "cell_type": "markdown",
   "id": "6249bbe5",
   "metadata": {},
   "source": [
    "Cross join-ним таблицы чтобы получить все комбинации пар фильмов. В отдельном столбце считаем разницу хешей.\n",
    "\n",
    "Данные должны соответсвовать требованиям:\n",
    "* Теги для фильмов одинаковые\n",
    "* Сравниваемые фильмы разные\n",
    "* Разница хешей для оценки тегов не больше 3"
   ]
  },
  {
   "cell_type": "code",
   "execution_count": 227,
   "id": "8c762419",
   "metadata": {},
   "outputs": [
    {
     "name": "stdout",
     "output_type": "stream",
     "text": [
      "+-------+------+---------+-------------------+-------------+------------+---------------+-------------------+---------+\n",
      "|item_id|tag_id|avg_score|               hash|other_item_id|other_tag_id|other_avg_score|         other_hash|diff_hash|\n",
      "+-------+------+---------+-------------------+-------------+------------+---------------+-------------------+---------+\n",
      "|    648|103285|      2.0|8973626371093010265|         3948|      103285|            2.0|8973626371093010265|        0|\n",
      "|    648|103285|      2.0|8973626371093010265|         2642|      103285|            2.0|8973626371093010265|        0|\n",
      "|    648|103285|      2.0|8973626371093010265|         8387|      103285|            2.0|8973626371093010265|        0|\n",
      "|    648|103285|      2.0|8973626371093010265|         1374|      103285|            2.0|8973626371093010265|        0|\n",
      "|    648|103285|      2.0|8973626371093010265|          908|      103285|            2.0|8973626371093010265|        0|\n",
      "+-------+------+---------+-------------------+-------------+------------+---------------+-------------------+---------+\n",
      "only showing top 5 rows\n",
      "\n"
     ]
    }
   ],
   "source": [
    "result = sa_df.join(sa_df1, how='cross') \\\n",
    "            .withColumn('diff_hash', F.col('hash') - F.col('other_hash')) \\\n",
    "            .filter(F.col('tag_id') == F.col('other_tag_id')) \\\n",
    "            .filter(F.col('item_id') != F.col('other_item_id')) \\\n",
    "            .filter(F.abs(F.col('diff_hash')) <= 3)\n",
    "result.show(5)"
   ]
  },
  {
   "cell_type": "markdown",
   "id": "2eea9c93",
   "metadata": {},
   "source": [
    "Для наглядности выведем названия похожих фильмов и тег, который их объединяет"
   ]
  },
  {
   "cell_type": "code",
   "execution_count": 235,
   "id": "c934b84e",
   "metadata": {},
   "outputs": [
    {
     "name": "stdout",
     "output_type": "stream",
     "text": [
      "+--------------------+--------------------+---------+\n",
      "|         first_title|        second_title|      tag|\n",
      "+--------------------+--------------------+---------+\n",
      "|Mission: Impossib...|Meet the Parents ...|espionage|\n",
      "|Mission: Impossib...| Superman III (1983)|espionage|\n",
      "|Mission: Impossib...|Police Academy: M...|espionage|\n",
      "|Mission: Impossib...|Star Trek II: The...|espionage|\n",
      "|Mission: Impossib...|North by Northwes...|espionage|\n",
      "|Mission: Impossib...|     Iron Man (2008)|espionage|\n",
      "|Mission: Impossib...|         Hair (1979)|espionage|\n",
      "|Mission: Impossib...|Sound of Music, T...|espionage|\n",
      "|Mission: Impossib...|         Hoot (2006)|espionage|\n",
      "|Mission: Impossib...|Star Wars: Episod...|espionage|\n",
      "|Mission: Impossib...| Total Recall (1990)|espionage|\n",
      "|Mission: Impossib...|Die Hard: With a ...|espionage|\n",
      "|Mission: Impossib...|   No Way Out (1987)|espionage|\n",
      "|Mission: Impossib...|       Harvey (1950)|espionage|\n",
      "|       Brazil (1985)|Back to the Futur...|   future|\n",
      "|       Brazil (1985)| Total Recall (1990)|   future|\n",
      "|       Brazil (1985)|  Matrix, The (1999)|   future|\n",
      "|       Brazil (1985)|Starship Troopers...|   future|\n",
      "|       Brazil (1985)|Demolition Man (1...|   future|\n",
      "|       Brazil (1985)|       WALL·E (2008)|   future|\n",
      "+--------------------+--------------------+---------+\n",
      "only showing top 20 rows\n",
      "\n"
     ]
    }
   ],
   "source": [
    "res = result.select('item_id', 'other_item_id', 'tag_id')\n",
    "res = res.join(metadata_df.select('item_id', 'title'), on='item_id') \\\n",
    "        .withColumnRenamed('title','first_title').select('tag_id', 'other_item_id', 'first_title')\n",
    "\n",
    "res = res.join(metadata_df.select('item_id', 'title'), res.other_item_id == metadata_df.item_id) \\\n",
    "        .withColumnRenamed('title','second_title')\n",
    "\n",
    "res.join(tags_df, on='tag_id').select('first_title', 'second_title', 'tag').show()"
   ]
  },
  {
   "cell_type": "code",
   "execution_count": 236,
   "id": "cd92d18d",
   "metadata": {},
   "outputs": [
    {
     "data": {
      "text/plain": [
       "841046"
      ]
     },
     "execution_count": 236,
     "metadata": {},
     "output_type": "execute_result"
    }
   ],
   "source": [
    "res.count()"
   ]
  },
  {
   "cell_type": "code",
   "execution_count": null,
   "id": "5b4324d6",
   "metadata": {},
   "outputs": [],
   "source": []
  }
 ],
 "metadata": {
  "kernelspec": {
   "display_name": "Python 3 (ipykernel)",
   "language": "python",
   "name": "python3"
  },
  "language_info": {
   "codemirror_mode": {
    "name": "ipython",
    "version": 3
   },
   "file_extension": ".py",
   "mimetype": "text/x-python",
   "name": "python",
   "nbconvert_exporter": "python",
   "pygments_lexer": "ipython3",
   "version": "3.9.13"
  }
 },
 "nbformat": 4,
 "nbformat_minor": 5
}
