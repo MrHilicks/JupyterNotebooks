{
 "cells": [
  {
   "cell_type": "code",
   "execution_count": 1,
   "id": "609668da",
   "metadata": {},
   "outputs": [],
   "source": [
    "import os\n",
    "import pandas as pd\n",
    "import numpy as np\n",
    "import keras\n",
    "import tensorflow as tf\n",
    "import tensorflow_recommenders as tfrs\n",
    "\n",
    "import matplotlib.pyplot as plt\n",
    "import seaborn as sns \n",
    "\n",
    "%matplotlib inline"
   ]
  },
  {
   "cell_type": "markdown",
   "id": "b0c4d13b",
   "metadata": {},
   "source": [
    "# Описание задачи\n",
    "\n",
    "Существует база несчастный случаев, которые регистрирует инспеция труда. О каждом случае имеется подробная информация о деталях несчастного случая.\n",
    "\n",
    "Задачей является применение нейронных сетей для предсказания наиболее вероятной причины несчастного случая, основываясь на реальных знаниях и статистике."
   ]
  },
  {
   "cell_type": "code",
   "execution_count": 2,
   "id": "1938fd95",
   "metadata": {},
   "outputs": [
    {
     "data": {
      "text/html": [
       "<div>\n",
       "<style scoped>\n",
       "    .dataframe tbody tr th:only-of-type {\n",
       "        vertical-align: middle;\n",
       "    }\n",
       "\n",
       "    .dataframe tbody tr th {\n",
       "        vertical-align: top;\n",
       "    }\n",
       "\n",
       "    .dataframe thead th {\n",
       "        text-align: right;\n",
       "    }\n",
       "</style>\n",
       "<table border=\"1\" class=\"dataframe\">\n",
       "  <thead>\n",
       "    <tr style=\"text-align: right;\">\n",
       "      <th></th>\n",
       "      <th>№ НС п/п</th>\n",
       "      <th>Пол</th>\n",
       "      <th>Семья</th>\n",
       "      <th>Тяжесть последствий</th>\n",
       "      <th>Дата происшествия</th>\n",
       "      <th>месяц  НС</th>\n",
       "      <th>Видпроисшествия</th>\n",
       "      <th>Причина</th>\n",
       "      <th>Время суток</th>\n",
       "      <th>Алкоголь</th>\n",
       "      <th>...</th>\n",
       "      <th>Дата проверки знаний</th>\n",
       "      <th>Образование</th>\n",
       "      <th>УТ</th>\n",
       "      <th>СОУТ/АРМ (Дата)</th>\n",
       "      <th>ОВПФ</th>\n",
       "      <th>Доп. инфо</th>\n",
       "      <th>День недели НС</th>\n",
       "      <th>время после (в днях)</th>\n",
       "      <th>Время после проверкизнаний(вднях)</th>\n",
       "      <th>ОКВЭД/отрасль</th>\n",
       "    </tr>\n",
       "  </thead>\n",
       "  <tbody>\n",
       "    <tr>\n",
       "      <th>0</th>\n",
       "      <td>1.0</td>\n",
       "      <td>муж.</td>\n",
       "      <td>женат</td>\n",
       "      <td>Смерть</td>\n",
       "      <td>2016-05-31</td>\n",
       "      <td>май</td>\n",
       "      <td>19.0</td>\n",
       "      <td>19</td>\n",
       "      <td>17 ч. 00 м</td>\n",
       "      <td>нет</td>\n",
       "      <td>...</td>\n",
       "      <td>2015-08-28</td>\n",
       "      <td>НП</td>\n",
       "      <td>2.0</td>\n",
       "      <td>2013.0</td>\n",
       "      <td>х, м, т, н</td>\n",
       "      <td>гипертоническа болезнь</td>\n",
       "      <td>вторник</td>\n",
       "      <td>50.0</td>\n",
       "      <td>273</td>\n",
       "      <td>01.23</td>\n",
       "    </tr>\n",
       "    <tr>\n",
       "      <th>1</th>\n",
       "      <td>2.0</td>\n",
       "      <td>муж.</td>\n",
       "      <td>женат; иждив.: нет</td>\n",
       "      <td>Смерть</td>\n",
       "      <td>2007-10-29</td>\n",
       "      <td>октябрь</td>\n",
       "      <td>19.0</td>\n",
       "      <td>15</td>\n",
       "      <td>15 ч. 30 м</td>\n",
       "      <td>нет</td>\n",
       "      <td>...</td>\n",
       "      <td>NaT</td>\n",
       "      <td>среднее</td>\n",
       "      <td></td>\n",
       "      <td>NaN</td>\n",
       "      <td></td>\n",
       "      <td>ишемическая болезнь сердца</td>\n",
       "      <td>понедельник</td>\n",
       "      <td>720.0</td>\n",
       "      <td>NaN</td>\n",
       "      <td>45.31</td>\n",
       "    </tr>\n",
       "    <tr>\n",
       "      <th>2</th>\n",
       "      <td>3.0</td>\n",
       "      <td>муж.</td>\n",
       "      <td>не женат; иждив.: нет</td>\n",
       "      <td>Смерть</td>\n",
       "      <td>2007-10-08</td>\n",
       "      <td>октябрь</td>\n",
       "      <td>2.0</td>\n",
       "      <td>9, 10, 13</td>\n",
       "      <td>19 ч. 30 м</td>\n",
       "      <td>да</td>\n",
       "      <td>...</td>\n",
       "      <td>NaT</td>\n",
       "      <td></td>\n",
       "      <td></td>\n",
       "      <td>NaN</td>\n",
       "      <td></td>\n",
       "      <td>смерть наступила от травматического шока на фо...</td>\n",
       "      <td>понедельник</td>\n",
       "      <td>94.0</td>\n",
       "      <td>NaN</td>\n",
       "      <td>45.21.1</td>\n",
       "    </tr>\n",
       "    <tr>\n",
       "      <th>3</th>\n",
       "      <td>4.0</td>\n",
       "      <td>муж.</td>\n",
       "      <td>женат; иждив.: нет</td>\n",
       "      <td>Тяжелый</td>\n",
       "      <td>2007-09-12</td>\n",
       "      <td>сентябрь</td>\n",
       "      <td>4.0</td>\n",
       "      <td>16, 17</td>\n",
       "      <td>16 ч. 55 м</td>\n",
       "      <td>нет</td>\n",
       "      <td>...</td>\n",
       "      <td>2007-08-20</td>\n",
       "      <td>среднее</td>\n",
       "      <td></td>\n",
       "      <td>NaN</td>\n",
       "      <td></td>\n",
       "      <td>открытый оскольчатый депрессионный перелом лев...</td>\n",
       "      <td>среда</td>\n",
       "      <td>810.0</td>\n",
       "      <td>690</td>\n",
       "      <td>40.10.2</td>\n",
       "    </tr>\n",
       "    <tr>\n",
       "      <th>4</th>\n",
       "      <td>5.0</td>\n",
       "      <td>муж.</td>\n",
       "      <td>женат; иждив.: 1</td>\n",
       "      <td>Тяжелый</td>\n",
       "      <td>2007-09-28</td>\n",
       "      <td>сентябрь</td>\n",
       "      <td>2.0</td>\n",
       "      <td>11, 16</td>\n",
       "      <td>16 ч. 30 м</td>\n",
       "      <td>нет</td>\n",
       "      <td>...</td>\n",
       "      <td>NaT</td>\n",
       "      <td>среднее</td>\n",
       "      <td></td>\n",
       "      <td>NaN</td>\n",
       "      <td></td>\n",
       "      <td>закрытый оскольчатый перелом тела третьего поз...</td>\n",
       "      <td>пятница</td>\n",
       "      <td>660.0</td>\n",
       "      <td>NaN</td>\n",
       "      <td>45.21.1</td>\n",
       "    </tr>\n",
       "  </tbody>\n",
       "</table>\n",
       "<p>5 rows × 34 columns</p>\n",
       "</div>"
      ],
      "text/plain": [
       "   № НС п/п   Пол                  Семья Тяжесть последствий  \\\n",
       "0       1.0  муж.                  женат              Смерть   \n",
       "1       2.0  муж.     женат; иждив.: нет              Смерть   \n",
       "2       3.0  муж.  не женат; иждив.: нет              Смерть   \n",
       "3       4.0  муж.     женат; иждив.: нет             Тяжелый   \n",
       "4       5.0  муж.       женат; иждив.: 1             Тяжелый   \n",
       "\n",
       "  Дата происшествия месяц  НС  Видпроисшествия    Причина  Время суток  \\\n",
       "0        2016-05-31       май             19.0         19   17 ч. 00 м   \n",
       "1        2007-10-29   октябрь             19.0         15  15 ч. 30 м    \n",
       "2        2007-10-08   октябрь              2.0  9, 10, 13   19 ч. 30 м   \n",
       "3        2007-09-12  сентябрь              4.0     16, 17   16 ч. 55 м   \n",
       "4        2007-09-28  сентябрь              2.0     11, 16  16 ч. 30 м    \n",
       "\n",
       "  Алкоголь  ...  Дата проверки знаний Образование   УТ СОУТ/АРМ (Дата)  \\\n",
       "0     нет   ...            2015-08-28          НП  2.0          2013.0   \n",
       "1      нет  ...                   NaT     среднее                  NaN   \n",
       "2      да   ...                   NaT                              NaN   \n",
       "3      нет  ...            2007-08-20     среднее                  NaN   \n",
       "4      нет  ...                   NaT    среднее                   NaN   \n",
       "\n",
       "         ОВПФ                                          Доп. инфо  \\\n",
       "0  х, м, т, н                             гипертоническа болезнь   \n",
       "1                                     ишемическая болезнь сердца   \n",
       "2              смерть наступила от травматического шока на фо...   \n",
       "3              открытый оскольчатый депрессионный перелом лев...   \n",
       "4              закрытый оскольчатый перелом тела третьего поз...   \n",
       "\n",
       "  День недели НС время после (в днях) Время после проверкизнаний(вднях)  \\\n",
       "0        вторник                 50.0                               273   \n",
       "1    понедельник                720.0                               NaN   \n",
       "2    понедельник                 94.0                               NaN   \n",
       "3          среда                810.0                               690   \n",
       "4        пятница                660.0                               NaN   \n",
       "\n",
       "  ОКВЭД/отрасль  \n",
       "0         01.23  \n",
       "1         45.31  \n",
       "2       45.21.1  \n",
       "3       40.10.2  \n",
       "4       45.21.1  \n",
       "\n",
       "[5 rows x 34 columns]"
      ]
     },
     "execution_count": 2,
     "metadata": {},
     "output_type": "execute_result"
    }
   ],
   "source": [
    "df = pd.read_excel('database.xlsx')\n",
    "df.head()"
   ]
  },
  {
   "cell_type": "code",
   "execution_count": 3,
   "id": "925efedc",
   "metadata": {},
   "outputs": [
    {
     "data": {
      "text/plain": [
       "(912, 34)"
      ]
     },
     "execution_count": 3,
     "metadata": {},
     "output_type": "execute_result"
    }
   ],
   "source": [
    "df.shape"
   ]
  },
  {
   "cell_type": "markdown",
   "id": "ff58d811",
   "metadata": {},
   "source": [
    "Данные представляют собой файл из 912 несчастных случаев, произошедших с 2007 по 2018 год в Белгородской области."
   ]
  },
  {
   "cell_type": "markdown",
   "id": "cc5c0226",
   "metadata": {},
   "source": [
    "## Исследование данных"
   ]
  },
  {
   "cell_type": "markdown",
   "id": "04140de7",
   "metadata": {},
   "source": [
    "В данных мало информации о легких несчастных случаях, так как работадатели предпочитают не говорить о них инспекции труда.\n",
    "\n",
    "Из-за таких особенностей данных, задачей становиться предсказание причин смертельных и тяжелых несчастных случаев."
   ]
  },
  {
   "cell_type": "code",
   "execution_count": 4,
   "id": "5bb8a3b7",
   "metadata": {},
   "outputs": [
    {
     "data": {
      "image/png": "[encoded data removed]",
      "text/plain": [
       "<Figure size 640x480 with 1 Axes>"
      ]
     },
     "metadata": {},
     "output_type": "display_data"
    }
   ],
   "source": [
    "sns.countplot(x='Тяжесть последствий',data=df,palette='Blues' );"
   ]
  },
  {
   "cell_type": "markdown",
   "id": "33bc41bc",
   "metadata": {},
   "source": [
    "Наиболее частыми видами несчастных случаев являются:\n",
    "* Падение пострадавшего с высоты\n",
    "* Воздействие движущихся, разлетающихся, вращающихся предметов, деталей, машин и т.д., в т.ч.\n",
    "* Общее заболевание, не связанное с производством"
   ]
  },
  {
   "cell_type": "code",
   "execution_count": 5,
   "id": "c3117ec5",
   "metadata": {},
   "outputs": [
    {
     "data": {
      "image/png": "[encoded data removed]",
      "text/plain": [
       "<Figure size 2000x500 with 1 Axes>"
      ]
     },
     "metadata": {},
     "output_type": "display_data"
    }
   ],
   "source": [
    "plt.figure(figsize=(20,5))\n",
    "sns.countplot(x='Видпроисшествия',data=df,palette='Blues' );"
   ]
  },
  {
   "cell_type": "markdown",
   "id": "a7b482e1",
   "metadata": {},
   "source": [
    "## Очистка данных"
   ]
  },
  {
   "cell_type": "markdown",
   "id": "6bf6e118",
   "metadata": {},
   "source": [
    "Для легких несчастных случаев крайне мало информации чтобы построить статистическую модель.\n",
    "\n",
    "Заболевания, не связанные с производством, также не помогут сложить общую картину для прогноза, они индивидуальны для каждого.\n",
    "\n",
    "Легкие НС, а также вызванные заболеванием отфильтруем"
   ]
  },
  {
   "cell_type": "code",
   "execution_count": 6,
   "id": "c2e85d47",
   "metadata": {},
   "outputs": [
    {
     "data": {
      "text/plain": [
       "(698, 34)"
      ]
     },
     "execution_count": 6,
     "metadata": {},
     "output_type": "execute_result"
    }
   ],
   "source": [
    "df = df[df['Тяжесть последствий'] != 'Легкий']\n",
    "df = df[df['Видпроисшествия'] != 19]\n",
    "df.shape"
   ]
  },
  {
   "cell_type": "markdown",
   "id": "9c8dad00",
   "metadata": {},
   "source": [
    "## Базовая модель\n",
    "\n",
    "Базовая модель будет строить на предположении того, что для каждой отрасли есть свои характерные причины несчастных случаев."
   ]
  },
  {
   "cell_type": "code",
   "execution_count": 7,
   "id": "5f23dde6",
   "metadata": {},
   "outputs": [
    {
     "data": {
      "text/html": [
       "<div>\n",
       "<style scoped>\n",
       "    .dataframe tbody tr th:only-of-type {\n",
       "        vertical-align: middle;\n",
       "    }\n",
       "\n",
       "    .dataframe tbody tr th {\n",
       "        vertical-align: top;\n",
       "    }\n",
       "\n",
       "    .dataframe thead th {\n",
       "        text-align: right;\n",
       "    }\n",
       "</style>\n",
       "<table border=\"1\" class=\"dataframe\">\n",
       "  <thead>\n",
       "    <tr style=\"text-align: right;\">\n",
       "      <th></th>\n",
       "      <th>Reason</th>\n",
       "      <th>Industry</th>\n",
       "    </tr>\n",
       "  </thead>\n",
       "  <tbody>\n",
       "    <tr>\n",
       "      <th>2</th>\n",
       "      <td>9, 10, 13</td>\n",
       "      <td>45.21.1</td>\n",
       "    </tr>\n",
       "    <tr>\n",
       "      <th>3</th>\n",
       "      <td>16, 17</td>\n",
       "      <td>40.10.2</td>\n",
       "    </tr>\n",
       "    <tr>\n",
       "      <th>4</th>\n",
       "      <td>11, 16</td>\n",
       "      <td>45.21.1</td>\n",
       "    </tr>\n",
       "    <tr>\n",
       "      <th>6</th>\n",
       "      <td>7</td>\n",
       "      <td>65.11</td>\n",
       "    </tr>\n",
       "    <tr>\n",
       "      <th>7</th>\n",
       "      <td>7</td>\n",
       "      <td>74.20.36</td>\n",
       "    </tr>\n",
       "    <tr>\n",
       "      <th>8</th>\n",
       "      <td>13, 17, 13</td>\n",
       "      <td>45.21.1</td>\n",
       "    </tr>\n",
       "    <tr>\n",
       "      <th>9</th>\n",
       "      <td>8, 17</td>\n",
       "      <td>74.60</td>\n",
       "    </tr>\n",
       "    <tr>\n",
       "      <th>10</th>\n",
       "      <td>8, 13</td>\n",
       "      <td>75.23.4</td>\n",
       "    </tr>\n",
       "    <tr>\n",
       "      <th>11</th>\n",
       "      <td>4, 17</td>\n",
       "      <td>45.23.1</td>\n",
       "    </tr>\n",
       "    <tr>\n",
       "      <th>12</th>\n",
       "      <td>5, 11, 16</td>\n",
       "      <td>18.13.1</td>\n",
       "    </tr>\n",
       "  </tbody>\n",
       "</table>\n",
       "</div>"
      ],
      "text/plain": [
       "        Reason  Industry\n",
       "2    9, 10, 13   45.21.1\n",
       "3       16, 17   40.10.2\n",
       "4       11, 16   45.21.1\n",
       "6            7     65.11\n",
       "7            7  74.20.36\n",
       "8   13, 17, 13   45.21.1\n",
       "9        8, 17     74.60\n",
       "10       8, 13   75.23.4\n",
       "11       4, 17   45.23.1\n",
       "12   5, 11, 16   18.13.1"
      ]
     },
     "execution_count": 7,
     "metadata": {},
     "output_type": "execute_result"
    }
   ],
   "source": [
    "data = df[['Причина', 'ОКВЭД/отрасль']].rename(columns={'Причина' : 'Reason', 'ОКВЭД/отрасль' : 'Industry'})\n",
    "data.head(10)"
   ]
  },
  {
   "cell_type": "markdown",
   "id": "cb3ee06e",
   "metadata": {},
   "source": [
    "Кодов ОКВЭД большое множество, для упрощения будет использовать только группу, к которой принадлежит производство."
   ]
  },
  {
   "cell_type": "code",
   "execution_count": 8,
   "id": "7dbacefb",
   "metadata": {},
   "outputs": [],
   "source": [
    "def find_industry(x):\n",
    "    if x <= '03':\n",
    "        return 'Сельское и лесное хозяйство'\n",
    "    elif x <= '09':\n",
    "        return 'Добыча полезных ископаемых'\n",
    "    elif x <= '33':\n",
    "        return 'Обрабатывающие производства'\n",
    "    elif x <= '35':\n",
    "        return 'Обеспечение энергией'\n",
    "    elif x <= '39':\n",
    "        return 'Водоснабжение'\n",
    "    elif x <= '43':\n",
    "        return 'Строительство'\n",
    "    elif x <= '47':\n",
    "        return 'Торговля; Ремонт автотранспорта'\n",
    "    elif x <= '53':\n",
    "        return 'Транспортировка и хранение'\n",
    "    elif x <= '56':\n",
    "        return 'Деятельность гостиниц и предприятий общественного питания'\n",
    "    elif x <= '63':\n",
    "        return 'Деятельность в области информации'\n",
    "    elif x <= '66':\n",
    "        return 'Деятельность финансовая'\n",
    "    elif x <= '68':\n",
    "        return 'Деятельность с недвижимым имуществом'\n",
    "    elif x <= '75':\n",
    "        return 'Деятельность профессиональная'\n",
    "    elif x <= '82':\n",
    "        return 'Деятельность административная'\n",
    "    elif x <= '84':\n",
    "        return 'Государственное управление'\n",
    "    elif x <= '85':\n",
    "        return 'Образование'\n",
    "    elif x <= '88':\n",
    "        return 'Здравоохранения'\n",
    "    elif x <= '93':\n",
    "        return 'Культура и спорт'\n",
    "    elif x <= '96':\n",
    "        return 'Прочие виды услуг'\n",
    "    elif x <= '98':\n",
    "        return 'Деятельность домашних хозяйств как работодателей'\n",
    "    elif x <= '99':\n",
    "        return 'Деятельность экстерриториальных организаций'\n",
    "    else:\n",
    "        return 'nan'"
   ]
  },
  {
   "cell_type": "markdown",
   "id": "c76bea8d",
   "metadata": {},
   "source": [
    "Среди причин НС встречается сразу несколько. Сделаем каждую причину отдельной записью с присвоением ей группы по классификации ОКВЭД"
   ]
  },
  {
   "cell_type": "code",
   "execution_count": 9,
   "id": "ff0ad754",
   "metadata": {
    "scrolled": true
   },
   "outputs": [
    {
     "data": {
      "text/html": [
       "<div>\n",
       "<style scoped>\n",
       "    .dataframe tbody tr th:only-of-type {\n",
       "        vertical-align: middle;\n",
       "    }\n",
       "\n",
       "    .dataframe tbody tr th {\n",
       "        vertical-align: top;\n",
       "    }\n",
       "\n",
       "    .dataframe thead th {\n",
       "        text-align: right;\n",
       "    }\n",
       "</style>\n",
       "<table border=\"1\" class=\"dataframe\">\n",
       "  <thead>\n",
       "    <tr style=\"text-align: right;\">\n",
       "      <th></th>\n",
       "      <th>Reason</th>\n",
       "      <th>Industry</th>\n",
       "    </tr>\n",
       "  </thead>\n",
       "  <tbody>\n",
       "    <tr>\n",
       "      <th>0</th>\n",
       "      <td>9</td>\n",
       "      <td>Торговля; Ремонт автотранспорта</td>\n",
       "    </tr>\n",
       "    <tr>\n",
       "      <th>1</th>\n",
       "      <td>10</td>\n",
       "      <td>Торговля; Ремонт автотранспорта</td>\n",
       "    </tr>\n",
       "    <tr>\n",
       "      <th>2</th>\n",
       "      <td>13</td>\n",
       "      <td>Торговля; Ремонт автотранспорта</td>\n",
       "    </tr>\n",
       "    <tr>\n",
       "      <th>3</th>\n",
       "      <td>16</td>\n",
       "      <td>Строительство</td>\n",
       "    </tr>\n",
       "    <tr>\n",
       "      <th>4</th>\n",
       "      <td>17</td>\n",
       "      <td>Строительство</td>\n",
       "    </tr>\n",
       "  </tbody>\n",
       "</table>\n",
       "</div>"
      ],
      "text/plain": [
       "  Reason                         Industry\n",
       "0      9  Торговля; Ремонт автотранспорта\n",
       "1     10  Торговля; Ремонт автотранспорта\n",
       "2     13  Торговля; Ремонт автотранспорта\n",
       "3     16                    Строительство\n",
       "4     17                    Строительство"
      ]
     },
     "execution_count": 9,
     "metadata": {},
     "output_type": "execute_result"
    }
   ],
   "source": [
    "Reasons_and_Industries_list = []\n",
    "for index, row in data.iterrows():\n",
    "    rsns = str(row[0]).split(', ')\n",
    "    ind = str(row[1]).split('.')[0]\n",
    "    ind = find_industry(ind)\n",
    "    for rsn in rsns:\n",
    "        Reasons_and_Industries_list.append([rsn, ind])\n",
    " \n",
    "\n",
    "data = pd.DataFrame(Reasons_and_Industries_list, columns = ['Reason', 'Industry'])\n",
    "data.head()"
   ]
  },
  {
   "cell_type": "markdown",
   "id": "08ea3bd4",
   "metadata": {},
   "source": [
    "В данных присутствуют ошибки, так данные вводились вручную.\n",
    "\n",
    "Среди причин встречаются 18, 19, которых нет среди кодов причин НС и они являются видами происшествий. Также встречаются данных, где пропушены значения причины НС и отрасль производства.\n",
    "\n",
    "Эти данные также фильтруем"
   ]
  },
  {
   "cell_type": "code",
   "execution_count": 10,
   "id": "47a41cdf",
   "metadata": {},
   "outputs": [],
   "source": [
    "data = data[data['Reason'] != '19']\n",
    "data = data[data['Reason'] != '18']\n",
    "data = data[data['Reason'] != 'nan']\n",
    "data = data[data['Industry'] != 'nan']"
   ]
  },
  {
   "cell_type": "markdown",
   "id": "21d9c74e",
   "metadata": {},
   "source": [
    "Коды причин несчастных случаев"
   ]
  },
  {
   "cell_type": "code",
   "execution_count": 11,
   "id": "3159a163",
   "metadata": {},
   "outputs": [
    {
     "data": {
      "text/html": [
       "<div>\n",
       "<style scoped>\n",
       "    .dataframe tbody tr th:only-of-type {\n",
       "        vertical-align: middle;\n",
       "    }\n",
       "\n",
       "    .dataframe tbody tr th {\n",
       "        vertical-align: top;\n",
       "    }\n",
       "\n",
       "    .dataframe thead th {\n",
       "        text-align: right;\n",
       "    }\n",
       "</style>\n",
       "<table border=\"1\" class=\"dataframe\">\n",
       "  <thead>\n",
       "    <tr style=\"text-align: right;\">\n",
       "      <th></th>\n",
       "      <th>Reason_name</th>\n",
       "      <th>Reason</th>\n",
       "    </tr>\n",
       "  </thead>\n",
       "  <tbody>\n",
       "    <tr>\n",
       "      <th>0</th>\n",
       "      <td>Конструктивные недостатки и недостаточная наде...</td>\n",
       "      <td>1</td>\n",
       "    </tr>\n",
       "    <tr>\n",
       "      <th>1</th>\n",
       "      <td>Несовершенство технологического процесса</td>\n",
       "      <td>2</td>\n",
       "    </tr>\n",
       "    <tr>\n",
       "      <th>2</th>\n",
       "      <td>Эксплуатация неисправных машин, механизмов, об...</td>\n",
       "      <td>3</td>\n",
       "    </tr>\n",
       "    <tr>\n",
       "      <th>3</th>\n",
       "      <td>Неудовлетворительное техническое состояние зда...</td>\n",
       "      <td>4</td>\n",
       "    </tr>\n",
       "    <tr>\n",
       "      <th>4</th>\n",
       "      <td>Нарушение технологического процесса</td>\n",
       "      <td>5</td>\n",
       "    </tr>\n",
       "  </tbody>\n",
       "</table>\n",
       "</div>"
      ],
      "text/plain": [
       "                                         Reason_name Reason\n",
       "0  Конструктивные недостатки и недостаточная наде...      1\n",
       "1           Несовершенство технологического процесса      2\n",
       "2  Эксплуатация неисправных машин, механизмов, об...      3\n",
       "3  Неудовлетворительное техническое состояние зда...      4\n",
       "4                Нарушение технологического процесса      5"
      ]
     },
     "execution_count": 11,
     "metadata": {},
     "output_type": "execute_result"
    }
   ],
   "source": [
    "reasons = pd.read_excel('database.xlsx', sheet_name='Коды причин НС', dtype={'Код': str})\n",
    "reasons.rename(columns={'Наименование причины' : 'Reason_name', 'Код' : 'Reason'}, inplace=True)\n",
    "reasons.head()"
   ]
  },
  {
   "cell_type": "code",
   "execution_count": 12,
   "id": "c7a1ebc7",
   "metadata": {},
   "outputs": [
    {
     "data": {
      "text/plain": [
       "{'1': 'Конструктивные недостатки и недостаточная надежность машин, механизмов, оборудования',\n",
       " '2': 'Несовершенство технологического процесса',\n",
       " '3': 'Эксплуатация неисправных машин, механизмов, оборудования',\n",
       " '4': 'Неудовлетворительное техническое состояние зданий, сооружений, территории',\n",
       " '5': 'Нарушение технологического процесса',\n",
       " '6': 'Нарушение требований безопасности при эксплуатации транспортных средств',\n",
       " '7': 'Нарушение правил дорожного движения',\n",
       " '8': 'Неудовлетворительная организация производства работ',\n",
       " '9': 'Неудовлетворительное содержание и недостатки в организации рабочих мест',\n",
       " '10': 'Недостатки в организации и проведении подготовки работников по охране труда,',\n",
       " '101': 'Непроведение инструктажа по охране труда',\n",
       " '102': 'Непроведение обучения и проверки знаний по охране труда',\n",
       " '11': 'Неприменение работником средств индивидуальной защиты',\n",
       " '111': 'Вследствие необеспеченности ими работодателем',\n",
       " '12': 'Неприменение средств коллективной защиты',\n",
       " '13': 'Нарушение работником трудового распорядка и дисциплины труда, в т.ч.',\n",
       " '131': 'Нахождение пострадавшего в состоянии алкогольного, наркотического и иного токсического опьянения',\n",
       " '14': 'Использование пострадавшего не по специальности',\n",
       " '15': 'Прочие причины, квалифицированные по материалам расследования несчастных случаев',\n",
       " '16': 'Нарушение работником ИОТ',\n",
       " '17': 'Недостаточный контроль со стороны должностных лиц '}"
      ]
     },
     "execution_count": 12,
     "metadata": {},
     "output_type": "execute_result"
    }
   ],
   "source": [
    "reasons_dict = reasons.set_index('Reason')['Reason_name'].to_dict()\n",
    "reasons_dict"
   ]
  },
  {
   "cell_type": "code",
   "execution_count": null,
   "id": "0cf8b732",
   "metadata": {},
   "outputs": [],
   "source": []
  },
  {
   "cell_type": "markdown",
   "id": "45333a0d",
   "metadata": {},
   "source": [
    "Коды причин, которые встречаются в данных"
   ]
  },
  {
   "cell_type": "code",
   "execution_count": 13,
   "id": "7db72d17",
   "metadata": {},
   "outputs": [
    {
     "data": {
      "text/plain": [
       "array(['1', '10', '11', '12', '13', '14', '15', '16', '17', '2', '3', '4',\n",
       "       '5', '6', '7', '8', '9'], dtype=object)"
      ]
     },
     "execution_count": 13,
     "metadata": {},
     "output_type": "execute_result"
    }
   ],
   "source": [
    "unique_reasons = np.unique(data.Reason)\n",
    "unique_reasons"
   ]
  },
  {
   "cell_type": "markdown",
   "id": "851efe0d",
   "metadata": {},
   "source": [
    "Виды отраслей в данных"
   ]
  },
  {
   "cell_type": "code",
   "execution_count": 14,
   "id": "4898f777",
   "metadata": {},
   "outputs": [
    {
     "data": {
      "text/plain": [
       "array(['Водоснабжение', 'Деятельность административная',\n",
       "       'Деятельность в области информации',\n",
       "       'Деятельность гостиниц и предприятий общественного питания',\n",
       "       'Деятельность профессиональная',\n",
       "       'Деятельность с недвижимым имуществом', 'Деятельность финансовая',\n",
       "       'Добыча полезных ископаемых', 'Культура и спорт',\n",
       "       'Обеспечение энергией', 'Обрабатывающие производства',\n",
       "       'Образование', 'Сельское и лесное хозяйство', 'Строительство',\n",
       "       'Торговля; Ремонт автотранспорта', 'Транспортировка и хранение'],\n",
       "      dtype=object)"
      ]
     },
     "execution_count": 14,
     "metadata": {},
     "output_type": "execute_result"
    }
   ],
   "source": [
    "unique_industries = np.unique(data.Industry)\n",
    "unique_industries"
   ]
  },
  {
   "cell_type": "markdown",
   "id": "489cce2e",
   "metadata": {},
   "source": [
    "Формируем датасеты из данных"
   ]
  },
  {
   "cell_type": "code",
   "execution_count": 15,
   "id": "8d5cde2e",
   "metadata": {},
   "outputs": [],
   "source": [
    "incidents = tf.data.Dataset.from_tensor_slices(dict(data))\n",
    "reasons = tf.data.Dataset.from_tensor_slices(dict(reasons))\n",
    "\n",
    "incidents = incidents.map(lambda x: {\n",
    "    \"Reason\": x[\"Reason\"],\n",
    "    \"Industry\": x[\"Industry\"]\n",
    "})\n",
    "\n",
    "reasons = reasons.map(lambda x: {\"Reason\": x[\"Reason\"]})"
   ]
  },
  {
   "cell_type": "code",
   "execution_count": null,
   "id": "7f3f6d98",
   "metadata": {},
   "outputs": [],
   "source": []
  },
  {
   "cell_type": "code",
   "execution_count": 16,
   "id": "ccab3392",
   "metadata": {},
   "outputs": [],
   "source": [
    "import tensorflow as tf\n",
    "from tensorflow.keras.models import Model\n",
    "from tensorflow.keras import layers\n",
    "from tensorflow.keras import Input\n",
    "\n",
    "embedding_dim = 10"
   ]
  },
  {
   "cell_type": "markdown",
   "id": "f7823613",
   "metadata": {},
   "source": [
    "## Архитектура сети\n",
    "\n",
    "Модель предсказания причины НС состоит из 2 отдельных нейронных сетей: модель человека и модель причины.\n",
    "\n",
    "В модели человека информация об отрасли представляется в виде вектора\n",
    "\n",
    "Аналогичная ситуация происходит в модели причины: причина представляется в виде вектора\n",
    "\n",
    "Итоговая модель старается подобрать максимально похожие векторы человека и причины НС и делает предсказание"
   ]
  },
  {
   "cell_type": "code",
   "execution_count": 17,
   "id": "0a9ab056",
   "metadata": {},
   "outputs": [],
   "source": [
    "class PersonModel(tf.keras.Model):\n",
    "    def __init__(self):\n",
    "        super().__init__()\n",
    "\n",
    "        industry_input = Input(shape=[], dtype=tf.string, name='Industry')\n",
    "        industry_lookup = layers.StringLookup(vocabulary=unique_industries)(industry_input)\n",
    "        industry_embedding = layers.Embedding(len(unique_industries) + 1, embedding_dim )(industry_lookup)\n",
    "        \n",
    "        \n",
    "        person_output = industry_embedding\n",
    "\n",
    "        \n",
    "        self.person_embedding = Model(industry_input, person_output)\n",
    "\n",
    "    def call(self, inputs):\n",
    "        return self.person_embedding(inputs)"
   ]
  },
  {
   "cell_type": "code",
   "execution_count": 18,
   "id": "57e6c255",
   "metadata": {},
   "outputs": [
    {
     "data": {
      "text/plain": [
       "<tf.Tensor: shape=(1, 10), dtype=float32, numpy=\n",
       "array([[ 0.00036094, -0.00251418, -0.03275899, -0.03317313,  0.03596068,\n",
       "         0.0042484 , -0.00053278, -0.01869293, -0.0123602 , -0.02860602]],\n",
       "      dtype=float32)>"
      ]
     },
     "execution_count": 18,
     "metadata": {},
     "output_type": "execute_result"
    }
   ],
   "source": [
    "person_model = PersonModel()\n",
    "person_model({\"Industry\": tf.constant(['Строительство'])})"
   ]
  },
  {
   "cell_type": "code",
   "execution_count": 19,
   "id": "ad0f95b2",
   "metadata": {},
   "outputs": [],
   "source": [
    "class ReasonModel(tf.keras.Model):\n",
    "\n",
    "    def __init__(self):\n",
    "        super().__init__()\n",
    "\n",
    "        reason_input = Input(shape=[], dtype=tf.string, name='Reason')\n",
    "        reason_lookup = layers.StringLookup(vocabulary=unique_reasons)(reason_input)\n",
    "        reason_embedding = layers.Embedding(len(unique_reasons) + 1, embedding_dim)(reason_lookup)\n",
    "        \n",
    "        reason_output = reason_embedding\n",
    "\n",
    "        \n",
    "        self.reason_embedding = Model(reason_input, reason_output)\n",
    "        \n",
    "\n",
    "    def call(self, inputs):\n",
    "        return self.reason_embedding(inputs)"
   ]
  },
  {
   "cell_type": "code",
   "execution_count": 20,
   "id": "d569282b",
   "metadata": {},
   "outputs": [
    {
     "data": {
      "text/plain": [
       "<tf.Tensor: shape=(1, 10), dtype=float32, numpy=\n",
       "array([[-0.00720847,  0.04575178, -0.01429908,  0.03441149,  0.0245248 ,\n",
       "        -0.03105693, -0.03776092, -0.04946374,  0.00096656, -0.00284117]],\n",
       "      dtype=float32)>"
      ]
     },
     "execution_count": 20,
     "metadata": {},
     "output_type": "execute_result"
    }
   ],
   "source": [
    "reason_model = ReasonModel()\n",
    "reason_model({\"Reason\": tf.constant(['2'])})"
   ]
  },
  {
   "cell_type": "code",
   "execution_count": 21,
   "id": "22b07675",
   "metadata": {},
   "outputs": [],
   "source": [
    "class AccidentModel(tfrs.Model):\n",
    "\n",
    "    def __init__(self):\n",
    "        super().__init__()\n",
    "\n",
    "\n",
    "        # Set up a model for representing movies.\n",
    "        self.reason_model = ReasonModel()\n",
    "\n",
    "        # Set up a model for representing users.\n",
    "        self.person_model = PersonModel()\n",
    "\n",
    "        # Set up a task to optimize the model and compute metrics.\n",
    "        self.task = tfrs.tasks.Retrieval(\n",
    "            metrics=tfrs.metrics.FactorizedTopK(\n",
    "                candidates=reasons.batch(10).map(self.reason_model),\n",
    "        ),\n",
    "    )\n",
    "        \n",
    "\n",
    "    def compute_loss(self, features, training=False):\n",
    "        person_embeddings = self.person_model({\"Industry\": features[\"Industry\"]})\n",
    "        reason_embeddings = self.reason_model({\"Reason\": features[\"Reason\"]})\n",
    "\n",
    "        return self.task(person_embeddings, reason_embeddings)\n",
    "    \n",
    "    def predict_reason(self, person):\n",
    "        index = tfrs.layers.factorized_top_k.BruteForce(self.person_model)\n",
    "        index.index_from_dataset(\n",
    "            tf.data.Dataset.zip((reasons.batch(128).map(lambda x: x[\"Reason\"]),\n",
    "                                 reasons.batch(128).map(self.reason_model)))\n",
    "            )\n",
    "        query = person\n",
    "        _, rsns = index(query)\n",
    "        result = []\n",
    "        print(f\"Наибольший риск:\")\n",
    "        for res in rsns[0].numpy():\n",
    "            print(reasons_dict[res.decode()])\n",
    "        "
   ]
  },
  {
   "cell_type": "markdown",
   "id": "2979d19c",
   "metadata": {},
   "source": [
    "Формируем тренировочную и валидационную выборку"
   ]
  },
  {
   "cell_type": "code",
   "execution_count": 22,
   "id": "8aeec135",
   "metadata": {},
   "outputs": [
    {
     "data": {
      "text/plain": [
       "1440"
      ]
     },
     "execution_count": 22,
     "metadata": {},
     "output_type": "execute_result"
    }
   ],
   "source": [
    "data_size = len(incidents)\n",
    "data_size "
   ]
  },
  {
   "cell_type": "code",
   "execution_count": 23,
   "id": "7411d802",
   "metadata": {},
   "outputs": [],
   "source": [
    "tf.random.set_seed(15)\n",
    "shuffled = incidents.take(data_size).shuffle(data_size, seed=15, reshuffle_each_iteration=False)\n",
    "\n",
    "train = shuffled.take(1200)\n",
    "test = shuffled.skip(1200).take(data_size - 1200)\n",
    "\n",
    "cached_train = train.batch(100).cache() \n",
    "cached_test = test.batch(100).cache()"
   ]
  },
  {
   "cell_type": "markdown",
   "id": "a4651b9c",
   "metadata": {},
   "source": [
    "Создаем модель"
   ]
  },
  {
   "cell_type": "code",
   "execution_count": 24,
   "id": "a9429396",
   "metadata": {},
   "outputs": [],
   "source": [
    "model = AccidentModel() \n",
    "model.compile(optimizer=tf.keras.optimizers.Adam(1e-2))"
   ]
  },
  {
   "cell_type": "markdown",
   "id": "3ce23ba9",
   "metadata": {},
   "source": [
    "При тренировке будет сохранятся только лучшая модель, если модели не удалось превзойти свой результат за 15 эпох, то её обучение прерывается"
   ]
  },
  {
   "cell_type": "code",
   "execution_count": 25,
   "id": "4c8fc7fd",
   "metadata": {},
   "outputs": [],
   "source": [
    "checkpoint_path = \"acciden_model/cp.ckpt\"\n",
    "checkpoint_dir = os.path.dirname(checkpoint_path)\n",
    "\n",
    "\n",
    "callbacks_list = [\n",
    "    tf.keras.callbacks.EarlyStopping(\n",
    "        monitor='val_factorized_top_k/top_10_categorical_accuracy',\n",
    "        patience=15\n",
    "    ),\n",
    "    tf.keras.callbacks.ModelCheckpoint(\n",
    "        filepath=checkpoint_path,\n",
    "        monitor='val_factorized_top_k/top_10_categorical_accuracy',\n",
    "        save_best_only=True,\n",
    "        save_weights_only=True,\n",
    "        verbose=1)\n",
    "]"
   ]
  },
  {
   "cell_type": "markdown",
   "id": "b6a419fa",
   "metadata": {},
   "source": [
    "Функции для отображения потерь и значения метрик"
   ]
  },
  {
   "cell_type": "code",
   "execution_count": 26,
   "id": "9ef9e977",
   "metadata": {},
   "outputs": [],
   "source": [
    "def show_loss(train_history):\n",
    "    history_dict = train_history.history\n",
    "    loss_values = history_dict['loss']\n",
    "    val_loss_values = history_dict['val_loss']\n",
    "    \n",
    "    epochs = range(1, len(loss_values) + 1)\n",
    "    \n",
    "    plt.plot(epochs, loss_values, 'r', label='Training loss')\n",
    "    plt.plot(epochs, val_loss_values, 'b', label='Validation loss')\n",
    "    plt.xlabel('Epochs')\n",
    "    plt.ylabel('Loss')\n",
    "    plt.legend()\n",
    "    \n",
    "    plt.show()"
   ]
  },
  {
   "cell_type": "code",
   "execution_count": 27,
   "id": "b3251b77",
   "metadata": {},
   "outputs": [],
   "source": [
    "def show_metrics(train_history):\n",
    "    history_dict = train_history.history\n",
    "    values = history_dict['factorized_top_k/top_10_categorical_accuracy']\n",
    "    val_values = history_dict['val_factorized_top_k/top_10_categorical_accuracy']\n",
    "\n",
    "    epochs = range(1, len(values) + 1)\n",
    "    \n",
    "    plt.plot(epochs, values, 'r', label='Training top_10')\n",
    "    plt.plot(epochs, val_values, 'b', label='Validation top_10')\n",
    "    plt.xlabel('Epochs')\n",
    "    plt.ylabel('Metric')\n",
    "    plt.legend()\n",
    "    \n",
    "    plt.show()"
   ]
  },
  {
   "cell_type": "code",
   "execution_count": 28,
   "id": "6c9b1580",
   "metadata": {},
   "outputs": [
    {
     "data": {
      "text/plain": [
       "'/device:GPU:0'"
      ]
     },
     "execution_count": 28,
     "metadata": {},
     "output_type": "execute_result"
    }
   ],
   "source": [
    "tf.test.gpu_device_name()"
   ]
  },
  {
   "cell_type": "code",
   "execution_count": 29,
   "id": "e030766d",
   "metadata": {},
   "outputs": [
    {
     "name": "stdout",
     "output_type": "stream",
     "text": [
      "Epoch 1/100\n",
      "11/12 [==========================>...] - ETA: 0s - factorized_top_k/top_1_categorical_accuracy: 9.0909e-04 - factorized_top_k/top_5_categorical_accuracy: 0.2745 - factorized_top_k/top_10_categorical_accuracy: 0.5727 - factorized_top_k/top_50_categorical_accuracy: 1.0000 - factorized_top_k/top_100_categorical_accuracy: 1.0000 - loss: 460.4959 - regularization_loss: 0.0000e+00 - total_loss: 460.4959\n",
      "Epoch 1: val_factorized_top_k/top_10_categorical_accuracy improved from -inf to 0.54167, saving model to acciden_model\\cp.ckpt\n",
      "12/12 [==============================] - 3s 76ms/step - factorized_top_k/top_1_categorical_accuracy: 8.3333e-04 - factorized_top_k/top_5_categorical_accuracy: 0.2725 - factorized_top_k/top_10_categorical_accuracy: 0.5808 - factorized_top_k/top_50_categorical_accuracy: 1.0000 - factorized_top_k/top_100_categorical_accuracy: 1.0000 - loss: 460.4686 - regularization_loss: 0.0000e+00 - total_loss: 460.4686 - val_factorized_top_k/top_1_categorical_accuracy: 0.0208 - val_factorized_top_k/top_5_categorical_accuracy: 0.3125 - val_factorized_top_k/top_10_categorical_accuracy: 0.5417 - val_factorized_top_k/top_50_categorical_accuracy: 1.0000 - val_factorized_top_k/top_100_categorical_accuracy: 1.0000 - val_loss: 147.4652 - val_regularization_loss: 0.0000e+00 - val_total_loss: 147.4652\n",
      "Epoch 2/100\n",
      "11/12 [==========================>...] - ETA: 0s - factorized_top_k/top_1_categorical_accuracy: 0.0000e+00 - factorized_top_k/top_5_categorical_accuracy: 0.3036 - factorized_top_k/top_10_categorical_accuracy: 0.6373 - factorized_top_k/top_50_categorical_accuracy: 1.0000 - factorized_top_k/top_100_categorical_accuracy: 1.0000 - loss: 459.9627 - regularization_loss: 0.0000e+00 - total_loss: 459.9627\n",
      "Epoch 2: val_factorized_top_k/top_10_categorical_accuracy did not improve from 0.54167\n",
      "12/12 [==============================] - 1s 51ms/step - factorized_top_k/top_1_categorical_accuracy: 0.0000e+00 - factorized_top_k/top_5_categorical_accuracy: 0.2925 - factorized_top_k/top_10_categorical_accuracy: 0.6367 - factorized_top_k/top_50_categorical_accuracy: 1.0000 - factorized_top_k/top_100_categorical_accuracy: 1.0000 - loss: 459.8646 - regularization_loss: 0.0000e+00 - total_loss: 459.8646 - val_factorized_top_k/top_1_categorical_accuracy: 0.0250 - val_factorized_top_k/top_5_categorical_accuracy: 0.2917 - val_factorized_top_k/top_10_categorical_accuracy: 0.5375 - val_factorized_top_k/top_50_categorical_accuracy: 1.0000 - val_factorized_top_k/top_100_categorical_accuracy: 1.0000 - val_loss: 147.2220 - val_regularization_loss: 0.0000e+00 - val_total_loss: 147.2220\n",
      "Epoch 3/100\n",
      "11/12 [==========================>...] - ETA: 0s - factorized_top_k/top_1_categorical_accuracy: 0.0000e+00 - factorized_top_k/top_5_categorical_accuracy: 0.2582 - factorized_top_k/top_10_categorical_accuracy: 0.5718 - factorized_top_k/top_50_categorical_accuracy: 1.0000 - factorized_top_k/top_100_categorical_accuracy: 1.0000 - loss: 458.9475 - regularization_loss: 0.0000e+00 - total_loss: 458.9475\n",
      "Epoch 3: val_factorized_top_k/top_10_categorical_accuracy improved from 0.54167 to 0.56667, saving model to acciden_model\\cp.ckpt\n",
      "12/12 [==============================] - 1s 53ms/step - factorized_top_k/top_1_categorical_accuracy: 0.0000e+00 - factorized_top_k/top_5_categorical_accuracy: 0.2533 - factorized_top_k/top_10_categorical_accuracy: 0.5800 - factorized_top_k/top_50_categorical_accuracy: 1.0000 - factorized_top_k/top_100_categorical_accuracy: 1.0000 - loss: 458.7468 - regularization_loss: 0.0000e+00 - total_loss: 458.7468 - val_factorized_top_k/top_1_categorical_accuracy: 0.0375 - val_factorized_top_k/top_5_categorical_accuracy: 0.2500 - val_factorized_top_k/top_10_categorical_accuracy: 0.5667 - val_factorized_top_k/top_50_categorical_accuracy: 1.0000 - val_factorized_top_k/top_100_categorical_accuracy: 1.0000 - val_loss: 146.9226 - val_regularization_loss: 0.0000e+00 - val_total_loss: 146.9226\n",
      "Epoch 4/100\n",
      "11/12 [==========================>...] - ETA: 0s - factorized_top_k/top_1_categorical_accuracy: 9.0909e-04 - factorized_top_k/top_5_categorical_accuracy: 0.2591 - factorized_top_k/top_10_categorical_accuracy: 0.5864 - factorized_top_k/top_50_categorical_accuracy: 1.0000 - factorized_top_k/top_100_categorical_accuracy: 1.0000 - loss: 457.8917 - regularization_loss: 0.0000e+00 - total_loss: 457.8917\n",
      "Epoch 4: val_factorized_top_k/top_10_categorical_accuracy improved from 0.56667 to 0.57917, saving model to acciden_model\\cp.ckpt\n",
      "12/12 [==============================] - 1s 54ms/step - factorized_top_k/top_1_categorical_accuracy: 8.3333e-04 - factorized_top_k/top_5_categorical_accuracy: 0.2542 - factorized_top_k/top_10_categorical_accuracy: 0.5925 - factorized_top_k/top_50_categorical_accuracy: 1.0000 - factorized_top_k/top_100_categorical_accuracy: 1.0000 - loss: 457.6274 - regularization_loss: 0.0000e+00 - total_loss: 457.6274 - val_factorized_top_k/top_1_categorical_accuracy: 0.0208 - val_factorized_top_k/top_5_categorical_accuracy: 0.2042 - val_factorized_top_k/top_10_categorical_accuracy: 0.5792 - val_factorized_top_k/top_50_categorical_accuracy: 1.0000 - val_factorized_top_k/top_100_categorical_accuracy: 1.0000 - val_loss: 146.6836 - val_regularization_loss: 0.0000e+00 - val_total_loss: 146.6836\n",
      "Epoch 5/100\n",
      "11/12 [==========================>...] - ETA: 0s - factorized_top_k/top_1_categorical_accuracy: 0.0000e+00 - factorized_top_k/top_5_categorical_accuracy: 0.2536 - factorized_top_k/top_10_categorical_accuracy: 0.6164 - factorized_top_k/top_50_categorical_accuracy: 1.0000 - factorized_top_k/top_100_categorical_accuracy: 1.0000 - loss: 457.0032 - regularization_loss: 0.0000e+00 - total_loss: 457.0032\n",
      "Epoch 5: val_factorized_top_k/top_10_categorical_accuracy did not improve from 0.57917\n",
      "12/12 [==============================] - 1s 51ms/step - factorized_top_k/top_1_categorical_accuracy: 0.0000e+00 - factorized_top_k/top_5_categorical_accuracy: 0.2483 - factorized_top_k/top_10_categorical_accuracy: 0.6233 - factorized_top_k/top_50_categorical_accuracy: 1.0000 - factorized_top_k/top_100_categorical_accuracy: 1.0000 - loss: 456.7168 - regularization_loss: 0.0000e+00 - total_loss: 456.7168 - val_factorized_top_k/top_1_categorical_accuracy: 0.0167 - val_factorized_top_k/top_5_categorical_accuracy: 0.2125 - val_factorized_top_k/top_10_categorical_accuracy: 0.5750 - val_factorized_top_k/top_50_categorical_accuracy: 1.0000 - val_factorized_top_k/top_100_categorical_accuracy: 1.0000 - val_loss: 146.4950 - val_regularization_loss: 0.0000e+00 - val_total_loss: 146.4950\n",
      "Epoch 6/100\n",
      "11/12 [==========================>...] - ETA: 0s - factorized_top_k/top_1_categorical_accuracy: 0.0036 - factorized_top_k/top_5_categorical_accuracy: 0.2736 - factorized_top_k/top_10_categorical_accuracy: 0.6336 - factorized_top_k/top_50_categorical_accuracy: 1.0000 - factorized_top_k/top_100_categorical_accuracy: 1.0000 - loss: 456.2509 - regularization_loss: 0.0000e+00 - total_loss: 456.2509\n",
      "Epoch 6: val_factorized_top_k/top_10_categorical_accuracy did not improve from 0.57917\n",
      "12/12 [==============================] - 1s 51ms/step - factorized_top_k/top_1_categorical_accuracy: 0.0042 - factorized_top_k/top_5_categorical_accuracy: 0.2683 - factorized_top_k/top_10_categorical_accuracy: 0.6425 - factorized_top_k/top_50_categorical_accuracy: 1.0000 - factorized_top_k/top_100_categorical_accuracy: 1.0000 - loss: 455.9615 - regularization_loss: 0.0000e+00 - total_loss: 455.9615 - val_factorized_top_k/top_1_categorical_accuracy: 0.0125 - val_factorized_top_k/top_5_categorical_accuracy: 0.2292 - val_factorized_top_k/top_10_categorical_accuracy: 0.5417 - val_factorized_top_k/top_50_categorical_accuracy: 1.0000 - val_factorized_top_k/top_100_categorical_accuracy: 1.0000 - val_loss: 146.3561 - val_regularization_loss: 0.0000e+00 - val_total_loss: 146.3561\n",
      "Epoch 7/100\n"
     ]
    },
    {
     "name": "stdout",
     "output_type": "stream",
     "text": [
      "11/12 [==========================>...] - ETA: 0s - factorized_top_k/top_1_categorical_accuracy: 0.0082 - factorized_top_k/top_5_categorical_accuracy: 0.2464 - factorized_top_k/top_10_categorical_accuracy: 0.6427 - factorized_top_k/top_50_categorical_accuracy: 1.0000 - factorized_top_k/top_100_categorical_accuracy: 1.0000 - loss: 455.6772 - regularization_loss: 0.0000e+00 - total_loss: 455.6772\n",
      "Epoch 7: val_factorized_top_k/top_10_categorical_accuracy did not improve from 0.57917\n",
      "12/12 [==============================] - 1s 51ms/step - factorized_top_k/top_1_categorical_accuracy: 0.0083 - factorized_top_k/top_5_categorical_accuracy: 0.2425 - factorized_top_k/top_10_categorical_accuracy: 0.6483 - factorized_top_k/top_50_categorical_accuracy: 1.0000 - factorized_top_k/top_100_categorical_accuracy: 1.0000 - loss: 455.3800 - regularization_loss: 0.0000e+00 - total_loss: 455.3800 - val_factorized_top_k/top_1_categorical_accuracy: 0.0042 - val_factorized_top_k/top_5_categorical_accuracy: 0.2000 - val_factorized_top_k/top_10_categorical_accuracy: 0.5542 - val_factorized_top_k/top_50_categorical_accuracy: 1.0000 - val_factorized_top_k/top_100_categorical_accuracy: 1.0000 - val_loss: 146.1996 - val_regularization_loss: 0.0000e+00 - val_total_loss: 146.1996\n",
      "Epoch 8/100\n",
      "11/12 [==========================>...] - ETA: 0s - factorized_top_k/top_1_categorical_accuracy: 0.0136 - factorized_top_k/top_5_categorical_accuracy: 0.2291 - factorized_top_k/top_10_categorical_accuracy: 0.6536 - factorized_top_k/top_50_categorical_accuracy: 1.0000 - factorized_top_k/top_100_categorical_accuracy: 1.0000 - loss: 455.2303 - regularization_loss: 0.0000e+00 - total_loss: 455.2303\n",
      "Epoch 8: val_factorized_top_k/top_10_categorical_accuracy improved from 0.57917 to 0.62083, saving model to acciden_model\\cp.ckpt\n",
      "12/12 [==============================] - 1s 57ms/step - factorized_top_k/top_1_categorical_accuracy: 0.0133 - factorized_top_k/top_5_categorical_accuracy: 0.2275 - factorized_top_k/top_10_categorical_accuracy: 0.6592 - factorized_top_k/top_50_categorical_accuracy: 1.0000 - factorized_top_k/top_100_categorical_accuracy: 1.0000 - loss: 454.9284 - regularization_loss: 0.0000e+00 - total_loss: 454.9284 - val_factorized_top_k/top_1_categorical_accuracy: 0.0083 - val_factorized_top_k/top_5_categorical_accuracy: 0.2125 - val_factorized_top_k/top_10_categorical_accuracy: 0.6208 - val_factorized_top_k/top_50_categorical_accuracy: 1.0000 - val_factorized_top_k/top_100_categorical_accuracy: 1.0000 - val_loss: 146.0317 - val_regularization_loss: 0.0000e+00 - val_total_loss: 146.0317\n",
      "Epoch 9/100\n",
      "11/12 [==========================>...] - ETA: 0s - factorized_top_k/top_1_categorical_accuracy: 0.0136 - factorized_top_k/top_5_categorical_accuracy: 0.2309 - factorized_top_k/top_10_categorical_accuracy: 0.6700 - factorized_top_k/top_50_categorical_accuracy: 1.0000 - factorized_top_k/top_100_categorical_accuracy: 1.0000 - loss: 454.8679 - regularization_loss: 0.0000e+00 - total_loss: 454.8679\n",
      "Epoch 9: val_factorized_top_k/top_10_categorical_accuracy did not improve from 0.62083\n",
      "12/12 [==============================] - 1s 57ms/step - factorized_top_k/top_1_categorical_accuracy: 0.0133 - factorized_top_k/top_5_categorical_accuracy: 0.2283 - factorized_top_k/top_10_categorical_accuracy: 0.6742 - factorized_top_k/top_50_categorical_accuracy: 1.0000 - factorized_top_k/top_100_categorical_accuracy: 1.0000 - loss: 454.5691 - regularization_loss: 0.0000e+00 - total_loss: 454.5691 - val_factorized_top_k/top_1_categorical_accuracy: 0.0083 - val_factorized_top_k/top_5_categorical_accuracy: 0.2042 - val_factorized_top_k/top_10_categorical_accuracy: 0.6208 - val_factorized_top_k/top_50_categorical_accuracy: 1.0000 - val_factorized_top_k/top_100_categorical_accuracy: 1.0000 - val_loss: 145.8779 - val_regularization_loss: 0.0000e+00 - val_total_loss: 145.8779\n",
      "Epoch 10/100\n",
      "11/12 [==========================>...] - ETA: 0s - factorized_top_k/top_1_categorical_accuracy: 0.0136 - factorized_top_k/top_5_categorical_accuracy: 0.2291 - factorized_top_k/top_10_categorical_accuracy: 0.6809 - factorized_top_k/top_50_categorical_accuracy: 1.0000 - factorized_top_k/top_100_categorical_accuracy: 1.0000 - loss: 454.5711 - regularization_loss: 0.0000e+00 - total_loss: 454.5711\n",
      "Epoch 10: val_factorized_top_k/top_10_categorical_accuracy did not improve from 0.62083\n",
      "12/12 [==============================] - 1s 56ms/step - factorized_top_k/top_1_categorical_accuracy: 0.0133 - factorized_top_k/top_5_categorical_accuracy: 0.2267 - factorized_top_k/top_10_categorical_accuracy: 0.6833 - factorized_top_k/top_50_categorical_accuracy: 1.0000 - factorized_top_k/top_100_categorical_accuracy: 1.0000 - loss: 454.2787 - regularization_loss: 0.0000e+00 - total_loss: 454.2787 - val_factorized_top_k/top_1_categorical_accuracy: 0.0083 - val_factorized_top_k/top_5_categorical_accuracy: 0.1792 - val_factorized_top_k/top_10_categorical_accuracy: 0.5792 - val_factorized_top_k/top_50_categorical_accuracy: 1.0000 - val_factorized_top_k/top_100_categorical_accuracy: 1.0000 - val_loss: 145.7479 - val_regularization_loss: 0.0000e+00 - val_total_loss: 145.7479\n",
      "Epoch 11/100\n",
      "11/12 [==========================>...] - ETA: 0s - factorized_top_k/top_1_categorical_accuracy: 0.0145 - factorized_top_k/top_5_categorical_accuracy: 0.2255 - factorized_top_k/top_10_categorical_accuracy: 0.6755 - factorized_top_k/top_50_categorical_accuracy: 1.0000 - factorized_top_k/top_100_categorical_accuracy: 1.0000 - loss: 454.3265 - regularization_loss: 0.0000e+00 - total_loss: 454.3265\n",
      "Epoch 11: val_factorized_top_k/top_10_categorical_accuracy did not improve from 0.62083\n",
      "12/12 [==============================] - 1s 55ms/step - factorized_top_k/top_1_categorical_accuracy: 0.0142 - factorized_top_k/top_5_categorical_accuracy: 0.2242 - factorized_top_k/top_10_categorical_accuracy: 0.6783 - factorized_top_k/top_50_categorical_accuracy: 1.0000 - factorized_top_k/top_100_categorical_accuracy: 1.0000 - loss: 454.0400 - regularization_loss: 0.0000e+00 - total_loss: 454.0400 - val_factorized_top_k/top_1_categorical_accuracy: 0.0083 - val_factorized_top_k/top_5_categorical_accuracy: 0.2250 - val_factorized_top_k/top_10_categorical_accuracy: 0.6042 - val_factorized_top_k/top_50_categorical_accuracy: 1.0000 - val_factorized_top_k/top_100_categorical_accuracy: 1.0000 - val_loss: 145.6388 - val_regularization_loss: 0.0000e+00 - val_total_loss: 145.6388\n",
      "Epoch 12/100\n",
      "11/12 [==========================>...] - ETA: 0s - factorized_top_k/top_1_categorical_accuracy: 0.0127 - factorized_top_k/top_5_categorical_accuracy: 0.2255 - factorized_top_k/top_10_categorical_accuracy: 0.6518 - factorized_top_k/top_50_categorical_accuracy: 1.0000 - factorized_top_k/top_100_categorical_accuracy: 1.0000 - loss: 454.1199 - regularization_loss: 0.0000e+00 - total_loss: 454.1199\n",
      "Epoch 12: val_factorized_top_k/top_10_categorical_accuracy did not improve from 0.62083\n",
      "12/12 [==============================] - 1s 54ms/step - factorized_top_k/top_1_categorical_accuracy: 0.0125 - factorized_top_k/top_5_categorical_accuracy: 0.2242 - factorized_top_k/top_10_categorical_accuracy: 0.6567 - factorized_top_k/top_50_categorical_accuracy: 1.0000 - factorized_top_k/top_100_categorical_accuracy: 1.0000 - loss: 453.8384 - regularization_loss: 0.0000e+00 - total_loss: 453.8384 - val_factorized_top_k/top_1_categorical_accuracy: 0.0167 - val_factorized_top_k/top_5_categorical_accuracy: 0.2000 - val_factorized_top_k/top_10_categorical_accuracy: 0.5208 - val_factorized_top_k/top_50_categorical_accuracy: 1.0000 - val_factorized_top_k/top_100_categorical_accuracy: 1.0000 - val_loss: 145.5450 - val_regularization_loss: 0.0000e+00 - val_total_loss: 145.5450\n",
      "Epoch 13/100\n",
      "11/12 [==========================>...] - ETA: 0s - factorized_top_k/top_1_categorical_accuracy: 0.0155 - factorized_top_k/top_5_categorical_accuracy: 0.2273 - factorized_top_k/top_10_categorical_accuracy: 0.6400 - factorized_top_k/top_50_categorical_accuracy: 1.0000 - factorized_top_k/top_100_categorical_accuracy: 1.0000 - loss: 453.9397 - regularization_loss: 0.0000e+00 - total_loss: 453.9397\n",
      "Epoch 13: val_factorized_top_k/top_10_categorical_accuracy did not improve from 0.62083\n"
     ]
    },
    {
     "name": "stdout",
     "output_type": "stream",
     "text": [
      "12/12 [==============================] - 1s 59ms/step - factorized_top_k/top_1_categorical_accuracy: 0.0150 - factorized_top_k/top_5_categorical_accuracy: 0.2267 - factorized_top_k/top_10_categorical_accuracy: 0.6400 - factorized_top_k/top_50_categorical_accuracy: 1.0000 - factorized_top_k/top_100_categorical_accuracy: 1.0000 - loss: 453.6623 - regularization_loss: 0.0000e+00 - total_loss: 453.6623 - val_factorized_top_k/top_1_categorical_accuracy: 0.0125 - val_factorized_top_k/top_5_categorical_accuracy: 0.2000 - val_factorized_top_k/top_10_categorical_accuracy: 0.5208 - val_factorized_top_k/top_50_categorical_accuracy: 1.0000 - val_factorized_top_k/top_100_categorical_accuracy: 1.0000 - val_loss: 145.4599 - val_regularization_loss: 0.0000e+00 - val_total_loss: 145.4599\n",
      "Epoch 14/100\n",
      "12/12 [==============================] - ETA: 0s - factorized_top_k/top_1_categorical_accuracy: 0.0150 - factorized_top_k/top_5_categorical_accuracy: 0.2308 - factorized_top_k/top_10_categorical_accuracy: 0.6242 - factorized_top_k/top_50_categorical_accuracy: 1.0000 - factorized_top_k/top_100_categorical_accuracy: 1.0000 - loss: 453.6311 - regularization_loss: 0.0000e+00 - total_loss: 453.6311\n",
      "Epoch 14: val_factorized_top_k/top_10_categorical_accuracy did not improve from 0.62083\n",
      "12/12 [==============================] - 1s 59ms/step - factorized_top_k/top_1_categorical_accuracy: 0.0150 - factorized_top_k/top_5_categorical_accuracy: 0.2308 - factorized_top_k/top_10_categorical_accuracy: 0.6242 - factorized_top_k/top_50_categorical_accuracy: 1.0000 - factorized_top_k/top_100_categorical_accuracy: 1.0000 - loss: 453.5060 - regularization_loss: 0.0000e+00 - total_loss: 453.5060 - val_factorized_top_k/top_1_categorical_accuracy: 0.0167 - val_factorized_top_k/top_5_categorical_accuracy: 0.2000 - val_factorized_top_k/top_10_categorical_accuracy: 0.5208 - val_factorized_top_k/top_50_categorical_accuracy: 1.0000 - val_factorized_top_k/top_100_categorical_accuracy: 1.0000 - val_loss: 145.3773 - val_regularization_loss: 0.0000e+00 - val_total_loss: 145.3773\n",
      "Epoch 15/100\n",
      "11/12 [==========================>...] - ETA: 0s - factorized_top_k/top_1_categorical_accuracy: 0.0182 - factorized_top_k/top_5_categorical_accuracy: 0.2400 - factorized_top_k/top_10_categorical_accuracy: 0.6136 - factorized_top_k/top_50_categorical_accuracy: 1.0000 - factorized_top_k/top_100_categorical_accuracy: 1.0000 - loss: 453.6326 - regularization_loss: 0.0000e+00 - total_loss: 453.6326\n",
      "Epoch 15: val_factorized_top_k/top_10_categorical_accuracy did not improve from 0.62083\n",
      "12/12 [==============================] - 1s 62ms/step - factorized_top_k/top_1_categorical_accuracy: 0.0175 - factorized_top_k/top_5_categorical_accuracy: 0.2383 - factorized_top_k/top_10_categorical_accuracy: 0.6133 - factorized_top_k/top_50_categorical_accuracy: 1.0000 - factorized_top_k/top_100_categorical_accuracy: 1.0000 - loss: 453.3625 - regularization_loss: 0.0000e+00 - total_loss: 453.3625 - val_factorized_top_k/top_1_categorical_accuracy: 0.0125 - val_factorized_top_k/top_5_categorical_accuracy: 0.2167 - val_factorized_top_k/top_10_categorical_accuracy: 0.5250 - val_factorized_top_k/top_50_categorical_accuracy: 1.0000 - val_factorized_top_k/top_100_categorical_accuracy: 1.0000 - val_loss: 145.2947 - val_regularization_loss: 0.0000e+00 - val_total_loss: 145.2947\n",
      "Epoch 16/100\n",
      "11/12 [==========================>...] - ETA: 0s - factorized_top_k/top_1_categorical_accuracy: 0.0191 - factorized_top_k/top_5_categorical_accuracy: 0.2409 - factorized_top_k/top_10_categorical_accuracy: 0.6118 - factorized_top_k/top_50_categorical_accuracy: 1.0000 - factorized_top_k/top_100_categorical_accuracy: 1.0000 - loss: 453.4974 - regularization_loss: 0.0000e+00 - total_loss: 453.4974\n",
      "Epoch 16: val_factorized_top_k/top_10_categorical_accuracy did not improve from 0.62083\n",
      "12/12 [==============================] - 1s 58ms/step - factorized_top_k/top_1_categorical_accuracy: 0.0183 - factorized_top_k/top_5_categorical_accuracy: 0.2392 - factorized_top_k/top_10_categorical_accuracy: 0.6117 - factorized_top_k/top_50_categorical_accuracy: 1.0000 - factorized_top_k/top_100_categorical_accuracy: 1.0000 - loss: 453.2293 - regularization_loss: 0.0000e+00 - total_loss: 453.2293 - val_factorized_top_k/top_1_categorical_accuracy: 0.0125 - val_factorized_top_k/top_5_categorical_accuracy: 0.2167 - val_factorized_top_k/top_10_categorical_accuracy: 0.5250 - val_factorized_top_k/top_50_categorical_accuracy: 1.0000 - val_factorized_top_k/top_100_categorical_accuracy: 1.0000 - val_loss: 145.2092 - val_regularization_loss: 0.0000e+00 - val_total_loss: 145.2092\n",
      "Epoch 17/100\n",
      "12/12 [==============================] - ETA: 0s - factorized_top_k/top_1_categorical_accuracy: 0.0183 - factorized_top_k/top_5_categorical_accuracy: 0.2375 - factorized_top_k/top_10_categorical_accuracy: 0.6133 - factorized_top_k/top_50_categorical_accuracy: 1.0000 - factorized_top_k/top_100_categorical_accuracy: 1.0000 - loss: 453.2259 - regularization_loss: 0.0000e+00 - total_loss: 453.2259\n",
      "Epoch 17: val_factorized_top_k/top_10_categorical_accuracy did not improve from 0.62083\n",
      "12/12 [==============================] - 1s 61ms/step - factorized_top_k/top_1_categorical_accuracy: 0.0183 - factorized_top_k/top_5_categorical_accuracy: 0.2375 - factorized_top_k/top_10_categorical_accuracy: 0.6133 - factorized_top_k/top_50_categorical_accuracy: 1.0000 - factorized_top_k/top_100_categorical_accuracy: 1.0000 - loss: 453.1033 - regularization_loss: 0.0000e+00 - total_loss: 453.1033 - val_factorized_top_k/top_1_categorical_accuracy: 0.0125 - val_factorized_top_k/top_5_categorical_accuracy: 0.2000 - val_factorized_top_k/top_10_categorical_accuracy: 0.5250 - val_factorized_top_k/top_50_categorical_accuracy: 1.0000 - val_factorized_top_k/top_100_categorical_accuracy: 1.0000 - val_loss: 145.1198 - val_regularization_loss: 0.0000e+00 - val_total_loss: 145.1198\n",
      "Epoch 18/100\n",
      "12/12 [==============================] - ETA: 0s - factorized_top_k/top_1_categorical_accuracy: 0.0208 - factorized_top_k/top_5_categorical_accuracy: 0.2358 - factorized_top_k/top_10_categorical_accuracy: 0.6158 - factorized_top_k/top_50_categorical_accuracy: 1.0000 - factorized_top_k/top_100_categorical_accuracy: 1.0000 - loss: 453.1063 - regularization_loss: 0.0000e+00 - total_loss: 453.1063\n",
      "Epoch 18: val_factorized_top_k/top_10_categorical_accuracy did not improve from 0.62083\n",
      "12/12 [==============================] - 1s 62ms/step - factorized_top_k/top_1_categorical_accuracy: 0.0208 - factorized_top_k/top_5_categorical_accuracy: 0.2358 - factorized_top_k/top_10_categorical_accuracy: 0.6158 - factorized_top_k/top_50_categorical_accuracy: 1.0000 - factorized_top_k/top_100_categorical_accuracy: 1.0000 - loss: 452.9835 - regularization_loss: 0.0000e+00 - total_loss: 452.9835 - val_factorized_top_k/top_1_categorical_accuracy: 0.0083 - val_factorized_top_k/top_5_categorical_accuracy: 0.2000 - val_factorized_top_k/top_10_categorical_accuracy: 0.4917 - val_factorized_top_k/top_50_categorical_accuracy: 1.0000 - val_factorized_top_k/top_100_categorical_accuracy: 1.0000 - val_loss: 145.0255 - val_regularization_loss: 0.0000e+00 - val_total_loss: 145.0255\n",
      "Epoch 19/100\n",
      "12/12 [==============================] - ETA: 0s - factorized_top_k/top_1_categorical_accuracy: 0.0192 - factorized_top_k/top_5_categorical_accuracy: 0.2358 - factorized_top_k/top_10_categorical_accuracy: 0.6158 - factorized_top_k/top_50_categorical_accuracy: 1.0000 - factorized_top_k/top_100_categorical_accuracy: 1.0000 - loss: 452.9933 - regularization_loss: 0.0000e+00 - total_loss: 452.9933\n",
      "Epoch 19: val_factorized_top_k/top_10_categorical_accuracy did not improve from 0.62083\n",
      "12/12 [==============================] - 1s 60ms/step - factorized_top_k/top_1_categorical_accuracy: 0.0192 - factorized_top_k/top_5_categorical_accuracy: 0.2358 - factorized_top_k/top_10_categorical_accuracy: 0.6158 - factorized_top_k/top_50_categorical_accuracy: 1.0000 - factorized_top_k/top_100_categorical_accuracy: 1.0000 - loss: 452.8700 - regularization_loss: 0.0000e+00 - total_loss: 452.8700 - val_factorized_top_k/top_1_categorical_accuracy: 0.0125 - val_factorized_top_k/top_5_categorical_accuracy: 0.2125 - val_factorized_top_k/top_10_categorical_accuracy: 0.4875 - val_factorized_top_k/top_50_categorical_accuracy: 1.0000 - val_factorized_top_k/top_100_categorical_accuracy: 1.0000 - val_loss: 144.9300 - val_regularization_loss: 0.0000e+00 - val_total_loss: 144.9300\n"
     ]
    },
    {
     "name": "stdout",
     "output_type": "stream",
     "text": [
      "Epoch 20/100\n",
      "11/12 [==========================>...] - ETA: 0s - factorized_top_k/top_1_categorical_accuracy: 0.0200 - factorized_top_k/top_5_categorical_accuracy: 0.2373 - factorized_top_k/top_10_categorical_accuracy: 0.6155 - factorized_top_k/top_50_categorical_accuracy: 1.0000 - factorized_top_k/top_100_categorical_accuracy: 1.0000 - loss: 453.0330 - regularization_loss: 0.0000e+00 - total_loss: 453.0330\n",
      "Epoch 20: val_factorized_top_k/top_10_categorical_accuracy did not improve from 0.62083\n",
      "12/12 [==============================] - 1s 58ms/step - factorized_top_k/top_1_categorical_accuracy: 0.0192 - factorized_top_k/top_5_categorical_accuracy: 0.2358 - factorized_top_k/top_10_categorical_accuracy: 0.6150 - factorized_top_k/top_50_categorical_accuracy: 1.0000 - factorized_top_k/top_100_categorical_accuracy: 1.0000 - loss: 452.7619 - regularization_loss: 0.0000e+00 - total_loss: 452.7619 - val_factorized_top_k/top_1_categorical_accuracy: 0.0167 - val_factorized_top_k/top_5_categorical_accuracy: 0.2042 - val_factorized_top_k/top_10_categorical_accuracy: 0.5083 - val_factorized_top_k/top_50_categorical_accuracy: 1.0000 - val_factorized_top_k/top_100_categorical_accuracy: 1.0000 - val_loss: 144.8342 - val_regularization_loss: 0.0000e+00 - val_total_loss: 144.8342\n",
      "Epoch 21/100\n",
      "11/12 [==========================>...] - ETA: 0s - factorized_top_k/top_1_categorical_accuracy: 0.0164 - factorized_top_k/top_5_categorical_accuracy: 0.2373 - factorized_top_k/top_10_categorical_accuracy: 0.6145 - factorized_top_k/top_50_categorical_accuracy: 1.0000 - factorized_top_k/top_100_categorical_accuracy: 1.0000 - loss: 452.9332 - regularization_loss: 0.0000e+00 - total_loss: 452.9332\n",
      "Epoch 21: val_factorized_top_k/top_10_categorical_accuracy did not improve from 0.62083\n",
      "12/12 [==============================] - 1s 58ms/step - factorized_top_k/top_1_categorical_accuracy: 0.0158 - factorized_top_k/top_5_categorical_accuracy: 0.2358 - factorized_top_k/top_10_categorical_accuracy: 0.6142 - factorized_top_k/top_50_categorical_accuracy: 1.0000 - factorized_top_k/top_100_categorical_accuracy: 1.0000 - loss: 452.6596 - regularization_loss: 0.0000e+00 - total_loss: 452.6596 - val_factorized_top_k/top_1_categorical_accuracy: 0.0125 - val_factorized_top_k/top_5_categorical_accuracy: 0.2000 - val_factorized_top_k/top_10_categorical_accuracy: 0.5083 - val_factorized_top_k/top_50_categorical_accuracy: 1.0000 - val_factorized_top_k/top_100_categorical_accuracy: 1.0000 - val_loss: 144.7422 - val_regularization_loss: 0.0000e+00 - val_total_loss: 144.7422\n",
      "Epoch 22/100\n",
      "11/12 [==========================>...] - ETA: 0s - factorized_top_k/top_1_categorical_accuracy: 0.0173 - factorized_top_k/top_5_categorical_accuracy: 0.2427 - factorized_top_k/top_10_categorical_accuracy: 0.6173 - factorized_top_k/top_50_categorical_accuracy: 1.0000 - factorized_top_k/top_100_categorical_accuracy: 1.0000 - loss: 452.8396 - regularization_loss: 0.0000e+00 - total_loss: 452.8396\n",
      "Epoch 22: val_factorized_top_k/top_10_categorical_accuracy did not improve from 0.62083\n",
      "12/12 [==============================] - 1s 60ms/step - factorized_top_k/top_1_categorical_accuracy: 0.0175 - factorized_top_k/top_5_categorical_accuracy: 0.2408 - factorized_top_k/top_10_categorical_accuracy: 0.6167 - factorized_top_k/top_50_categorical_accuracy: 1.0000 - factorized_top_k/top_100_categorical_accuracy: 1.0000 - loss: 452.5629 - regularization_loss: 0.0000e+00 - total_loss: 452.5629 - val_factorized_top_k/top_1_categorical_accuracy: 0.0125 - val_factorized_top_k/top_5_categorical_accuracy: 0.2000 - val_factorized_top_k/top_10_categorical_accuracy: 0.5333 - val_factorized_top_k/top_50_categorical_accuracy: 1.0000 - val_factorized_top_k/top_100_categorical_accuracy: 1.0000 - val_loss: 144.6556 - val_regularization_loss: 0.0000e+00 - val_total_loss: 144.6556\n",
      "Epoch 23/100\n",
      "12/12 [==============================] - ETA: 0s - factorized_top_k/top_1_categorical_accuracy: 0.0150 - factorized_top_k/top_5_categorical_accuracy: 0.2458 - factorized_top_k/top_10_categorical_accuracy: 0.6208 - factorized_top_k/top_50_categorical_accuracy: 1.0000 - factorized_top_k/top_100_categorical_accuracy: 1.0000 - loss: 452.5998 - regularization_loss: 0.0000e+00 - total_loss: 452.5998\n",
      "Epoch 23: val_factorized_top_k/top_10_categorical_accuracy did not improve from 0.62083\n",
      "12/12 [==============================] - 1s 60ms/step - factorized_top_k/top_1_categorical_accuracy: 0.0150 - factorized_top_k/top_5_categorical_accuracy: 0.2458 - factorized_top_k/top_10_categorical_accuracy: 0.6208 - factorized_top_k/top_50_categorical_accuracy: 1.0000 - factorized_top_k/top_100_categorical_accuracy: 1.0000 - loss: 452.4716 - regularization_loss: 0.0000e+00 - total_loss: 452.4716 - val_factorized_top_k/top_1_categorical_accuracy: 0.0083 - val_factorized_top_k/top_5_categorical_accuracy: 0.2208 - val_factorized_top_k/top_10_categorical_accuracy: 0.5208 - val_factorized_top_k/top_50_categorical_accuracy: 1.0000 - val_factorized_top_k/top_100_categorical_accuracy: 1.0000 - val_loss: 144.5767 - val_regularization_loss: 0.0000e+00 - val_total_loss: 144.5767\n"
     ]
    }
   ],
   "source": [
    "with tf.device(tf.test.gpu_device_name()):\n",
    "    history = model.fit(cached_train,\n",
    "              epochs=100,\n",
    "              validation_data=cached_test,\n",
    "              callbacks=callbacks_list)"
   ]
  },
  {
   "cell_type": "code",
   "execution_count": 30,
   "id": "05e44843",
   "metadata": {},
   "outputs": [
    {
     "data": {
      "image/png": "[encoded data removed]",
      "text/plain": [
       "<Figure size 640x480 with 1 Axes>"
      ]
     },
     "metadata": {},
     "output_type": "display_data"
    }
   ],
   "source": [
    "show_metrics(history)"
   ]
  },
  {
   "cell_type": "code",
   "execution_count": 31,
   "id": "b9c78ca7",
   "metadata": {},
   "outputs": [
    {
     "data": {
      "image/png": "[encoded data removed]",
      "text/plain": [
       "<Figure size 640x480 with 1 Axes>"
      ]
     },
     "metadata": {},
     "output_type": "display_data"
    }
   ],
   "source": [
    "show_loss(history)"
   ]
  },
  {
   "cell_type": "code",
   "execution_count": 32,
   "id": "2d09ad9a",
   "metadata": {},
   "outputs": [
    {
     "data": {
      "text/plain": [
       "<tensorflow.python.checkpoint.checkpoint.CheckpointLoadStatus at 0x2b2df541df0>"
      ]
     },
     "execution_count": 32,
     "metadata": {},
     "output_type": "execute_result"
    }
   ],
   "source": [
    "model.load_weights(checkpoint_path)"
   ]
  },
  {
   "cell_type": "code",
   "execution_count": 33,
   "id": "de6df7b8",
   "metadata": {},
   "outputs": [
    {
     "name": "stdout",
     "output_type": "stream",
     "text": [
      "Наибольший риск:\n",
      "Нарушение правил дорожного движения\n",
      "Прочие причины, квалифицированные по материалам расследования несчастных случаев\n",
      "Нарушение требований безопасности при эксплуатации транспортных средств\n",
      "Конструктивные недостатки и недостаточная надежность машин, механизмов, оборудования\n",
      "Недостатки в организации и проведении подготовки работников по охране труда,\n",
      "Использование пострадавшего не по специальности\n",
      "Непроведение инструктажа по охране труда\n",
      "Непроведение обучения и проверки знаний по охране труда\n",
      "Вследствие необеспеченности ими работодателем\n",
      "Нахождение пострадавшего в состоянии алкогольного, наркотического и иного токсического опьянения\n"
     ]
    }
   ],
   "source": [
    "model.predict_reason({\"Industry\": tf.constant(['Строительство'])})"
   ]
  },
  {
   "cell_type": "code",
   "execution_count": 34,
   "id": "55fcd4a6",
   "metadata": {},
   "outputs": [
    {
     "name": "stdout",
     "output_type": "stream",
     "text": [
      "train 0.72, test 0.62, all_data 0.7\n"
     ]
    }
   ],
   "source": [
    "train_data = np.round(model.evaluate(cached_train, verbose=0)[2], 2)\n",
    "test_data = np.round(model.evaluate(cached_test, verbose=0)[2], 2)\n",
    "all_data = np.round(model.evaluate(incidents.batch(100).cache(), verbose=0)[2], 2)\n",
    "print(f'train {train_data}, test {test_data}, all_data {all_data}')"
   ]
  },
  {
   "cell_type": "markdown",
   "id": "47bb3ae4",
   "metadata": {},
   "source": [
    "Результат относительно хороший. Из 10 предложений, более половины могут стать причиной несчастного случая "
   ]
  },
  {
   "cell_type": "markdown",
   "id": "8ea82152",
   "metadata": {},
   "source": [
    "## Усложнение модели\n",
    "\n",
    "Для улучшения модели посмотрим что из себя представляют данные и получим дополнительную полезную информацию\n",
    "\n",
    "Например, можно использовать информацию о поле человека. Явно несчастных случаи у мужчин и женщин различаются, так как их физические возможности различны.\n",
    "\n",
    "Также полезно было бы узнать статистику несчастных случаев по отраслям"
   ]
  },
  {
   "cell_type": "markdown",
   "id": "0a198e8a",
   "metadata": {},
   "source": [
    "Проделываем такие же операции с данными, добавив пол человека"
   ]
  },
  {
   "cell_type": "code",
   "execution_count": 35,
   "id": "abbaff17",
   "metadata": {},
   "outputs": [
    {
     "data": {
      "text/html": [
       "<div>\n",
       "<style scoped>\n",
       "    .dataframe tbody tr th:only-of-type {\n",
       "        vertical-align: middle;\n",
       "    }\n",
       "\n",
       "    .dataframe tbody tr th {\n",
       "        vertical-align: top;\n",
       "    }\n",
       "\n",
       "    .dataframe thead th {\n",
       "        text-align: right;\n",
       "    }\n",
       "</style>\n",
       "<table border=\"1\" class=\"dataframe\">\n",
       "  <thead>\n",
       "    <tr style=\"text-align: right;\">\n",
       "      <th></th>\n",
       "      <th>Sex</th>\n",
       "      <th>Reason</th>\n",
       "      <th>Industry</th>\n",
       "    </tr>\n",
       "  </thead>\n",
       "  <tbody>\n",
       "    <tr>\n",
       "      <th>2</th>\n",
       "      <td>муж.</td>\n",
       "      <td>9, 10, 13</td>\n",
       "      <td>45.21.1</td>\n",
       "    </tr>\n",
       "    <tr>\n",
       "      <th>3</th>\n",
       "      <td>муж.</td>\n",
       "      <td>16, 17</td>\n",
       "      <td>40.10.2</td>\n",
       "    </tr>\n",
       "    <tr>\n",
       "      <th>4</th>\n",
       "      <td>муж.</td>\n",
       "      <td>11, 16</td>\n",
       "      <td>45.21.1</td>\n",
       "    </tr>\n",
       "    <tr>\n",
       "      <th>6</th>\n",
       "      <td>муж.</td>\n",
       "      <td>7</td>\n",
       "      <td>65.11</td>\n",
       "    </tr>\n",
       "    <tr>\n",
       "      <th>7</th>\n",
       "      <td>муж.</td>\n",
       "      <td>7</td>\n",
       "      <td>74.20.36</td>\n",
       "    </tr>\n",
       "  </tbody>\n",
       "</table>\n",
       "</div>"
      ],
      "text/plain": [
       "    Sex     Reason  Industry\n",
       "2  муж.  9, 10, 13   45.21.1\n",
       "3  муж.     16, 17   40.10.2\n",
       "4  муж.     11, 16   45.21.1\n",
       "6  муж.          7     65.11\n",
       "7  муж.          7  74.20.36"
      ]
     },
     "execution_count": 35,
     "metadata": {},
     "output_type": "execute_result"
    }
   ],
   "source": [
    "data = df[['Пол', 'Причина', 'ОКВЭД/отрасль']].rename(columns={'Пол' : 'Sex', 'Причина' : 'Reason', 'ОКВЭД/отрасль' : 'Industry'})\n",
    "data.head()"
   ]
  },
  {
   "cell_type": "code",
   "execution_count": 36,
   "id": "a53226b4",
   "metadata": {},
   "outputs": [],
   "source": [
    "Reasons_and_Industries_list = []\n",
    "for index, row in data.iterrows():\n",
    "    sex = row[0]\n",
    "    rsns = str(row[1]).split(', ')\n",
    "    ind = str(row[2]).split('.')[0]\n",
    "    ind = find_industry(ind)\n",
    "    for rsn in rsns:\n",
    "        Reasons_and_Industries_list.append([sex, rsn, ind])\n",
    " "
   ]
  },
  {
   "cell_type": "code",
   "execution_count": 37,
   "id": "1ecf6828",
   "metadata": {},
   "outputs": [
    {
     "data": {
      "text/html": [
       "<div>\n",
       "<style scoped>\n",
       "    .dataframe tbody tr th:only-of-type {\n",
       "        vertical-align: middle;\n",
       "    }\n",
       "\n",
       "    .dataframe tbody tr th {\n",
       "        vertical-align: top;\n",
       "    }\n",
       "\n",
       "    .dataframe thead th {\n",
       "        text-align: right;\n",
       "    }\n",
       "</style>\n",
       "<table border=\"1\" class=\"dataframe\">\n",
       "  <thead>\n",
       "    <tr style=\"text-align: right;\">\n",
       "      <th></th>\n",
       "      <th>Sex</th>\n",
       "      <th>Reason</th>\n",
       "      <th>Industry</th>\n",
       "    </tr>\n",
       "  </thead>\n",
       "  <tbody>\n",
       "    <tr>\n",
       "      <th>0</th>\n",
       "      <td>муж.</td>\n",
       "      <td>9</td>\n",
       "      <td>Торговля; Ремонт автотранспорта</td>\n",
       "    </tr>\n",
       "    <tr>\n",
       "      <th>1</th>\n",
       "      <td>муж.</td>\n",
       "      <td>10</td>\n",
       "      <td>Торговля; Ремонт автотранспорта</td>\n",
       "    </tr>\n",
       "    <tr>\n",
       "      <th>2</th>\n",
       "      <td>муж.</td>\n",
       "      <td>13</td>\n",
       "      <td>Торговля; Ремонт автотранспорта</td>\n",
       "    </tr>\n",
       "    <tr>\n",
       "      <th>3</th>\n",
       "      <td>муж.</td>\n",
       "      <td>16</td>\n",
       "      <td>Строительство</td>\n",
       "    </tr>\n",
       "    <tr>\n",
       "      <th>4</th>\n",
       "      <td>муж.</td>\n",
       "      <td>17</td>\n",
       "      <td>Строительство</td>\n",
       "    </tr>\n",
       "  </tbody>\n",
       "</table>\n",
       "</div>"
      ],
      "text/plain": [
       "    Sex Reason                         Industry\n",
       "0  муж.      9  Торговля; Ремонт автотранспорта\n",
       "1  муж.     10  Торговля; Ремонт автотранспорта\n",
       "2  муж.     13  Торговля; Ремонт автотранспорта\n",
       "3  муж.     16                    Строительство\n",
       "4  муж.     17                    Строительство"
      ]
     },
     "execution_count": 37,
     "metadata": {},
     "output_type": "execute_result"
    }
   ],
   "source": [
    "data = pd.DataFrame(Reasons_and_Industries_list, columns = ['Sex', 'Reason', 'Industry'])\n",
    "data = data[data['Reason'] != '18']\n",
    "data = data[data['Reason'] != '19']\n",
    "data = data[data['Reason'] != 'nan']\n",
    "data = data[data['Industry'] != 'nan']\n",
    "data.head()"
   ]
  },
  {
   "cell_type": "markdown",
   "id": "8feca722",
   "metadata": {},
   "source": [
    "Как видно из статистики, среди причин НС женщины вовсе отсутсвуют, что даст дополнительную информацию для предсказательной модели"
   ]
  },
  {
   "cell_type": "code",
   "execution_count": 38,
   "id": "9c3f8565",
   "metadata": {},
   "outputs": [
    {
     "data": {
      "text/plain": [
       "<Axes: xlabel='Reason', ylabel='count'>"
      ]
     },
     "execution_count": 38,
     "metadata": {},
     "output_type": "execute_result"
    },
    {
     "data": {
      "image/png": "[encoded data removed]",
      "text/plain": [
       "<Figure size 1500x500 with 1 Axes>"
      ]
     },
     "metadata": {},
     "output_type": "display_data"
    }
   ],
   "source": [
    "plt.figure(figsize=(15,5))\n",
    "sns.countplot(data=data, x=\"Reason\", hue=\"Sex\")"
   ]
  },
  {
   "cell_type": "markdown",
   "id": "69e091ec",
   "metadata": {},
   "source": [
    "Аналогичная ситуация с отраслями.\n",
    "\n",
    "Стоит отметить, что данная статистика только о смертельных и тяжелых случаях. Поэтому может сложиться ощущение, что строительство и другие отрасли достаточно безопасны. Но это далеко не так, строительство считается одним из самых травмоопасных видов деятельности, просто большинство НС легкие и работадатель предпочитает не сообщать о них в инспекцию труда."
   ]
  },
  {
   "cell_type": "code",
   "execution_count": 39,
   "id": "cc242f43",
   "metadata": {},
   "outputs": [
    {
     "data": {
      "image/png": "[encoded data removed]",
      "text/plain": [
       "<Figure size 1000x500 with 1 Axes>"
      ]
     },
     "metadata": {},
     "output_type": "display_data"
    }
   ],
   "source": [
    "plt.figure(figsize=(10,5))\n",
    "sns.countplot(y='Industry',data=data,palette='Blues', hue=\"Sex\");"
   ]
  },
  {
   "cell_type": "markdown",
   "id": "a8dad08c",
   "metadata": {},
   "source": [
    "Риск и травматизм понятия постоянные и они всегда присутсвуют в производственной деятельности. Посчитаем количество событий, ставших причинами несчастных случаев. Затем на их основе будем делать предположения об опасности отрасли"
   ]
  },
  {
   "cell_type": "code",
   "execution_count": 40,
   "id": "2602d0b9",
   "metadata": {},
   "outputs": [
    {
     "data": {
      "text/html": [
       "<div>\n",
       "<style scoped>\n",
       "    .dataframe tbody tr th:only-of-type {\n",
       "        vertical-align: middle;\n",
       "    }\n",
       "\n",
       "    .dataframe tbody tr th {\n",
       "        vertical-align: top;\n",
       "    }\n",
       "\n",
       "    .dataframe thead th {\n",
       "        text-align: right;\n",
       "    }\n",
       "</style>\n",
       "<table border=\"1\" class=\"dataframe\">\n",
       "  <thead>\n",
       "    <tr style=\"text-align: right;\">\n",
       "      <th></th>\n",
       "      <th>Industry</th>\n",
       "      <th>Reason</th>\n",
       "    </tr>\n",
       "  </thead>\n",
       "  <tbody>\n",
       "    <tr>\n",
       "      <th>0</th>\n",
       "      <td>Водоснабжение</td>\n",
       "      <td>14</td>\n",
       "    </tr>\n",
       "    <tr>\n",
       "      <th>1</th>\n",
       "      <td>Деятельность административная</td>\n",
       "      <td>16</td>\n",
       "    </tr>\n",
       "    <tr>\n",
       "      <th>2</th>\n",
       "      <td>Деятельность в области информации</td>\n",
       "      <td>95</td>\n",
       "    </tr>\n",
       "    <tr>\n",
       "      <th>3</th>\n",
       "      <td>Деятельность гостиниц и предприятий общественн...</td>\n",
       "      <td>4</td>\n",
       "    </tr>\n",
       "    <tr>\n",
       "      <th>4</th>\n",
       "      <td>Деятельность профессиональная</td>\n",
       "      <td>70</td>\n",
       "    </tr>\n",
       "  </tbody>\n",
       "</table>\n",
       "</div>"
      ],
      "text/plain": [
       "                                            Industry  Reason\n",
       "0                                      Водоснабжение      14\n",
       "1                      Деятельность административная      16\n",
       "2                  Деятельность в области информации      95\n",
       "3  Деятельность гостиниц и предприятий общественн...       4\n",
       "4                      Деятельность профессиональная      70"
      ]
     },
     "execution_count": 40,
     "metadata": {},
     "output_type": "execute_result"
    }
   ],
   "source": [
    "incidents_by_industry = data.groupby('Industry', as_index=False).agg({'Reason': 'count'})\n",
    "incidents_by_industry.head()"
   ]
  },
  {
   "cell_type": "code",
   "execution_count": 41,
   "id": "5740062a",
   "metadata": {},
   "outputs": [
    {
     "data": {
      "image/png": "[encoded data removed]",
      "text/plain": [
       "<Figure size 640x480 with 1 Axes>"
      ]
     },
     "metadata": {},
     "output_type": "display_data"
    }
   ],
   "source": [
    "plt.boxplot(incidents_by_industry['Reason'],patch_artist=True);"
   ]
  },
  {
   "cell_type": "code",
   "execution_count": 42,
   "id": "e107e479",
   "metadata": {},
   "outputs": [
    {
     "data": {
      "text/html": [
       "<div>\n",
       "<style scoped>\n",
       "    .dataframe tbody tr th:only-of-type {\n",
       "        vertical-align: middle;\n",
       "    }\n",
       "\n",
       "    .dataframe tbody tr th {\n",
       "        vertical-align: top;\n",
       "    }\n",
       "\n",
       "    .dataframe thead th {\n",
       "        text-align: right;\n",
       "    }\n",
       "</style>\n",
       "<table border=\"1\" class=\"dataframe\">\n",
       "  <thead>\n",
       "    <tr style=\"text-align: right;\">\n",
       "      <th></th>\n",
       "      <th>Reason</th>\n",
       "    </tr>\n",
       "  </thead>\n",
       "  <tbody>\n",
       "    <tr>\n",
       "      <th>count</th>\n",
       "      <td>16.000000</td>\n",
       "    </tr>\n",
       "    <tr>\n",
       "      <th>mean</th>\n",
       "      <td>90.000000</td>\n",
       "    </tr>\n",
       "    <tr>\n",
       "      <th>std</th>\n",
       "      <td>147.545699</td>\n",
       "    </tr>\n",
       "    <tr>\n",
       "      <th>min</th>\n",
       "      <td>2.000000</td>\n",
       "    </tr>\n",
       "    <tr>\n",
       "      <th>25%</th>\n",
       "      <td>11.500000</td>\n",
       "    </tr>\n",
       "    <tr>\n",
       "      <th>50%</th>\n",
       "      <td>16.000000</td>\n",
       "    </tr>\n",
       "    <tr>\n",
       "      <th>75%</th>\n",
       "      <td>76.250000</td>\n",
       "    </tr>\n",
       "    <tr>\n",
       "      <th>max</th>\n",
       "      <td>511.000000</td>\n",
       "    </tr>\n",
       "  </tbody>\n",
       "</table>\n",
       "</div>"
      ],
      "text/plain": [
       "           Reason\n",
       "count   16.000000\n",
       "mean    90.000000\n",
       "std    147.545699\n",
       "min      2.000000\n",
       "25%     11.500000\n",
       "50%     16.000000\n",
       "75%     76.250000\n",
       "max    511.000000"
      ]
     },
     "execution_count": 42,
     "metadata": {},
     "output_type": "execute_result"
    }
   ],
   "source": [
    "incidents_by_industry.describe()"
   ]
  },
  {
   "cell_type": "markdown",
   "id": "9453a028",
   "metadata": {},
   "source": [
    "Количество данных сильно разница от отрасли к отрасли. Для некоторых из них записей недостаточно. Уберем из данных менее травматические отрасли и посмотрим как изменилось распределение данных"
   ]
  },
  {
   "cell_type": "code",
   "execution_count": 43,
   "id": "7027ded5",
   "metadata": {},
   "outputs": [
    {
     "data": {
      "text/plain": [
       "['Водоснабжение',\n",
       " 'Деятельность административная',\n",
       " 'Деятельность гостиниц и предприятий общественного питания',\n",
       " 'Деятельность с недвижимым имуществом',\n",
       " 'Деятельность финансовая',\n",
       " 'Добыча полезных ископаемых',\n",
       " 'Культура и спорт',\n",
       " 'Обеспечение энергией',\n",
       " 'Образование']"
      ]
     },
     "execution_count": 43,
     "metadata": {},
     "output_type": "execute_result"
    }
   ],
   "source": [
    "not_enough_information = []\n",
    "for index, row in incidents_by_industry.iterrows():\n",
    "    if row[1] <= 16:\n",
    "        not_enough_information.append(row[0])\n",
    "\n",
    "not_enough_information"
   ]
  },
  {
   "cell_type": "code",
   "execution_count": 44,
   "id": "13ae7647",
   "metadata": {},
   "outputs": [
    {
     "data": {
      "text/plain": [
       "(1440, 3)"
      ]
     },
     "execution_count": 44,
     "metadata": {},
     "output_type": "execute_result"
    }
   ],
   "source": [
    "data.shape"
   ]
  },
  {
   "cell_type": "code",
   "execution_count": 45,
   "id": "f6f0a5d6",
   "metadata": {},
   "outputs": [],
   "source": [
    "for industry in not_enough_information:\n",
    "    data = data[data['Industry'] != industry]"
   ]
  },
  {
   "cell_type": "markdown",
   "id": "fc451f98",
   "metadata": {},
   "source": [
    "Мы убрали 9 отраслей и 90 записей, что должно повлиять на стабильность предсказаний"
   ]
  },
  {
   "cell_type": "code",
   "execution_count": 46,
   "id": "423631b1",
   "metadata": {},
   "outputs": [
    {
     "data": {
      "text/plain": [
       "(1351, 3)"
      ]
     },
     "execution_count": 46,
     "metadata": {},
     "output_type": "execute_result"
    }
   ],
   "source": [
    "data.shape"
   ]
  },
  {
   "cell_type": "markdown",
   "id": "cb7aba08",
   "metadata": {},
   "source": [
    "Распределение данных стало лучше, хотя ещё далеко до нормального"
   ]
  },
  {
   "cell_type": "code",
   "execution_count": 47,
   "id": "88a3f003",
   "metadata": {},
   "outputs": [
    {
     "data": {
      "image/png": "[encoded data removed]",
      "text/plain": [
       "<Figure size 640x480 with 1 Axes>"
      ]
     },
     "metadata": {},
     "output_type": "display_data"
    }
   ],
   "source": [
    "incidents_by_industry = data.groupby('Industry', as_index=False).agg({'Reason': 'count'})\n",
    "plt.boxplot(incidents_by_industry['Reason'],patch_artist=True);"
   ]
  },
  {
   "cell_type": "code",
   "execution_count": 48,
   "id": "9dccf957",
   "metadata": {},
   "outputs": [
    {
     "data": {
      "text/html": [
       "<div>\n",
       "<style scoped>\n",
       "    .dataframe tbody tr th:only-of-type {\n",
       "        vertical-align: middle;\n",
       "    }\n",
       "\n",
       "    .dataframe tbody tr th {\n",
       "        vertical-align: top;\n",
       "    }\n",
       "\n",
       "    .dataframe thead th {\n",
       "        text-align: right;\n",
       "    }\n",
       "</style>\n",
       "<table border=\"1\" class=\"dataframe\">\n",
       "  <thead>\n",
       "    <tr style=\"text-align: right;\">\n",
       "      <th></th>\n",
       "      <th>Reason</th>\n",
       "    </tr>\n",
       "  </thead>\n",
       "  <tbody>\n",
       "    <tr>\n",
       "      <th>count</th>\n",
       "      <td>7.000000</td>\n",
       "    </tr>\n",
       "    <tr>\n",
       "      <th>mean</th>\n",
       "      <td>193.000000</td>\n",
       "    </tr>\n",
       "    <tr>\n",
       "      <th>std</th>\n",
       "      <td>179.906457</td>\n",
       "    </tr>\n",
       "    <tr>\n",
       "      <th>min</th>\n",
       "      <td>37.000000</td>\n",
       "    </tr>\n",
       "    <tr>\n",
       "      <th>25%</th>\n",
       "      <td>64.000000</td>\n",
       "    </tr>\n",
       "    <tr>\n",
       "      <th>50%</th>\n",
       "      <td>95.000000</td>\n",
       "    </tr>\n",
       "    <tr>\n",
       "      <th>75%</th>\n",
       "      <td>290.000000</td>\n",
       "    </tr>\n",
       "    <tr>\n",
       "      <th>max</th>\n",
       "      <td>511.000000</td>\n",
       "    </tr>\n",
       "  </tbody>\n",
       "</table>\n",
       "</div>"
      ],
      "text/plain": [
       "           Reason\n",
       "count    7.000000\n",
       "mean   193.000000\n",
       "std    179.906457\n",
       "min     37.000000\n",
       "25%     64.000000\n",
       "50%     95.000000\n",
       "75%    290.000000\n",
       "max    511.000000"
      ]
     },
     "execution_count": 48,
     "metadata": {},
     "output_type": "execute_result"
    }
   ],
   "source": [
    "incidents_by_industry.describe()"
   ]
  },
  {
   "cell_type": "markdown",
   "id": "2cc8157c",
   "metadata": {},
   "source": [
    "Определим опасность отрасли на основании имеющихся данных:\n",
    "* Умеренная опасность - x <= 37\n",
    "* Средняя опасность - 64 < x <= 95\n",
    "* Повышенная опасность - 95 < x <= 290\n",
    "* Экстремальная опасность - 290 < x "
   ]
  },
  {
   "cell_type": "code",
   "execution_count": 49,
   "id": "a1adc7b3",
   "metadata": {},
   "outputs": [
    {
     "data": {
      "text/plain": [
       "'Средняя опасность'"
      ]
     },
     "execution_count": 49,
     "metadata": {},
     "output_type": "execute_result"
    }
   ],
   "source": [
    "danger_of_industry = {}\n",
    "for index, row in incidents_by_industry.iterrows():\n",
    "    if row[1] > 290:\n",
    "        danger_type = 'Экстремальная опасность'\n",
    "    elif row[1] > 95:\n",
    "        danger_type = 'Повышенная опасность'\n",
    "    elif row[1] > 64:\n",
    "        danger_type = 'Средняя опасность'\n",
    "    else:\n",
    "        danger_type = 'Умеренная опасность'\n",
    "    danger_of_industry[row[0]] = danger_type\n",
    "danger_of_industry['Деятельность профессиональная']"
   ]
  },
  {
   "cell_type": "code",
   "execution_count": 50,
   "id": "90423e4a",
   "metadata": {},
   "outputs": [
    {
     "data": {
      "text/html": [
       "<div>\n",
       "<style scoped>\n",
       "    .dataframe tbody tr th:only-of-type {\n",
       "        vertical-align: middle;\n",
       "    }\n",
       "\n",
       "    .dataframe tbody tr th {\n",
       "        vertical-align: top;\n",
       "    }\n",
       "\n",
       "    .dataframe thead th {\n",
       "        text-align: right;\n",
       "    }\n",
       "</style>\n",
       "<table border=\"1\" class=\"dataframe\">\n",
       "  <thead>\n",
       "    <tr style=\"text-align: right;\">\n",
       "      <th></th>\n",
       "      <th>Sex</th>\n",
       "      <th>Reason</th>\n",
       "      <th>Industry</th>\n",
       "      <th>Danger</th>\n",
       "    </tr>\n",
       "  </thead>\n",
       "  <tbody>\n",
       "    <tr>\n",
       "      <th>0</th>\n",
       "      <td>муж.</td>\n",
       "      <td>9</td>\n",
       "      <td>Торговля; Ремонт автотранспорта</td>\n",
       "      <td>Экстремальная опасность</td>\n",
       "    </tr>\n",
       "    <tr>\n",
       "      <th>1</th>\n",
       "      <td>муж.</td>\n",
       "      <td>10</td>\n",
       "      <td>Торговля; Ремонт автотранспорта</td>\n",
       "      <td>Экстремальная опасность</td>\n",
       "    </tr>\n",
       "    <tr>\n",
       "      <th>2</th>\n",
       "      <td>муж.</td>\n",
       "      <td>13</td>\n",
       "      <td>Торговля; Ремонт автотранспорта</td>\n",
       "      <td>Экстремальная опасность</td>\n",
       "    </tr>\n",
       "    <tr>\n",
       "      <th>3</th>\n",
       "      <td>муж.</td>\n",
       "      <td>16</td>\n",
       "      <td>Строительство</td>\n",
       "      <td>Умеренная опасность</td>\n",
       "    </tr>\n",
       "    <tr>\n",
       "      <th>4</th>\n",
       "      <td>муж.</td>\n",
       "      <td>17</td>\n",
       "      <td>Строительство</td>\n",
       "      <td>Умеренная опасность</td>\n",
       "    </tr>\n",
       "  </tbody>\n",
       "</table>\n",
       "</div>"
      ],
      "text/plain": [
       "    Sex Reason                         Industry                   Danger\n",
       "0  муж.      9  Торговля; Ремонт автотранспорта  Экстремальная опасность\n",
       "1  муж.     10  Торговля; Ремонт автотранспорта  Экстремальная опасность\n",
       "2  муж.     13  Торговля; Ремонт автотранспорта  Экстремальная опасность\n",
       "3  муж.     16                    Строительство      Умеренная опасность\n",
       "4  муж.     17                    Строительство      Умеренная опасность"
      ]
     },
     "execution_count": 50,
     "metadata": {},
     "output_type": "execute_result"
    }
   ],
   "source": [
    "data['Danger'] = data.Industry.apply(lambda x : danger_of_industry[x])\n",
    "data.head()"
   ]
  },
  {
   "cell_type": "markdown",
   "id": "f5fcff3a",
   "metadata": {},
   "source": [
    "Посмотрим как изменились диаграммы после сокращения данных"
   ]
  },
  {
   "cell_type": "code",
   "execution_count": 51,
   "id": "c9eb0dc8",
   "metadata": {},
   "outputs": [
    {
     "data": {
      "text/plain": [
       "<Axes: xlabel='Reason', ylabel='count'>"
      ]
     },
     "execution_count": 51,
     "metadata": {},
     "output_type": "execute_result"
    },
    {
     "data": {
      "image/png": "[encoded data removed]",
      "text/plain": [
       "<Figure size 1500x500 with 1 Axes>"
      ]
     },
     "metadata": {},
     "output_type": "display_data"
    }
   ],
   "source": [
    "plt.figure(figsize=(15,5))\n",
    "sns.countplot(data=data, x=\"Reason\", hue=\"Sex\")"
   ]
  },
  {
   "cell_type": "code",
   "execution_count": 52,
   "id": "3e73ba5a",
   "metadata": {},
   "outputs": [
    {
     "data": {
      "image/png": "[encoded data removed]",
      "text/plain": [
       "<Figure size 1000x500 with 1 Axes>"
      ]
     },
     "metadata": {},
     "output_type": "display_data"
    }
   ],
   "source": [
    "plt.figure(figsize=(10,5))\n",
    "sns.countplot(y='Industry',data=data,palette='Blues', hue=\"Sex\");"
   ]
  },
  {
   "cell_type": "code",
   "execution_count": 53,
   "id": "d8a61e31",
   "metadata": {},
   "outputs": [],
   "source": [
    "reasons = pd.read_excel('database.xlsx', sheet_name='Коды причин НС', dtype={'Код': str})\n",
    "reasons.rename(columns={'Наименование причины' : 'Reason_name', 'Код' : 'Reason'}, inplace=True)"
   ]
  },
  {
   "cell_type": "markdown",
   "id": "82b11b13",
   "metadata": {},
   "source": [
    "Формируем списки всех возможных значений"
   ]
  },
  {
   "cell_type": "code",
   "execution_count": 54,
   "id": "2823a3c8",
   "metadata": {},
   "outputs": [
    {
     "data": {
      "text/plain": [
       "(array(['жен.', 'муж.'], dtype=object),\n",
       " array(['1', '10', '11', '12', '13', '14', '15', '16', '17', '2', '3', '4',\n",
       "        '5', '6', '7', '8', '9'], dtype=object),\n",
       " array(['Деятельность в области информации',\n",
       "        'Деятельность профессиональная', 'Обрабатывающие производства',\n",
       "        'Сельское и лесное хозяйство', 'Строительство',\n",
       "        'Торговля; Ремонт автотранспорта', 'Транспортировка и хранение'],\n",
       "       dtype=object),\n",
       " array(['Повышенная опасность', 'Средняя опасность', 'Умеренная опасность',\n",
       "        'Экстремальная опасность'], dtype=object))"
      ]
     },
     "execution_count": 54,
     "metadata": {},
     "output_type": "execute_result"
    }
   ],
   "source": [
    "unique_sex = np.unique(data.Sex)\n",
    "unique_reasons = np.unique(data.Reason)\n",
    "unique_industries = np.unique(data.Industry)\n",
    "unique_dangers = np.unique(data.Danger)\n",
    "\n",
    "unique_sex, unique_reasons, unique_industries, unique_dangers"
   ]
  },
  {
   "cell_type": "markdown",
   "id": "ee679472",
   "metadata": {},
   "source": [
    "Формируем датасеты"
   ]
  },
  {
   "cell_type": "code",
   "execution_count": 55,
   "id": "08657b5f",
   "metadata": {},
   "outputs": [],
   "source": [
    "incidents = tf.data.Dataset.from_tensor_slices(dict(data))\n",
    "reasons = tf.data.Dataset.from_tensor_slices(dict(reasons))\n",
    "\n",
    "incidents = incidents.map(lambda x: {\n",
    "    \"Sex\": x[\"Sex\"],\n",
    "    \"Reason\": x[\"Reason\"],\n",
    "    \"Industry\": x[\"Industry\"],\n",
    "    \"Danger\": x[\"Danger\"],\n",
    "})\n",
    "\n",
    "reasons = reasons.map(lambda x: {\"Reason\": x[\"Reason\"]})"
   ]
  },
  {
   "cell_type": "markdown",
   "id": "c72baab9",
   "metadata": {},
   "source": [
    "## Изменение архитектуры сети\n",
    "\n",
    "Главными изменениями в моделя является:\n",
    "* Добавление полносвязного слоя на выходе каждой из моделей\n",
    "* Модель человека принимает на вход пол, отрасль и оценку опасности отрасли"
   ]
  },
  {
   "cell_type": "code",
   "execution_count": 95,
   "id": "e945cdda",
   "metadata": {},
   "outputs": [],
   "source": [
    "embedding_dim = 8"
   ]
  },
  {
   "cell_type": "code",
   "execution_count": 96,
   "id": "c0eef174",
   "metadata": {},
   "outputs": [],
   "source": [
    "class ReasonModel(tf.keras.Model):\n",
    "\n",
    "    def __init__(self, embedding_dim):\n",
    "        super().__init__()\n",
    "\n",
    "        reason_input = Input(shape=[], dtype=tf.string, name='Reason')\n",
    "        reason_lookup = layers.StringLookup(vocabulary=unique_reasons, input_shape=(1,))(reason_input)\n",
    "        reason_embedding = layers.Embedding(len(unique_reasons) + 1, embedding_dim, input_shape=(1,))(reason_lookup)\n",
    "        \n",
    "        dense_1 = layers.Dense(embedding_dim)(reason_embedding)\n",
    "        \n",
    "        reason_output = reason_embedding\n",
    "\n",
    "        \n",
    "        self.reason_embedding = Model(reason_input, reason_output)\n",
    "        \n",
    "\n",
    "    def call(self, inputs):\n",
    "        return self.reason_embedding(inputs)"
   ]
  },
  {
   "cell_type": "code",
   "execution_count": 97,
   "id": "c1279bb3",
   "metadata": {},
   "outputs": [
    {
     "data": {
      "text/plain": [
       "<tf.Tensor: shape=(1, 8), dtype=float32, numpy=\n",
       "array([[ 0.04189011, -0.03810091, -0.03081491, -0.018403  , -0.00159103,\n",
       "         0.01838646, -0.04073786,  0.00194626]], dtype=float32)>"
      ]
     },
     "execution_count": 97,
     "metadata": {},
     "output_type": "execute_result"
    }
   ],
   "source": [
    "reason_model = ReasonModel(8)\n",
    "reason_model({\"Reason\": tf.constant(['2'])})"
   ]
  },
  {
   "cell_type": "code",
   "execution_count": 98,
   "id": "d77c6608",
   "metadata": {},
   "outputs": [
    {
     "name": "stdout",
     "output_type": "stream",
     "text": [
      "Model: \"model_10\"\n",
      "_________________________________________________________________\n",
      " Layer (type)                Output Shape              Param #   \n",
      "=================================================================\n",
      " Reason (InputLayer)         [(None,)]                 0         \n",
      "                                                                 \n",
      " string_lookup_16 (StringLoo  (None,)                  0         \n",
      " kup)                                                            \n",
      "                                                                 \n",
      " embedding_16 (Embedding)    (None, 8)                 144       \n",
      "                                                                 \n",
      "=================================================================\n",
      "Total params: 144\n",
      "Trainable params: 144\n",
      "Non-trainable params: 0\n",
      "_________________________________________________________________\n"
     ]
    }
   ],
   "source": [
    "reason_model.reason_embedding.summary()"
   ]
  },
  {
   "cell_type": "code",
   "execution_count": 99,
   "id": "de9f3ba2",
   "metadata": {},
   "outputs": [
    {
     "data": {
      "image/png": "[encoded data removed]",
      "text/plain": [
       "<IPython.core.display.Image object>"
      ]
     },
     "execution_count": 99,
     "metadata": {},
     "output_type": "execute_result"
    }
   ],
   "source": [
    "tf.keras.utils.plot_model(reason_model.reason_embedding, show_shapes = True)"
   ]
  },
  {
   "cell_type": "code",
   "execution_count": 100,
   "id": "844f8140",
   "metadata": {},
   "outputs": [],
   "source": [
    "class PersonModel(tf.keras.Model):\n",
    "    def __init__(self, embedding_dim):\n",
    "        super().__init__()\n",
    "        \n",
    "        sex_input = Input(shape=[], dtype=tf.string, name='Sex')\n",
    "        sex_lookup = layers.StringLookup(vocabulary=unique_sex, input_shape=(1,))(sex_input)\n",
    "        sex_embedding = layers.Embedding(len(unique_sex) + 1, embedding_dim, input_shape=(1,))(sex_lookup)\n",
    "        \n",
    "\n",
    "        industry_input = Input(shape=[], dtype=tf.string, name='Industry')\n",
    "        industry_lookup = layers.StringLookup(vocabulary=unique_industries, input_shape=(1,))(industry_input)\n",
    "        industry_embedding = layers.Embedding(len(unique_industries) + 1, embedding_dim, input_shape=(1,))(industry_lookup)\n",
    "        \n",
    "        danger_input = Input(shape=[], dtype=tf.string, name='Danger')\n",
    "        danger_lookup = layers.StringLookup(vocabulary=unique_dangers, input_shape=(1,))(danger_input)\n",
    "        danger_embedding = layers.Embedding(len(unique_dangers) + 1, embedding_dim, input_shape=(1,))(danger_lookup)\n",
    "        \n",
    "        concatenated = layers.Concatenate()([sex_embedding, industry_embedding, danger_embedding])\n",
    "        \n",
    "        \n",
    "        dense_1 = layers.Dense(3 * embedding_dim, activation=\"relu\")(concatenated)\n",
    "        dense_2 = layers.Dense(embedding_dim)(dense_1)\n",
    "        \n",
    "        \n",
    "        person_output = dense_2\n",
    "\n",
    "        \n",
    "        self.person_embedding = Model([sex_input, industry_input, danger_input], person_output)\n",
    "\n",
    "    def call(self, inputs):\n",
    "        return self.person_embedding(inputs)"
   ]
  },
  {
   "cell_type": "code",
   "execution_count": 101,
   "id": "7169b29d",
   "metadata": {},
   "outputs": [
    {
     "data": {
      "text/plain": [
       "<tf.Tensor: shape=(1, 8), dtype=float32, numpy=\n",
       "array([[ 0.00759243, -0.04458981,  0.00038589,  0.04751556,  0.01840895,\n",
       "        -0.00949424, -0.01605492,  0.03939007]], dtype=float32)>"
      ]
     },
     "execution_count": 101,
     "metadata": {},
     "output_type": "execute_result"
    }
   ],
   "source": [
    "person_model = PersonModel(8)\n",
    "person_model({\"Sex\": tf.constant(['муж.']),\n",
    "              \"Industry\": tf.constant(['Торговля; Ремонт автотранспорта']),\n",
    "              'Danger' : tf.constant(['Экстремальная опасность'])})"
   ]
  },
  {
   "cell_type": "code",
   "execution_count": 102,
   "id": "e1b8227e",
   "metadata": {},
   "outputs": [
    {
     "name": "stdout",
     "output_type": "stream",
     "text": [
      "Model: \"model_11\"\n",
      "__________________________________________________________________________________________________\n",
      " Layer (type)                   Output Shape         Param #     Connected to                     \n",
      "==================================================================================================\n",
      " Sex (InputLayer)               [(None,)]            0           []                               \n",
      "                                                                                                  \n",
      " Industry (InputLayer)          [(None,)]            0           []                               \n",
      "                                                                                                  \n",
      " Danger (InputLayer)            [(None,)]            0           []                               \n",
      "                                                                                                  \n",
      " string_lookup_17 (StringLookup  (None,)             0           ['Sex[0][0]']                    \n",
      " )                                                                                                \n",
      "                                                                                                  \n",
      " string_lookup_18 (StringLookup  (None,)             0           ['Industry[0][0]']               \n",
      " )                                                                                                \n",
      "                                                                                                  \n",
      " string_lookup_19 (StringLookup  (None,)             0           ['Danger[0][0]']                 \n",
      " )                                                                                                \n",
      "                                                                                                  \n",
      " embedding_17 (Embedding)       (None, 8)            24          ['string_lookup_17[0][0]']       \n",
      "                                                                                                  \n",
      " embedding_18 (Embedding)       (None, 8)            64          ['string_lookup_18[0][0]']       \n",
      "                                                                                                  \n",
      " embedding_19 (Embedding)       (None, 8)            40          ['string_lookup_19[0][0]']       \n",
      "                                                                                                  \n",
      " concatenate_3 (Concatenate)    (None, 24)           0           ['embedding_17[0][0]',           \n",
      "                                                                  'embedding_18[0][0]',           \n",
      "                                                                  'embedding_19[0][0]']           \n",
      "                                                                                                  \n",
      " dense_10 (Dense)               (None, 24)           600         ['concatenate_3[0][0]']          \n",
      "                                                                                                  \n",
      " dense_11 (Dense)               (None, 8)            200         ['dense_10[0][0]']               \n",
      "                                                                                                  \n",
      "==================================================================================================\n",
      "Total params: 928\n",
      "Trainable params: 928\n",
      "Non-trainable params: 0\n",
      "__________________________________________________________________________________________________\n"
     ]
    }
   ],
   "source": [
    "person_model.person_embedding.summary()"
   ]
  },
  {
   "cell_type": "code",
   "execution_count": 103,
   "id": "7f824693",
   "metadata": {},
   "outputs": [
    {
     "data": {
      "image/png": "[encoded data removed]",
      "text/plain": [
       "<IPython.core.display.Image object>"
      ]
     },
     "execution_count": 103,
     "metadata": {},
     "output_type": "execute_result"
    }
   ],
   "source": [
    "tf.keras.utils.plot_model(person_model.person_embedding, show_shapes = True)"
   ]
  },
  {
   "cell_type": "code",
   "execution_count": 104,
   "id": "6e6ca7b5",
   "metadata": {},
   "outputs": [],
   "source": [
    "class AccidentModel(tfrs.Model):\n",
    "\n",
    "    def __init__(self, embedding_dim):\n",
    "        super().__init__()\n",
    "\n",
    "        self.reason_model = ReasonModel(embedding_dim)\n",
    "\n",
    "        self.person_model = PersonModel(embedding_dim)\n",
    "\n",
    "        self.task = tfrs.tasks.Retrieval(\n",
    "        metrics=tfrs.metrics.FactorizedTopK(\n",
    "            candidates=reasons.batch(10).map(self.reason_model),\n",
    "        ),\n",
    "    )\n",
    "        \n",
    "    def call(self, features) -> tf.Tensor:\n",
    "\n",
    "        person_embeddings = self.person_model({\"Sex\": features[\"Sex\"],\n",
    "                                               \"Industry\": features[\"Industry\"],\n",
    "                                               \"Danger\": features[\"Danger\"]})\n",
    "\n",
    "        reason_embeddings = self.reason_model({\"Reason\": features[\"Reason\"]})\n",
    "\n",
    "        return person_embeddings, reason_embeddings\n",
    "\n",
    "    def compute_loss(self, features, training=False):\n",
    "\n",
    "        person_embeddings, positive_reason_embeddings = self.call(features)\n",
    "\n",
    "        return self.task(person_embeddings, positive_reason_embeddings)\n",
    "    \n",
    "    def predict_reason(self, person):\n",
    "        index = tfrs.layers.factorized_top_k.BruteForce(self.person_model)\n",
    "        index.index_from_dataset(\n",
    "            tf.data.Dataset.zip((reasons.batch(128).map(lambda x: x[\"Reason\"]),\n",
    "                                 reasons.batch(128).map(self.reason_model)))\n",
    "            )\n",
    "        query = person\n",
    "        _, rsns = index(query)\n",
    "        result = []\n",
    "        print(f\"Наиболее вероятными причинами несчастного случая для работника являются:\")\n",
    "        for i, res in enumerate(rsns[0].numpy()):\n",
    "            print(i + 1, reasons_dict[res.decode()])\n",
    "    "
   ]
  },
  {
   "cell_type": "code",
   "execution_count": 105,
   "id": "45eb657b",
   "metadata": {},
   "outputs": [
    {
     "data": {
      "text/plain": [
       "1351"
      ]
     },
     "execution_count": 105,
     "metadata": {},
     "output_type": "execute_result"
    }
   ],
   "source": [
    "data_size = len(incidents)\n",
    "data_size "
   ]
  },
  {
   "cell_type": "code",
   "execution_count": 106,
   "id": "042d8f5e",
   "metadata": {},
   "outputs": [],
   "source": [
    "tf.random.set_seed(15)\n",
    "shuffled = incidents.take(data_size).shuffle(data_size, seed=15, reshuffle_each_iteration=False)\n",
    "\n",
    "train = shuffled.take(1200)\n",
    "test = shuffled.skip(1200).take(data_size - 1200)\n",
    "\n",
    "cached_train = train.batch(100).cache() \n",
    "cached_test = test.batch(100).cache()"
   ]
  },
  {
   "cell_type": "markdown",
   "id": "c1299c12",
   "metadata": {},
   "source": [
    "## Подбор гиперпараметров"
   ]
  },
  {
   "cell_type": "markdown",
   "id": "5294c657",
   "metadata": {},
   "source": [
    "Найдем оптимальные параметры путем прогона данных через нейронную сеть"
   ]
  },
  {
   "cell_type": "code",
   "execution_count": 136,
   "id": "d51ba200",
   "metadata": {},
   "outputs": [],
   "source": [
    "from tqdm import tqdm"
   ]
  },
  {
   "cell_type": "code",
   "execution_count": 140,
   "id": "25fe108b",
   "metadata": {},
   "outputs": [],
   "source": [
    "emb_dim_list = [4, 8, 12]\n",
    "emb_dim_dict = {4 : {'train' : np.zeros(30), 'test' : np.zeros(30)},\n",
    "                8 : {'train' : np.zeros(30), 'test' : np.zeros(30)},\n",
    "                12 : {'train' : np.zeros(30), 'test' : np.zeros(30)}\n",
    "               }"
   ]
  },
  {
   "cell_type": "code",
   "execution_count": 141,
   "id": "3960f979",
   "metadata": {},
   "outputs": [
    {
     "data": {
      "text/plain": [
       "array([0., 0., 0., 0., 0., 0., 0., 0., 0., 0., 0., 0., 0., 0., 0., 0., 0.,\n",
       "       0., 0., 0., 0., 0., 0., 0., 0., 0., 0., 0., 0., 0.])"
      ]
     },
     "execution_count": 141,
     "metadata": {},
     "output_type": "execute_result"
    }
   ],
   "source": [
    "emb_dim_dict[4]['train']"
   ]
  },
  {
   "cell_type": "code",
   "execution_count": 142,
   "id": "c1592dca",
   "metadata": {},
   "outputs": [
    {
     "name": "stderr",
     "output_type": "stream",
     "text": [
      "100%|██████████████████████████████████████████████████████████████████████████████████| 10/10 [03:28<00:00, 20.85s/it]\n"
     ]
    },
    {
     "name": "stdout",
     "output_type": "stream",
     "text": [
      "Закончен прогон с размерностью 4\n"
     ]
    },
    {
     "name": "stderr",
     "output_type": "stream",
     "text": [
      "100%|██████████████████████████████████████████████████████████████████████████████████| 10/10 [03:22<00:00, 20.30s/it]\n"
     ]
    },
    {
     "name": "stdout",
     "output_type": "stream",
     "text": [
      "Закончен прогон с размерностью 8\n"
     ]
    },
    {
     "name": "stderr",
     "output_type": "stream",
     "text": [
      "100%|██████████████████████████████████████████████████████████████████████████████████| 10/10 [03:23<00:00, 20.33s/it]"
     ]
    },
    {
     "name": "stdout",
     "output_type": "stream",
     "text": [
      "Закончен прогон с размерностью 12\n"
     ]
    },
    {
     "name": "stderr",
     "output_type": "stream",
     "text": [
      "\n"
     ]
    }
   ],
   "source": [
    "for emb_dim in emb_dim_list:\n",
    "    for _ in tqdm(range(10)):\n",
    "        model = AccidentModel(emb_dim)\n",
    "        model.compile(optimizer=tf.keras.optimizers.Adam(1e-2))\n",
    "        with tf.device(tf.test.gpu_device_name()):\n",
    "            history = model.fit(cached_train,\n",
    "                                epochs=30,\n",
    "                                validation_data=cached_test,\n",
    "                                verbose=0\n",
    "                               )\n",
    "        his = history.history\n",
    "        emb_dim_dict[emb_dim]['train'] +=  his['factorized_top_k/top_10_categorical_accuracy']\n",
    "        emb_dim_dict[emb_dim]['test'] +=  his['val_factorized_top_k/top_10_categorical_accuracy']\n",
    "    print(f'Закончен прогон с размерностью {emb_dim}')"
   ]
  },
  {
   "cell_type": "code",
   "execution_count": 144,
   "id": "9c9da988",
   "metadata": {},
   "outputs": [
    {
     "data": {
      "image/png": "[encoded data removed]",
      "text/plain": [
       "<Figure size 1200x600 with 3 Axes>"
      ]
     },
     "metadata": {},
     "output_type": "display_data"
    }
   ],
   "source": [
    "epochs = range(1, 31)\n",
    "fig, (ax0, ax1, ax2) = plt.subplots(nrows=1, ncols=3, sharex=True,figsize=(12, 6))\n",
    "\n",
    "ax0.set_title('Размерность 4')\n",
    "ax0.plot(epochs, emb_dim_dict[4]['train'] / 10, 'r', label='Training accuracy', scaley=False)\n",
    "ax0.plot(epochs, emb_dim_dict[4]['test'] / 10, 'b', label='Validation accuracy', scaley=False)\n",
    "\n",
    "ax1.set_title('Размерность 8')\n",
    "ax1.plot(epochs, emb_dim_dict[8]['train'] / 10, 'r', label='Training accuracy', scaley=False)\n",
    "ax1.plot(epochs, emb_dim_dict[8]['test'] / 10, 'b', label='Validation accuracy', scaley=False)\n",
    "\n",
    "ax2.set_title('Размерность 12')\n",
    "ax2.plot(epochs, emb_dim_dict[12]['train'] / 10, 'r', label='Training accuracy', scaley=False)\n",
    "ax2.plot(epochs, emb_dim_dict[12]['test'] / 10, 'b', label='Validation accuracy', scaley=False)\n",
    "\n",
    "plt.show()"
   ]
  },
  {
   "cell_type": "code",
   "execution_count": 149,
   "id": "69f5adec",
   "metadata": {},
   "outputs": [
    {
     "name": "stderr",
     "output_type": "stream",
     "text": [
      "100%|██████████████████████████████████████████████████████████████████████████████████| 10/10 [03:32<00:00, 21.22s/it]\n"
     ]
    },
    {
     "name": "stdout",
     "output_type": "stream",
     "text": [
      "Закончен прогон со скоростью обучения 0.1\n"
     ]
    },
    {
     "name": "stderr",
     "output_type": "stream",
     "text": [
      "100%|██████████████████████████████████████████████████████████████████████████████████| 10/10 [03:27<00:00, 20.74s/it]\n"
     ]
    },
    {
     "name": "stdout",
     "output_type": "stream",
     "text": [
      "Закончен прогон со скоростью обучения 0.01\n"
     ]
    },
    {
     "name": "stderr",
     "output_type": "stream",
     "text": [
      "100%|██████████████████████████████████████████████████████████████████████████████████| 10/10 [03:24<00:00, 20.45s/it]"
     ]
    },
    {
     "name": "stdout",
     "output_type": "stream",
     "text": [
      "Закончен прогон со скоростью обучения 0.001\n"
     ]
    },
    {
     "name": "stderr",
     "output_type": "stream",
     "text": [
      "\n"
     ]
    }
   ],
   "source": [
    "lr_list = [1e-1, 1e-2, 1e-3]\n",
    "lr_dict = {1e-1 : {'train' : np.zeros(30), 'test' : np.zeros(30)},\n",
    "           1e-2 : {'train' : np.zeros(30), 'test' : np.zeros(30)},\n",
    "           1e-3 : {'train' : np.zeros(30), 'test' : np.zeros(30)}\n",
    "          }\n",
    "\n",
    "for lr in lr_list:\n",
    "    for _ in tqdm(range(10)):\n",
    "        model = AccidentModel(8)\n",
    "        model.compile(optimizer=tf.keras.optimizers.Adam(lr))\n",
    "        with tf.device(tf.test.gpu_device_name()):\n",
    "            history = model.fit(cached_train,\n",
    "                                epochs=30,\n",
    "                                validation_data=cached_test,\n",
    "                                verbose=0\n",
    "                               )\n",
    "        his = history.history\n",
    "        lr_dict[lr]['train'] +=  his['factorized_top_k/top_10_categorical_accuracy']\n",
    "        lr_dict[lr]['test'] +=  his['val_factorized_top_k/top_10_categorical_accuracy']\n",
    "    print(f'Закончен прогон со скоростью обучения {lr}')"
   ]
  },
  {
   "cell_type": "code",
   "execution_count": 150,
   "id": "52cd3623",
   "metadata": {},
   "outputs": [
    {
     "data": {
      "image/png": "[encoded data removed]",
      "text/plain": [
       "<Figure size 1200x600 with 3 Axes>"
      ]
     },
     "metadata": {},
     "output_type": "display_data"
    }
   ],
   "source": [
    "epochs = range(1, 31)\n",
    "fig, (ax0, ax1, ax2) = plt.subplots(nrows=1, ncols=3, sharex=True,figsize=(12, 6))\n",
    "\n",
    "ax0.set_title('Learning rate = 0.1')\n",
    "ax0.plot(epochs, lr_dict[1e-1]['train'] / 10, 'r', label='Training accuracy', scaley=False)\n",
    "ax0.plot(epochs, lr_dict[1e-1]['test'] / 10, 'b', label='Validation accuracy', scaley=False)\n",
    "\n",
    "ax1.set_title('Learning rate = 0.01')\n",
    "ax1.plot(epochs, lr_dict[1e-2]['train'] / 10, 'r', label='Training accuracy', scaley=False)\n",
    "ax1.plot(epochs, lr_dict[1e-2]['test'] / 10, 'b', label='Validation accuracy', scaley=False)\n",
    "\n",
    "ax2.set_title('Learning rate = 0.001')\n",
    "ax2.plot(epochs, lr_dict[1e-3]['train'] / 10, 'r', label='Training accuracy', scaley=False)\n",
    "ax2.plot(epochs, lr_dict[1e-3]['test'] / 10, 'b', label='Validation accuracy', scaley=False)\n",
    "\n",
    "plt.show()"
   ]
  },
  {
   "cell_type": "code",
   "execution_count": 78,
   "id": "b176a982",
   "metadata": {},
   "outputs": [],
   "source": [
    "#del model\n",
    "model = AccidentModel() \n",
    "model.compile(optimizer=tf.keras.optimizers.Adam(1e-2))"
   ]
  },
  {
   "cell_type": "code",
   "execution_count": null,
   "id": "8510417d",
   "metadata": {},
   "outputs": [],
   "source": []
  },
  {
   "cell_type": "code",
   "execution_count": 69,
   "id": "2acd48e9",
   "metadata": {},
   "outputs": [],
   "source": [
    "checkpoint_path = \"advance_acciden_model/cp.ckpt\"\n",
    "checkpoint_dir = os.path.dirname(checkpoint_path)\n",
    "\n",
    "\n",
    "callbacks_list = [\n",
    "    tf.keras.callbacks.EarlyStopping(\n",
    "        monitor='val_factorized_top_k/top_10_categorical_accuracy',\n",
    "        #monitor='val_loss',\n",
    "        patience=20\n",
    "    ),\n",
    "    tf.keras.callbacks.ModelCheckpoint(\n",
    "        filepath=checkpoint_path,\n",
    "        monitor='val_factorized_top_k/top_10_categorical_accuracy',\n",
    "        #monitor='val_loss',\n",
    "        save_best_only=True,\n",
    "        save_weights_only=True,\n",
    "        verbose=1)\n",
    "]"
   ]
  },
  {
   "cell_type": "code",
   "execution_count": 70,
   "id": "3c1793b8",
   "metadata": {},
   "outputs": [
    {
     "name": "stdout",
     "output_type": "stream",
     "text": [
      "Epoch 1/100\n",
      "12/12 [==============================] - ETA: 0s - factorized_top_k/top_1_categorical_accuracy: 0.0017 - factorized_top_k/top_5_categorical_accuracy: 0.1808 - factorized_top_k/top_10_categorical_accuracy: 0.4908 - factorized_top_k/top_50_categorical_accuracy: 1.0000 - factorized_top_k/top_100_categorical_accuracy: 1.0000 - loss: 460.4545 - regularization_loss: 0.0000e+00 - total_loss: 460.4545    \n",
      "Epoch 1: val_factorized_top_k/top_10_categorical_accuracy improved from -inf to 0.59603, saving model to advance_acciden_model\\cp.ckpt\n",
      "12/12 [==============================] - 2s 88ms/step - factorized_top_k/top_1_categorical_accuracy: 0.0017 - factorized_top_k/top_5_categorical_accuracy: 0.1808 - factorized_top_k/top_10_categorical_accuracy: 0.4908 - factorized_top_k/top_50_categorical_accuracy: 1.0000 - factorized_top_k/top_100_categorical_accuracy: 1.0000 - loss: 460.4405 - regularization_loss: 0.0000e+00 - total_loss: 460.4405 - val_factorized_top_k/top_1_categorical_accuracy: 0.0397 - val_factorized_top_k/top_5_categorical_accuracy: 0.2384 - val_factorized_top_k/top_10_categorical_accuracy: 0.5960 - val_factorized_top_k/top_50_categorical_accuracy: 1.0000 - val_factorized_top_k/top_100_categorical_accuracy: 1.0000 - val_loss: 200.4631 - val_regularization_loss: 0.0000e+00 - val_total_loss: 200.4631\n",
      "Epoch 2/100\n",
      "12/12 [==============================] - ETA: 0s - factorized_top_k/top_1_categorical_accuracy: 0.0000e+00 - factorized_top_k/top_5_categorical_accuracy: 0.1967 - factorized_top_k/top_10_categorical_accuracy: 0.6058 - factorized_top_k/top_50_categorical_accuracy: 1.0000 - factorized_top_k/top_100_categorical_accuracy: 1.0000 - loss: 459.5337 - regularization_loss: 0.0000e+00 - total_loss: 459.5337\n",
      "Epoch 2: val_factorized_top_k/top_10_categorical_accuracy improved from 0.59603 to 0.60927, saving model to advance_acciden_model\\cp.ckpt\n",
      "12/12 [==============================] - 1s 63ms/step - factorized_top_k/top_1_categorical_accuracy: 0.0000e+00 - factorized_top_k/top_5_categorical_accuracy: 0.1967 - factorized_top_k/top_10_categorical_accuracy: 0.6058 - factorized_top_k/top_50_categorical_accuracy: 1.0000 - factorized_top_k/top_100_categorical_accuracy: 1.0000 - loss: 459.3802 - regularization_loss: 0.0000e+00 - total_loss: 459.3802 - val_factorized_top_k/top_1_categorical_accuracy: 0.0066 - val_factorized_top_k/top_5_categorical_accuracy: 0.2318 - val_factorized_top_k/top_10_categorical_accuracy: 0.6093 - val_factorized_top_k/top_50_categorical_accuracy: 1.0000 - val_factorized_top_k/top_100_categorical_accuracy: 1.0000 - val_loss: 200.4935 - val_regularization_loss: 0.0000e+00 - val_total_loss: 200.4935\n",
      "Epoch 3/100\n",
      "11/12 [==========================>...] - ETA: 0s - factorized_top_k/top_1_categorical_accuracy: 0.0027 - factorized_top_k/top_5_categorical_accuracy: 0.1900 - factorized_top_k/top_10_categorical_accuracy: 0.5782 - factorized_top_k/top_50_categorical_accuracy: 1.0000 - factorized_top_k/top_100_categorical_accuracy: 1.0000 - loss: 458.5473 - regularization_loss: 0.0000e+00 - total_loss: 458.5473  \n",
      "Epoch 3: val_factorized_top_k/top_10_categorical_accuracy improved from 0.60927 to 0.62914, saving model to advance_acciden_model\\cp.ckpt\n",
      "12/12 [==============================] - 1s 61ms/step - factorized_top_k/top_1_categorical_accuracy: 0.0042 - factorized_top_k/top_5_categorical_accuracy: 0.1950 - factorized_top_k/top_10_categorical_accuracy: 0.5900 - factorized_top_k/top_50_categorical_accuracy: 1.0000 - factorized_top_k/top_100_categorical_accuracy: 1.0000 - loss: 457.8741 - regularization_loss: 0.0000e+00 - total_loss: 457.8741 - val_factorized_top_k/top_1_categorical_accuracy: 0.0132 - val_factorized_top_k/top_5_categorical_accuracy: 0.2517 - val_factorized_top_k/top_10_categorical_accuracy: 0.6291 - val_factorized_top_k/top_50_categorical_accuracy: 1.0000 - val_factorized_top_k/top_100_categorical_accuracy: 1.0000 - val_loss: 201.2489 - val_regularization_loss: 0.0000e+00 - val_total_loss: 201.2489\n",
      "Epoch 4/100\n",
      "11/12 [==========================>...] - ETA: 0s - factorized_top_k/top_1_categorical_accuracy: 0.0091 - factorized_top_k/top_5_categorical_accuracy: 0.2091 - factorized_top_k/top_10_categorical_accuracy: 0.6064 - factorized_top_k/top_50_categorical_accuracy: 1.0000 - factorized_top_k/top_100_categorical_accuracy: 1.0000 - loss: 457.7431 - regularization_loss: 0.0000e+00 - total_loss: 457.7431\n",
      "Epoch 4: val_factorized_top_k/top_10_categorical_accuracy did not improve from 0.62914\n",
      "12/12 [==============================] - 1s 58ms/step - factorized_top_k/top_1_categorical_accuracy: 0.0092 - factorized_top_k/top_5_categorical_accuracy: 0.2225 - factorized_top_k/top_10_categorical_accuracy: 0.6083 - factorized_top_k/top_50_categorical_accuracy: 1.0000 - factorized_top_k/top_100_categorical_accuracy: 1.0000 - loss: 457.1548 - regularization_loss: 0.0000e+00 - total_loss: 457.1548 - val_factorized_top_k/top_1_categorical_accuracy: 0.0132 - val_factorized_top_k/top_5_categorical_accuracy: 0.3046 - val_factorized_top_k/top_10_categorical_accuracy: 0.6159 - val_factorized_top_k/top_50_categorical_accuracy: 1.0000 - val_factorized_top_k/top_100_categorical_accuracy: 1.0000 - val_loss: 201.5809 - val_regularization_loss: 0.0000e+00 - val_total_loss: 201.5809\n",
      "Epoch 5/100\n",
      "12/12 [==============================] - ETA: 0s - factorized_top_k/top_1_categorical_accuracy: 0.0017 - factorized_top_k/top_5_categorical_accuracy: 0.2267 - factorized_top_k/top_10_categorical_accuracy: 0.5908 - factorized_top_k/top_50_categorical_accuracy: 1.0000 - factorized_top_k/top_100_categorical_accuracy: 1.0000 - loss: 456.9038 - regularization_loss: 0.0000e+00 - total_loss: 456.9038\n",
      "Epoch 5: val_factorized_top_k/top_10_categorical_accuracy did not improve from 0.62914\n",
      "12/12 [==============================] - 1s 60ms/step - factorized_top_k/top_1_categorical_accuracy: 0.0017 - factorized_top_k/top_5_categorical_accuracy: 0.2267 - factorized_top_k/top_10_categorical_accuracy: 0.5908 - factorized_top_k/top_50_categorical_accuracy: 1.0000 - factorized_top_k/top_100_categorical_accuracy: 1.0000 - loss: 456.6132 - regularization_loss: 0.0000e+00 - total_loss: 456.6132 - val_factorized_top_k/top_1_categorical_accuracy: 0.0132 - val_factorized_top_k/top_5_categorical_accuracy: 0.1854 - val_factorized_top_k/top_10_categorical_accuracy: 0.6225 - val_factorized_top_k/top_50_categorical_accuracy: 1.0000 - val_factorized_top_k/top_100_categorical_accuracy: 1.0000 - val_loss: 202.1395 - val_regularization_loss: 0.0000e+00 - val_total_loss: 202.1395\n",
      "Epoch 6/100\n",
      "12/12 [==============================] - ETA: 0s - factorized_top_k/top_1_categorical_accuracy: 0.0050 - factorized_top_k/top_5_categorical_accuracy: 0.2108 - factorized_top_k/top_10_categorical_accuracy: 0.6583 - factorized_top_k/top_50_categorical_accuracy: 1.0000 - factorized_top_k/top_100_categorical_accuracy: 1.0000 - loss: 456.6324 - regularization_loss: 0.0000e+00 - total_loss: 456.6324\n",
      "Epoch 6: val_factorized_top_k/top_10_categorical_accuracy improved from 0.62914 to 0.65563, saving model to advance_acciden_model\\cp.ckpt\n",
      "12/12 [==============================] - 1s 63ms/step - factorized_top_k/top_1_categorical_accuracy: 0.0050 - factorized_top_k/top_5_categorical_accuracy: 0.2108 - factorized_top_k/top_10_categorical_accuracy: 0.6583 - factorized_top_k/top_50_categorical_accuracy: 1.0000 - factorized_top_k/top_100_categorical_accuracy: 1.0000 - loss: 456.3310 - regularization_loss: 0.0000e+00 - total_loss: 456.3310 - val_factorized_top_k/top_1_categorical_accuracy: 0.0199 - val_factorized_top_k/top_5_categorical_accuracy: 0.1722 - val_factorized_top_k/top_10_categorical_accuracy: 0.6556 - val_factorized_top_k/top_50_categorical_accuracy: 1.0000 - val_factorized_top_k/top_100_categorical_accuracy: 1.0000 - val_loss: 202.6819 - val_regularization_loss: 0.0000e+00 - val_total_loss: 202.6819\n",
      "Epoch 7/100\n"
     ]
    },
    {
     "name": "stdout",
     "output_type": "stream",
     "text": [
      "12/12 [==============================] - ETA: 0s - factorized_top_k/top_1_categorical_accuracy: 0.0092 - factorized_top_k/top_5_categorical_accuracy: 0.2233 - factorized_top_k/top_10_categorical_accuracy: 0.6783 - factorized_top_k/top_50_categorical_accuracy: 1.0000 - factorized_top_k/top_100_categorical_accuracy: 1.0000 - loss: 456.4523 - regularization_loss: 0.0000e+00 - total_loss: 456.4523\n",
      "Epoch 7: val_factorized_top_k/top_10_categorical_accuracy did not improve from 0.65563\n",
      "12/12 [==============================] - 1s 60ms/step - factorized_top_k/top_1_categorical_accuracy: 0.0092 - factorized_top_k/top_5_categorical_accuracy: 0.2233 - factorized_top_k/top_10_categorical_accuracy: 0.6783 - factorized_top_k/top_50_categorical_accuracy: 1.0000 - factorized_top_k/top_100_categorical_accuracy: 1.0000 - loss: 456.1372 - regularization_loss: 0.0000e+00 - total_loss: 456.1372 - val_factorized_top_k/top_1_categorical_accuracy: 0.0066 - val_factorized_top_k/top_5_categorical_accuracy: 0.2781 - val_factorized_top_k/top_10_categorical_accuracy: 0.6358 - val_factorized_top_k/top_50_categorical_accuracy: 1.0000 - val_factorized_top_k/top_100_categorical_accuracy: 1.0000 - val_loss: 203.0662 - val_regularization_loss: 0.0000e+00 - val_total_loss: 203.0662\n",
      "Epoch 8/100\n",
      "12/12 [==============================] - ETA: 0s - factorized_top_k/top_1_categorical_accuracy: 0.0108 - factorized_top_k/top_5_categorical_accuracy: 0.2442 - factorized_top_k/top_10_categorical_accuracy: 0.6867 - factorized_top_k/top_50_categorical_accuracy: 1.0000 - factorized_top_k/top_100_categorical_accuracy: 1.0000 - loss: 456.2431 - regularization_loss: 0.0000e+00 - total_loss: 456.2431\n",
      "Epoch 8: val_factorized_top_k/top_10_categorical_accuracy did not improve from 0.65563\n",
      "12/12 [==============================] - 1s 59ms/step - factorized_top_k/top_1_categorical_accuracy: 0.0108 - factorized_top_k/top_5_categorical_accuracy: 0.2442 - factorized_top_k/top_10_categorical_accuracy: 0.6867 - factorized_top_k/top_50_categorical_accuracy: 1.0000 - factorized_top_k/top_100_categorical_accuracy: 1.0000 - loss: 455.9152 - regularization_loss: 0.0000e+00 - total_loss: 455.9152 - val_factorized_top_k/top_1_categorical_accuracy: 0.0199 - val_factorized_top_k/top_5_categorical_accuracy: 0.3510 - val_factorized_top_k/top_10_categorical_accuracy: 0.6358 - val_factorized_top_k/top_50_categorical_accuracy: 1.0000 - val_factorized_top_k/top_100_categorical_accuracy: 1.0000 - val_loss: 203.3222 - val_regularization_loss: 0.0000e+00 - val_total_loss: 203.3222\n",
      "Epoch 9/100\n",
      "11/12 [==========================>...] - ETA: 0s - factorized_top_k/top_1_categorical_accuracy: 0.0118 - factorized_top_k/top_5_categorical_accuracy: 0.2427 - factorized_top_k/top_10_categorical_accuracy: 0.6891 - factorized_top_k/top_50_categorical_accuracy: 1.0000 - factorized_top_k/top_100_categorical_accuracy: 1.0000 - loss: 456.4295 - regularization_loss: 0.0000e+00 - total_loss: 456.4295\n",
      "Epoch 9: val_factorized_top_k/top_10_categorical_accuracy did not improve from 0.65563\n",
      "12/12 [==============================] - 1s 60ms/step - factorized_top_k/top_1_categorical_accuracy: 0.0108 - factorized_top_k/top_5_categorical_accuracy: 0.2558 - factorized_top_k/top_10_categorical_accuracy: 0.6967 - factorized_top_k/top_50_categorical_accuracy: 1.0000 - factorized_top_k/top_100_categorical_accuracy: 1.0000 - loss: 455.7080 - regularization_loss: 0.0000e+00 - total_loss: 455.7080 - val_factorized_top_k/top_1_categorical_accuracy: 0.0199 - val_factorized_top_k/top_5_categorical_accuracy: 0.2848 - val_factorized_top_k/top_10_categorical_accuracy: 0.6556 - val_factorized_top_k/top_50_categorical_accuracy: 1.0000 - val_factorized_top_k/top_100_categorical_accuracy: 1.0000 - val_loss: 203.4025 - val_regularization_loss: 0.0000e+00 - val_total_loss: 203.4025\n",
      "Epoch 10/100\n",
      "12/12 [==============================] - ETA: 0s - factorized_top_k/top_1_categorical_accuracy: 0.0083 - factorized_top_k/top_5_categorical_accuracy: 0.2500 - factorized_top_k/top_10_categorical_accuracy: 0.7025 - factorized_top_k/top_50_categorical_accuracy: 1.0000 - factorized_top_k/top_100_categorical_accuracy: 1.0000 - loss: 455.8375 - regularization_loss: 0.0000e+00 - total_loss: 455.8375\n",
      "Epoch 10: val_factorized_top_k/top_10_categorical_accuracy did not improve from 0.65563\n",
      "12/12 [==============================] - 1s 59ms/step - factorized_top_k/top_1_categorical_accuracy: 0.0083 - factorized_top_k/top_5_categorical_accuracy: 0.2500 - factorized_top_k/top_10_categorical_accuracy: 0.7025 - factorized_top_k/top_50_categorical_accuracy: 1.0000 - factorized_top_k/top_100_categorical_accuracy: 1.0000 - loss: 455.4995 - regularization_loss: 0.0000e+00 - total_loss: 455.4995 - val_factorized_top_k/top_1_categorical_accuracy: 0.0132 - val_factorized_top_k/top_5_categorical_accuracy: 0.2450 - val_factorized_top_k/top_10_categorical_accuracy: 0.6424 - val_factorized_top_k/top_50_categorical_accuracy: 1.0000 - val_factorized_top_k/top_100_categorical_accuracy: 1.0000 - val_loss: 203.7153 - val_regularization_loss: 0.0000e+00 - val_total_loss: 203.7153\n",
      "Epoch 11/100\n",
      "11/12 [==========================>...] - ETA: 0s - factorized_top_k/top_1_categorical_accuracy: 0.0118 - factorized_top_k/top_5_categorical_accuracy: 0.2527 - factorized_top_k/top_10_categorical_accuracy: 0.7191 - factorized_top_k/top_50_categorical_accuracy: 1.0000 - factorized_top_k/top_100_categorical_accuracy: 1.0000 - loss: 456.0502 - regularization_loss: 0.0000e+00 - total_loss: 456.0502\n",
      "Epoch 11: val_factorized_top_k/top_10_categorical_accuracy did not improve from 0.65563\n",
      "12/12 [==============================] - 1s 58ms/step - factorized_top_k/top_1_categorical_accuracy: 0.0108 - factorized_top_k/top_5_categorical_accuracy: 0.2650 - factorized_top_k/top_10_categorical_accuracy: 0.7250 - factorized_top_k/top_50_categorical_accuracy: 1.0000 - factorized_top_k/top_100_categorical_accuracy: 1.0000 - loss: 455.2868 - regularization_loss: 0.0000e+00 - total_loss: 455.2868 - val_factorized_top_k/top_1_categorical_accuracy: 0.0132 - val_factorized_top_k/top_5_categorical_accuracy: 0.3179 - val_factorized_top_k/top_10_categorical_accuracy: 0.6291 - val_factorized_top_k/top_50_categorical_accuracy: 1.0000 - val_factorized_top_k/top_100_categorical_accuracy: 1.0000 - val_loss: 203.9987 - val_regularization_loss: 0.0000e+00 - val_total_loss: 203.9987\n",
      "Epoch 12/100\n",
      "12/12 [==============================] - ETA: 0s - factorized_top_k/top_1_categorical_accuracy: 0.0075 - factorized_top_k/top_5_categorical_accuracy: 0.2558 - factorized_top_k/top_10_categorical_accuracy: 0.7250 - factorized_top_k/top_50_categorical_accuracy: 1.0000 - factorized_top_k/top_100_categorical_accuracy: 1.0000 - loss: 455.4338 - regularization_loss: 0.0000e+00 - total_loss: 455.4338\n",
      "Epoch 12: val_factorized_top_k/top_10_categorical_accuracy improved from 0.65563 to 0.66225, saving model to advance_acciden_model\\cp.ckpt\n",
      "12/12 [==============================] - 1s 61ms/step - factorized_top_k/top_1_categorical_accuracy: 0.0075 - factorized_top_k/top_5_categorical_accuracy: 0.2558 - factorized_top_k/top_10_categorical_accuracy: 0.7250 - factorized_top_k/top_50_categorical_accuracy: 1.0000 - factorized_top_k/top_100_categorical_accuracy: 1.0000 - loss: 455.0910 - regularization_loss: 0.0000e+00 - total_loss: 455.0910 - val_factorized_top_k/top_1_categorical_accuracy: 0.0132 - val_factorized_top_k/top_5_categorical_accuracy: 0.2649 - val_factorized_top_k/top_10_categorical_accuracy: 0.6623 - val_factorized_top_k/top_50_categorical_accuracy: 1.0000 - val_factorized_top_k/top_100_categorical_accuracy: 1.0000 - val_loss: 204.0814 - val_regularization_loss: 0.0000e+00 - val_total_loss: 204.0814\n",
      "Epoch 13/100\n",
      "12/12 [==============================] - ETA: 0s - factorized_top_k/top_1_categorical_accuracy: 0.0083 - factorized_top_k/top_5_categorical_accuracy: 0.2567 - factorized_top_k/top_10_categorical_accuracy: 0.7275 - factorized_top_k/top_50_categorical_accuracy: 1.0000 - factorized_top_k/top_100_categorical_accuracy: 1.0000 - loss: 455.2764 - regularization_loss: 0.0000e+00 - total_loss: 455.2764\n",
      "Epoch 13: val_factorized_top_k/top_10_categorical_accuracy improved from 0.66225 to 0.70199, saving model to advance_acciden_model\\cp.ckpt\n"
     ]
    },
    {
     "name": "stdout",
     "output_type": "stream",
     "text": [
      "12/12 [==============================] - 1s 63ms/step - factorized_top_k/top_1_categorical_accuracy: 0.0083 - factorized_top_k/top_5_categorical_accuracy: 0.2567 - factorized_top_k/top_10_categorical_accuracy: 0.7275 - factorized_top_k/top_50_categorical_accuracy: 1.0000 - factorized_top_k/top_100_categorical_accuracy: 1.0000 - loss: 454.9425 - regularization_loss: 0.0000e+00 - total_loss: 454.9425 - val_factorized_top_k/top_1_categorical_accuracy: 0.0132 - val_factorized_top_k/top_5_categorical_accuracy: 0.2914 - val_factorized_top_k/top_10_categorical_accuracy: 0.7020 - val_factorized_top_k/top_50_categorical_accuracy: 1.0000 - val_factorized_top_k/top_100_categorical_accuracy: 1.0000 - val_loss: 204.2346 - val_regularization_loss: 0.0000e+00 - val_total_loss: 204.2346\n",
      "Epoch 14/100\n",
      "12/12 [==============================] - ETA: 0s - factorized_top_k/top_1_categorical_accuracy: 0.0092 - factorized_top_k/top_5_categorical_accuracy: 0.2442 - factorized_top_k/top_10_categorical_accuracy: 0.7383 - factorized_top_k/top_50_categorical_accuracy: 1.0000 - factorized_top_k/top_100_categorical_accuracy: 1.0000 - loss: 455.1139 - regularization_loss: 0.0000e+00 - total_loss: 455.1139\n",
      "Epoch 14: val_factorized_top_k/top_10_categorical_accuracy did not improve from 0.70199\n",
      "12/12 [==============================] - 1s 61ms/step - factorized_top_k/top_1_categorical_accuracy: 0.0092 - factorized_top_k/top_5_categorical_accuracy: 0.2442 - factorized_top_k/top_10_categorical_accuracy: 0.7383 - factorized_top_k/top_50_categorical_accuracy: 1.0000 - factorized_top_k/top_100_categorical_accuracy: 1.0000 - loss: 454.7955 - regularization_loss: 0.0000e+00 - total_loss: 454.7955 - val_factorized_top_k/top_1_categorical_accuracy: 0.0066 - val_factorized_top_k/top_5_categorical_accuracy: 0.2914 - val_factorized_top_k/top_10_categorical_accuracy: 0.7020 - val_factorized_top_k/top_50_categorical_accuracy: 1.0000 - val_factorized_top_k/top_100_categorical_accuracy: 1.0000 - val_loss: 204.1941 - val_regularization_loss: 0.0000e+00 - val_total_loss: 204.1941\n",
      "Epoch 15/100\n",
      "12/12 [==============================] - ETA: 0s - factorized_top_k/top_1_categorical_accuracy: 0.0117 - factorized_top_k/top_5_categorical_accuracy: 0.2392 - factorized_top_k/top_10_categorical_accuracy: 0.7433 - factorized_top_k/top_50_categorical_accuracy: 1.0000 - factorized_top_k/top_100_categorical_accuracy: 1.0000 - loss: 454.9503 - regularization_loss: 0.0000e+00 - total_loss: 454.9503\n",
      "Epoch 15: val_factorized_top_k/top_10_categorical_accuracy did not improve from 0.70199\n",
      "12/12 [==============================] - 1s 61ms/step - factorized_top_k/top_1_categorical_accuracy: 0.0117 - factorized_top_k/top_5_categorical_accuracy: 0.2392 - factorized_top_k/top_10_categorical_accuracy: 0.7433 - factorized_top_k/top_50_categorical_accuracy: 1.0000 - factorized_top_k/top_100_categorical_accuracy: 1.0000 - loss: 454.6464 - regularization_loss: 0.0000e+00 - total_loss: 454.6464 - val_factorized_top_k/top_1_categorical_accuracy: 0.0132 - val_factorized_top_k/top_5_categorical_accuracy: 0.2980 - val_factorized_top_k/top_10_categorical_accuracy: 0.6887 - val_factorized_top_k/top_50_categorical_accuracy: 1.0000 - val_factorized_top_k/top_100_categorical_accuracy: 1.0000 - val_loss: 204.1395 - val_regularization_loss: 0.0000e+00 - val_total_loss: 204.1395\n",
      "Epoch 16/100\n",
      "12/12 [==============================] - ETA: 0s - factorized_top_k/top_1_categorical_accuracy: 0.0117 - factorized_top_k/top_5_categorical_accuracy: 0.2442 - factorized_top_k/top_10_categorical_accuracy: 0.7392 - factorized_top_k/top_50_categorical_accuracy: 1.0000 - factorized_top_k/top_100_categorical_accuracy: 1.0000 - loss: 454.8266 - regularization_loss: 0.0000e+00 - total_loss: 454.8266\n",
      "Epoch 16: val_factorized_top_k/top_10_categorical_accuracy did not improve from 0.70199\n",
      "12/12 [==============================] - 1s 57ms/step - factorized_top_k/top_1_categorical_accuracy: 0.0117 - factorized_top_k/top_5_categorical_accuracy: 0.2442 - factorized_top_k/top_10_categorical_accuracy: 0.7392 - factorized_top_k/top_50_categorical_accuracy: 1.0000 - factorized_top_k/top_100_categorical_accuracy: 1.0000 - loss: 454.5394 - regularization_loss: 0.0000e+00 - total_loss: 454.5394 - val_factorized_top_k/top_1_categorical_accuracy: 0.0000e+00 - val_factorized_top_k/top_5_categorical_accuracy: 0.2384 - val_factorized_top_k/top_10_categorical_accuracy: 0.6887 - val_factorized_top_k/top_50_categorical_accuracy: 1.0000 - val_factorized_top_k/top_100_categorical_accuracy: 1.0000 - val_loss: 204.1268 - val_regularization_loss: 0.0000e+00 - val_total_loss: 204.1268\n",
      "Epoch 17/100\n",
      "11/12 [==========================>...] - ETA: 0s - factorized_top_k/top_1_categorical_accuracy: 0.0109 - factorized_top_k/top_5_categorical_accuracy: 0.2609 - factorized_top_k/top_10_categorical_accuracy: 0.7409 - factorized_top_k/top_50_categorical_accuracy: 1.0000 - factorized_top_k/top_100_categorical_accuracy: 1.0000 - loss: 455.0484 - regularization_loss: 0.0000e+00 - total_loss: 455.0484\n",
      "Epoch 17: val_factorized_top_k/top_10_categorical_accuracy did not improve from 0.70199\n",
      "12/12 [==============================] - 1s 57ms/step - factorized_top_k/top_1_categorical_accuracy: 0.0100 - factorized_top_k/top_5_categorical_accuracy: 0.2617 - factorized_top_k/top_10_categorical_accuracy: 0.7450 - factorized_top_k/top_50_categorical_accuracy: 1.0000 - factorized_top_k/top_100_categorical_accuracy: 1.0000 - loss: 454.4541 - regularization_loss: 0.0000e+00 - total_loss: 454.4541 - val_factorized_top_k/top_1_categorical_accuracy: 0.0066 - val_factorized_top_k/top_5_categorical_accuracy: 0.2848 - val_factorized_top_k/top_10_categorical_accuracy: 0.7020 - val_factorized_top_k/top_50_categorical_accuracy: 1.0000 - val_factorized_top_k/top_100_categorical_accuracy: 1.0000 - val_loss: 204.0374 - val_regularization_loss: 0.0000e+00 - val_total_loss: 204.0374\n",
      "Epoch 18/100\n",
      "11/12 [==========================>...] - ETA: 0s - factorized_top_k/top_1_categorical_accuracy: 0.0100 - factorized_top_k/top_5_categorical_accuracy: 0.2509 - factorized_top_k/top_10_categorical_accuracy: 0.7364 - factorized_top_k/top_50_categorical_accuracy: 1.0000 - factorized_top_k/top_100_categorical_accuracy: 1.0000 - loss: 454.9091 - regularization_loss: 0.0000e+00 - total_loss: 454.9091\n",
      "Epoch 18: val_factorized_top_k/top_10_categorical_accuracy did not improve from 0.70199\n",
      "12/12 [==============================] - 1s 57ms/step - factorized_top_k/top_1_categorical_accuracy: 0.0092 - factorized_top_k/top_5_categorical_accuracy: 0.2617 - factorized_top_k/top_10_categorical_accuracy: 0.7392 - factorized_top_k/top_50_categorical_accuracy: 1.0000 - factorized_top_k/top_100_categorical_accuracy: 1.0000 - loss: 454.3479 - regularization_loss: 0.0000e+00 - total_loss: 454.3479 - val_factorized_top_k/top_1_categorical_accuracy: 0.0132 - val_factorized_top_k/top_5_categorical_accuracy: 0.2053 - val_factorized_top_k/top_10_categorical_accuracy: 0.6821 - val_factorized_top_k/top_50_categorical_accuracy: 1.0000 - val_factorized_top_k/top_100_categorical_accuracy: 1.0000 - val_loss: 203.9219 - val_regularization_loss: 0.0000e+00 - val_total_loss: 203.9219\n",
      "Epoch 19/100\n",
      "12/12 [==============================] - ETA: 0s - factorized_top_k/top_1_categorical_accuracy: 0.0117 - factorized_top_k/top_5_categorical_accuracy: 0.2550 - factorized_top_k/top_10_categorical_accuracy: 0.7417 - factorized_top_k/top_50_categorical_accuracy: 1.0000 - factorized_top_k/top_100_categorical_accuracy: 1.0000 - loss: 454.5204 - regularization_loss: 0.0000e+00 - total_loss: 454.5204\n",
      "Epoch 19: val_factorized_top_k/top_10_categorical_accuracy did not improve from 0.70199\n",
      "12/12 [==============================] - 1s 59ms/step - factorized_top_k/top_1_categorical_accuracy: 0.0117 - factorized_top_k/top_5_categorical_accuracy: 0.2550 - factorized_top_k/top_10_categorical_accuracy: 0.7417 - factorized_top_k/top_50_categorical_accuracy: 1.0000 - factorized_top_k/top_100_categorical_accuracy: 1.0000 - loss: 454.2711 - regularization_loss: 0.0000e+00 - total_loss: 454.2711 - val_factorized_top_k/top_1_categorical_accuracy: 0.0132 - val_factorized_top_k/top_5_categorical_accuracy: 0.2914 - val_factorized_top_k/top_10_categorical_accuracy: 0.6954 - val_factorized_top_k/top_50_categorical_accuracy: 1.0000 - val_factorized_top_k/top_100_categorical_accuracy: 1.0000 - val_loss: 203.9762 - val_regularization_loss: 0.0000e+00 - val_total_loss: 203.9762\n"
     ]
    },
    {
     "name": "stdout",
     "output_type": "stream",
     "text": [
      "Epoch 20/100\n",
      "11/12 [==========================>...] - ETA: 0s - factorized_top_k/top_1_categorical_accuracy: 0.0109 - factorized_top_k/top_5_categorical_accuracy: 0.2591 - factorized_top_k/top_10_categorical_accuracy: 0.7355 - factorized_top_k/top_50_categorical_accuracy: 1.0000 - factorized_top_k/top_100_categorical_accuracy: 1.0000 - loss: 454.7109 - regularization_loss: 0.0000e+00 - total_loss: 454.7109\n",
      "Epoch 20: val_factorized_top_k/top_10_categorical_accuracy did not improve from 0.70199\n",
      "12/12 [==============================] - 1s 56ms/step - factorized_top_k/top_1_categorical_accuracy: 0.0100 - factorized_top_k/top_5_categorical_accuracy: 0.2692 - factorized_top_k/top_10_categorical_accuracy: 0.7392 - factorized_top_k/top_50_categorical_accuracy: 1.0000 - factorized_top_k/top_100_categorical_accuracy: 1.0000 - loss: 454.1887 - regularization_loss: 0.0000e+00 - total_loss: 454.1887 - val_factorized_top_k/top_1_categorical_accuracy: 0.0066 - val_factorized_top_k/top_5_categorical_accuracy: 0.2649 - val_factorized_top_k/top_10_categorical_accuracy: 0.6821 - val_factorized_top_k/top_50_categorical_accuracy: 1.0000 - val_factorized_top_k/top_100_categorical_accuracy: 1.0000 - val_loss: 203.9980 - val_regularization_loss: 0.0000e+00 - val_total_loss: 203.9980\n",
      "Epoch 21/100\n",
      "12/12 [==============================] - ETA: 0s - factorized_top_k/top_1_categorical_accuracy: 0.0083 - factorized_top_k/top_5_categorical_accuracy: 0.2625 - factorized_top_k/top_10_categorical_accuracy: 0.7508 - factorized_top_k/top_50_categorical_accuracy: 1.0000 - factorized_top_k/top_100_categorical_accuracy: 1.0000 - loss: 454.3675 - regularization_loss: 0.0000e+00 - total_loss: 454.3675\n",
      "Epoch 21: val_factorized_top_k/top_10_categorical_accuracy did not improve from 0.70199\n",
      "12/12 [==============================] - 1s 58ms/step - factorized_top_k/top_1_categorical_accuracy: 0.0083 - factorized_top_k/top_5_categorical_accuracy: 0.2625 - factorized_top_k/top_10_categorical_accuracy: 0.7508 - factorized_top_k/top_50_categorical_accuracy: 1.0000 - factorized_top_k/top_100_categorical_accuracy: 1.0000 - loss: 454.1228 - regularization_loss: 0.0000e+00 - total_loss: 454.1228 - val_factorized_top_k/top_1_categorical_accuracy: 0.0066 - val_factorized_top_k/top_5_categorical_accuracy: 0.2781 - val_factorized_top_k/top_10_categorical_accuracy: 0.6821 - val_factorized_top_k/top_50_categorical_accuracy: 1.0000 - val_factorized_top_k/top_100_categorical_accuracy: 1.0000 - val_loss: 203.9018 - val_regularization_loss: 0.0000e+00 - val_total_loss: 203.9018\n",
      "Epoch 22/100\n",
      "11/12 [==========================>...] - ETA: 0s - factorized_top_k/top_1_categorical_accuracy: 0.0109 - factorized_top_k/top_5_categorical_accuracy: 0.2573 - factorized_top_k/top_10_categorical_accuracy: 0.7545 - factorized_top_k/top_50_categorical_accuracy: 1.0000 - factorized_top_k/top_100_categorical_accuracy: 1.0000 - loss: 454.5889 - regularization_loss: 0.0000e+00 - total_loss: 454.5889\n",
      "Epoch 22: val_factorized_top_k/top_10_categorical_accuracy did not improve from 0.70199\n",
      "12/12 [==============================] - 1s 58ms/step - factorized_top_k/top_1_categorical_accuracy: 0.0100 - factorized_top_k/top_5_categorical_accuracy: 0.2642 - factorized_top_k/top_10_categorical_accuracy: 0.7567 - factorized_top_k/top_50_categorical_accuracy: 1.0000 - factorized_top_k/top_100_categorical_accuracy: 1.0000 - loss: 454.0668 - regularization_loss: 0.0000e+00 - total_loss: 454.0668 - val_factorized_top_k/top_1_categorical_accuracy: 0.0066 - val_factorized_top_k/top_5_categorical_accuracy: 0.2781 - val_factorized_top_k/top_10_categorical_accuracy: 0.6954 - val_factorized_top_k/top_50_categorical_accuracy: 1.0000 - val_factorized_top_k/top_100_categorical_accuracy: 1.0000 - val_loss: 203.8337 - val_regularization_loss: 0.0000e+00 - val_total_loss: 203.8337\n",
      "Epoch 23/100\n",
      "11/12 [==========================>...] - ETA: 0s - factorized_top_k/top_1_categorical_accuracy: 0.0100 - factorized_top_k/top_5_categorical_accuracy: 0.2455 - factorized_top_k/top_10_categorical_accuracy: 0.7445 - factorized_top_k/top_50_categorical_accuracy: 1.0000 - factorized_top_k/top_100_categorical_accuracy: 1.0000 - loss: 454.5110 - regularization_loss: 0.0000e+00 - total_loss: 454.5110\n",
      "Epoch 23: val_factorized_top_k/top_10_categorical_accuracy did not improve from 0.70199\n",
      "12/12 [==============================] - 1s 57ms/step - factorized_top_k/top_1_categorical_accuracy: 0.0092 - factorized_top_k/top_5_categorical_accuracy: 0.2525 - factorized_top_k/top_10_categorical_accuracy: 0.7467 - factorized_top_k/top_50_categorical_accuracy: 1.0000 - factorized_top_k/top_100_categorical_accuracy: 1.0000 - loss: 454.0087 - regularization_loss: 0.0000e+00 - total_loss: 454.0087 - val_factorized_top_k/top_1_categorical_accuracy: 0.0066 - val_factorized_top_k/top_5_categorical_accuracy: 0.1854 - val_factorized_top_k/top_10_categorical_accuracy: 0.6954 - val_factorized_top_k/top_50_categorical_accuracy: 1.0000 - val_factorized_top_k/top_100_categorical_accuracy: 1.0000 - val_loss: 203.8430 - val_regularization_loss: 0.0000e+00 - val_total_loss: 203.8430\n",
      "Epoch 24/100\n",
      "12/12 [==============================] - ETA: 0s - factorized_top_k/top_1_categorical_accuracy: 0.0125 - factorized_top_k/top_5_categorical_accuracy: 0.2525 - factorized_top_k/top_10_categorical_accuracy: 0.7383 - factorized_top_k/top_50_categorical_accuracy: 1.0000 - factorized_top_k/top_100_categorical_accuracy: 1.0000 - loss: 454.1756 - regularization_loss: 0.0000e+00 - total_loss: 454.1756\n",
      "Epoch 24: val_factorized_top_k/top_10_categorical_accuracy did not improve from 0.70199\n",
      "12/12 [==============================] - 1s 59ms/step - factorized_top_k/top_1_categorical_accuracy: 0.0125 - factorized_top_k/top_5_categorical_accuracy: 0.2525 - factorized_top_k/top_10_categorical_accuracy: 0.7383 - factorized_top_k/top_50_categorical_accuracy: 1.0000 - factorized_top_k/top_100_categorical_accuracy: 1.0000 - loss: 453.9525 - regularization_loss: 0.0000e+00 - total_loss: 453.9525 - val_factorized_top_k/top_1_categorical_accuracy: 0.0132 - val_factorized_top_k/top_5_categorical_accuracy: 0.1987 - val_factorized_top_k/top_10_categorical_accuracy: 0.6887 - val_factorized_top_k/top_50_categorical_accuracy: 1.0000 - val_factorized_top_k/top_100_categorical_accuracy: 1.0000 - val_loss: 203.7708 - val_regularization_loss: 0.0000e+00 - val_total_loss: 203.7708\n",
      "Epoch 25/100\n",
      "11/12 [==========================>...] - ETA: 0s - factorized_top_k/top_1_categorical_accuracy: 0.0091 - factorized_top_k/top_5_categorical_accuracy: 0.2336 - factorized_top_k/top_10_categorical_accuracy: 0.7309 - factorized_top_k/top_50_categorical_accuracy: 1.0000 - factorized_top_k/top_100_categorical_accuracy: 1.0000 - loss: 454.3846 - regularization_loss: 0.0000e+00 - total_loss: 454.3846\n",
      "Epoch 25: val_factorized_top_k/top_10_categorical_accuracy did not improve from 0.70199\n",
      "12/12 [==============================] - 1s 55ms/step - factorized_top_k/top_1_categorical_accuracy: 0.0083 - factorized_top_k/top_5_categorical_accuracy: 0.2442 - factorized_top_k/top_10_categorical_accuracy: 0.7350 - factorized_top_k/top_50_categorical_accuracy: 1.0000 - factorized_top_k/top_100_categorical_accuracy: 1.0000 - loss: 453.9018 - regularization_loss: 0.0000e+00 - total_loss: 453.9018 - val_factorized_top_k/top_1_categorical_accuracy: 0.0132 - val_factorized_top_k/top_5_categorical_accuracy: 0.2583 - val_factorized_top_k/top_10_categorical_accuracy: 0.7020 - val_factorized_top_k/top_50_categorical_accuracy: 1.0000 - val_factorized_top_k/top_100_categorical_accuracy: 1.0000 - val_loss: 203.7318 - val_regularization_loss: 0.0000e+00 - val_total_loss: 203.7318\n",
      "Epoch 26/100\n",
      "11/12 [==========================>...] - ETA: 0s - factorized_top_k/top_1_categorical_accuracy: 0.0091 - factorized_top_k/top_5_categorical_accuracy: 0.2364 - factorized_top_k/top_10_categorical_accuracy: 0.7355 - factorized_top_k/top_50_categorical_accuracy: 1.0000 - factorized_top_k/top_100_categorical_accuracy: 1.0000 - loss: 454.3284 - regularization_loss: 0.0000e+00 - total_loss: 454.3284\n",
      "Epoch 26: val_factorized_top_k/top_10_categorical_accuracy did not improve from 0.70199\n",
      "12/12 [==============================] - 1s 56ms/step - factorized_top_k/top_1_categorical_accuracy: 0.0083 - factorized_top_k/top_5_categorical_accuracy: 0.2458 - factorized_top_k/top_10_categorical_accuracy: 0.7367 - factorized_top_k/top_50_categorical_accuracy: 1.0000 - factorized_top_k/top_100_categorical_accuracy: 1.0000 - loss: 453.8837 - regularization_loss: 0.0000e+00 - total_loss: 453.8837 - val_factorized_top_k/top_1_categorical_accuracy: 0.0066 - val_factorized_top_k/top_5_categorical_accuracy: 0.2119 - val_factorized_top_k/top_10_categorical_accuracy: 0.6887 - val_factorized_top_k/top_50_categorical_accuracy: 1.0000 - val_factorized_top_k/top_100_categorical_accuracy: 1.0000 - val_loss: 203.6339 - val_regularization_loss: 0.0000e+00 - val_total_loss: 203.6339\n"
     ]
    },
    {
     "name": "stdout",
     "output_type": "stream",
     "text": [
      "Epoch 27/100\n",
      "11/12 [==========================>...] - ETA: 0s - factorized_top_k/top_1_categorical_accuracy: 0.0091 - factorized_top_k/top_5_categorical_accuracy: 0.2273 - factorized_top_k/top_10_categorical_accuracy: 0.7400 - factorized_top_k/top_50_categorical_accuracy: 1.0000 - factorized_top_k/top_100_categorical_accuracy: 1.0000 - loss: 454.2760 - regularization_loss: 0.0000e+00 - total_loss: 454.2760\n",
      "Epoch 27: val_factorized_top_k/top_10_categorical_accuracy did not improve from 0.70199\n",
      "12/12 [==============================] - 1s 59ms/step - factorized_top_k/top_1_categorical_accuracy: 0.0083 - factorized_top_k/top_5_categorical_accuracy: 0.2300 - factorized_top_k/top_10_categorical_accuracy: 0.7408 - factorized_top_k/top_50_categorical_accuracy: 1.0000 - factorized_top_k/top_100_categorical_accuracy: 1.0000 - loss: 453.8153 - regularization_loss: 0.0000e+00 - total_loss: 453.8153 - val_factorized_top_k/top_1_categorical_accuracy: 0.0066 - val_factorized_top_k/top_5_categorical_accuracy: 0.1854 - val_factorized_top_k/top_10_categorical_accuracy: 0.6887 - val_factorized_top_k/top_50_categorical_accuracy: 1.0000 - val_factorized_top_k/top_100_categorical_accuracy: 1.0000 - val_loss: 203.7559 - val_regularization_loss: 0.0000e+00 - val_total_loss: 203.7559\n",
      "Epoch 28/100\n",
      "12/12 [==============================] - ETA: 0s - factorized_top_k/top_1_categorical_accuracy: 0.0083 - factorized_top_k/top_5_categorical_accuracy: 0.2425 - factorized_top_k/top_10_categorical_accuracy: 0.7392 - factorized_top_k/top_50_categorical_accuracy: 1.0000 - factorized_top_k/top_100_categorical_accuracy: 1.0000 - loss: 453.9947 - regularization_loss: 0.0000e+00 - total_loss: 453.9947\n",
      "Epoch 28: val_factorized_top_k/top_10_categorical_accuracy did not improve from 0.70199\n",
      "12/12 [==============================] - 1s 58ms/step - factorized_top_k/top_1_categorical_accuracy: 0.0083 - factorized_top_k/top_5_categorical_accuracy: 0.2425 - factorized_top_k/top_10_categorical_accuracy: 0.7392 - factorized_top_k/top_50_categorical_accuracy: 1.0000 - factorized_top_k/top_100_categorical_accuracy: 1.0000 - loss: 453.7792 - regularization_loss: 0.0000e+00 - total_loss: 453.7792 - val_factorized_top_k/top_1_categorical_accuracy: 0.0000e+00 - val_factorized_top_k/top_5_categorical_accuracy: 0.1987 - val_factorized_top_k/top_10_categorical_accuracy: 0.7020 - val_factorized_top_k/top_50_categorical_accuracy: 1.0000 - val_factorized_top_k/top_100_categorical_accuracy: 1.0000 - val_loss: 203.7050 - val_regularization_loss: 0.0000e+00 - val_total_loss: 203.7050\n",
      "Epoch 29/100\n",
      "12/12 [==============================] - ETA: 0s - factorized_top_k/top_1_categorical_accuracy: 0.0075 - factorized_top_k/top_5_categorical_accuracy: 0.2325 - factorized_top_k/top_10_categorical_accuracy: 0.7425 - factorized_top_k/top_50_categorical_accuracy: 1.0000 - factorized_top_k/top_100_categorical_accuracy: 1.0000 - loss: 453.9232 - regularization_loss: 0.0000e+00 - total_loss: 453.9232\n",
      "Epoch 29: val_factorized_top_k/top_10_categorical_accuracy improved from 0.70199 to 0.71523, saving model to advance_acciden_model\\cp.ckpt\n",
      "12/12 [==============================] - 1s 61ms/step - factorized_top_k/top_1_categorical_accuracy: 0.0075 - factorized_top_k/top_5_categorical_accuracy: 0.2325 - factorized_top_k/top_10_categorical_accuracy: 0.7425 - factorized_top_k/top_50_categorical_accuracy: 1.0000 - factorized_top_k/top_100_categorical_accuracy: 1.0000 - loss: 453.7115 - regularization_loss: 0.0000e+00 - total_loss: 453.7115 - val_factorized_top_k/top_1_categorical_accuracy: 0.0066 - val_factorized_top_k/top_5_categorical_accuracy: 0.1854 - val_factorized_top_k/top_10_categorical_accuracy: 0.7152 - val_factorized_top_k/top_50_categorical_accuracy: 1.0000 - val_factorized_top_k/top_100_categorical_accuracy: 1.0000 - val_loss: 203.7329 - val_regularization_loss: 0.0000e+00 - val_total_loss: 203.7329\n",
      "Epoch 30/100\n",
      "12/12 [==============================] - ETA: 0s - factorized_top_k/top_1_categorical_accuracy: 0.0092 - factorized_top_k/top_5_categorical_accuracy: 0.2358 - factorized_top_k/top_10_categorical_accuracy: 0.7475 - factorized_top_k/top_50_categorical_accuracy: 1.0000 - factorized_top_k/top_100_categorical_accuracy: 1.0000 - loss: 453.8668 - regularization_loss: 0.0000e+00 - total_loss: 453.8668\n",
      "Epoch 30: val_factorized_top_k/top_10_categorical_accuracy did not improve from 0.71523\n",
      "12/12 [==============================] - 1s 57ms/step - factorized_top_k/top_1_categorical_accuracy: 0.0092 - factorized_top_k/top_5_categorical_accuracy: 0.2358 - factorized_top_k/top_10_categorical_accuracy: 0.7475 - factorized_top_k/top_50_categorical_accuracy: 1.0000 - factorized_top_k/top_100_categorical_accuracy: 1.0000 - loss: 453.6615 - regularization_loss: 0.0000e+00 - total_loss: 453.6615 - val_factorized_top_k/top_1_categorical_accuracy: 0.0066 - val_factorized_top_k/top_5_categorical_accuracy: 0.2119 - val_factorized_top_k/top_10_categorical_accuracy: 0.7020 - val_factorized_top_k/top_50_categorical_accuracy: 1.0000 - val_factorized_top_k/top_100_categorical_accuracy: 1.0000 - val_loss: 203.8585 - val_regularization_loss: 0.0000e+00 - val_total_loss: 203.8585\n",
      "Epoch 31/100\n",
      "12/12 [==============================] - ETA: 0s - factorized_top_k/top_1_categorical_accuracy: 0.0075 - factorized_top_k/top_5_categorical_accuracy: 0.2425 - factorized_top_k/top_10_categorical_accuracy: 0.7425 - factorized_top_k/top_50_categorical_accuracy: 1.0000 - factorized_top_k/top_100_categorical_accuracy: 1.0000 - loss: 453.8217 - regularization_loss: 0.0000e+00 - total_loss: 453.8217\n",
      "Epoch 31: val_factorized_top_k/top_10_categorical_accuracy did not improve from 0.71523\n",
      "12/12 [==============================] - 1s 57ms/step - factorized_top_k/top_1_categorical_accuracy: 0.0075 - factorized_top_k/top_5_categorical_accuracy: 0.2425 - factorized_top_k/top_10_categorical_accuracy: 0.7425 - factorized_top_k/top_50_categorical_accuracy: 1.0000 - factorized_top_k/top_100_categorical_accuracy: 1.0000 - loss: 453.6196 - regularization_loss: 0.0000e+00 - total_loss: 453.6196 - val_factorized_top_k/top_1_categorical_accuracy: 0.0066 - val_factorized_top_k/top_5_categorical_accuracy: 0.2384 - val_factorized_top_k/top_10_categorical_accuracy: 0.6556 - val_factorized_top_k/top_50_categorical_accuracy: 1.0000 - val_factorized_top_k/top_100_categorical_accuracy: 1.0000 - val_loss: 203.8267 - val_regularization_loss: 0.0000e+00 - val_total_loss: 203.8267\n",
      "Epoch 32/100\n",
      "11/12 [==========================>...] - ETA: 0s - factorized_top_k/top_1_categorical_accuracy: 0.0091 - factorized_top_k/top_5_categorical_accuracy: 0.2291 - factorized_top_k/top_10_categorical_accuracy: 0.7518 - factorized_top_k/top_50_categorical_accuracy: 1.0000 - factorized_top_k/top_100_categorical_accuracy: 1.0000 - loss: 453.9987 - regularization_loss: 0.0000e+00 - total_loss: 453.9987\n",
      "Epoch 32: val_factorized_top_k/top_10_categorical_accuracy did not improve from 0.71523\n",
      "12/12 [==============================] - 1s 56ms/step - factorized_top_k/top_1_categorical_accuracy: 0.0083 - factorized_top_k/top_5_categorical_accuracy: 0.2392 - factorized_top_k/top_10_categorical_accuracy: 0.7508 - factorized_top_k/top_50_categorical_accuracy: 1.0000 - factorized_top_k/top_100_categorical_accuracy: 1.0000 - loss: 453.5585 - regularization_loss: 0.0000e+00 - total_loss: 453.5585 - val_factorized_top_k/top_1_categorical_accuracy: 0.0066 - val_factorized_top_k/top_5_categorical_accuracy: 0.2583 - val_factorized_top_k/top_10_categorical_accuracy: 0.7020 - val_factorized_top_k/top_50_categorical_accuracy: 1.0000 - val_factorized_top_k/top_100_categorical_accuracy: 1.0000 - val_loss: 203.8783 - val_regularization_loss: 0.0000e+00 - val_total_loss: 203.8783\n",
      "Epoch 33/100\n",
      "11/12 [==========================>...] - ETA: 0s - factorized_top_k/top_1_categorical_accuracy: 0.0091 - factorized_top_k/top_5_categorical_accuracy: 0.2191 - factorized_top_k/top_10_categorical_accuracy: 0.7482 - factorized_top_k/top_50_categorical_accuracy: 1.0000 - factorized_top_k/top_100_categorical_accuracy: 1.0000 - loss: 453.9543 - regularization_loss: 0.0000e+00 - total_loss: 453.9543\n",
      "Epoch 33: val_factorized_top_k/top_10_categorical_accuracy did not improve from 0.71523\n"
     ]
    },
    {
     "name": "stdout",
     "output_type": "stream",
     "text": [
      "12/12 [==============================] - 1s 58ms/step - factorized_top_k/top_1_categorical_accuracy: 0.0083 - factorized_top_k/top_5_categorical_accuracy: 0.2300 - factorized_top_k/top_10_categorical_accuracy: 0.7475 - factorized_top_k/top_50_categorical_accuracy: 1.0000 - factorized_top_k/top_100_categorical_accuracy: 1.0000 - loss: 453.5192 - regularization_loss: 0.0000e+00 - total_loss: 453.5192 - val_factorized_top_k/top_1_categorical_accuracy: 0.0066 - val_factorized_top_k/top_5_categorical_accuracy: 0.2583 - val_factorized_top_k/top_10_categorical_accuracy: 0.6623 - val_factorized_top_k/top_50_categorical_accuracy: 1.0000 - val_factorized_top_k/top_100_categorical_accuracy: 1.0000 - val_loss: 203.9747 - val_regularization_loss: 0.0000e+00 - val_total_loss: 203.9747\n",
      "Epoch 34/100\n",
      "12/12 [==============================] - ETA: 0s - factorized_top_k/top_1_categorical_accuracy: 0.0075 - factorized_top_k/top_5_categorical_accuracy: 0.2225 - factorized_top_k/top_10_categorical_accuracy: 0.7475 - factorized_top_k/top_50_categorical_accuracy: 1.0000 - factorized_top_k/top_100_categorical_accuracy: 1.0000 - loss: 453.6579 - regularization_loss: 0.0000e+00 - total_loss: 453.6579\n",
      "Epoch 34: val_factorized_top_k/top_10_categorical_accuracy did not improve from 0.71523\n",
      "12/12 [==============================] - 1s 57ms/step - factorized_top_k/top_1_categorical_accuracy: 0.0075 - factorized_top_k/top_5_categorical_accuracy: 0.2225 - factorized_top_k/top_10_categorical_accuracy: 0.7475 - factorized_top_k/top_50_categorical_accuracy: 1.0000 - factorized_top_k/top_100_categorical_accuracy: 1.0000 - loss: 453.4617 - regularization_loss: 0.0000e+00 - total_loss: 453.4617 - val_factorized_top_k/top_1_categorical_accuracy: 0.0066 - val_factorized_top_k/top_5_categorical_accuracy: 0.1987 - val_factorized_top_k/top_10_categorical_accuracy: 0.7020 - val_factorized_top_k/top_50_categorical_accuracy: 1.0000 - val_factorized_top_k/top_100_categorical_accuracy: 1.0000 - val_loss: 204.0079 - val_regularization_loss: 0.0000e+00 - val_total_loss: 204.0079\n",
      "Epoch 35/100\n",
      "12/12 [==============================] - ETA: 0s - factorized_top_k/top_1_categorical_accuracy: 0.0075 - factorized_top_k/top_5_categorical_accuracy: 0.2267 - factorized_top_k/top_10_categorical_accuracy: 0.7425 - factorized_top_k/top_50_categorical_accuracy: 1.0000 - factorized_top_k/top_100_categorical_accuracy: 1.0000 - loss: 453.6138 - regularization_loss: 0.0000e+00 - total_loss: 453.6138\n",
      "Epoch 35: val_factorized_top_k/top_10_categorical_accuracy did not improve from 0.71523\n",
      "12/12 [==============================] - 1s 59ms/step - factorized_top_k/top_1_categorical_accuracy: 0.0075 - factorized_top_k/top_5_categorical_accuracy: 0.2267 - factorized_top_k/top_10_categorical_accuracy: 0.7425 - factorized_top_k/top_50_categorical_accuracy: 1.0000 - factorized_top_k/top_100_categorical_accuracy: 1.0000 - loss: 453.4151 - regularization_loss: 0.0000e+00 - total_loss: 453.4151 - val_factorized_top_k/top_1_categorical_accuracy: 0.0000e+00 - val_factorized_top_k/top_5_categorical_accuracy: 0.1854 - val_factorized_top_k/top_10_categorical_accuracy: 0.7086 - val_factorized_top_k/top_50_categorical_accuracy: 1.0000 - val_factorized_top_k/top_100_categorical_accuracy: 1.0000 - val_loss: 204.0654 - val_regularization_loss: 0.0000e+00 - val_total_loss: 204.0654\n",
      "Epoch 36/100\n",
      "12/12 [==============================] - ETA: 0s - factorized_top_k/top_1_categorical_accuracy: 0.0067 - factorized_top_k/top_5_categorical_accuracy: 0.2358 - factorized_top_k/top_10_categorical_accuracy: 0.7400 - factorized_top_k/top_50_categorical_accuracy: 1.0000 - factorized_top_k/top_100_categorical_accuracy: 1.0000 - loss: 453.5744 - regularization_loss: 0.0000e+00 - total_loss: 453.5744\n",
      "Epoch 36: val_factorized_top_k/top_10_categorical_accuracy did not improve from 0.71523\n",
      "12/12 [==============================] - 1s 58ms/step - factorized_top_k/top_1_categorical_accuracy: 0.0067 - factorized_top_k/top_5_categorical_accuracy: 0.2358 - factorized_top_k/top_10_categorical_accuracy: 0.7400 - factorized_top_k/top_50_categorical_accuracy: 1.0000 - factorized_top_k/top_100_categorical_accuracy: 1.0000 - loss: 453.3778 - regularization_loss: 0.0000e+00 - total_loss: 453.3778 - val_factorized_top_k/top_1_categorical_accuracy: 0.0066 - val_factorized_top_k/top_5_categorical_accuracy: 0.2053 - val_factorized_top_k/top_10_categorical_accuracy: 0.7086 - val_factorized_top_k/top_50_categorical_accuracy: 1.0000 - val_factorized_top_k/top_100_categorical_accuracy: 1.0000 - val_loss: 204.1541 - val_regularization_loss: 0.0000e+00 - val_total_loss: 204.1541\n",
      "Epoch 37/100\n",
      "11/12 [==========================>...] - ETA: 0s - factorized_top_k/top_1_categorical_accuracy: 0.0082 - factorized_top_k/top_5_categorical_accuracy: 0.2218 - factorized_top_k/top_10_categorical_accuracy: 0.7318 - factorized_top_k/top_50_categorical_accuracy: 1.0000 - factorized_top_k/top_100_categorical_accuracy: 1.0000 - loss: 453.7705 - regularization_loss: 0.0000e+00 - total_loss: 453.7705\n",
      "Epoch 37: val_factorized_top_k/top_10_categorical_accuracy did not improve from 0.71523\n",
      "12/12 [==============================] - 1s 56ms/step - factorized_top_k/top_1_categorical_accuracy: 0.0075 - factorized_top_k/top_5_categorical_accuracy: 0.2300 - factorized_top_k/top_10_categorical_accuracy: 0.7325 - factorized_top_k/top_50_categorical_accuracy: 1.0000 - factorized_top_k/top_100_categorical_accuracy: 1.0000 - loss: 453.3516 - regularization_loss: 0.0000e+00 - total_loss: 453.3516 - val_factorized_top_k/top_1_categorical_accuracy: 0.0066 - val_factorized_top_k/top_5_categorical_accuracy: 0.2053 - val_factorized_top_k/top_10_categorical_accuracy: 0.6887 - val_factorized_top_k/top_50_categorical_accuracy: 1.0000 - val_factorized_top_k/top_100_categorical_accuracy: 1.0000 - val_loss: 204.1927 - val_regularization_loss: 0.0000e+00 - val_total_loss: 204.1927\n",
      "Epoch 38/100\n",
      "12/12 [==============================] - ETA: 0s - factorized_top_k/top_1_categorical_accuracy: 0.0067 - factorized_top_k/top_5_categorical_accuracy: 0.2150 - factorized_top_k/top_10_categorical_accuracy: 0.7350 - factorized_top_k/top_50_categorical_accuracy: 1.0000 - factorized_top_k/top_100_categorical_accuracy: 1.0000 - loss: 453.5099 - regularization_loss: 0.0000e+00 - total_loss: 453.5099\n",
      "Epoch 38: val_factorized_top_k/top_10_categorical_accuracy did not improve from 0.71523\n",
      "12/12 [==============================] - 1s 58ms/step - factorized_top_k/top_1_categorical_accuracy: 0.0067 - factorized_top_k/top_5_categorical_accuracy: 0.2150 - factorized_top_k/top_10_categorical_accuracy: 0.7350 - factorized_top_k/top_50_categorical_accuracy: 1.0000 - factorized_top_k/top_100_categorical_accuracy: 1.0000 - loss: 453.3222 - regularization_loss: 0.0000e+00 - total_loss: 453.3222 - val_factorized_top_k/top_1_categorical_accuracy: 0.0000e+00 - val_factorized_top_k/top_5_categorical_accuracy: 0.1722 - val_factorized_top_k/top_10_categorical_accuracy: 0.6291 - val_factorized_top_k/top_50_categorical_accuracy: 1.0000 - val_factorized_top_k/top_100_categorical_accuracy: 1.0000 - val_loss: 204.2332 - val_regularization_loss: 0.0000e+00 - val_total_loss: 204.2332\n",
      "Epoch 39/100\n",
      "11/12 [==========================>...] - ETA: 0s - factorized_top_k/top_1_categorical_accuracy: 0.0073 - factorized_top_k/top_5_categorical_accuracy: 0.2109 - factorized_top_k/top_10_categorical_accuracy: 0.7345 - factorized_top_k/top_50_categorical_accuracy: 1.0000 - factorized_top_k/top_100_categorical_accuracy: 1.0000 - loss: 453.6790 - regularization_loss: 0.0000e+00 - total_loss: 453.6790\n",
      "Epoch 39: val_factorized_top_k/top_10_categorical_accuracy did not improve from 0.71523\n",
      "12/12 [==============================] - 1s 59ms/step - factorized_top_k/top_1_categorical_accuracy: 0.0067 - factorized_top_k/top_5_categorical_accuracy: 0.2117 - factorized_top_k/top_10_categorical_accuracy: 0.7350 - factorized_top_k/top_50_categorical_accuracy: 1.0000 - factorized_top_k/top_100_categorical_accuracy: 1.0000 - loss: 453.2801 - regularization_loss: 0.0000e+00 - total_loss: 453.2801 - val_factorized_top_k/top_1_categorical_accuracy: 0.0066 - val_factorized_top_k/top_5_categorical_accuracy: 0.1921 - val_factorized_top_k/top_10_categorical_accuracy: 0.6887 - val_factorized_top_k/top_50_categorical_accuracy: 1.0000 - val_factorized_top_k/top_100_categorical_accuracy: 1.0000 - val_loss: 204.3857 - val_regularization_loss: 0.0000e+00 - val_total_loss: 204.3857\n"
     ]
    },
    {
     "name": "stdout",
     "output_type": "stream",
     "text": [
      "Epoch 40/100\n",
      "11/12 [==========================>...] - ETA: 0s - factorized_top_k/top_1_categorical_accuracy: 0.0073 - factorized_top_k/top_5_categorical_accuracy: 0.2155 - factorized_top_k/top_10_categorical_accuracy: 0.7345 - factorized_top_k/top_50_categorical_accuracy: 1.0000 - factorized_top_k/top_100_categorical_accuracy: 1.0000 - loss: 453.6643 - regularization_loss: 0.0000e+00 - total_loss: 453.6643\n",
      "Epoch 40: val_factorized_top_k/top_10_categorical_accuracy did not improve from 0.71523\n",
      "12/12 [==============================] - 1s 58ms/step - factorized_top_k/top_1_categorical_accuracy: 0.0067 - factorized_top_k/top_5_categorical_accuracy: 0.2150 - factorized_top_k/top_10_categorical_accuracy: 0.7342 - factorized_top_k/top_50_categorical_accuracy: 1.0000 - factorized_top_k/top_100_categorical_accuracy: 1.0000 - loss: 453.2616 - regularization_loss: 0.0000e+00 - total_loss: 453.2616 - val_factorized_top_k/top_1_categorical_accuracy: 0.0066 - val_factorized_top_k/top_5_categorical_accuracy: 0.1656 - val_factorized_top_k/top_10_categorical_accuracy: 0.7152 - val_factorized_top_k/top_50_categorical_accuracy: 1.0000 - val_factorized_top_k/top_100_categorical_accuracy: 1.0000 - val_loss: 204.3649 - val_regularization_loss: 0.0000e+00 - val_total_loss: 204.3649\n",
      "Epoch 41/100\n",
      "11/12 [==========================>...] - ETA: 0s - factorized_top_k/top_1_categorical_accuracy: 0.0073 - factorized_top_k/top_5_categorical_accuracy: 0.2100 - factorized_top_k/top_10_categorical_accuracy: 0.7327 - factorized_top_k/top_50_categorical_accuracy: 1.0000 - factorized_top_k/top_100_categorical_accuracy: 1.0000 - loss: 453.6255 - regularization_loss: 0.0000e+00 - total_loss: 453.6255\n",
      "Epoch 41: val_factorized_top_k/top_10_categorical_accuracy did not improve from 0.71523\n",
      "12/12 [==============================] - 1s 56ms/step - factorized_top_k/top_1_categorical_accuracy: 0.0067 - factorized_top_k/top_5_categorical_accuracy: 0.2100 - factorized_top_k/top_10_categorical_accuracy: 0.7325 - factorized_top_k/top_50_categorical_accuracy: 1.0000 - factorized_top_k/top_100_categorical_accuracy: 1.0000 - loss: 453.2340 - regularization_loss: 0.0000e+00 - total_loss: 453.2340 - val_factorized_top_k/top_1_categorical_accuracy: 0.0066 - val_factorized_top_k/top_5_categorical_accuracy: 0.1921 - val_factorized_top_k/top_10_categorical_accuracy: 0.6291 - val_factorized_top_k/top_50_categorical_accuracy: 1.0000 - val_factorized_top_k/top_100_categorical_accuracy: 1.0000 - val_loss: 204.3942 - val_regularization_loss: 0.0000e+00 - val_total_loss: 204.3942\n",
      "Epoch 42/100\n",
      "11/12 [==========================>...] - ETA: 0s - factorized_top_k/top_1_categorical_accuracy: 0.0064 - factorized_top_k/top_5_categorical_accuracy: 0.2109 - factorized_top_k/top_10_categorical_accuracy: 0.7355 - factorized_top_k/top_50_categorical_accuracy: 1.0000 - factorized_top_k/top_100_categorical_accuracy: 1.0000 - loss: 453.5804 - regularization_loss: 0.0000e+00 - total_loss: 453.5804\n",
      "Epoch 42: val_factorized_top_k/top_10_categorical_accuracy did not improve from 0.71523\n",
      "12/12 [==============================] - 1s 58ms/step - factorized_top_k/top_1_categorical_accuracy: 0.0058 - factorized_top_k/top_5_categorical_accuracy: 0.2108 - factorized_top_k/top_10_categorical_accuracy: 0.7350 - factorized_top_k/top_50_categorical_accuracy: 1.0000 - factorized_top_k/top_100_categorical_accuracy: 1.0000 - loss: 453.2039 - regularization_loss: 0.0000e+00 - total_loss: 453.2039 - val_factorized_top_k/top_1_categorical_accuracy: 0.0000e+00 - val_factorized_top_k/top_5_categorical_accuracy: 0.1921 - val_factorized_top_k/top_10_categorical_accuracy: 0.6887 - val_factorized_top_k/top_50_categorical_accuracy: 1.0000 - val_factorized_top_k/top_100_categorical_accuracy: 1.0000 - val_loss: 204.5655 - val_regularization_loss: 0.0000e+00 - val_total_loss: 204.5655\n",
      "Epoch 43/100\n",
      "11/12 [==========================>...] - ETA: 0s - factorized_top_k/top_1_categorical_accuracy: 0.0073 - factorized_top_k/top_5_categorical_accuracy: 0.2100 - factorized_top_k/top_10_categorical_accuracy: 0.7345 - factorized_top_k/top_50_categorical_accuracy: 1.0000 - factorized_top_k/top_100_categorical_accuracy: 1.0000 - loss: 453.5661 - regularization_loss: 0.0000e+00 - total_loss: 453.5661\n",
      "Epoch 43: val_factorized_top_k/top_10_categorical_accuracy did not improve from 0.71523\n",
      "12/12 [==============================] - 1s 58ms/step - factorized_top_k/top_1_categorical_accuracy: 0.0067 - factorized_top_k/top_5_categorical_accuracy: 0.2100 - factorized_top_k/top_10_categorical_accuracy: 0.7342 - factorized_top_k/top_50_categorical_accuracy: 1.0000 - factorized_top_k/top_100_categorical_accuracy: 1.0000 - loss: 453.1827 - regularization_loss: 0.0000e+00 - total_loss: 453.1827 - val_factorized_top_k/top_1_categorical_accuracy: 0.0066 - val_factorized_top_k/top_5_categorical_accuracy: 0.1921 - val_factorized_top_k/top_10_categorical_accuracy: 0.7020 - val_factorized_top_k/top_50_categorical_accuracy: 1.0000 - val_factorized_top_k/top_100_categorical_accuracy: 1.0000 - val_loss: 204.5930 - val_regularization_loss: 0.0000e+00 - val_total_loss: 204.5930\n",
      "Epoch 44/100\n",
      "12/12 [==============================] - ETA: 0s - factorized_top_k/top_1_categorical_accuracy: 0.0067 - factorized_top_k/top_5_categorical_accuracy: 0.2142 - factorized_top_k/top_10_categorical_accuracy: 0.7350 - factorized_top_k/top_50_categorical_accuracy: 1.0000 - factorized_top_k/top_100_categorical_accuracy: 1.0000 - loss: 453.3297 - regularization_loss: 0.0000e+00 - total_loss: 453.3297\n",
      "Epoch 44: val_factorized_top_k/top_10_categorical_accuracy did not improve from 0.71523\n",
      "12/12 [==============================] - 1s 58ms/step - factorized_top_k/top_1_categorical_accuracy: 0.0067 - factorized_top_k/top_5_categorical_accuracy: 0.2142 - factorized_top_k/top_10_categorical_accuracy: 0.7350 - factorized_top_k/top_50_categorical_accuracy: 1.0000 - factorized_top_k/top_100_categorical_accuracy: 1.0000 - loss: 453.1578 - regularization_loss: 0.0000e+00 - total_loss: 453.1578 - val_factorized_top_k/top_1_categorical_accuracy: 0.0000e+00 - val_factorized_top_k/top_5_categorical_accuracy: 0.1921 - val_factorized_top_k/top_10_categorical_accuracy: 0.6887 - val_factorized_top_k/top_50_categorical_accuracy: 1.0000 - val_factorized_top_k/top_100_categorical_accuracy: 1.0000 - val_loss: 204.6567 - val_regularization_loss: 0.0000e+00 - val_total_loss: 204.6567\n",
      "Epoch 45/100\n",
      "12/12 [==============================] - ETA: 0s - factorized_top_k/top_1_categorical_accuracy: 0.0067 - factorized_top_k/top_5_categorical_accuracy: 0.2125 - factorized_top_k/top_10_categorical_accuracy: 0.7350 - factorized_top_k/top_50_categorical_accuracy: 1.0000 - factorized_top_k/top_100_categorical_accuracy: 1.0000 - loss: 453.3182 - regularization_loss: 0.0000e+00 - total_loss: 453.3182\n",
      "Epoch 45: val_factorized_top_k/top_10_categorical_accuracy did not improve from 0.71523\n",
      "12/12 [==============================] - 1s 56ms/step - factorized_top_k/top_1_categorical_accuracy: 0.0067 - factorized_top_k/top_5_categorical_accuracy: 0.2125 - factorized_top_k/top_10_categorical_accuracy: 0.7350 - factorized_top_k/top_50_categorical_accuracy: 1.0000 - factorized_top_k/top_100_categorical_accuracy: 1.0000 - loss: 453.1469 - regularization_loss: 0.0000e+00 - total_loss: 453.1469 - val_factorized_top_k/top_1_categorical_accuracy: 0.0066 - val_factorized_top_k/top_5_categorical_accuracy: 0.1921 - val_factorized_top_k/top_10_categorical_accuracy: 0.6887 - val_factorized_top_k/top_50_categorical_accuracy: 1.0000 - val_factorized_top_k/top_100_categorical_accuracy: 1.0000 - val_loss: 204.7088 - val_regularization_loss: 0.0000e+00 - val_total_loss: 204.7088\n",
      "Epoch 46/100\n",
      "11/12 [==========================>...] - ETA: 0s - factorized_top_k/top_1_categorical_accuracy: 0.0064 - factorized_top_k/top_5_categorical_accuracy: 0.2109 - factorized_top_k/top_10_categorical_accuracy: 0.7355 - factorized_top_k/top_50_categorical_accuracy: 1.0000 - factorized_top_k/top_100_categorical_accuracy: 1.0000 - loss: 453.4969 - regularization_loss: 0.0000e+00 - total_loss: 453.4969\n",
      "Epoch 46: val_factorized_top_k/top_10_categorical_accuracy did not improve from 0.71523\n",
      "12/12 [==============================] - 1s 56ms/step - factorized_top_k/top_1_categorical_accuracy: 0.0058 - factorized_top_k/top_5_categorical_accuracy: 0.2108 - factorized_top_k/top_10_categorical_accuracy: 0.7358 - factorized_top_k/top_50_categorical_accuracy: 1.0000 - factorized_top_k/top_100_categorical_accuracy: 1.0000 - loss: 453.1272 - regularization_loss: 0.0000e+00 - total_loss: 453.1272 - val_factorized_top_k/top_1_categorical_accuracy: 0.0000e+00 - val_factorized_top_k/top_5_categorical_accuracy: 0.1722 - val_factorized_top_k/top_10_categorical_accuracy: 0.7152 - val_factorized_top_k/top_50_categorical_accuracy: 1.0000 - val_factorized_top_k/top_100_categorical_accuracy: 1.0000 - val_loss: 204.8107 - val_regularization_loss: 0.0000e+00 - val_total_loss: 204.8107\n"
     ]
    },
    {
     "name": "stdout",
     "output_type": "stream",
     "text": [
      "Epoch 47/100\n",
      "11/12 [==========================>...] - ETA: 0s - factorized_top_k/top_1_categorical_accuracy: 0.0064 - factorized_top_k/top_5_categorical_accuracy: 0.2118 - factorized_top_k/top_10_categorical_accuracy: 0.7345 - factorized_top_k/top_50_categorical_accuracy: 1.0000 - factorized_top_k/top_100_categorical_accuracy: 1.0000 - loss: 453.4800 - regularization_loss: 0.0000e+00 - total_loss: 453.4800\n",
      "Epoch 47: val_factorized_top_k/top_10_categorical_accuracy did not improve from 0.71523\n",
      "12/12 [==============================] - 1s 56ms/step - factorized_top_k/top_1_categorical_accuracy: 0.0058 - factorized_top_k/top_5_categorical_accuracy: 0.2117 - factorized_top_k/top_10_categorical_accuracy: 0.7350 - factorized_top_k/top_50_categorical_accuracy: 1.0000 - factorized_top_k/top_100_categorical_accuracy: 1.0000 - loss: 453.1172 - regularization_loss: 0.0000e+00 - total_loss: 453.1172 - val_factorized_top_k/top_1_categorical_accuracy: 0.0066 - val_factorized_top_k/top_5_categorical_accuracy: 0.1921 - val_factorized_top_k/top_10_categorical_accuracy: 0.7020 - val_factorized_top_k/top_50_categorical_accuracy: 1.0000 - val_factorized_top_k/top_100_categorical_accuracy: 1.0000 - val_loss: 204.8846 - val_regularization_loss: 0.0000e+00 - val_total_loss: 204.8846\n",
      "Epoch 48/100\n",
      "11/12 [==========================>...] - ETA: 0s - factorized_top_k/top_1_categorical_accuracy: 0.0064 - factorized_top_k/top_5_categorical_accuracy: 0.2082 - factorized_top_k/top_10_categorical_accuracy: 0.7318 - factorized_top_k/top_50_categorical_accuracy: 1.0000 - factorized_top_k/top_100_categorical_accuracy: 1.0000 - loss: 453.4529 - regularization_loss: 0.0000e+00 - total_loss: 453.4529\n",
      "Epoch 48: val_factorized_top_k/top_10_categorical_accuracy did not improve from 0.71523\n",
      "12/12 [==============================] - 1s 57ms/step - factorized_top_k/top_1_categorical_accuracy: 0.0058 - factorized_top_k/top_5_categorical_accuracy: 0.2092 - factorized_top_k/top_10_categorical_accuracy: 0.7325 - factorized_top_k/top_50_categorical_accuracy: 1.0000 - factorized_top_k/top_100_categorical_accuracy: 1.0000 - loss: 453.0990 - regularization_loss: 0.0000e+00 - total_loss: 453.0990 - val_factorized_top_k/top_1_categorical_accuracy: 0.0066 - val_factorized_top_k/top_5_categorical_accuracy: 0.1921 - val_factorized_top_k/top_10_categorical_accuracy: 0.6556 - val_factorized_top_k/top_50_categorical_accuracy: 1.0000 - val_factorized_top_k/top_100_categorical_accuracy: 1.0000 - val_loss: 204.9611 - val_regularization_loss: 0.0000e+00 - val_total_loss: 204.9611\n",
      "Epoch 49/100\n",
      "12/12 [==============================] - ETA: 0s - factorized_top_k/top_1_categorical_accuracy: 0.0058 - factorized_top_k/top_5_categorical_accuracy: 0.2058 - factorized_top_k/top_10_categorical_accuracy: 0.7333 - factorized_top_k/top_50_categorical_accuracy: 1.0000 - factorized_top_k/top_100_categorical_accuracy: 1.0000 - loss: 453.2454 - regularization_loss: 0.0000e+00 - total_loss: 453.2454\n",
      "Epoch 49: val_factorized_top_k/top_10_categorical_accuracy did not improve from 0.71523\n",
      "12/12 [==============================] - 1s 58ms/step - factorized_top_k/top_1_categorical_accuracy: 0.0058 - factorized_top_k/top_5_categorical_accuracy: 0.2058 - factorized_top_k/top_10_categorical_accuracy: 0.7333 - factorized_top_k/top_50_categorical_accuracy: 1.0000 - factorized_top_k/top_100_categorical_accuracy: 1.0000 - loss: 453.0834 - regularization_loss: 0.0000e+00 - total_loss: 453.0834 - val_factorized_top_k/top_1_categorical_accuracy: 0.0000e+00 - val_factorized_top_k/top_5_categorical_accuracy: 0.1722 - val_factorized_top_k/top_10_categorical_accuracy: 0.7020 - val_factorized_top_k/top_50_categorical_accuracy: 1.0000 - val_factorized_top_k/top_100_categorical_accuracy: 1.0000 - val_loss: 205.0686 - val_regularization_loss: 0.0000e+00 - val_total_loss: 205.0686\n"
     ]
    }
   ],
   "source": [
    "with tf.device(tf.test.gpu_device_name()):\n",
    "    history = model.fit(cached_train,\n",
    "              epochs=100,\n",
    "              validation_data=cached_test,\n",
    "              callbacks=callbacks_list)"
   ]
  },
  {
   "cell_type": "code",
   "execution_count": 71,
   "id": "f5c09845",
   "metadata": {},
   "outputs": [
    {
     "data": {
      "image/png": "[encoded data removed]",
      "text/plain": [
       "<Figure size 640x480 with 1 Axes>"
      ]
     },
     "metadata": {},
     "output_type": "display_data"
    }
   ],
   "source": [
    "show_metrics(history)"
   ]
  },
  {
   "cell_type": "code",
   "execution_count": 72,
   "id": "380bd424",
   "metadata": {},
   "outputs": [
    {
     "data": {
      "image/png": "[encoded data removed]",
      "text/plain": [
       "<Figure size 640x480 with 1 Axes>"
      ]
     },
     "metadata": {},
     "output_type": "display_data"
    }
   ],
   "source": [
    "show_loss(history)"
   ]
  },
  {
   "cell_type": "code",
   "execution_count": 79,
   "id": "a0d07854",
   "metadata": {},
   "outputs": [
    {
     "data": {
      "text/plain": [
       "<tensorflow.python.checkpoint.checkpoint.CheckpointLoadStatus at 0x2b2928b7be0>"
      ]
     },
     "execution_count": 79,
     "metadata": {},
     "output_type": "execute_result"
    }
   ],
   "source": [
    "model.load_weights(checkpoint_path)"
   ]
  },
  {
   "cell_type": "code",
   "execution_count": 82,
   "id": "4e96c625",
   "metadata": {},
   "outputs": [
    {
     "name": "stdout",
     "output_type": "stream",
     "text": [
      "Наиболее вероятными причинами несчастного случая для работника являются:\n",
      "1 Нарушение правил дорожного движения\n",
      "2 Эксплуатация неисправных машин, механизмов, оборудования\n",
      "3 Несовершенство технологического процесса\n",
      "4 Прочие причины, квалифицированные по материалам расследования несчастных случаев\n",
      "5 Нарушение технологического процесса\n",
      "6 Нарушение требований безопасности при эксплуатации транспортных средств\n",
      "7 Конструктивные недостатки и недостаточная надежность машин, механизмов, оборудования\n",
      "8 Нарушение работником трудового распорядка и дисциплины труда, в т.ч.\n",
      "9 Недостаточный контроль со стороны должностных лиц \n",
      "10 Неудовлетворительная организация производства работ\n"
     ]
    }
   ],
   "source": [
    "model.predict_reason({\"Sex\": tf.constant(['муж.']),\n",
    "                      \"Industry\": tf.constant(['Деятельность профессиональная']),\n",
    "                      'Danger' : tf.constant(['Средняя опасность'])})"
   ]
  },
  {
   "cell_type": "code",
   "execution_count": 83,
   "id": "a7e41bcf",
   "metadata": {
    "collapsed": true
   },
   "outputs": [
    {
     "name": "stdout",
     "output_type": "stream",
     "text": [
      "Наиболее вероятными причинами несчастного случая для работника являются:\n",
      "1 Использование пострадавшего не по специальности\n",
      "2 Прочие причины, квалифицированные по материалам расследования несчастных случаев\n",
      "3 Нарушение требований безопасности при эксплуатации транспортных средств\n",
      "4 Неудовлетворительная организация производства работ\n",
      "5 Неудовлетворительное содержание и недостатки в организации рабочих мест\n",
      "6 Неприменение работником средств индивидуальной защиты\n",
      "7 Конструктивные недостатки и недостаточная надежность машин, механизмов, оборудования\n",
      "8 Недостатки в организации и проведении подготовки работников по охране труда,\n",
      "9 Нарушение работником ИОТ\n",
      "10 Недостаточный контроль со стороны должностных лиц \n"
     ]
    }
   ],
   "source": [
    "model.predict_reason({\"Sex\": tf.constant(['жен.']),\n",
    "                      \"Industry\": tf.constant(['Обрабатывающие производства']),\n",
    "                      'Danger' : tf.constant(['Экстремальная опасность'])})"
   ]
  },
  {
   "cell_type": "code",
   "execution_count": null,
   "id": "41937bf6",
   "metadata": {},
   "outputs": [],
   "source": [
    "train_data = np.round(model.evaluate(cached_train, verbose=0)[2], 2)\n",
    "test_data = np.round(model.evaluate(cached_test, verbose=0)[2], 2)\n",
    "all_data = np.round(model.evaluate(incidents.batch(100).cache(), verbose=0)[2], 2)\n",
    "print(f'train {train_data}, test {test_data}, all_data {all_data}')"
   ]
  },
  {
   "cell_type": "code",
   "execution_count": null,
   "id": "0cc87d13",
   "metadata": {},
   "outputs": [],
   "source": []
  }
 ],
 "metadata": {
  "kernelspec": {
   "display_name": "Python [conda env:tf_gpu] *",
   "language": "python",
   "name": "conda-env-tf_gpu-py"
  },
  "language_info": {
   "codemirror_mode": {
    "name": "ipython",
    "version": 3
   },
   "file_extension": ".py",
   "mimetype": "text/x-python",
   "name": "python",
   "nbconvert_exporter": "python",
   "pygments_lexer": "ipython3",
   "version": "3.9.16"
  }
 },
 "nbformat": 4,
 "nbformat_minor": 5
}
