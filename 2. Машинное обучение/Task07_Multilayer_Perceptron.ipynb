{
 "cells": [
  {
   "cell_type": "markdown",
   "metadata": {
    "id": "gZgbDF3u_OHl",
    "pycharm": {
     "name": "#%% md\n"
    }
   },
   "source": [
    "# Многослойный перцептрон\n",
    "\n",
    "## MSE и MAE функции ошибки"
   ]
  },
  {
   "cell_type": "code",
   "execution_count": 1,
   "metadata": {
    "id": "05WLHrGG_Jxu",
    "pycharm": {
     "name": "#%%\n"
    }
   },
   "outputs": [],
   "source": [
    "from sklearn import datasets\n",
    "from sklearn.model_selection import train_test_split\n",
    "from matplotlib import pyplot as plt\n",
    "import numpy as np"
   ]
  },
  {
   "cell_type": "code",
   "execution_count": 2,
   "metadata": {},
   "outputs": [],
   "source": [
    "class FullyConnectedNetwork:\n",
    "    __REGULARIZATION_GRAD = {None: lambda _w: 0, \"l1\": lambda _w: np.sign(_w), \"l2\": lambda _w: 2*_w}\n",
    "    __REGULARIZATION_FUNC = {None: lambda _w: 0, \"l1\": lambda _w: np.abs(_w), \"l2\": lambda _w: _w ** 2}\n",
    "    __LOSS = 0\n",
    "    # создание нейронной сети: alpha — скорость обучения (шаг градиентного спуска), reg_type — тип регуляризации (если есть), lambda — параметр регуляризации; слои будут храниться в списке layers\n",
    "    def __init__(self, alpha=0.01, reg_type=None, lambda_=0):\n",
    "        self.__layers = list()\n",
    "        self.__alpha = alpha\n",
    "        self.__reg_type = reg_type\n",
    "        self.__lambda = lambda_\n",
    "\n",
    "    # метод, позволяющий добавить новый слой: указываем правильные размеры слоя, название функции активации, class_number — количество классов в случае использования Sotmax'а на последнем слое, параметр a — параметр LeakyReLU\n",
    "    def add_layer(self, size: tuple, activation_func: str, a=0, loss_ = 'None'):\n",
    "        if not self.__layers or self.__layers[-1].size[1] == size[0]:\n",
    "            self.__layers.append(FullyConnectedLayer(size, activation_func, a, loss_))\n",
    "        else:\n",
    "            raise Exception(\"Wrong size of the layer!\")\n",
    "\n",
    "    def change_alpha(self, alpha):\n",
    "        self.__alpha = alpha\n",
    "\n",
    "    def get_loss(self):\n",
    "        return FullyConnectedNetwork.__LOSS\n",
    "\n",
    "    # метод, выдающий предсказания для заданного набора данных после обучения модели\n",
    "    def predict(self, data):\n",
    "        current_output = data\n",
    "        for layer in self.__layers:\n",
    "            layer_weights, layer_biases = layer.get_weights()\n",
    "            current_output = np.matmul(current_output, layer_weights) - layer_biases\n",
    "        return current_output\n",
    "\n",
    "    def score(self, data, answers):\n",
    "        return np.round((np.sum((answers - self.predict(data)) ** 2)) / len(answers), 2)\n",
    "\n",
    "    def fit(self, data, answers):\n",
    "        # выход входного слоя совпадает с фичами входных данных\n",
    "        layer_outputs = [data]\n",
    "        current_output = layer_outputs[0]\n",
    "        grads = []\n",
    "        # forward pass и вычисление градиентов функций активации\n",
    "        for layer in self.__layers:\n",
    "            current_output, gradient = layer.forward(current_output, answers)\n",
    "            #print(current_output[0], gradient[0])\n",
    "            layer_outputs.append(current_output)\n",
    "            grads.append(gradient)\n",
    "        # для вычисления градиентов по правилу цепочки, удобно развернуть массив\n",
    "        grads = grads[::-1]\n",
    "        # для градиента параметров самого первого слоя, умножаем на «производную» независимой переменной\n",
    "        grads.append(1)\n",
    "        current_gradient = grads[0]\n",
    "        FullyConnectedNetwork.__LOSS = layer_outputs[-1]\n",
    "        for i, layer in enumerate(self.__layers[::-1]):\n",
    "            layer_weights, layer_biases = layer.get_weights()\n",
    "            FullyConnectedNetwork.__LOSS += self.__lambda * (np.sum(FullyConnectedNetwork.__REGULARIZATION_FUNC[self.__reg_type](layer_weights) + FullyConnectedNetwork.__REGULARIZATION_FUNC[self.__reg_type](layer_biases)))\n",
    "            d_weights = np.matmul(layer_outputs[-2 - i].T, current_gradient)\n",
    "            # вычисление градиента параметров db слоя layer\n",
    "            d_bias = -np.matmul(np.ones(layer_outputs[-2 - i].shape[0]), current_gradient) / layer_outputs[-2 - i].shape[0]\n",
    "            # выполнение шага градиентного спуска\n",
    "            layer.update_weights(self.__alpha * (d_weights + self.__lambda * FullyConnectedNetwork.__REGULARIZATION_GRAD[self.__reg_type](layer_weights)) , self.__alpha * (d_bias + self.__lambda * FullyConnectedNetwork.__REGULARIZATION_GRAD[self.__reg_type](layer_biases)))\n",
    "            # правило цепочки\n",
    "            current_gradient = np.matmul(current_gradient, layer_weights.T) * grads[i + 1]\n",
    "\n",
    "# класс, отвечающий за слой в нейронной сети\n",
    "class FullyConnectedLayer:\n",
    "    # мы предполагаем, что реализованы следующие функции активации, на последнем слое возможно решение задачи классификации с Softmax\n",
    "    __ACTIVATION_FUNCTIONS = {'ReLU': {'func': lambda a, x: np.maximum(x, 0), 'derivative': lambda a, x: np.where(x >= 0, 1, 0)},\n",
    "                              'LReLU': {'func': lambda a, x: np.where(x >= 0, x, a*x), 'derivative': lambda a, x: np.where(x >= 0, 1, a)},\n",
    "                              'None': {'func': lambda a, x: x, 'derivative': lambda a, x: 1},\n",
    "                              'Sigmoid': {'func': lambda a, x: np.exp(x) / (1 + np.exp(x)), 'derivative': lambda a, x: np.exp(x) / (1 + np.exp(x)) ** 2}}\n",
    "    # создание нового слоя: задание размеров слоя, случайная (равномерная на [-1/2, 1/2]) инициализация весов, запоминание функции активации, фиксация количества классов в случае решения задачи классификации\n",
    "    def __init__(self, size: tuple, activation_func: str, a=0, loss_ = 'None'):\n",
    "        self.size = size\n",
    "        self.__weights = np.random.random((size[0], size[1])) - 0.5\n",
    "        self.__bias = np.random.random((1, size[1])) - 0.5\n",
    "        self.__a = a\n",
    "        self.__loss = loss_\n",
    "        if activation_func in FullyConnectedLayer.__ACTIVATION_FUNCTIONS.keys():\n",
    "            self.__activation_func = activation_func\n",
    "        else:\n",
    "            raise Exception(\"No such activation function!\")\n",
    "\n",
    "    # метод, возвращающий значения весов: веса и смещения\n",
    "    def get_weights(self):\n",
    "        return self.__weights, self.__bias\n",
    "\n",
    "    # метод, модифицирующий веса после градиентного шага\n",
    "    def update_weights(self, d_weights, d_biases):\n",
    "        self.__weights -= d_weights\n",
    "        self.__bias -= d_biases\n",
    "\n",
    "    # метод, возвращающий градиент\n",
    "    def __get_grad(self, data, answers):\n",
    "        if self.__loss == 'MSE':\n",
    "            return 2*(data-answers) / answers.shape[0]\n",
    "        elif self.__loss == 'MAE':\n",
    "            return -((answers - data) / (abs(answers - data) + 10**-100))/ answers.shape[0]\n",
    "        else:\n",
    "            return FullyConnectedLayer.__ACTIVATION_FUNCTIONS[self.__activation_func]['derivative'](self.__a, data)\n",
    "\n",
    "    # проход по слою с вычислением градиента функции активации на текущей итерации и текущем наборе данных, для последнего слоя нет нужды вычислять значение, если только не хочется узнать что-то про функцию потерь\n",
    "    def forward(self, data, answers):\n",
    "        matrix_pass = np.matmul(data, self.__weights) - self.__bias\n",
    "        activation = FullyConnectedLayer.__ACTIVATION_FUNCTIONS[self.__activation_func]['func'](self.__a, matrix_pass)\n",
    "        gradient = self.__get_grad(matrix_pass, answers)\n",
    "        return activation, gradient"
   ]
  },
  {
   "cell_type": "code",
   "execution_count": 3,
   "metadata": {
    "pycharm": {
     "name": "#%%\n"
    }
   },
   "outputs": [],
   "source": [
    "import pandas as pd"
   ]
  },
  {
   "cell_type": "markdown",
   "metadata": {},
   "source": [
    "Данные: https://www.kaggle.com/datasets/bumba5341/advertisingcsv"
   ]
  },
  {
   "cell_type": "code",
   "execution_count": 4,
   "metadata": {},
   "outputs": [
    {
     "data": {
      "text/html": [
       "<div>\n",
       "<style scoped>\n",
       "    .dataframe tbody tr th:only-of-type {\n",
       "        vertical-align: middle;\n",
       "    }\n",
       "\n",
       "    .dataframe tbody tr th {\n",
       "        vertical-align: top;\n",
       "    }\n",
       "\n",
       "    .dataframe thead th {\n",
       "        text-align: right;\n",
       "    }\n",
       "</style>\n",
       "<table border=\"1\" class=\"dataframe\">\n",
       "  <thead>\n",
       "    <tr style=\"text-align: right;\">\n",
       "      <th></th>\n",
       "      <th>TV</th>\n",
       "      <th>Radio</th>\n",
       "      <th>Newspaper</th>\n",
       "      <th>Sales</th>\n",
       "    </tr>\n",
       "  </thead>\n",
       "  <tbody>\n",
       "    <tr>\n",
       "      <th>1</th>\n",
       "      <td>230.1</td>\n",
       "      <td>37.8</td>\n",
       "      <td>69.2</td>\n",
       "      <td>22.1</td>\n",
       "    </tr>\n",
       "    <tr>\n",
       "      <th>2</th>\n",
       "      <td>44.5</td>\n",
       "      <td>39.3</td>\n",
       "      <td>45.1</td>\n",
       "      <td>10.4</td>\n",
       "    </tr>\n",
       "    <tr>\n",
       "      <th>3</th>\n",
       "      <td>17.2</td>\n",
       "      <td>45.9</td>\n",
       "      <td>69.3</td>\n",
       "      <td>9.3</td>\n",
       "    </tr>\n",
       "    <tr>\n",
       "      <th>4</th>\n",
       "      <td>151.5</td>\n",
       "      <td>41.3</td>\n",
       "      <td>58.5</td>\n",
       "      <td>18.5</td>\n",
       "    </tr>\n",
       "    <tr>\n",
       "      <th>5</th>\n",
       "      <td>180.8</td>\n",
       "      <td>10.8</td>\n",
       "      <td>58.4</td>\n",
       "      <td>12.9</td>\n",
       "    </tr>\n",
       "    <tr>\n",
       "      <th>...</th>\n",
       "      <td>...</td>\n",
       "      <td>...</td>\n",
       "      <td>...</td>\n",
       "      <td>...</td>\n",
       "    </tr>\n",
       "    <tr>\n",
       "      <th>196</th>\n",
       "      <td>38.2</td>\n",
       "      <td>3.7</td>\n",
       "      <td>13.8</td>\n",
       "      <td>7.6</td>\n",
       "    </tr>\n",
       "    <tr>\n",
       "      <th>197</th>\n",
       "      <td>94.2</td>\n",
       "      <td>4.9</td>\n",
       "      <td>8.1</td>\n",
       "      <td>9.7</td>\n",
       "    </tr>\n",
       "    <tr>\n",
       "      <th>198</th>\n",
       "      <td>177.0</td>\n",
       "      <td>9.3</td>\n",
       "      <td>6.4</td>\n",
       "      <td>12.8</td>\n",
       "    </tr>\n",
       "    <tr>\n",
       "      <th>199</th>\n",
       "      <td>283.6</td>\n",
       "      <td>42.0</td>\n",
       "      <td>66.2</td>\n",
       "      <td>25.5</td>\n",
       "    </tr>\n",
       "    <tr>\n",
       "      <th>200</th>\n",
       "      <td>232.1</td>\n",
       "      <td>8.6</td>\n",
       "      <td>8.7</td>\n",
       "      <td>13.4</td>\n",
       "    </tr>\n",
       "  </tbody>\n",
       "</table>\n",
       "<p>200 rows × 4 columns</p>\n",
       "</div>"
      ],
      "text/plain": [
       "        TV  Radio  Newspaper  Sales\n",
       "1    230.1   37.8       69.2   22.1\n",
       "2     44.5   39.3       45.1   10.4\n",
       "3     17.2   45.9       69.3    9.3\n",
       "4    151.5   41.3       58.5   18.5\n",
       "5    180.8   10.8       58.4   12.9\n",
       "..     ...    ...        ...    ...\n",
       "196   38.2    3.7       13.8    7.6\n",
       "197   94.2    4.9        8.1    9.7\n",
       "198  177.0    9.3        6.4   12.8\n",
       "199  283.6   42.0       66.2   25.5\n",
       "200  232.1    8.6        8.7   13.4\n",
       "\n",
       "[200 rows x 4 columns]"
      ]
     },
     "execution_count": 4,
     "metadata": {},
     "output_type": "execute_result"
    }
   ],
   "source": [
    "df = pd.read_csv('Advertising.csv', index_col=0)\n",
    "df"
   ]
  },
  {
   "cell_type": "code",
   "execution_count": 5,
   "metadata": {},
   "outputs": [],
   "source": [
    "from sklearn.preprocessing import StandardScaler\n",
    "from sklearn.model_selection import train_test_split"
   ]
  },
  {
   "cell_type": "markdown",
   "metadata": {},
   "source": [
    "Делим на обучающую и тестовую выборку"
   ]
  },
  {
   "cell_type": "code",
   "execution_count": 6,
   "metadata": {},
   "outputs": [],
   "source": [
    "X = df.drop(columns='Sales').to_numpy()\n",
    "y = df.Sales.to_numpy()\n",
    "X_train, X_test, y_train, y_test = train_test_split(X, y, test_size=0.25, random_state=343, shuffle=True)"
   ]
  },
  {
   "cell_type": "markdown",
   "metadata": {},
   "source": [
    "Приводим к виду (количество образцов, данные)"
   ]
  },
  {
   "cell_type": "code",
   "execution_count": 7,
   "metadata": {},
   "outputs": [],
   "source": [
    "y_train = y_train.reshape(-1, 1).astype(\"float32\")\n",
    "y_test = y_test.reshape(-1, 1).astype(\"float32\")"
   ]
  },
  {
   "cell_type": "markdown",
   "metadata": {},
   "source": [
    "Стандартизируем данные"
   ]
  },
  {
   "cell_type": "code",
   "execution_count": 8,
   "metadata": {},
   "outputs": [],
   "source": [
    "scaler = StandardScaler()\n",
    "X_train = scaler.fit_transform(X_train)\n",
    "X_test = scaler.transform(X_test)"
   ]
  },
  {
   "cell_type": "code",
   "execution_count": 9,
   "metadata": {},
   "outputs": [],
   "source": [
    "X_train = X_train.reshape(-1, 3).astype(\"float32\")\n",
    "X_test = X_test.reshape(-1, 3).astype(\"float32\")"
   ]
  },
  {
   "cell_type": "code",
   "execution_count": 10,
   "metadata": {},
   "outputs": [],
   "source": [
    "NN = FullyConnectedNetwork(alpha=0.00001, reg_type=None, lambda_=0.2)\n",
    "NN.add_layer((3,1),'ReLU', loss_ = 'MSE')"
   ]
  },
  {
   "cell_type": "code",
   "execution_count": 11,
   "metadata": {},
   "outputs": [
    {
     "name": "stdout",
     "output_type": "stream",
     "text": [
      "Training MSE:  140.9 Test MSE: 147.39\n",
      "Training MSE:  92.46 Test MSE: 94.2\n",
      "Training MSE:  61.4 Test MSE: 60.97\n",
      "Training MSE:  41.31 Test MSE: 40.02\n",
      "Training MSE:  28.21 Test MSE: 26.71\n",
      "Training MSE:  19.63 Test MSE: 18.19\n",
      "Training MSE:  13.97 Test MSE: 12.7\n",
      "Training MSE:  10.24 Test MSE: 9.15\n",
      "Training MSE:  7.77 Test MSE: 6.84\n",
      "Training MSE:  6.13 Test MSE: 5.34\n",
      "Training MSE:  5.05 Test MSE: 4.35\n",
      "Training MSE:  4.33 Test MSE: 3.71\n",
      "Training MSE:  3.86 Test MSE: 3.29\n",
      "Training MSE:  3.56 Test MSE: 3.01\n",
      "Training MSE:  3.36 Test MSE: 2.83\n",
      "Training MSE:  3.23 Test MSE: 2.71\n",
      "Training MSE:  3.16 Test MSE: 2.64\n",
      "Training MSE:  3.11 Test MSE: 2.59\n",
      "Training MSE:  3.08 Test MSE: 2.56\n",
      "Training MSE:  3.06 Test MSE: 2.54\n",
      "Wall time: 8.61 s\n"
     ]
    }
   ],
   "source": [
    "%%time\n",
    "loss = []\n",
    "batch_size = int(len(X_train) / 100)\n",
    "for ep in range(2000):\n",
    "    for _ in range(0, 100):\n",
    "        X_batch = X_train[_ * batch_size : (_ + 1) * batch_size]\n",
    "        y_batch = y_train[_ * batch_size : (_ + 1) * batch_size]\n",
    "        NN.fit(X_batch, y_batch)\n",
    "        loss.append((ep, NN.get_loss()))\n",
    "    if (ep + 1) % 100 == 0:\n",
    "        print('Training MSE: ', NN.score(X_train, y_train), 'Test MSE:', NN.score(X_test, y_test))"
   ]
  },
  {
   "cell_type": "code",
   "execution_count": 12,
   "metadata": {},
   "outputs": [],
   "source": [
    "NN = FullyConnectedNetwork(alpha=0.0001, reg_type=None, lambda_=0.2)\n",
    "NN.add_layer((3,1),'ReLU', loss_ = 'MAE')"
   ]
  },
  {
   "cell_type": "code",
   "execution_count": 13,
   "metadata": {},
   "outputs": [
    {
     "name": "stdout",
     "output_type": "stream",
     "text": [
      "Training MAE:  194.25 Test MAE: 211.17\n",
      "Training MAE:  168.68 Test MAE: 182.73\n",
      "Training MAE:  145.17 Test MAE: 156.59\n",
      "Training MAE:  123.73 Test MAE: 132.75\n",
      "Training MAE:  104.31 Test MAE: 111.1\n",
      "Training MAE:  86.87 Test MAE: 91.63\n",
      "Training MAE:  71.42 Test MAE: 74.57\n",
      "Training MAE:  57.92 Test MAE: 59.9\n",
      "Training MAE:  46.1 Test MAE: 47.24\n",
      "Training MAE:  35.97 Test MAE: 36.59\n",
      "Training MAE:  27.5 Test MAE: 27.82\n",
      "Training MAE:  20.4 Test MAE: 20.49\n",
      "Training MAE:  14.67 Test MAE: 14.59\n",
      "Training MAE:  10.38 Test MAE: 10.2\n",
      "Training MAE:  7.32 Test MAE: 7.1\n",
      "Training MAE:  5.49 Test MAE: 5.25\n",
      "Training MAE:  4.39 Test MAE: 4.17\n",
      "Training MAE:  3.73 Test MAE: 3.47\n",
      "Training MAE:  3.38 Test MAE: 3.04\n",
      "Training MAE:  3.27 Test MAE: 2.89\n",
      "Training MAE:  3.26 Test MAE: 2.86\n",
      "Training MAE:  3.26 Test MAE: 2.82\n",
      "Training MAE:  3.25 Test MAE: 2.76\n",
      "Training MAE:  3.23 Test MAE: 2.7\n",
      "Training MAE:  3.21 Test MAE: 2.67\n",
      "Training MAE:  3.2 Test MAE: 2.67\n",
      "Training MAE:  3.2 Test MAE: 2.66\n",
      "Training MAE:  3.2 Test MAE: 2.67\n",
      "Training MAE:  3.21 Test MAE: 2.67\n",
      "Training MAE:  3.21 Test MAE: 2.68\n",
      "Wall time: 14 s\n"
     ]
    }
   ],
   "source": [
    "%%time\n",
    "loss = []\n",
    "batch_size = int(len(X_train) / 100)\n",
    "for ep in range(3000):\n",
    "    for _ in range(0, 100):\n",
    "        X_batch = X_train[_ * batch_size : (_ + 1) * batch_size]\n",
    "        y_batch = y_train[_ * batch_size : (_ + 1) * batch_size]\n",
    "        NN.fit(X_batch, y_batch)\n",
    "        loss.append((ep, NN.get_loss()))\n",
    "    if (ep + 1) % 100 == 0:\n",
    "        print('Training MAE: ', NN.score(X_train, y_train), 'Test MAE:', NN.score(X_test, y_test))"
   ]
  },
  {
   "cell_type": "code",
   "execution_count": null,
   "metadata": {},
   "outputs": [],
   "source": []
  }
 ],
 "metadata": {
  "colab": {
   "collapsed_sections": [],
   "name": "multilayer_fully_connected_final.ipynb",
   "provenance": []
  },
  "kernelspec": {
   "display_name": "Python 3 (ipykernel)",
   "language": "python",
   "name": "python3"
  },
  "language_info": {
   "codemirror_mode": {
    "name": "ipython",
    "version": 3
   },
   "file_extension": ".py",
   "mimetype": "text/x-python",
   "name": "python",
   "nbconvert_exporter": "python",
   "pygments_lexer": "ipython3",
   "version": "3.9.13"
  }
 },
 "nbformat": 4,
 "nbformat_minor": 1
}
