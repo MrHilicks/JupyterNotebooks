{
 "cells": [
  {
   "cell_type": "markdown",
   "id": "b771b5bd-1b67-418b-b7b4-8175339d6d17",
   "metadata": {},
   "source": [
    "# Лабораторная работа 8\n",
    "\n",
    "В первой главе данного курса вам было предложено с помощью фреймворка sklearn обучить модель машинного обучения для задачи бинарной классификации на наборе данных Titanic. Давайте попробуем выполнить ту же самую задачу с помощью фреймворка глубокого обучения TensorFlow."
   ]
  },
  {
   "cell_type": "code",
   "execution_count": 1,
   "id": "0063db4b",
   "metadata": {},
   "outputs": [],
   "source": [
    "import pandas as pd\n",
    "import matplotlib.pyplot as plt\n",
    "import sklearn\n",
    "import numpy as np\n",
    "import tensorflow as tf\n",
    "import tqdm\n",
    "\n",
    "%matplotlib inline"
   ]
  },
  {
   "cell_type": "markdown",
   "id": "f9f0f099-9236-41e6-a985-69758dbae2dd",
   "metadata": {},
   "source": [
    "# Описание набора данных\n",
    "В данной работе целью исследования будет набор данных Titanic. Данный набор содержит информацию о различных пассажирах корабля \"Титаник\", затонувшего в ночь на 15-е апреля 1912 года. Некоторое количество пассажиров спаслось, чему способствовало множество различных факторов, включая их пол, возраст, на какой палубе находилась их кабина, социальный статус, и т.д. Мы предлагаем вам натренировать нейронную сеть для бинарной классификации, способную предсказывать вероятность спасения человека на основе его данных.  \n",
    "\n",
    "Набор данных состоит из различных признаков, описывающих информацию о пассажирах. Каждая строка таблицы - отдельный пассажир, вся информация о нем содержится в его строке. В столбце survived находится бинарная метка (0 или 1), означающая, спасся ли человек с корабля (1) или нет (0). Вашей задачей является изучить набор данных, корректно определить решаемую задачу, а затем построить модель, которая будет способна предсказывать вероятность спасения и посчитать F1-метрику на тестовом наборе данных."
   ]
  },
  {
   "cell_type": "code",
   "execution_count": 2,
   "id": "520502ef",
   "metadata": {},
   "outputs": [
    {
     "name": "stderr",
     "output_type": "stream",
     "text": [
      "WARNING:absl:You use TensorFlow DType <dtype: 'string'> in tfds.features This will soon be deprecated in favor of NumPy DTypes. In the meantime it was converted to object.\n",
      "WARNING:absl:You use TensorFlow DType <dtype: 'float32'> in tfds.features This will soon be deprecated in favor of NumPy DTypes. In the meantime it was converted to float32.\n",
      "WARNING:absl:You use TensorFlow DType <dtype: 'int32'> in tfds.features This will soon be deprecated in favor of NumPy DTypes. In the meantime it was converted to int32.\n"
     ]
    }
   ],
   "source": [
    "import tensorflow_datasets as tfds\n",
    "ds, info = tfds.load(\n",
    "    name='titanic',\n",
    "    split='train',\n",
    "    with_info=True\n",
    ")"
   ]
  },
  {
   "cell_type": "code",
   "execution_count": 3,
   "id": "ea91cdf3",
   "metadata": {},
   "outputs": [],
   "source": [
    "df = tfds.as_dataframe(ds, info)"
   ]
  },
  {
   "cell_type": "code",
   "execution_count": 4,
   "id": "9773f44f",
   "metadata": {},
   "outputs": [
    {
     "data": {
      "text/html": [
       "<div>\n",
       "<style scoped>\n",
       "    .dataframe tbody tr th:only-of-type {\n",
       "        vertical-align: middle;\n",
       "    }\n",
       "\n",
       "    .dataframe tbody tr th {\n",
       "        vertical-align: top;\n",
       "    }\n",
       "\n",
       "    .dataframe thead th {\n",
       "        text-align: right;\n",
       "    }\n",
       "</style>\n",
       "<table border=\"1\" class=\"dataframe\">\n",
       "  <thead>\n",
       "    <tr style=\"text-align: right;\">\n",
       "      <th></th>\n",
       "      <th>age</th>\n",
       "      <th>boat</th>\n",
       "      <th>body</th>\n",
       "      <th>cabin</th>\n",
       "      <th>embarked</th>\n",
       "      <th>fare</th>\n",
       "      <th>home.dest</th>\n",
       "      <th>name</th>\n",
       "      <th>parch</th>\n",
       "      <th>pclass</th>\n",
       "      <th>sex</th>\n",
       "      <th>sibsp</th>\n",
       "      <th>survived</th>\n",
       "      <th>ticket</th>\n",
       "    </tr>\n",
       "  </thead>\n",
       "  <tbody>\n",
       "    <tr>\n",
       "      <th>0</th>\n",
       "      <td>30.0</td>\n",
       "      <td>b'Unknown'</td>\n",
       "      <td>-1</td>\n",
       "      <td>b'Unknown'</td>\n",
       "      <td>2</td>\n",
       "      <td>13.0000</td>\n",
       "      <td>b'Sarnia, ON'</td>\n",
       "      <td>b'McCrie, Mr. James Matthew'</td>\n",
       "      <td>0</td>\n",
       "      <td>1</td>\n",
       "      <td>0</td>\n",
       "      <td>0</td>\n",
       "      <td>0</td>\n",
       "      <td>b'233478'</td>\n",
       "    </tr>\n",
       "    <tr>\n",
       "      <th>1</th>\n",
       "      <td>37.0</td>\n",
       "      <td>b'Unknown'</td>\n",
       "      <td>98</td>\n",
       "      <td>b'Unknown'</td>\n",
       "      <td>2</td>\n",
       "      <td>7.9250</td>\n",
       "      <td>b'Ruotsinphytaa, Finland New York, NY'</td>\n",
       "      <td>b'Gustafsson, Mr. Anders Vilhelm'</td>\n",
       "      <td>0</td>\n",
       "      <td>2</td>\n",
       "      <td>0</td>\n",
       "      <td>2</td>\n",
       "      <td>0</td>\n",
       "      <td>b'3101276'</td>\n",
       "    </tr>\n",
       "    <tr>\n",
       "      <th>2</th>\n",
       "      <td>28.0</td>\n",
       "      <td>b'9'</td>\n",
       "      <td>-1</td>\n",
       "      <td>b'Unknown'</td>\n",
       "      <td>2</td>\n",
       "      <td>13.0000</td>\n",
       "      <td>b'Spain'</td>\n",
       "      <td>b'Reynaldo, Ms. Encarnacion'</td>\n",
       "      <td>0</td>\n",
       "      <td>1</td>\n",
       "      <td>1</td>\n",
       "      <td>0</td>\n",
       "      <td>1</td>\n",
       "      <td>b'230434'</td>\n",
       "    </tr>\n",
       "    <tr>\n",
       "      <th>3</th>\n",
       "      <td>18.0</td>\n",
       "      <td>b'Unknown'</td>\n",
       "      <td>-1</td>\n",
       "      <td>b'Unknown'</td>\n",
       "      <td>2</td>\n",
       "      <td>73.5000</td>\n",
       "      <td>b'Lyndhurst, England'</td>\n",
       "      <td>b'Davies, Mr. Charles Henry'</td>\n",
       "      <td>0</td>\n",
       "      <td>1</td>\n",
       "      <td>0</td>\n",
       "      <td>0</td>\n",
       "      <td>0</td>\n",
       "      <td>b'S.O.C. 14879'</td>\n",
       "    </tr>\n",
       "    <tr>\n",
       "      <th>4</th>\n",
       "      <td>-1.0</td>\n",
       "      <td>b'Unknown'</td>\n",
       "      <td>-1</td>\n",
       "      <td>b'Unknown'</td>\n",
       "      <td>0</td>\n",
       "      <td>7.8958</td>\n",
       "      <td>b'Unknown'</td>\n",
       "      <td>b'Gheorgheff, Mr. Stanio'</td>\n",
       "      <td>0</td>\n",
       "      <td>2</td>\n",
       "      <td>0</td>\n",
       "      <td>0</td>\n",
       "      <td>0</td>\n",
       "      <td>b'349254'</td>\n",
       "    </tr>\n",
       "  </tbody>\n",
       "</table>\n",
       "</div>"
      ],
      "text/plain": [
       "    age        boat  body       cabin  embarked     fare  \\\n",
       "0  30.0  b'Unknown'    -1  b'Unknown'         2  13.0000   \n",
       "1  37.0  b'Unknown'    98  b'Unknown'         2   7.9250   \n",
       "2  28.0        b'9'    -1  b'Unknown'         2  13.0000   \n",
       "3  18.0  b'Unknown'    -1  b'Unknown'         2  73.5000   \n",
       "4  -1.0  b'Unknown'    -1  b'Unknown'         0   7.8958   \n",
       "\n",
       "                                home.dest                               name  \\\n",
       "0                           b'Sarnia, ON'       b'McCrie, Mr. James Matthew'   \n",
       "1  b'Ruotsinphytaa, Finland New York, NY'  b'Gustafsson, Mr. Anders Vilhelm'   \n",
       "2                                b'Spain'       b'Reynaldo, Ms. Encarnacion'   \n",
       "3                   b'Lyndhurst, England'       b'Davies, Mr. Charles Henry'   \n",
       "4                              b'Unknown'          b'Gheorgheff, Mr. Stanio'   \n",
       "\n",
       "   parch  pclass  sex  sibsp  survived           ticket  \n",
       "0      0       1    0      0         0        b'233478'  \n",
       "1      0       2    0      2         0       b'3101276'  \n",
       "2      0       1    1      0         1        b'230434'  \n",
       "3      0       1    0      0         0  b'S.O.C. 14879'  \n",
       "4      0       2    0      0         0        b'349254'  "
      ]
     },
     "execution_count": 4,
     "metadata": {},
     "output_type": "execute_result"
    }
   ],
   "source": [
    "df.head()"
   ]
  },
  {
   "cell_type": "markdown",
   "id": "1bef996a",
   "metadata": {},
   "source": [
    "# Предобработка данных"
   ]
  },
  {
   "cell_type": "markdown",
   "id": "94407c40",
   "metadata": {},
   "source": [
    "Найдем медианный возраст в разбивке по классу обслуживания и полу"
   ]
  },
  {
   "cell_type": "code",
   "execution_count": 5,
   "id": "5b147ad2",
   "metadata": {},
   "outputs": [
    {
     "data": {
      "text/html": [
       "<div>\n",
       "<style scoped>\n",
       "    .dataframe tbody tr th:only-of-type {\n",
       "        vertical-align: middle;\n",
       "    }\n",
       "\n",
       "    .dataframe tbody tr th {\n",
       "        vertical-align: top;\n",
       "    }\n",
       "\n",
       "    .dataframe thead th {\n",
       "        text-align: right;\n",
       "    }\n",
       "</style>\n",
       "<table border=\"1\" class=\"dataframe\">\n",
       "  <thead>\n",
       "    <tr style=\"text-align: right;\">\n",
       "      <th></th>\n",
       "      <th>sex</th>\n",
       "      <th>pclass</th>\n",
       "      <th>age</th>\n",
       "    </tr>\n",
       "  </thead>\n",
       "  <tbody>\n",
       "    <tr>\n",
       "      <th>0</th>\n",
       "      <td>0</td>\n",
       "      <td>0</td>\n",
       "      <td>37.0</td>\n",
       "    </tr>\n",
       "    <tr>\n",
       "      <th>1</th>\n",
       "      <td>0</td>\n",
       "      <td>1</td>\n",
       "      <td>28.0</td>\n",
       "    </tr>\n",
       "    <tr>\n",
       "      <th>2</th>\n",
       "      <td>0</td>\n",
       "      <td>2</td>\n",
       "      <td>21.0</td>\n",
       "    </tr>\n",
       "    <tr>\n",
       "      <th>3</th>\n",
       "      <td>1</td>\n",
       "      <td>0</td>\n",
       "      <td>35.0</td>\n",
       "    </tr>\n",
       "    <tr>\n",
       "      <th>4</th>\n",
       "      <td>1</td>\n",
       "      <td>1</td>\n",
       "      <td>27.0</td>\n",
       "    </tr>\n",
       "    <tr>\n",
       "      <th>5</th>\n",
       "      <td>1</td>\n",
       "      <td>2</td>\n",
       "      <td>17.0</td>\n",
       "    </tr>\n",
       "  </tbody>\n",
       "</table>\n",
       "</div>"
      ],
      "text/plain": [
       "   sex  pclass   age\n",
       "0    0       0  37.0\n",
       "1    0       1  28.0\n",
       "2    0       2  21.0\n",
       "3    1       0  35.0\n",
       "4    1       1  27.0\n",
       "5    1       2  17.0"
      ]
     },
     "execution_count": 5,
     "metadata": {},
     "output_type": "execute_result"
    }
   ],
   "source": [
    "df.groupby(['sex', 'pclass'], as_index=False).agg({'age':'median'})"
   ]
  },
  {
   "cell_type": "markdown",
   "id": "b39ba045",
   "metadata": {},
   "source": [
    "Действительно существуют различия. Люди постарше могут позволить себе более высокий класс обслуживания"
   ]
  },
  {
   "cell_type": "markdown",
   "id": "24c9b202",
   "metadata": {},
   "source": [
    "Заменим пропущенные значения в зависимости от пола и класса"
   ]
  },
  {
   "cell_type": "code",
   "execution_count": 6,
   "id": "91bc056e",
   "metadata": {},
   "outputs": [],
   "source": [
    "for i in df.groupby(['sex', 'pclass'], as_index=False).agg({'age':'median'}).values:\n",
    "    list_indxs = df[(df.sex == i[0]) & (df.pclass == i[1]) & (df.age == -1)].index\n",
    "    for indx in list_indxs:\n",
    "        df.iloc[indx, 0] = i[2]"
   ]
  },
  {
   "cell_type": "code",
   "execution_count": 7,
   "id": "3fa0f381",
   "metadata": {},
   "outputs": [
    {
     "data": {
      "text/html": [
       "<div>\n",
       "<style scoped>\n",
       "    .dataframe tbody tr th:only-of-type {\n",
       "        vertical-align: middle;\n",
       "    }\n",
       "\n",
       "    .dataframe tbody tr th {\n",
       "        vertical-align: top;\n",
       "    }\n",
       "\n",
       "    .dataframe thead th {\n",
       "        text-align: right;\n",
       "    }\n",
       "</style>\n",
       "<table border=\"1\" class=\"dataframe\">\n",
       "  <thead>\n",
       "    <tr style=\"text-align: right;\">\n",
       "      <th></th>\n",
       "      <th>age</th>\n",
       "      <th>boat</th>\n",
       "      <th>body</th>\n",
       "      <th>cabin</th>\n",
       "      <th>embarked</th>\n",
       "      <th>fare</th>\n",
       "      <th>home.dest</th>\n",
       "      <th>name</th>\n",
       "      <th>parch</th>\n",
       "      <th>pclass</th>\n",
       "      <th>sex</th>\n",
       "      <th>sibsp</th>\n",
       "      <th>survived</th>\n",
       "      <th>ticket</th>\n",
       "    </tr>\n",
       "  </thead>\n",
       "  <tbody>\n",
       "    <tr>\n",
       "      <th>0</th>\n",
       "      <td>30.0</td>\n",
       "      <td>b'Unknown'</td>\n",
       "      <td>-1</td>\n",
       "      <td>b'Unknown'</td>\n",
       "      <td>2</td>\n",
       "      <td>13.0000</td>\n",
       "      <td>b'Sarnia, ON'</td>\n",
       "      <td>b'McCrie, Mr. James Matthew'</td>\n",
       "      <td>0</td>\n",
       "      <td>1</td>\n",
       "      <td>0</td>\n",
       "      <td>0</td>\n",
       "      <td>0</td>\n",
       "      <td>b'233478'</td>\n",
       "    </tr>\n",
       "    <tr>\n",
       "      <th>1</th>\n",
       "      <td>37.0</td>\n",
       "      <td>b'Unknown'</td>\n",
       "      <td>98</td>\n",
       "      <td>b'Unknown'</td>\n",
       "      <td>2</td>\n",
       "      <td>7.9250</td>\n",
       "      <td>b'Ruotsinphytaa, Finland New York, NY'</td>\n",
       "      <td>b'Gustafsson, Mr. Anders Vilhelm'</td>\n",
       "      <td>0</td>\n",
       "      <td>2</td>\n",
       "      <td>0</td>\n",
       "      <td>2</td>\n",
       "      <td>0</td>\n",
       "      <td>b'3101276'</td>\n",
       "    </tr>\n",
       "    <tr>\n",
       "      <th>2</th>\n",
       "      <td>28.0</td>\n",
       "      <td>b'9'</td>\n",
       "      <td>-1</td>\n",
       "      <td>b'Unknown'</td>\n",
       "      <td>2</td>\n",
       "      <td>13.0000</td>\n",
       "      <td>b'Spain'</td>\n",
       "      <td>b'Reynaldo, Ms. Encarnacion'</td>\n",
       "      <td>0</td>\n",
       "      <td>1</td>\n",
       "      <td>1</td>\n",
       "      <td>0</td>\n",
       "      <td>1</td>\n",
       "      <td>b'230434'</td>\n",
       "    </tr>\n",
       "    <tr>\n",
       "      <th>3</th>\n",
       "      <td>18.0</td>\n",
       "      <td>b'Unknown'</td>\n",
       "      <td>-1</td>\n",
       "      <td>b'Unknown'</td>\n",
       "      <td>2</td>\n",
       "      <td>73.5000</td>\n",
       "      <td>b'Lyndhurst, England'</td>\n",
       "      <td>b'Davies, Mr. Charles Henry'</td>\n",
       "      <td>0</td>\n",
       "      <td>1</td>\n",
       "      <td>0</td>\n",
       "      <td>0</td>\n",
       "      <td>0</td>\n",
       "      <td>b'S.O.C. 14879'</td>\n",
       "    </tr>\n",
       "    <tr>\n",
       "      <th>4</th>\n",
       "      <td>21.0</td>\n",
       "      <td>b'Unknown'</td>\n",
       "      <td>-1</td>\n",
       "      <td>b'Unknown'</td>\n",
       "      <td>0</td>\n",
       "      <td>7.8958</td>\n",
       "      <td>b'Unknown'</td>\n",
       "      <td>b'Gheorgheff, Mr. Stanio'</td>\n",
       "      <td>0</td>\n",
       "      <td>2</td>\n",
       "      <td>0</td>\n",
       "      <td>0</td>\n",
       "      <td>0</td>\n",
       "      <td>b'349254'</td>\n",
       "    </tr>\n",
       "  </tbody>\n",
       "</table>\n",
       "</div>"
      ],
      "text/plain": [
       "    age        boat  body       cabin  embarked     fare  \\\n",
       "0  30.0  b'Unknown'    -1  b'Unknown'         2  13.0000   \n",
       "1  37.0  b'Unknown'    98  b'Unknown'         2   7.9250   \n",
       "2  28.0        b'9'    -1  b'Unknown'         2  13.0000   \n",
       "3  18.0  b'Unknown'    -1  b'Unknown'         2  73.5000   \n",
       "4  21.0  b'Unknown'    -1  b'Unknown'         0   7.8958   \n",
       "\n",
       "                                home.dest                               name  \\\n",
       "0                           b'Sarnia, ON'       b'McCrie, Mr. James Matthew'   \n",
       "1  b'Ruotsinphytaa, Finland New York, NY'  b'Gustafsson, Mr. Anders Vilhelm'   \n",
       "2                                b'Spain'       b'Reynaldo, Ms. Encarnacion'   \n",
       "3                   b'Lyndhurst, England'       b'Davies, Mr. Charles Henry'   \n",
       "4                              b'Unknown'          b'Gheorgheff, Mr. Stanio'   \n",
       "\n",
       "   parch  pclass  sex  sibsp  survived           ticket  \n",
       "0      0       1    0      0         0        b'233478'  \n",
       "1      0       2    0      2         0       b'3101276'  \n",
       "2      0       1    1      0         1        b'230434'  \n",
       "3      0       1    0      0         0  b'S.O.C. 14879'  \n",
       "4      0       2    0      0         0        b'349254'  "
      ]
     },
     "execution_count": 7,
     "metadata": {},
     "output_type": "execute_result"
    }
   ],
   "source": [
    "df.head()"
   ]
  },
  {
   "cell_type": "markdown",
   "id": "1e091568",
   "metadata": {},
   "source": [
    "Данные о билете, кабине и id пассажира не поддаются систематизации и могут только запутать модель, поэтому сразу их удаляем. \n",
    "\n",
    "Данные о статусе в обществе ( `Mr`, `Miss` и т.д.) могут нести полезную информацию, достанем их из имени."
   ]
  },
  {
   "cell_type": "code",
   "execution_count": 8,
   "id": "e8d453c1",
   "metadata": {},
   "outputs": [
    {
     "data": {
      "text/html": [
       "<div>\n",
       "<style scoped>\n",
       "    .dataframe tbody tr th:only-of-type {\n",
       "        vertical-align: middle;\n",
       "    }\n",
       "\n",
       "    .dataframe tbody tr th {\n",
       "        vertical-align: top;\n",
       "    }\n",
       "\n",
       "    .dataframe thead th {\n",
       "        text-align: right;\n",
       "    }\n",
       "</style>\n",
       "<table border=\"1\" class=\"dataframe\">\n",
       "  <thead>\n",
       "    <tr style=\"text-align: right;\">\n",
       "      <th></th>\n",
       "      <th>age</th>\n",
       "      <th>embarked</th>\n",
       "      <th>fare</th>\n",
       "      <th>name</th>\n",
       "      <th>parch</th>\n",
       "      <th>pclass</th>\n",
       "      <th>sex</th>\n",
       "      <th>sibsp</th>\n",
       "      <th>survived</th>\n",
       "    </tr>\n",
       "  </thead>\n",
       "  <tbody>\n",
       "    <tr>\n",
       "      <th>0</th>\n",
       "      <td>30.0</td>\n",
       "      <td>2</td>\n",
       "      <td>13.0000</td>\n",
       "      <td>Mr</td>\n",
       "      <td>0</td>\n",
       "      <td>1</td>\n",
       "      <td>0</td>\n",
       "      <td>0</td>\n",
       "      <td>0</td>\n",
       "    </tr>\n",
       "    <tr>\n",
       "      <th>1</th>\n",
       "      <td>37.0</td>\n",
       "      <td>2</td>\n",
       "      <td>7.9250</td>\n",
       "      <td>Mr</td>\n",
       "      <td>0</td>\n",
       "      <td>2</td>\n",
       "      <td>0</td>\n",
       "      <td>2</td>\n",
       "      <td>0</td>\n",
       "    </tr>\n",
       "    <tr>\n",
       "      <th>2</th>\n",
       "      <td>28.0</td>\n",
       "      <td>2</td>\n",
       "      <td>13.0000</td>\n",
       "      <td>Ms</td>\n",
       "      <td>0</td>\n",
       "      <td>1</td>\n",
       "      <td>1</td>\n",
       "      <td>0</td>\n",
       "      <td>1</td>\n",
       "    </tr>\n",
       "    <tr>\n",
       "      <th>3</th>\n",
       "      <td>18.0</td>\n",
       "      <td>2</td>\n",
       "      <td>73.5000</td>\n",
       "      <td>Mr</td>\n",
       "      <td>0</td>\n",
       "      <td>1</td>\n",
       "      <td>0</td>\n",
       "      <td>0</td>\n",
       "      <td>0</td>\n",
       "    </tr>\n",
       "    <tr>\n",
       "      <th>4</th>\n",
       "      <td>21.0</td>\n",
       "      <td>0</td>\n",
       "      <td>7.8958</td>\n",
       "      <td>Mr</td>\n",
       "      <td>0</td>\n",
       "      <td>2</td>\n",
       "      <td>0</td>\n",
       "      <td>0</td>\n",
       "      <td>0</td>\n",
       "    </tr>\n",
       "  </tbody>\n",
       "</table>\n",
       "</div>"
      ],
      "text/plain": [
       "    age  embarked     fare name  parch  pclass  sex  sibsp  survived\n",
       "0  30.0         2  13.0000   Mr      0       1    0      0         0\n",
       "1  37.0         2   7.9250   Mr      0       2    0      2         0\n",
       "2  28.0         2  13.0000   Ms      0       1    1      0         1\n",
       "3  18.0         2  73.5000   Mr      0       1    0      0         0\n",
       "4  21.0         0   7.8958   Mr      0       2    0      0         0"
      ]
     },
     "execution_count": 8,
     "metadata": {},
     "output_type": "execute_result"
    }
   ],
   "source": [
    "df.name = df.name.apply(lambda x: str(x).split('.')[0].split()[-1])\n",
    "df.drop(columns=['boat', 'body', 'cabin', 'home.dest', 'ticket'], inplace=True)\n",
    "df.head()"
   ]
  },
  {
   "cell_type": "markdown",
   "id": "096b4f9b",
   "metadata": {},
   "source": [
    "Информация в имени действительно полезна, среди пассажирова встречаются доктора, начальники и члены команды корабля. Эти факторы явно влияют на выживаемость пассажира.  "
   ]
  },
  {
   "cell_type": "code",
   "execution_count": 9,
   "id": "c54095e5",
   "metadata": {},
   "outputs": [
    {
     "data": {
      "text/plain": [
       "Mr          757\n",
       "Miss        260\n",
       "Mrs         197\n",
       "Master       61\n",
       "Dr            8\n",
       "Rev           8\n",
       "Col           4\n",
       "Ms            2\n",
       "Major         2\n",
       "Mlle          2\n",
       "Mme           1\n",
       "Capt          1\n",
       "Countess      1\n",
       "Don           1\n",
       "Lady          1\n",
       "Jonkheer      1\n",
       "Dona          1\n",
       "Sir           1\n",
       "Name: name, dtype: int64"
      ]
     },
     "execution_count": 9,
     "metadata": {},
     "output_type": "execute_result"
    }
   ],
   "source": [
    "df.name.value_counts()"
   ]
  },
  {
   "cell_type": "markdown",
   "id": "76424c36",
   "metadata": {},
   "source": [
    "Заменим более редкие значения классом `Other`"
   ]
  },
  {
   "cell_type": "code",
   "execution_count": 10,
   "id": "ae227f50",
   "metadata": {},
   "outputs": [],
   "source": [
    "for person in df.name.value_counts().index[-12:]:\n",
    "    list_indxs = df[df.name == person].index\n",
    "    for indx in list_indxs:\n",
    "        df.iloc[indx, 3] = 'Other'"
   ]
  },
  {
   "cell_type": "code",
   "execution_count": 11,
   "id": "2cc2eb04",
   "metadata": {},
   "outputs": [
    {
     "data": {
      "text/plain": [
       "Mr        757\n",
       "Miss      260\n",
       "Mrs       197\n",
       "Master     61\n",
       "Other      18\n",
       "Dr          8\n",
       "Rev         8\n",
       "Name: name, dtype: int64"
      ]
     },
     "execution_count": 11,
     "metadata": {},
     "output_type": "execute_result"
    }
   ],
   "source": [
    "df.name.value_counts()"
   ]
  },
  {
   "cell_type": "code",
   "execution_count": null,
   "id": "929f94e6",
   "metadata": {},
   "outputs": [],
   "source": []
  },
  {
   "cell_type": "code",
   "execution_count": 12,
   "id": "97764575",
   "metadata": {},
   "outputs": [],
   "source": [
    "from sklearn.model_selection import train_test_split\n",
    "\n",
    "train, val_test = train_test_split(df, test_size=0.6, random_state=1337)"
   ]
  },
  {
   "cell_type": "code",
   "execution_count": 13,
   "id": "23051d9c",
   "metadata": {},
   "outputs": [],
   "source": [
    "val, test = train_test_split(val_test, test_size=0.5, random_state=1337)"
   ]
  },
  {
   "cell_type": "code",
   "execution_count": 14,
   "id": "fff9c521",
   "metadata": {},
   "outputs": [],
   "source": [
    "X_train = train.drop(columns='survived')\n",
    "y_train = train.survived.to_numpy().reshape((-1, 1))\n",
    "X_val = val.drop(columns='survived')\n",
    "y_val = val.survived.to_numpy().reshape((-1, 1))\n",
    "X_test = test.drop(columns='survived')\n",
    "y_test = test.survived.to_numpy().reshape((-1, 1))"
   ]
  },
  {
   "cell_type": "markdown",
   "id": "2126f921",
   "metadata": {},
   "source": [
    "Создадим пайплайн для обработки данных."
   ]
  },
  {
   "cell_type": "code",
   "execution_count": 15,
   "id": "e285c17c",
   "metadata": {},
   "outputs": [],
   "source": [
    "from sklearn.pipeline import Pipeline\n",
    "from sklearn.impute import SimpleImputer\n",
    "from sklearn.preprocessing import StandardScaler, OneHotEncoder\n",
    "\n",
    "num_pipeline = Pipeline([\n",
    "    ('imputer', SimpleImputer(strategy=\"median\")), \n",
    "    ('std_scaler', StandardScaler())\n",
    "])\n",
    "\n",
    "\n",
    "cat_pipeline = Pipeline([\n",
    "    ('cat_imputer', SimpleImputer(strategy='most_frequent')),\n",
    "    ('one_hot', OneHotEncoder())\n",
    "])"
   ]
  },
  {
   "cell_type": "code",
   "execution_count": 16,
   "id": "9939c7c7",
   "metadata": {},
   "outputs": [],
   "source": [
    "from sklearn.compose import ColumnTransformer\n",
    "\n",
    "num_attribs = ['age', 'fare', 'parch', 'sibsp']\n",
    "cat_attribs = ['embarked', 'name', 'pclass', 'sex']\n",
    "\n",
    "pipeline = ColumnTransformer([(\"num\", num_pipeline, num_attribs), \n",
    "                                   (\"cat\", cat_pipeline, cat_attribs)])"
   ]
  },
  {
   "cell_type": "markdown",
   "id": "25b6b078",
   "metadata": {},
   "source": [
    "Обучаем пайплайн на тестовых данных"
   ]
  },
  {
   "cell_type": "code",
   "execution_count": 17,
   "id": "50e56bb7",
   "metadata": {},
   "outputs": [],
   "source": [
    "X_train = pipeline.fit_transform(X_train)\n",
    "X_val = pipeline.transform(X_val)\n",
    "X_test = pipeline.transform(X_test)"
   ]
  },
  {
   "cell_type": "code",
   "execution_count": 18,
   "id": "18c0606c",
   "metadata": {},
   "outputs": [
    {
     "data": {
      "text/plain": [
       "(523, 20)"
      ]
     },
     "execution_count": 18,
     "metadata": {},
     "output_type": "execute_result"
    }
   ],
   "source": [
    "X_train.shape"
   ]
  },
  {
   "cell_type": "markdown",
   "id": "c4b2b954",
   "metadata": {},
   "source": [
    "# Обучение модели"
   ]
  },
  {
   "cell_type": "code",
   "execution_count": 19,
   "id": "08e652d5",
   "metadata": {
    "collapsed": true
   },
   "outputs": [
    {
     "name": "stderr",
     "output_type": "stream",
     "text": [
      "C:\\ProgramData\\Anaconda3\\lib\\site-packages\\tensorflow_addons\\utils\\tfa_eol_msg.py:23: UserWarning: \n",
      "\n",
      "TensorFlow Addons (TFA) has ended development and introduction of new features.\n",
      "TFA has entered a minimal maintenance and release mode until a planned end of life in May 2024.\n",
      "Please modify downstream libraries to take dependencies from other repositories in our TensorFlow community (e.g. Keras, Keras-CV, and Keras-NLP). \n",
      "\n",
      "For more information see: https://github.com/tensorflow/addons/issues/2807 \n",
      "\n",
      "  warnings.warn(\n",
      "C:\\ProgramData\\Anaconda3\\lib\\site-packages\\tensorflow_addons\\utils\\ensure_tf_install.py:53: UserWarning: Tensorflow Addons supports using Python ops for all Tensorflow versions above or equal to 2.10.0 and strictly below 2.13.0 (nightly versions are not supported). \n",
      " The versions of TensorFlow you are currently using is 2.8.0 and is not supported. \n",
      "Some things might work, some things might not.\n",
      "If you were to encounter a bug, do not file an issue.\n",
      "If you want to make sure you're using a tested and supported configuration, either change the TensorFlow version or the TensorFlow Addons's version. \n",
      "You can find the compatibility matrix in TensorFlow Addon's readme:\n",
      "https://github.com/tensorflow/addons\n",
      "  warnings.warn(\n"
     ]
    }
   ],
   "source": [
    "from keras import models\n",
    "from keras import layers\n",
    "from keras import optimizers\n",
    "from keras import losses\n",
    "from tensorflow_addons import metrics"
   ]
  },
  {
   "cell_type": "markdown",
   "id": "f6c63f3d",
   "metadata": {},
   "source": [
    "Для начала сделам простую модель без скрытых слоев"
   ]
  },
  {
   "cell_type": "code",
   "execution_count": 20,
   "id": "21a79291",
   "metadata": {},
   "outputs": [],
   "source": [
    "model = models.Sequential()\n",
    "model.add(layers.Dense(20, activation='relu', input_shape=(20,)))\n",
    "model.add(layers.Dense(1, activation='sigmoid'))"
   ]
  },
  {
   "cell_type": "code",
   "execution_count": 21,
   "id": "ba98a78f",
   "metadata": {},
   "outputs": [],
   "source": [
    "model.compile(optimizer=tf.optimizers.Adam(learning_rate=0.001),\n",
    "             loss=losses.BinaryCrossentropy(),\n",
    "             metrics=metrics.FBetaScore(num_classes=2,average=\"micro\",threshold=0.5))"
   ]
  },
  {
   "cell_type": "code",
   "execution_count": 22,
   "id": "62dcdeb7",
   "metadata": {},
   "outputs": [],
   "source": [
    "history = model.fit(X_train,\n",
    "                    y_train,\n",
    "                    epochs=100,\n",
    "                    verbose = 0,\n",
    "                    batch_size= 16,\n",
    "                    validation_data = (X_val, y_val),\n",
    "                    callbacks = tf.keras.callbacks.EarlyStopping(\n",
    "                        monitor='val_loss',\n",
    "                        patience=3\n",
    "                    )\n",
    "                   )"
   ]
  },
  {
   "cell_type": "markdown",
   "id": "7429a8ac",
   "metadata": {},
   "source": [
    "Напишем функции, которые будут выводить графики потерь и метрик"
   ]
  },
  {
   "cell_type": "code",
   "execution_count": 23,
   "id": "3d65733b",
   "metadata": {},
   "outputs": [],
   "source": [
    "def show_loss(history):\n",
    "    history_dict = history.history\n",
    "    loss_values = history_dict['loss']\n",
    "    val_loss_values = history_dict['val_loss']\n",
    "    \n",
    "    epochs = range(1, len(loss_values) + 1)\n",
    "    \n",
    "    plt.plot(epochs, loss_values, 'r', label='Training loss')\n",
    "    plt.plot(epochs, val_loss_values, 'b', label='Validation loss')\n",
    "    plt.xlabel('Epochs')\n",
    "    plt.ylabel('Loss')\n",
    "    plt.legend()\n",
    "    \n",
    "    plt.show()"
   ]
  },
  {
   "cell_type": "code",
   "execution_count": 24,
   "id": "739c6cf8",
   "metadata": {},
   "outputs": [],
   "source": [
    "def show_f1(history):\n",
    "    history_dict = history.history\n",
    "    f1_values = history_dict['fbeta_score']\n",
    "    val_f1_values = history_dict['val_fbeta_score']\n",
    "    \n",
    "    epochs = range(1, len(f1_values) + 1)\n",
    "    \n",
    "    plt.plot(epochs, f1_values, 'r', label='Training f1')\n",
    "    plt.plot(epochs, val_f1_values, 'b', label='Validation f1')\n",
    "    plt.xlabel('Epochs')\n",
    "    plt.ylabel('F1')\n",
    "    plt.legend()\n",
    "    \n",
    "    plt.show()"
   ]
  },
  {
   "cell_type": "code",
   "execution_count": 25,
   "id": "94ce51c2",
   "metadata": {},
   "outputs": [
    {
     "data": {
      "image/png": "[encoded data removed]",
      "text/plain": [
       "<Figure size 640x480 with 1 Axes>"
      ]
     },
     "metadata": {},
     "output_type": "display_data"
    }
   ],
   "source": [
    "show_loss(history)"
   ]
  },
  {
   "cell_type": "code",
   "execution_count": 26,
   "id": "75393f80",
   "metadata": {},
   "outputs": [
    {
     "data": {
      "image/png": "[encoded data removed]",
      "text/plain": [
       "<Figure size 640x480 with 1 Axes>"
      ]
     },
     "metadata": {},
     "output_type": "display_data"
    }
   ],
   "source": [
    "show_f1(history)"
   ]
  },
  {
   "cell_type": "code",
   "execution_count": 27,
   "id": "41d9b3ca",
   "metadata": {},
   "outputs": [
    {
     "data": {
      "text/plain": [
       "0.7167235612869263"
      ]
     },
     "execution_count": 27,
     "metadata": {},
     "output_type": "execute_result"
    }
   ],
   "source": [
    "history.history['val_fbeta_score'][-1]"
   ]
  },
  {
   "cell_type": "markdown",
   "id": "ba802e11",
   "metadata": {},
   "source": [
    "Метрика F1 составила 0.71, очень хорошо для простой модели. \n",
    "\n",
    "Попробуем усложнить её: добавим пару скрытых слоев и слой Dropout чтобы предотвратить переобучение.\n",
    "\n",
    "Так как классов не равное количество, то подкорректируем порог для метрики на уровень `threshold=0.6`"
   ]
  },
  {
   "cell_type": "code",
   "execution_count": 28,
   "id": "2b140038",
   "metadata": {},
   "outputs": [],
   "source": [
    "model = models.Sequential()\n",
    "model.add(layers.Dense(32, activation='relu', input_shape=(20,)))\n",
    "model.add(layers.Dense(64, activation='relu'))\n",
    "model.add(layers.Dropout(0.4)) \n",
    "model.add(layers.Dense(32, activation='relu'))\n",
    "model.add(layers.Dropout(0.4))\n",
    "model.add(layers.Dense(16, activation='relu'))\n",
    "model.add(layers.Dropout(0.4))\n",
    "model.add(layers.Dense(8, activation='relu'))\n",
    "model.add(layers.Dense(1, activation='sigmoid'))"
   ]
  },
  {
   "cell_type": "code",
   "execution_count": 29,
   "id": "09fc854d",
   "metadata": {},
   "outputs": [],
   "source": [
    "model.compile(optimizer=tf.optimizers.Adam(learning_rate=0.001),\n",
    "             loss=losses.BinaryCrossentropy(),\n",
    "             metrics=metrics.FBetaScore(num_classes=2,average=\"micro\",threshold=0.6))"
   ]
  },
  {
   "cell_type": "code",
   "execution_count": 31,
   "id": "153c90d5",
   "metadata": {},
   "outputs": [],
   "source": [
    "history = model.fit(X_train,\n",
    "                    y_train,\n",
    "                    epochs=100,\n",
    "                    verbose = 0,\n",
    "                    batch_size= 16,\n",
    "                    validation_data = (X_val, y_val),\n",
    "                    callbacks = tf.keras.callbacks.EarlyStopping(\n",
    "                        monitor='val_loss',\n",
    "                        patience=3\n",
    "                    )\n",
    "                   )"
   ]
  },
  {
   "cell_type": "code",
   "execution_count": 32,
   "id": "62a636d7",
   "metadata": {},
   "outputs": [
    {
     "data": {
      "image/png": "[encoded data removed]",
      "text/plain": [
       "<Figure size 640x480 with 1 Axes>"
      ]
     },
     "metadata": {},
     "output_type": "display_data"
    }
   ],
   "source": [
    "show_loss(history)"
   ]
  },
  {
   "cell_type": "code",
   "execution_count": 33,
   "id": "f474c5e6",
   "metadata": {},
   "outputs": [
    {
     "data": {
      "image/png": "[encoded data removed]",
      "text/plain": [
       "<Figure size 640x480 with 1 Axes>"
      ]
     },
     "metadata": {},
     "output_type": "display_data"
    }
   ],
   "source": [
    "show_f1(history)"
   ]
  },
  {
   "cell_type": "code",
   "execution_count": 34,
   "id": "480fe199",
   "metadata": {},
   "outputs": [
    {
     "data": {
      "text/plain": [
       "0.7072243690490723"
      ]
     },
     "execution_count": 34,
     "metadata": {},
     "output_type": "execute_result"
    }
   ],
   "source": [
    "history.history['val_fbeta_score'][-1]"
   ]
  },
  {
   "cell_type": "markdown",
   "id": "ea8afa8e",
   "metadata": {},
   "source": [
    "Усложнение модели не улучшает метрику. Но так как она менее склонна к переобучению, то будем использовать её."
   ]
  },
  {
   "cell_type": "markdown",
   "id": "524ae81b",
   "metadata": {},
   "source": [
    "# Оценка модели"
   ]
  },
  {
   "cell_type": "code",
   "execution_count": 35,
   "id": "af211efe",
   "metadata": {},
   "outputs": [],
   "source": [
    "model = models.Sequential()\n",
    "model.add(layers.Dense(32, activation='relu', input_shape=(20,)))\n",
    "model.add(layers.Dense(64, activation='relu'))\n",
    "model.add(layers.Dropout(0.4)) \n",
    "model.add(layers.Dense(32, activation='relu'))\n",
    "model.add(layers.Dropout(0.4))\n",
    "model.add(layers.Dense(16, activation='relu'))\n",
    "model.add(layers.Dropout(0.4))\n",
    "model.add(layers.Dense(8, activation='relu'))\n",
    "model.add(layers.Dense(1, activation='sigmoid'))"
   ]
  },
  {
   "cell_type": "code",
   "execution_count": 36,
   "id": "d55ecd7e",
   "metadata": {},
   "outputs": [],
   "source": [
    "model.compile(optimizer=tf.optimizers.Adam(learning_rate=0.001),\n",
    "             loss=losses.BinaryCrossentropy(),\n",
    "             metrics=metrics.FBetaScore(num_classes=2,average=\"micro\",threshold=0.6))"
   ]
  },
  {
   "cell_type": "code",
   "execution_count": 37,
   "id": "92393e83",
   "metadata": {},
   "outputs": [],
   "source": [
    "history = model.fit(X_train,\n",
    "                    y_train,\n",
    "                    epochs=40,\n",
    "                    verbose = 0,\n",
    "                    batch_size= 16,\n",
    "                    validation_data = (X_val, y_val),\n",
    "                    callbacks = tf.keras.callbacks.EarlyStopping(\n",
    "                        monitor='val_loss',\n",
    "                        patience=3\n",
    "                    ))"
   ]
  },
  {
   "cell_type": "code",
   "execution_count": 38,
   "id": "54d2802b",
   "metadata": {},
   "outputs": [
    {
     "data": {
      "image/png": "[encoded data removed]",
      "text/plain": [
       "<Figure size 640x480 with 1 Axes>"
      ]
     },
     "metadata": {},
     "output_type": "display_data"
    }
   ],
   "source": [
    "show_loss(history)"
   ]
  },
  {
   "cell_type": "code",
   "execution_count": 39,
   "id": "f31236c2",
   "metadata": {},
   "outputs": [
    {
     "data": {
      "image/png": "[encoded data removed]",
      "text/plain": [
       "<Figure size 640x480 with 1 Axes>"
      ]
     },
     "metadata": {},
     "output_type": "display_data"
    }
   ],
   "source": [
    "show_f1(history)"
   ]
  },
  {
   "cell_type": "markdown",
   "id": "cbfd0999",
   "metadata": {},
   "source": [
    "Получим метрику для данных, которые модель никогда не видела"
   ]
  },
  {
   "cell_type": "code",
   "execution_count": 45,
   "id": "c0fc97ed",
   "metadata": {},
   "outputs": [],
   "source": [
    "metric = metrics.FBetaScore(num_classes=2,average=\"micro\",threshold=0.6)"
   ]
  },
  {
   "cell_type": "code",
   "execution_count": 41,
   "id": "27a76474",
   "metadata": {},
   "outputs": [],
   "source": [
    "y_true = y_test\n",
    "y_pred = model.predict(X_test)"
   ]
  },
  {
   "cell_type": "code",
   "execution_count": 46,
   "id": "b3e61eae",
   "metadata": {},
   "outputs": [
    {
     "data": {
      "text/plain": [
       "0.7759198"
      ]
     },
     "execution_count": 46,
     "metadata": {},
     "output_type": "execute_result"
    }
   ],
   "source": [
    "metric.update_state(y_true, y_pred)\n",
    "result = metric.result()\n",
    "result.numpy()"
   ]
  }
 ],
 "metadata": {
  "kernelspec": {
   "display_name": "Python 3 (ipykernel)",
   "language": "python",
   "name": "python3"
  },
  "language_info": {
   "codemirror_mode": {
    "name": "ipython",
    "version": 3
   },
   "file_extension": ".py",
   "mimetype": "text/x-python",
   "name": "python",
   "nbconvert_exporter": "python",
   "pygments_lexer": "ipython3",
   "version": "3.9.13"
  }
 },
 "nbformat": 4,
 "nbformat_minor": 5
}
