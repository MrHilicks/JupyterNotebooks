{
 "cells": [
  {
   "cell_type": "markdown",
   "id": "2d0fffa4",
   "metadata": {},
   "source": [
    "# Применение XGBoost"
   ]
  },
  {
   "cell_type": "code",
   "execution_count": 1,
   "id": "0efb0446",
   "metadata": {},
   "outputs": [],
   "source": [
    "import numpy as np\n",
    "import pandas as pd\n",
    "import matplotlib\n",
    "import matplotlib.pyplot as plt\n",
    "import seaborn as sns\n",
    "matplotlib.style.use('ggplot')\n",
    "%matplotlib inline"
   ]
  },
  {
   "cell_type": "markdown",
   "id": "65a76743",
   "metadata": {},
   "source": [
    "Задача. Нужно научиться распознавать доход человека (больше $50000 в год или меньше) по его ответам в ходе переписи населения.\n",
    "Данные\n",
    "https://archive.ics.uci.edu/ml/datasets/Adult\n",
    "\n",
    "Описание данных:\n",
    "https://archive.ics.uci.edu/ml/machine-learning-databases/adult/adult.names"
   ]
  },
  {
   "cell_type": "code",
   "execution_count": 2,
   "id": "76272247",
   "metadata": {},
   "outputs": [],
   "source": [
    "# Имена переменных\n",
    "columns = ['age', 'workclass', 'fnlwgt', 'education', 'education-num',\n",
    "           'marital-status', 'occupation', 'relationship', 'race', 'sex',\n",
    "           'capital-gain', 'capital-loss', 'hours-per-week', 'native-country', 'income']\n",
    "\n",
    "# Читаем и обрабатываем обучающую выборку\n",
    "df = pd.read_csv('adult.data', header=None, names=columns, na_values=' ?')\n",
    "# Удаляем колонку education (потому что есть уже закодированная колонка education-num)\n",
    "df = df.drop('education', axis=1)\n",
    "# Кодируем отклик значениями 0 и 1\n",
    "df['income'] = df['income'].map({' <=50K': 0, ' >50K': 1})\n",
    "# удаляем строки с NA значениями\n",
    "df = df.dropna()\n",
    "\n",
    "# Читаем и обрабатываем тестовую выборку, как выше\n",
    "test = pd.read_csv('adult.test', header=None, names=columns, na_values=' ?', skiprows=1)\n",
    "test = test.drop('education', axis=1)\n",
    "test['income'] = test['income'].map({' <=50K.': 0, ' >50K.': 1})\n",
    "test = test.dropna()"
   ]
  },
  {
   "cell_type": "code",
   "execution_count": 3,
   "id": "61c6ad65",
   "metadata": {},
   "outputs": [
    {
     "data": {
      "text/html": [
       "<div>\n",
       "<style scoped>\n",
       "    .dataframe tbody tr th:only-of-type {\n",
       "        vertical-align: middle;\n",
       "    }\n",
       "\n",
       "    .dataframe tbody tr th {\n",
       "        vertical-align: top;\n",
       "    }\n",
       "\n",
       "    .dataframe thead th {\n",
       "        text-align: right;\n",
       "    }\n",
       "</style>\n",
       "<table border=\"1\" class=\"dataframe\">\n",
       "  <thead>\n",
       "    <tr style=\"text-align: right;\">\n",
       "      <th></th>\n",
       "      <th>age</th>\n",
       "      <th>workclass</th>\n",
       "      <th>fnlwgt</th>\n",
       "      <th>education-num</th>\n",
       "      <th>marital-status</th>\n",
       "      <th>occupation</th>\n",
       "      <th>relationship</th>\n",
       "      <th>race</th>\n",
       "      <th>sex</th>\n",
       "      <th>capital-gain</th>\n",
       "      <th>capital-loss</th>\n",
       "      <th>hours-per-week</th>\n",
       "      <th>native-country</th>\n",
       "      <th>income</th>\n",
       "    </tr>\n",
       "  </thead>\n",
       "  <tbody>\n",
       "    <tr>\n",
       "      <th>0</th>\n",
       "      <td>39</td>\n",
       "      <td>State-gov</td>\n",
       "      <td>77516</td>\n",
       "      <td>13</td>\n",
       "      <td>Never-married</td>\n",
       "      <td>Adm-clerical</td>\n",
       "      <td>Not-in-family</td>\n",
       "      <td>White</td>\n",
       "      <td>Male</td>\n",
       "      <td>2174</td>\n",
       "      <td>0</td>\n",
       "      <td>40</td>\n",
       "      <td>United-States</td>\n",
       "      <td>0</td>\n",
       "    </tr>\n",
       "    <tr>\n",
       "      <th>1</th>\n",
       "      <td>50</td>\n",
       "      <td>Self-emp-not-inc</td>\n",
       "      <td>83311</td>\n",
       "      <td>13</td>\n",
       "      <td>Married-civ-spouse</td>\n",
       "      <td>Exec-managerial</td>\n",
       "      <td>Husband</td>\n",
       "      <td>White</td>\n",
       "      <td>Male</td>\n",
       "      <td>0</td>\n",
       "      <td>0</td>\n",
       "      <td>13</td>\n",
       "      <td>United-States</td>\n",
       "      <td>0</td>\n",
       "    </tr>\n",
       "    <tr>\n",
       "      <th>2</th>\n",
       "      <td>38</td>\n",
       "      <td>Private</td>\n",
       "      <td>215646</td>\n",
       "      <td>9</td>\n",
       "      <td>Divorced</td>\n",
       "      <td>Handlers-cleaners</td>\n",
       "      <td>Not-in-family</td>\n",
       "      <td>White</td>\n",
       "      <td>Male</td>\n",
       "      <td>0</td>\n",
       "      <td>0</td>\n",
       "      <td>40</td>\n",
       "      <td>United-States</td>\n",
       "      <td>0</td>\n",
       "    </tr>\n",
       "    <tr>\n",
       "      <th>3</th>\n",
       "      <td>53</td>\n",
       "      <td>Private</td>\n",
       "      <td>234721</td>\n",
       "      <td>7</td>\n",
       "      <td>Married-civ-spouse</td>\n",
       "      <td>Handlers-cleaners</td>\n",
       "      <td>Husband</td>\n",
       "      <td>Black</td>\n",
       "      <td>Male</td>\n",
       "      <td>0</td>\n",
       "      <td>0</td>\n",
       "      <td>40</td>\n",
       "      <td>United-States</td>\n",
       "      <td>0</td>\n",
       "    </tr>\n",
       "    <tr>\n",
       "      <th>4</th>\n",
       "      <td>28</td>\n",
       "      <td>Private</td>\n",
       "      <td>338409</td>\n",
       "      <td>13</td>\n",
       "      <td>Married-civ-spouse</td>\n",
       "      <td>Prof-specialty</td>\n",
       "      <td>Wife</td>\n",
       "      <td>Black</td>\n",
       "      <td>Female</td>\n",
       "      <td>0</td>\n",
       "      <td>0</td>\n",
       "      <td>40</td>\n",
       "      <td>Cuba</td>\n",
       "      <td>0</td>\n",
       "    </tr>\n",
       "  </tbody>\n",
       "</table>\n",
       "</div>"
      ],
      "text/plain": [
       "   age          workclass  fnlwgt  education-num       marital-status  \\\n",
       "0   39          State-gov   77516             13        Never-married   \n",
       "1   50   Self-emp-not-inc   83311             13   Married-civ-spouse   \n",
       "2   38            Private  215646              9             Divorced   \n",
       "3   53            Private  234721              7   Married-civ-spouse   \n",
       "4   28            Private  338409             13   Married-civ-spouse   \n",
       "\n",
       "           occupation    relationship    race      sex  capital-gain  \\\n",
       "0        Adm-clerical   Not-in-family   White     Male          2174   \n",
       "1     Exec-managerial         Husband   White     Male             0   \n",
       "2   Handlers-cleaners   Not-in-family   White     Male             0   \n",
       "3   Handlers-cleaners         Husband   Black     Male             0   \n",
       "4      Prof-specialty            Wife   Black   Female             0   \n",
       "\n",
       "   capital-loss  hours-per-week  native-country  income  \n",
       "0             0              40   United-States       0  \n",
       "1             0              13   United-States       0  \n",
       "2             0              40   United-States       0  \n",
       "3             0              40   United-States       0  \n",
       "4             0              40            Cuba       0  "
      ]
     },
     "execution_count": 3,
     "metadata": {},
     "output_type": "execute_result"
    }
   ],
   "source": [
    "df.head()"
   ]
  },
  {
   "cell_type": "markdown",
   "id": "22f3d33a",
   "metadata": {},
   "source": [
    "Распределение классов"
   ]
  },
  {
   "cell_type": "code",
   "execution_count": 4,
   "id": "bf61c393",
   "metadata": {},
   "outputs": [
    {
     "data": {
      "text/plain": [
       "0    0.751078\n",
       "1    0.248922\n",
       "Name: income, dtype: float64"
      ]
     },
     "execution_count": 4,
     "metadata": {},
     "output_type": "execute_result"
    }
   ],
   "source": [
    "df['income'].value_counts(normalize=True)"
   ]
  },
  {
   "cell_type": "markdown",
   "id": "8adfc9c0",
   "metadata": {},
   "source": [
    "Делаем обучающую и тестовую выборку"
   ]
  },
  {
   "cell_type": "code",
   "execution_count": 5,
   "id": "b8e8145e",
   "metadata": {},
   "outputs": [],
   "source": [
    "X_train = pd.get_dummies(df).drop('income', axis=1)\n",
    "y_train = df['income']\n",
    "\n",
    "X_test = pd.get_dummies(test).drop('income', axis=1)\n",
    "y_test = test['income']"
   ]
  },
  {
   "cell_type": "markdown",
   "id": "29495f76",
   "metadata": {},
   "source": [
    "В обучающем множестве содержится на один столбец больше."
   ]
  },
  {
   "cell_type": "code",
   "execution_count": 6,
   "id": "754bc13e",
   "metadata": {},
   "outputs": [
    {
     "name": "stdout",
     "output_type": "stream",
     "text": [
      "88\n",
      "87\n"
     ]
    }
   ],
   "source": [
    "print (len(X_train.columns))\n",
    "print (len(X_test.columns))"
   ]
  },
  {
   "cell_type": "markdown",
   "id": "2fa6145b",
   "metadata": {},
   "source": [
    "В тестовой выборке нет ни одного представителя Голландии \n",
    "в колонке ```native-county```."
   ]
  },
  {
   "cell_type": "code",
   "execution_count": 7,
   "id": "2e85651f",
   "metadata": {},
   "outputs": [
    {
     "name": "stdout",
     "output_type": "stream",
     "text": [
      "{'native-country_ Holand-Netherlands'}\n",
      "set()\n"
     ]
    }
   ],
   "source": [
    "# Приводим множество названий колонок к типу set, находим разность двух множеств.\n",
    "print(set(X_train.columns) - set(X_test.columns))\n",
    "print(set(X_test.columns) - set(X_train.columns))"
   ]
  },
  {
   "cell_type": "markdown",
   "id": "14814777",
   "metadata": {},
   "source": [
    "Создадим полный список всех колонок (из обучающего и тестового множеств) и переиндексируем колонки в соответствии с этим списком. В результате в колонке ```native-country_ Holand-Netherlands``` в тестовом множестве появятся NaN-значения, которые мы заменим на нули."
   ]
  },
  {
   "cell_type": "code",
   "execution_count": 8,
   "id": "dbeed2e1",
   "metadata": {},
   "outputs": [],
   "source": [
    "columns = set(X_train.columns) | set(X_test.columns)\n",
    "X_train = X_train.reindex(columns=columns).fillna(0)\n",
    "X_test = X_test.reindex(columns=columns).fillna(0)"
   ]
  },
  {
   "cell_type": "code",
   "execution_count": 9,
   "id": "be96231f",
   "metadata": {},
   "outputs": [
    {
     "data": {
      "text/html": [
       "<div>\n",
       "<style scoped>\n",
       "    .dataframe tbody tr th:only-of-type {\n",
       "        vertical-align: middle;\n",
       "    }\n",
       "\n",
       "    .dataframe tbody tr th {\n",
       "        vertical-align: top;\n",
       "    }\n",
       "\n",
       "    .dataframe thead th {\n",
       "        text-align: right;\n",
       "    }\n",
       "</style>\n",
       "<table border=\"1\" class=\"dataframe\">\n",
       "  <thead>\n",
       "    <tr style=\"text-align: right;\">\n",
       "      <th></th>\n",
       "      <th>native-country_ Cambodia</th>\n",
       "      <th>workclass_ Local-gov</th>\n",
       "      <th>native-country_ Laos</th>\n",
       "      <th>native-country_ Greece</th>\n",
       "      <th>native-country_ South</th>\n",
       "      <th>native-country_ United-States</th>\n",
       "      <th>occupation_ Machine-op-inspct</th>\n",
       "      <th>native-country_ Hungary</th>\n",
       "      <th>native-country_ China</th>\n",
       "      <th>workclass_ Federal-gov</th>\n",
       "      <th>...</th>\n",
       "      <th>workclass_ Without-pay</th>\n",
       "      <th>native-country_ Iran</th>\n",
       "      <th>occupation_ Craft-repair</th>\n",
       "      <th>occupation_ Other-service</th>\n",
       "      <th>capital-gain</th>\n",
       "      <th>native-country_ Portugal</th>\n",
       "      <th>hours-per-week</th>\n",
       "      <th>native-country_ Taiwan</th>\n",
       "      <th>native-country_ Italy</th>\n",
       "      <th>occupation_ Exec-managerial</th>\n",
       "    </tr>\n",
       "  </thead>\n",
       "  <tbody>\n",
       "    <tr>\n",
       "      <th>0</th>\n",
       "      <td>0</td>\n",
       "      <td>0</td>\n",
       "      <td>0</td>\n",
       "      <td>0</td>\n",
       "      <td>0</td>\n",
       "      <td>1</td>\n",
       "      <td>0</td>\n",
       "      <td>0</td>\n",
       "      <td>0</td>\n",
       "      <td>0</td>\n",
       "      <td>...</td>\n",
       "      <td>0</td>\n",
       "      <td>0</td>\n",
       "      <td>0</td>\n",
       "      <td>0</td>\n",
       "      <td>2174</td>\n",
       "      <td>0</td>\n",
       "      <td>40</td>\n",
       "      <td>0</td>\n",
       "      <td>0</td>\n",
       "      <td>0</td>\n",
       "    </tr>\n",
       "    <tr>\n",
       "      <th>1</th>\n",
       "      <td>0</td>\n",
       "      <td>0</td>\n",
       "      <td>0</td>\n",
       "      <td>0</td>\n",
       "      <td>0</td>\n",
       "      <td>1</td>\n",
       "      <td>0</td>\n",
       "      <td>0</td>\n",
       "      <td>0</td>\n",
       "      <td>0</td>\n",
       "      <td>...</td>\n",
       "      <td>0</td>\n",
       "      <td>0</td>\n",
       "      <td>0</td>\n",
       "      <td>0</td>\n",
       "      <td>0</td>\n",
       "      <td>0</td>\n",
       "      <td>13</td>\n",
       "      <td>0</td>\n",
       "      <td>0</td>\n",
       "      <td>1</td>\n",
       "    </tr>\n",
       "    <tr>\n",
       "      <th>2</th>\n",
       "      <td>0</td>\n",
       "      <td>0</td>\n",
       "      <td>0</td>\n",
       "      <td>0</td>\n",
       "      <td>0</td>\n",
       "      <td>1</td>\n",
       "      <td>0</td>\n",
       "      <td>0</td>\n",
       "      <td>0</td>\n",
       "      <td>0</td>\n",
       "      <td>...</td>\n",
       "      <td>0</td>\n",
       "      <td>0</td>\n",
       "      <td>0</td>\n",
       "      <td>0</td>\n",
       "      <td>0</td>\n",
       "      <td>0</td>\n",
       "      <td>40</td>\n",
       "      <td>0</td>\n",
       "      <td>0</td>\n",
       "      <td>0</td>\n",
       "    </tr>\n",
       "    <tr>\n",
       "      <th>3</th>\n",
       "      <td>0</td>\n",
       "      <td>0</td>\n",
       "      <td>0</td>\n",
       "      <td>0</td>\n",
       "      <td>0</td>\n",
       "      <td>1</td>\n",
       "      <td>0</td>\n",
       "      <td>0</td>\n",
       "      <td>0</td>\n",
       "      <td>0</td>\n",
       "      <td>...</td>\n",
       "      <td>0</td>\n",
       "      <td>0</td>\n",
       "      <td>0</td>\n",
       "      <td>0</td>\n",
       "      <td>0</td>\n",
       "      <td>0</td>\n",
       "      <td>40</td>\n",
       "      <td>0</td>\n",
       "      <td>0</td>\n",
       "      <td>0</td>\n",
       "    </tr>\n",
       "    <tr>\n",
       "      <th>4</th>\n",
       "      <td>0</td>\n",
       "      <td>0</td>\n",
       "      <td>0</td>\n",
       "      <td>0</td>\n",
       "      <td>0</td>\n",
       "      <td>0</td>\n",
       "      <td>0</td>\n",
       "      <td>0</td>\n",
       "      <td>0</td>\n",
       "      <td>0</td>\n",
       "      <td>...</td>\n",
       "      <td>0</td>\n",
       "      <td>0</td>\n",
       "      <td>0</td>\n",
       "      <td>0</td>\n",
       "      <td>0</td>\n",
       "      <td>0</td>\n",
       "      <td>40</td>\n",
       "      <td>0</td>\n",
       "      <td>0</td>\n",
       "      <td>0</td>\n",
       "    </tr>\n",
       "    <tr>\n",
       "      <th>...</th>\n",
       "      <td>...</td>\n",
       "      <td>...</td>\n",
       "      <td>...</td>\n",
       "      <td>...</td>\n",
       "      <td>...</td>\n",
       "      <td>...</td>\n",
       "      <td>...</td>\n",
       "      <td>...</td>\n",
       "      <td>...</td>\n",
       "      <td>...</td>\n",
       "      <td>...</td>\n",
       "      <td>...</td>\n",
       "      <td>...</td>\n",
       "      <td>...</td>\n",
       "      <td>...</td>\n",
       "      <td>...</td>\n",
       "      <td>...</td>\n",
       "      <td>...</td>\n",
       "      <td>...</td>\n",
       "      <td>...</td>\n",
       "      <td>...</td>\n",
       "    </tr>\n",
       "    <tr>\n",
       "      <th>32556</th>\n",
       "      <td>0</td>\n",
       "      <td>0</td>\n",
       "      <td>0</td>\n",
       "      <td>0</td>\n",
       "      <td>0</td>\n",
       "      <td>1</td>\n",
       "      <td>0</td>\n",
       "      <td>0</td>\n",
       "      <td>0</td>\n",
       "      <td>0</td>\n",
       "      <td>...</td>\n",
       "      <td>0</td>\n",
       "      <td>0</td>\n",
       "      <td>0</td>\n",
       "      <td>0</td>\n",
       "      <td>0</td>\n",
       "      <td>0</td>\n",
       "      <td>38</td>\n",
       "      <td>0</td>\n",
       "      <td>0</td>\n",
       "      <td>0</td>\n",
       "    </tr>\n",
       "    <tr>\n",
       "      <th>32557</th>\n",
       "      <td>0</td>\n",
       "      <td>0</td>\n",
       "      <td>0</td>\n",
       "      <td>0</td>\n",
       "      <td>0</td>\n",
       "      <td>1</td>\n",
       "      <td>1</td>\n",
       "      <td>0</td>\n",
       "      <td>0</td>\n",
       "      <td>0</td>\n",
       "      <td>...</td>\n",
       "      <td>0</td>\n",
       "      <td>0</td>\n",
       "      <td>0</td>\n",
       "      <td>0</td>\n",
       "      <td>0</td>\n",
       "      <td>0</td>\n",
       "      <td>40</td>\n",
       "      <td>0</td>\n",
       "      <td>0</td>\n",
       "      <td>0</td>\n",
       "    </tr>\n",
       "    <tr>\n",
       "      <th>32558</th>\n",
       "      <td>0</td>\n",
       "      <td>0</td>\n",
       "      <td>0</td>\n",
       "      <td>0</td>\n",
       "      <td>0</td>\n",
       "      <td>1</td>\n",
       "      <td>0</td>\n",
       "      <td>0</td>\n",
       "      <td>0</td>\n",
       "      <td>0</td>\n",
       "      <td>...</td>\n",
       "      <td>0</td>\n",
       "      <td>0</td>\n",
       "      <td>0</td>\n",
       "      <td>0</td>\n",
       "      <td>0</td>\n",
       "      <td>0</td>\n",
       "      <td>40</td>\n",
       "      <td>0</td>\n",
       "      <td>0</td>\n",
       "      <td>0</td>\n",
       "    </tr>\n",
       "    <tr>\n",
       "      <th>32559</th>\n",
       "      <td>0</td>\n",
       "      <td>0</td>\n",
       "      <td>0</td>\n",
       "      <td>0</td>\n",
       "      <td>0</td>\n",
       "      <td>1</td>\n",
       "      <td>0</td>\n",
       "      <td>0</td>\n",
       "      <td>0</td>\n",
       "      <td>0</td>\n",
       "      <td>...</td>\n",
       "      <td>0</td>\n",
       "      <td>0</td>\n",
       "      <td>0</td>\n",
       "      <td>0</td>\n",
       "      <td>0</td>\n",
       "      <td>0</td>\n",
       "      <td>20</td>\n",
       "      <td>0</td>\n",
       "      <td>0</td>\n",
       "      <td>0</td>\n",
       "    </tr>\n",
       "    <tr>\n",
       "      <th>32560</th>\n",
       "      <td>0</td>\n",
       "      <td>0</td>\n",
       "      <td>0</td>\n",
       "      <td>0</td>\n",
       "      <td>0</td>\n",
       "      <td>1</td>\n",
       "      <td>0</td>\n",
       "      <td>0</td>\n",
       "      <td>0</td>\n",
       "      <td>0</td>\n",
       "      <td>...</td>\n",
       "      <td>0</td>\n",
       "      <td>0</td>\n",
       "      <td>0</td>\n",
       "      <td>0</td>\n",
       "      <td>15024</td>\n",
       "      <td>0</td>\n",
       "      <td>40</td>\n",
       "      <td>0</td>\n",
       "      <td>0</td>\n",
       "      <td>1</td>\n",
       "    </tr>\n",
       "  </tbody>\n",
       "</table>\n",
       "<p>30162 rows × 88 columns</p>\n",
       "</div>"
      ],
      "text/plain": [
       "       native-country_ Cambodia  workclass_ Local-gov  native-country_ Laos  \\\n",
       "0                             0                     0                     0   \n",
       "1                             0                     0                     0   \n",
       "2                             0                     0                     0   \n",
       "3                             0                     0                     0   \n",
       "4                             0                     0                     0   \n",
       "...                         ...                   ...                   ...   \n",
       "32556                         0                     0                     0   \n",
       "32557                         0                     0                     0   \n",
       "32558                         0                     0                     0   \n",
       "32559                         0                     0                     0   \n",
       "32560                         0                     0                     0   \n",
       "\n",
       "       native-country_ Greece  native-country_ South  \\\n",
       "0                           0                      0   \n",
       "1                           0                      0   \n",
       "2                           0                      0   \n",
       "3                           0                      0   \n",
       "4                           0                      0   \n",
       "...                       ...                    ...   \n",
       "32556                       0                      0   \n",
       "32557                       0                      0   \n",
       "32558                       0                      0   \n",
       "32559                       0                      0   \n",
       "32560                       0                      0   \n",
       "\n",
       "       native-country_ United-States  occupation_ Machine-op-inspct  \\\n",
       "0                                  1                              0   \n",
       "1                                  1                              0   \n",
       "2                                  1                              0   \n",
       "3                                  1                              0   \n",
       "4                                  0                              0   \n",
       "...                              ...                            ...   \n",
       "32556                              1                              0   \n",
       "32557                              1                              1   \n",
       "32558                              1                              0   \n",
       "32559                              1                              0   \n",
       "32560                              1                              0   \n",
       "\n",
       "       native-country_ Hungary  native-country_ China  workclass_ Federal-gov  \\\n",
       "0                            0                      0                       0   \n",
       "1                            0                      0                       0   \n",
       "2                            0                      0                       0   \n",
       "3                            0                      0                       0   \n",
       "4                            0                      0                       0   \n",
       "...                        ...                    ...                     ...   \n",
       "32556                        0                      0                       0   \n",
       "32557                        0                      0                       0   \n",
       "32558                        0                      0                       0   \n",
       "32559                        0                      0                       0   \n",
       "32560                        0                      0                       0   \n",
       "\n",
       "       ...  workclass_ Without-pay  native-country_ Iran  \\\n",
       "0      ...                       0                     0   \n",
       "1      ...                       0                     0   \n",
       "2      ...                       0                     0   \n",
       "3      ...                       0                     0   \n",
       "4      ...                       0                     0   \n",
       "...    ...                     ...                   ...   \n",
       "32556  ...                       0                     0   \n",
       "32557  ...                       0                     0   \n",
       "32558  ...                       0                     0   \n",
       "32559  ...                       0                     0   \n",
       "32560  ...                       0                     0   \n",
       "\n",
       "       occupation_ Craft-repair  occupation_ Other-service  capital-gain  \\\n",
       "0                             0                          0          2174   \n",
       "1                             0                          0             0   \n",
       "2                             0                          0             0   \n",
       "3                             0                          0             0   \n",
       "4                             0                          0             0   \n",
       "...                         ...                        ...           ...   \n",
       "32556                         0                          0             0   \n",
       "32557                         0                          0             0   \n",
       "32558                         0                          0             0   \n",
       "32559                         0                          0             0   \n",
       "32560                         0                          0         15024   \n",
       "\n",
       "       native-country_ Portugal  hours-per-week  native-country_ Taiwan  \\\n",
       "0                             0              40                       0   \n",
       "1                             0              13                       0   \n",
       "2                             0              40                       0   \n",
       "3                             0              40                       0   \n",
       "4                             0              40                       0   \n",
       "...                         ...             ...                     ...   \n",
       "32556                         0              38                       0   \n",
       "32557                         0              40                       0   \n",
       "32558                         0              40                       0   \n",
       "32559                         0              20                       0   \n",
       "32560                         0              40                       0   \n",
       "\n",
       "       native-country_ Italy  occupation_ Exec-managerial  \n",
       "0                          0                            0  \n",
       "1                          0                            1  \n",
       "2                          0                            0  \n",
       "3                          0                            0  \n",
       "4                          0                            0  \n",
       "...                      ...                          ...  \n",
       "32556                      0                            0  \n",
       "32557                      0                            0  \n",
       "32558                      0                            0  \n",
       "32559                      0                            0  \n",
       "32560                      0                            1  \n",
       "\n",
       "[30162 rows x 88 columns]"
      ]
     },
     "execution_count": 9,
     "metadata": {},
     "output_type": "execute_result"
    }
   ],
   "source": [
    "X_train"
   ]
  },
  {
   "cell_type": "markdown",
   "id": "d2e4b254",
   "metadata": {},
   "source": [
    "# XGBoost"
   ]
  },
  {
   "cell_type": "code",
   "execution_count": 10,
   "id": "ba19a3b6",
   "metadata": {},
   "outputs": [],
   "source": [
    "from xgboost import XGBClassifier\n",
    "from sklearn import metrics"
   ]
  },
  {
   "cell_type": "markdown",
   "id": "d10bf20e",
   "metadata": {},
   "source": [
    "Обучим базовую модель без подбора параметров"
   ]
  },
  {
   "cell_type": "code",
   "execution_count": 11,
   "id": "fe6374cb",
   "metadata": {},
   "outputs": [
    {
     "name": "stdout",
     "output_type": "stream",
     "text": [
      "              precision    recall  f1-score   support\n",
      "\n",
      "           0       0.91      0.95      0.93     22654\n",
      "           1       0.84      0.73      0.78      7508\n",
      "\n",
      "    accuracy                           0.90     30162\n",
      "   macro avg       0.88      0.84      0.86     30162\n",
      "weighted avg       0.90      0.90      0.90     30162\n",
      "\n",
      "              precision    recall  f1-score   support\n",
      "\n",
      "           0       0.90      0.94      0.92     11360\n",
      "           1       0.77      0.66      0.71      3700\n",
      "\n",
      "    accuracy                           0.87     15060\n",
      "   macro avg       0.83      0.80      0.81     15060\n",
      "weighted avg       0.86      0.87      0.87     15060\n",
      "\n"
     ]
    }
   ],
   "source": [
    "baseline_model = XGBClassifier(random_state=9845)\n",
    "baseline_model.fit(X_train, y_train)\n",
    "\n",
    "y_pred_train = baseline_model.predict(X_train)\n",
    "print (metrics.classification_report(y_train, y_pred_train))\n",
    "\n",
    "y_pred_test = baseline_model.predict(X_test)\n",
    "print (metrics.classification_report(y_test, y_pred_test))"
   ]
  },
  {
   "cell_type": "code",
   "execution_count": 12,
   "id": "750a711d",
   "metadata": {},
   "outputs": [],
   "source": [
    "from sklearn.metrics import confusion_matrix\n",
    "from sklearn.metrics import ConfusionMatrixDisplay"
   ]
  },
  {
   "cell_type": "code",
   "execution_count": 13,
   "id": "266aa27b",
   "metadata": {},
   "outputs": [
    {
     "data": {
      "image/png": "[encoded data removed]",
      "text/plain": [
       "<Figure size 2000x1000 with 2 Axes>"
      ]
     },
     "metadata": {},
     "output_type": "display_data"
    }
   ],
   "source": [
    "fig,ax=plt.subplots(1, 2, figsize=(20,10))\n",
    "\n",
    "ax = ax.ravel()\n",
    "\n",
    "cm = confusion_matrix(y_train, y_pred_train)\n",
    "ax[0].set_title('Train')\n",
    "sns.heatmap(cm, ax=ax[0], annot=True,cmap=\"Blues\",fmt=\"d\",cbar=False, annot_kws={\"size\": 24})\n",
    "\n",
    "cm = confusion_matrix(y_test, y_pred_test)\n",
    "ax[1].set_title('Test')\n",
    "sns.heatmap(cm, ax=ax[1], annot=True,cmap=\"Blues\",fmt=\"d\",cbar=False, annot_kws={\"size\": 24})\n",
    "\n",
    "plt.show()"
   ]
  },
  {
   "cell_type": "code",
   "execution_count": 14,
   "id": "ee202104",
   "metadata": {},
   "outputs": [
    {
     "name": "stdout",
     "output_type": "stream",
     "text": [
      "Accuracy on train set is  89.79510642530336\n",
      "Accuracy on test set is  86.90571049136786\n"
     ]
    }
   ],
   "source": [
    "print(\"Accuracy on train set is \", metrics.accuracy_score(y_train, y_pred_train)*100)\n",
    "print(\"Accuracy on test set is \", metrics.accuracy_score(y_test, y_pred_test)*100)"
   ]
  },
  {
   "cell_type": "markdown",
   "id": "664fd5fb",
   "metadata": {},
   "source": [
    "## Подбор параметров с использованием Optuna"
   ]
  },
  {
   "cell_type": "code",
   "execution_count": 15,
   "id": "a17aef75",
   "metadata": {},
   "outputs": [],
   "source": [
    "import optuna\n",
    "from optuna.distributions import IntDistribution, FloatDistribution\n",
    "from optuna.integration import OptunaSearchCV"
   ]
  },
  {
   "cell_type": "code",
   "execution_count": 16,
   "id": "6b57dfc7",
   "metadata": {},
   "outputs": [
    {
     "name": "stderr",
     "output_type": "stream",
     "text": [
      "C:\\ProgramData\\Anaconda3\\lib\\site-packages\\optuna\\distributions.py:716: UserWarning: The distribution is specified by [1, 20] and step=2, but the range is not divisible by `step`. It will be replaced by [1, 19].\n",
      "  warnings.warn(\n",
      "C:\\Temp\\ipykernel_4376\\1618054829.py:9: ExperimentalWarning: OptunaSearchCV is experimental (supported from v0.17.0). The interface can change in the future.\n",
      "  xgb_gs=OptunaSearchCV(estimator=XGBClassifier(random_state=9845),\n"
     ]
    }
   ],
   "source": [
    "xgb_params = {'n_estimators': IntDistribution(low=10, high=300,step=10),\n",
    "              'learning_rate' : FloatDistribution(low=0.01, high=1.1),\n",
    "              'max_depth': IntDistribution(low=1, high=20,step=2),\n",
    "              'gamma' : FloatDistribution(low=0.0001, high=0.5),\n",
    "              'subsample' : FloatDistribution(low=0.5, high=1.0),\n",
    "              'colsample_bytree' : FloatDistribution(low=0.5, high=1.0),\n",
    "              'reg_alpha' : FloatDistribution(low=0.5, high=3.0)\n",
    "}\n",
    "xgb_gs=OptunaSearchCV(estimator=XGBClassifier(random_state=9845),\n",
    "                      scoring='f1',\n",
    "                      param_distributions=xgb_params,\n",
    "                      cv=5,\n",
    "                      n_jobs=-1,\n",
    "                      random_state=9845);"
   ]
  },
  {
   "cell_type": "code",
   "execution_count": 17,
   "id": "7bbcdc0c",
   "metadata": {},
   "outputs": [
    {
     "name": "stderr",
     "output_type": "stream",
     "text": [
      "\u001b[32m[I 2023-04-18 13:38:55,023]\u001b[0m A new study created in memory with name: no-name-81496b13-063e-4678-9239-f1e7b2ab00cb\u001b[0m\n",
      "\u001b[32m[I 2023-04-18 13:38:58,374]\u001b[0m Trial 6 finished with value: 0.6643858152024111 and parameters: {'n_estimators': 30, 'learning_rate': 0.8608479512766143, 'max_depth': 1, 'gamma': 0.31597053560105365, 'subsample': 0.6830778747295878, 'colsample_bytree': 0.6262436214638006, 'reg_alpha': 2.1709818251593767}. Best is trial 6 with value: 0.6643858152024111.\u001b[0m\n",
      "\u001b[32m[I 2023-04-18 13:39:02,132]\u001b[0m Trial 0 finished with value: 0.6842040152730448 and parameters: {'n_estimators': 10, 'learning_rate': 1.0665915398300465, 'max_depth': 9, 'gamma': 0.029200835992161105, 'subsample': 0.5161189972515436, 'colsample_bytree': 0.6747556652380419, 'reg_alpha': 2.5416256871052747}. Best is trial 0 with value: 0.6842040152730448.\u001b[0m\n",
      "\u001b[32m[I 2023-04-18 13:39:10,721]\u001b[0m Trial 5 finished with value: 0.7044460031138682 and parameters: {'n_estimators': 110, 'learning_rate': 0.8990112544201446, 'max_depth': 3, 'gamma': 0.07719116825852744, 'subsample': 0.6918623984368588, 'colsample_bytree': 0.6666997418501359, 'reg_alpha': 2.286600117236317}. Best is trial 5 with value: 0.7044460031138682.\u001b[0m\n",
      "\u001b[32m[I 2023-04-18 13:39:25,908]\u001b[0m Trial 4 finished with value: 0.6942257203762543 and parameters: {'n_estimators': 30, 'learning_rate': 0.3343046606005771, 'max_depth': 19, 'gamma': 0.10059358271346601, 'subsample': 0.6495432269832205, 'colsample_bytree': 0.6106993570384405, 'reg_alpha': 2.5111294086172817}. Best is trial 5 with value: 0.7044460031138682.\u001b[0m\n",
      "\u001b[32m[I 2023-04-18 13:39:34,729]\u001b[0m Trial 3 finished with value: 0.7097837132736073 and parameters: {'n_estimators': 120, 'learning_rate': 0.08659489937857852, 'max_depth': 7, 'gamma': 0.216676671345128, 'subsample': 0.5287293231141255, 'colsample_bytree': 0.9354723137590631, 'reg_alpha': 2.8570608418979933}. Best is trial 3 with value: 0.7097837132736073.\u001b[0m\n",
      "\u001b[32m[I 2023-04-18 13:39:50,080]\u001b[0m Trial 1 finished with value: 0.6785114192843804 and parameters: {'n_estimators': 180, 'learning_rate': 0.6650878531929335, 'max_depth': 7, 'gamma': 0.1448050382773287, 'subsample': 0.7315661524311006, 'colsample_bytree': 0.9617706471173955, 'reg_alpha': 2.983596608324642}. Best is trial 3 with value: 0.7097837132736073.\u001b[0m\n",
      "\u001b[32m[I 2023-04-18 13:40:18,517]\u001b[0m Trial 7 finished with value: 0.6666734864138399 and parameters: {'n_estimators': 170, 'learning_rate': 0.7741145647680333, 'max_depth': 11, 'gamma': 0.38518275676556907, 'subsample': 0.7172942154692463, 'colsample_bytree': 0.8983746749189087, 'reg_alpha': 1.6298876218686462}. Best is trial 3 with value: 0.7097837132736073.\u001b[0m\n",
      "\u001b[32m[I 2023-04-18 13:40:24,750]\u001b[0m Trial 2 finished with value: 0.7096821870257115 and parameters: {'n_estimators': 280, 'learning_rate': 0.06639202134208695, 'max_depth': 9, 'gamma': 0.23060355050248013, 'subsample': 0.9090175109658689, 'colsample_bytree': 0.8727048188402565, 'reg_alpha': 0.5150724467401362}. Best is trial 3 with value: 0.7097837132736073.\u001b[0m\n",
      "\u001b[32m[I 2023-04-18 13:40:43,047]\u001b[0m Trial 8 finished with value: 0.6620501848813543 and parameters: {'n_estimators': 270, 'learning_rate': 0.9098994014370492, 'max_depth': 15, 'gamma': 0.0289962319788211, 'subsample': 0.7526834762696935, 'colsample_bytree': 0.8744367755595666, 'reg_alpha': 0.9943262879501018}. Best is trial 3 with value: 0.7097837132736073.\u001b[0m\n",
      "\u001b[32m[I 2023-04-18 13:40:55,323]\u001b[0m Trial 9 finished with value: 0.7071203181041918 and parameters: {'n_estimators': 270, 'learning_rate': 0.025717879093091235, 'max_depth': 19, 'gamma': 0.2440248002653538, 'subsample': 0.5411827403019569, 'colsample_bytree': 0.7947522152644395, 'reg_alpha': 2.9935456447540534}. Best is trial 3 with value: 0.7097837132736073.\u001b[0m\n"
     ]
    },
    {
     "name": "stdout",
     "output_type": "stream",
     "text": [
      "best score:  0.7097837132736073\n",
      "best param:  {'n_estimators': 120, 'learning_rate': 0.08659489937857852, 'max_depth': 7, 'gamma': 0.216676671345128, 'subsample': 0.5287293231141255, 'colsample_bytree': 0.9354723137590631, 'reg_alpha': 2.8570608418979933}\n"
     ]
    }
   ],
   "source": [
    "xgb_gs.fit(X_train, y_train)\n",
    "print(\"best score: \", xgb_gs.best_score_)\n",
    "print(\"best param: \", xgb_gs.best_params_)"
   ]
  },
  {
   "cell_type": "code",
   "execution_count": 18,
   "id": "318b5351",
   "metadata": {},
   "outputs": [
    {
     "name": "stdout",
     "output_type": "stream",
     "text": [
      "              precision    recall  f1-score   support\n",
      "\n",
      "           0       0.90      0.95      0.92     22654\n",
      "           1       0.81      0.69      0.75      7508\n",
      "\n",
      "    accuracy                           0.88     30162\n",
      "   macro avg       0.86      0.82      0.84     30162\n",
      "weighted avg       0.88      0.88      0.88     30162\n",
      "\n",
      "              precision    recall  f1-score   support\n",
      "\n",
      "           0       0.89      0.94      0.91     11360\n",
      "           1       0.77      0.66      0.71      3700\n",
      "\n",
      "    accuracy                           0.87     15060\n",
      "   macro avg       0.83      0.80      0.81     15060\n",
      "weighted avg       0.86      0.87      0.86     15060\n",
      "\n"
     ]
    }
   ],
   "source": [
    "model = xgb_gs.best_estimator_\n",
    "model.fit(X_train, y_train)\n",
    "\n",
    "y_pred_train = model.predict(X_train)\n",
    "print (metrics.classification_report(y_train, y_pred_train))\n",
    "\n",
    "y_pred_test = model.predict(X_test)\n",
    "print (metrics.classification_report(y_test, y_pred_test))"
   ]
  },
  {
   "cell_type": "code",
   "execution_count": 19,
   "id": "8b9acd05",
   "metadata": {},
   "outputs": [
    {
     "data": {
      "image/png": "[encoded data removed]",
      "text/plain": [
       "<Figure size 2000x1000 with 2 Axes>"
      ]
     },
     "metadata": {},
     "output_type": "display_data"
    }
   ],
   "source": [
    "fig,ax=plt.subplots(1, 2, figsize=(20,10))\n",
    "\n",
    "ax = ax.ravel()\n",
    "\n",
    "cm = confusion_matrix(y_train, y_pred_train)\n",
    "ax[0].set_title('Train')\n",
    "sns.heatmap(cm, ax=ax[0], annot=True,cmap=\"Blues\",fmt=\"d\",cbar=False, annot_kws={\"size\": 24})\n",
    "\n",
    "cm = confusion_matrix(y_test, y_pred_test)\n",
    "ax[1].set_title('Test')\n",
    "sns.heatmap(cm, ax=ax[1], annot=True,cmap=\"Blues\",fmt=\"d\",cbar=False, annot_kws={\"size\": 24})\n",
    "\n",
    "plt.show()"
   ]
  },
  {
   "cell_type": "code",
   "execution_count": 20,
   "id": "6b709b20",
   "metadata": {},
   "outputs": [
    {
     "name": "stdout",
     "output_type": "stream",
     "text": [
      "Accuracy on train set is  88.27663948014057\n",
      "Accuracy on test set is  86.64674634794157\n"
     ]
    }
   ],
   "source": [
    "print(\"Accuracy on train set is \", metrics.accuracy_score(y_train, y_pred_train)*100)\n",
    "print(\"Accuracy on test set is \", metrics.accuracy_score(y_test, y_pred_test)*100)"
   ]
  }
 ],
 "metadata": {
  "kernelspec": {
   "display_name": "Python 3 (ipykernel)",
   "language": "python",
   "name": "python3"
  },
  "language_info": {
   "codemirror_mode": {
    "name": "ipython",
    "version": 3
   },
   "file_extension": ".py",
   "mimetype": "text/x-python",
   "name": "python",
   "nbconvert_exporter": "python",
   "pygments_lexer": "ipython3",
   "version": "3.9.13"
  }
 },
 "nbformat": 4,
 "nbformat_minor": 5
}
