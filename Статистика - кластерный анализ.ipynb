{
 "cells": [
  {
   "cell_type": "code",
   "execution_count": 106,
   "metadata": {},
   "outputs": [],
   "source": [
    "import pandas as pd\n",
    "import numpy as np\n",
    "from sklearn.preprocessing import StandardScaler\n",
    "import matplotlib.pyplot as plt\n",
    "\n",
    "%matplotlib inline"
   ]
  },
  {
   "cell_type": "markdown",
   "metadata": {},
   "source": [
    "Данные описывают экономические условия в 48 городах мира в 1991 году. \\\n",
    "Данные были собраны отделом экономических исследований банка Union (Швейцария). \\\n",
    "Описаны экономические условия в 48 городах мира в 1991 году.\n",
    "\n",
    "Число наблюдений: 48 \n",
    "\n",
    "Названия переменных:\n",
    "- City (Город): Название города\n",
    "- Работа (Work): Взвешенное среднее числа рабочих часов, сосчитанное по 12 профессиям\n",
    "- Цена (Price): Индекс цен 112 товаров и услуг, включая арендную плату за жилье (значение для Цюриха взято за 100%)\n",
    "- Заработная плата (Salary): Индекс заработной платы за час работы, сосчитанный по 12 профессиям после налогов и вычетов (значение для Цюриха взято за 100%)"
   ]
  },
  {
   "cell_type": "code",
   "execution_count": 107,
   "metadata": {},
   "outputs": [
    {
     "data": {
      "text/html": [
       "<div>\n",
       "<style scoped>\n",
       "    .dataframe tbody tr th:only-of-type {\n",
       "        vertical-align: middle;\n",
       "    }\n",
       "\n",
       "    .dataframe tbody tr th {\n",
       "        vertical-align: top;\n",
       "    }\n",
       "\n",
       "    .dataframe thead th {\n",
       "        text-align: right;\n",
       "    }\n",
       "</style>\n",
       "<table border=\"1\" class=\"dataframe\">\n",
       "  <thead>\n",
       "    <tr style=\"text-align: right;\">\n",
       "      <th></th>\n",
       "      <th>Work</th>\n",
       "      <th>Price</th>\n",
       "      <th>Salary</th>\n",
       "    </tr>\n",
       "    <tr>\n",
       "      <th>City</th>\n",
       "      <th></th>\n",
       "      <th></th>\n",
       "      <th></th>\n",
       "    </tr>\n",
       "  </thead>\n",
       "  <tbody>\n",
       "    <tr>\n",
       "      <th>Amsterdam</th>\n",
       "      <td>1714</td>\n",
       "      <td>65.6</td>\n",
       "      <td>49.0</td>\n",
       "    </tr>\n",
       "    <tr>\n",
       "      <th>Athens</th>\n",
       "      <td>1792</td>\n",
       "      <td>53.8</td>\n",
       "      <td>30.4</td>\n",
       "    </tr>\n",
       "    <tr>\n",
       "      <th>Bogota</th>\n",
       "      <td>2152</td>\n",
       "      <td>37.9</td>\n",
       "      <td>11.5</td>\n",
       "    </tr>\n",
       "    <tr>\n",
       "      <th>Bombay</th>\n",
       "      <td>2052</td>\n",
       "      <td>30.3</td>\n",
       "      <td>5.3</td>\n",
       "    </tr>\n",
       "    <tr>\n",
       "      <th>Brussels</th>\n",
       "      <td>1708</td>\n",
       "      <td>73.8</td>\n",
       "      <td>50.5</td>\n",
       "    </tr>\n",
       "    <tr>\n",
       "      <th>Buenos_Aires</th>\n",
       "      <td>1971</td>\n",
       "      <td>56.1</td>\n",
       "      <td>12.5</td>\n",
       "    </tr>\n",
       "    <tr>\n",
       "      <th>Cairo</th>\n",
       "      <td>-9999</td>\n",
       "      <td>37.1</td>\n",
       "      <td>-9999.0</td>\n",
       "    </tr>\n",
       "    <tr>\n",
       "      <th>Caracas</th>\n",
       "      <td>2041</td>\n",
       "      <td>61.0</td>\n",
       "      <td>10.9</td>\n",
       "    </tr>\n",
       "    <tr>\n",
       "      <th>Chicago</th>\n",
       "      <td>1924</td>\n",
       "      <td>73.9</td>\n",
       "      <td>61.9</td>\n",
       "    </tr>\n",
       "    <tr>\n",
       "      <th>Copenhagen</th>\n",
       "      <td>1717</td>\n",
       "      <td>91.3</td>\n",
       "      <td>62.9</td>\n",
       "    </tr>\n",
       "    <tr>\n",
       "      <th>Dublin</th>\n",
       "      <td>1759</td>\n",
       "      <td>76.0</td>\n",
       "      <td>41.4</td>\n",
       "    </tr>\n",
       "    <tr>\n",
       "      <th>Dusseldorf</th>\n",
       "      <td>1693</td>\n",
       "      <td>78.5</td>\n",
       "      <td>60.2</td>\n",
       "    </tr>\n",
       "    <tr>\n",
       "      <th>Frankfurt</th>\n",
       "      <td>1650</td>\n",
       "      <td>74.5</td>\n",
       "      <td>60.4</td>\n",
       "    </tr>\n",
       "    <tr>\n",
       "      <th>Geneva</th>\n",
       "      <td>1880</td>\n",
       "      <td>95.9</td>\n",
       "      <td>90.3</td>\n",
       "    </tr>\n",
       "    <tr>\n",
       "      <th>Helsinki</th>\n",
       "      <td>1667</td>\n",
       "      <td>113.6</td>\n",
       "      <td>66.6</td>\n",
       "    </tr>\n",
       "    <tr>\n",
       "      <th>Hong_Kong</th>\n",
       "      <td>2375</td>\n",
       "      <td>63.8</td>\n",
       "      <td>27.8</td>\n",
       "    </tr>\n",
       "    <tr>\n",
       "      <th>Houston</th>\n",
       "      <td>1978</td>\n",
       "      <td>71.9</td>\n",
       "      <td>46.3</td>\n",
       "    </tr>\n",
       "    <tr>\n",
       "      <th>Jakarta</th>\n",
       "      <td>-9999</td>\n",
       "      <td>43.6</td>\n",
       "      <td>-9999.0</td>\n",
       "    </tr>\n",
       "    <tr>\n",
       "      <th>Johannesburg</th>\n",
       "      <td>1945</td>\n",
       "      <td>51.1</td>\n",
       "      <td>24.0</td>\n",
       "    </tr>\n",
       "    <tr>\n",
       "      <th>Kuala_Lumpur</th>\n",
       "      <td>2167</td>\n",
       "      <td>43.5</td>\n",
       "      <td>9.9</td>\n",
       "    </tr>\n",
       "    <tr>\n",
       "      <th>Lagos</th>\n",
       "      <td>1786</td>\n",
       "      <td>45.2</td>\n",
       "      <td>2.7</td>\n",
       "    </tr>\n",
       "    <tr>\n",
       "      <th>Lisbon</th>\n",
       "      <td>1742</td>\n",
       "      <td>56.2</td>\n",
       "      <td>18.8</td>\n",
       "    </tr>\n",
       "    <tr>\n",
       "      <th>London</th>\n",
       "      <td>1737</td>\n",
       "      <td>84.2</td>\n",
       "      <td>46.2</td>\n",
       "    </tr>\n",
       "    <tr>\n",
       "      <th>Los_Angeles</th>\n",
       "      <td>2068</td>\n",
       "      <td>79.8</td>\n",
       "      <td>65.2</td>\n",
       "    </tr>\n",
       "    <tr>\n",
       "      <th>Luxembourg</th>\n",
       "      <td>1768</td>\n",
       "      <td>71.1</td>\n",
       "      <td>71.1</td>\n",
       "    </tr>\n",
       "    <tr>\n",
       "      <th>Madrid</th>\n",
       "      <td>1710</td>\n",
       "      <td>93.8</td>\n",
       "      <td>50.0</td>\n",
       "    </tr>\n",
       "    <tr>\n",
       "      <th>Manila</th>\n",
       "      <td>2268</td>\n",
       "      <td>40.0</td>\n",
       "      <td>4.0</td>\n",
       "    </tr>\n",
       "    <tr>\n",
       "      <th>Mexico_City</th>\n",
       "      <td>1944</td>\n",
       "      <td>49.8</td>\n",
       "      <td>5.7</td>\n",
       "    </tr>\n",
       "    <tr>\n",
       "      <th>Milan</th>\n",
       "      <td>1773</td>\n",
       "      <td>82.0</td>\n",
       "      <td>53.3</td>\n",
       "    </tr>\n",
       "    <tr>\n",
       "      <th>Montreal</th>\n",
       "      <td>1827</td>\n",
       "      <td>72.7</td>\n",
       "      <td>56.3</td>\n",
       "    </tr>\n",
       "    <tr>\n",
       "      <th>Nairobi</th>\n",
       "      <td>1958</td>\n",
       "      <td>45.0</td>\n",
       "      <td>5.8</td>\n",
       "    </tr>\n",
       "    <tr>\n",
       "      <th>New_York</th>\n",
       "      <td>1942</td>\n",
       "      <td>83.3</td>\n",
       "      <td>65.8</td>\n",
       "    </tr>\n",
       "    <tr>\n",
       "      <th>Nicosia</th>\n",
       "      <td>1825</td>\n",
       "      <td>47.9</td>\n",
       "      <td>28.3</td>\n",
       "    </tr>\n",
       "    <tr>\n",
       "      <th>Oslo</th>\n",
       "      <td>1583</td>\n",
       "      <td>115.5</td>\n",
       "      <td>63.7</td>\n",
       "    </tr>\n",
       "    <tr>\n",
       "      <th>Panama</th>\n",
       "      <td>2078</td>\n",
       "      <td>49.2</td>\n",
       "      <td>13.8</td>\n",
       "    </tr>\n",
       "    <tr>\n",
       "      <th>Paris</th>\n",
       "      <td>1744</td>\n",
       "      <td>81.6</td>\n",
       "      <td>45.9</td>\n",
       "    </tr>\n",
       "    <tr>\n",
       "      <th>Rio_de_Janeiro</th>\n",
       "      <td>1749</td>\n",
       "      <td>46.3</td>\n",
       "      <td>10.5</td>\n",
       "    </tr>\n",
       "    <tr>\n",
       "      <th>San_Paulo</th>\n",
       "      <td>1856</td>\n",
       "      <td>48.9</td>\n",
       "      <td>11.1</td>\n",
       "    </tr>\n",
       "    <tr>\n",
       "      <th>Seoul</th>\n",
       "      <td>1842</td>\n",
       "      <td>58.3</td>\n",
       "      <td>32.7</td>\n",
       "    </tr>\n",
       "    <tr>\n",
       "      <th>Singpore</th>\n",
       "      <td>2042</td>\n",
       "      <td>64.4</td>\n",
       "      <td>16.1</td>\n",
       "    </tr>\n",
       "    <tr>\n",
       "      <th>Stockholm</th>\n",
       "      <td>1805</td>\n",
       "      <td>111.3</td>\n",
       "      <td>39.2</td>\n",
       "    </tr>\n",
       "    <tr>\n",
       "      <th>Sydney</th>\n",
       "      <td>1668</td>\n",
       "      <td>70.8</td>\n",
       "      <td>52.1</td>\n",
       "    </tr>\n",
       "    <tr>\n",
       "      <th>Taipei</th>\n",
       "      <td>2145</td>\n",
       "      <td>84.3</td>\n",
       "      <td>34.5</td>\n",
       "    </tr>\n",
       "    <tr>\n",
       "      <th>Tel_Aviv</th>\n",
       "      <td>2015</td>\n",
       "      <td>67.3</td>\n",
       "      <td>27.0</td>\n",
       "    </tr>\n",
       "    <tr>\n",
       "      <th>Tokyo</th>\n",
       "      <td>1880</td>\n",
       "      <td>115.0</td>\n",
       "      <td>68.0</td>\n",
       "    </tr>\n",
       "    <tr>\n",
       "      <th>Toronto</th>\n",
       "      <td>1888</td>\n",
       "      <td>70.2</td>\n",
       "      <td>58.2</td>\n",
       "    </tr>\n",
       "    <tr>\n",
       "      <th>Vienna</th>\n",
       "      <td>1780</td>\n",
       "      <td>78.0</td>\n",
       "      <td>51.3</td>\n",
       "    </tr>\n",
       "    <tr>\n",
       "      <th>Zurich</th>\n",
       "      <td>1868</td>\n",
       "      <td>100.0</td>\n",
       "      <td>100.0</td>\n",
       "    </tr>\n",
       "  </tbody>\n",
       "</table>\n",
       "</div>"
      ],
      "text/plain": [
       "                Work  Price  Salary\n",
       "City                               \n",
       "Amsterdam       1714   65.6    49.0\n",
       "Athens          1792   53.8    30.4\n",
       "Bogota          2152   37.9    11.5\n",
       "Bombay          2052   30.3     5.3\n",
       "Brussels        1708   73.8    50.5\n",
       "Buenos_Aires    1971   56.1    12.5\n",
       "Cairo          -9999   37.1 -9999.0\n",
       "Caracas         2041   61.0    10.9\n",
       "Chicago         1924   73.9    61.9\n",
       "Copenhagen      1717   91.3    62.9\n",
       "Dublin          1759   76.0    41.4\n",
       "Dusseldorf      1693   78.5    60.2\n",
       "Frankfurt       1650   74.5    60.4\n",
       "Geneva          1880   95.9    90.3\n",
       "Helsinki        1667  113.6    66.6\n",
       "Hong_Kong       2375   63.8    27.8\n",
       "Houston         1978   71.9    46.3\n",
       "Jakarta        -9999   43.6 -9999.0\n",
       "Johannesburg    1945   51.1    24.0\n",
       "Kuala_Lumpur    2167   43.5     9.9\n",
       "Lagos           1786   45.2     2.7\n",
       "Lisbon          1742   56.2    18.8\n",
       "London          1737   84.2    46.2\n",
       "Los_Angeles     2068   79.8    65.2\n",
       "Luxembourg      1768   71.1    71.1\n",
       "Madrid          1710   93.8    50.0\n",
       "Manila          2268   40.0     4.0\n",
       "Mexico_City     1944   49.8     5.7\n",
       "Milan           1773   82.0    53.3\n",
       "Montreal        1827   72.7    56.3\n",
       "Nairobi         1958   45.0     5.8\n",
       "New_York        1942   83.3    65.8\n",
       "Nicosia         1825   47.9    28.3\n",
       "Oslo            1583  115.5    63.7\n",
       "Panama          2078   49.2    13.8\n",
       "Paris           1744   81.6    45.9\n",
       "Rio_de_Janeiro  1749   46.3    10.5\n",
       "San_Paulo       1856   48.9    11.1\n",
       "Seoul           1842   58.3    32.7\n",
       "Singpore        2042   64.4    16.1\n",
       "Stockholm       1805  111.3    39.2\n",
       "Sydney          1668   70.8    52.1\n",
       "Taipei          2145   84.3    34.5\n",
       "Tel_Aviv        2015   67.3    27.0\n",
       "Tokyo           1880  115.0    68.0\n",
       "Toronto         1888   70.2    58.2\n",
       "Vienna          1780   78.0    51.3\n",
       "Zurich          1868  100.0   100.0"
      ]
     },
     "execution_count": 107,
     "metadata": {},
     "output_type": "execute_result"
    }
   ],
   "source": [
    "# заносим города в индексы для удобства обработки датафрейма\n",
    "data = pd.read_csv('Econom_Cities_data.csv', sep=';', decimal=',', index_col='City')\n",
    "data"
   ]
  },
  {
   "cell_type": "markdown",
   "metadata": {},
   "source": [
    "В данных присутствуют явные выбросы, это города `Cairo` и `Jakarta`. Можно было бы заменить их значения средним или медианой, или же данными похожих городов по индексу цен, но данных слишком мало, поэтому я предпочту не учитывать эти города."
   ]
  },
  {
   "cell_type": "code",
   "execution_count": 108,
   "metadata": {},
   "outputs": [],
   "source": [
    "data = data.drop(index=['Cairo', 'Jakarta'])"
   ]
  },
  {
   "cell_type": "markdown",
   "metadata": {},
   "source": [
    "Из описательных статистик можно увидеть, что данные имеют разный размах, поэтому мы будем вынуждены стандиртизировать их для последующего анализа. Также существуют города, где уровень заработка (`Salary`) в десятки раз меньше чем в Цюрихе."
   ]
  },
  {
   "cell_type": "code",
   "execution_count": 109,
   "metadata": {},
   "outputs": [
    {
     "data": {
      "text/html": [
       "<div>\n",
       "<style scoped>\n",
       "    .dataframe tbody tr th:only-of-type {\n",
       "        vertical-align: middle;\n",
       "    }\n",
       "\n",
       "    .dataframe tbody tr th {\n",
       "        vertical-align: top;\n",
       "    }\n",
       "\n",
       "    .dataframe thead th {\n",
       "        text-align: right;\n",
       "    }\n",
       "</style>\n",
       "<table border=\"1\" class=\"dataframe\">\n",
       "  <thead>\n",
       "    <tr style=\"text-align: right;\">\n",
       "      <th></th>\n",
       "      <th>Work</th>\n",
       "      <th>Price</th>\n",
       "      <th>Salary</th>\n",
       "    </tr>\n",
       "  </thead>\n",
       "  <tbody>\n",
       "    <tr>\n",
       "      <th>count</th>\n",
       "      <td>46.000000</td>\n",
       "      <td>46.000000</td>\n",
       "      <td>46.000000</td>\n",
       "    </tr>\n",
       "    <tr>\n",
       "      <th>mean</th>\n",
       "      <td>1879.913043</td>\n",
       "      <td>70.100000</td>\n",
       "      <td>39.545652</td>\n",
       "    </tr>\n",
       "    <tr>\n",
       "      <th>std</th>\n",
       "      <td>174.342552</td>\n",
       "      <td>21.389177</td>\n",
       "      <td>24.757703</td>\n",
       "    </tr>\n",
       "    <tr>\n",
       "      <th>min</th>\n",
       "      <td>1583.000000</td>\n",
       "      <td>30.300000</td>\n",
       "      <td>2.700000</td>\n",
       "    </tr>\n",
       "    <tr>\n",
       "      <th>25%</th>\n",
       "      <td>1745.250000</td>\n",
       "      <td>51.775000</td>\n",
       "      <td>14.375000</td>\n",
       "    </tr>\n",
       "    <tr>\n",
       "      <th>50%</th>\n",
       "      <td>1849.000000</td>\n",
       "      <td>70.950000</td>\n",
       "      <td>43.650000</td>\n",
       "    </tr>\n",
       "    <tr>\n",
       "      <th>75%</th>\n",
       "      <td>1976.250000</td>\n",
       "      <td>81.900000</td>\n",
       "      <td>59.700000</td>\n",
       "    </tr>\n",
       "    <tr>\n",
       "      <th>max</th>\n",
       "      <td>2375.000000</td>\n",
       "      <td>115.500000</td>\n",
       "      <td>100.000000</td>\n",
       "    </tr>\n",
       "  </tbody>\n",
       "</table>\n",
       "</div>"
      ],
      "text/plain": [
       "              Work       Price      Salary\n",
       "count    46.000000   46.000000   46.000000\n",
       "mean   1879.913043   70.100000   39.545652\n",
       "std     174.342552   21.389177   24.757703\n",
       "min    1583.000000   30.300000    2.700000\n",
       "25%    1745.250000   51.775000   14.375000\n",
       "50%    1849.000000   70.950000   43.650000\n",
       "75%    1976.250000   81.900000   59.700000\n",
       "max    2375.000000  115.500000  100.000000"
      ]
     },
     "execution_count": 109,
     "metadata": {},
     "output_type": "execute_result"
    }
   ],
   "source": [
    "data.describe()"
   ]
  },
  {
   "cell_type": "markdown",
   "metadata": {},
   "source": [
    "Построив матрицу корреляции, можно увидеть, что уровень дохода и индекс цен хорошо коррелируют. Чем больше цены в городе, тем больше работадатели должны платить своим работникам. Это знание можно использовать для уменьшения размерности при визуализации данных.\n",
    "\n",
    "Существует отрицательная корреляция между количеством рабочих часов и зарплаты в час. Складывается такая тенденция, что человек вынужден много работать чтобы компенсировать низкую оплату труда. И чем выше зарплата, тем меньше человек должен работать чтобы поддерживать необходимый уровень жизни."
   ]
  },
  {
   "cell_type": "code",
   "execution_count": 110,
   "metadata": {},
   "outputs": [
    {
     "data": {
      "text/html": [
       "<div>\n",
       "<style scoped>\n",
       "    .dataframe tbody tr th:only-of-type {\n",
       "        vertical-align: middle;\n",
       "    }\n",
       "\n",
       "    .dataframe tbody tr th {\n",
       "        vertical-align: top;\n",
       "    }\n",
       "\n",
       "    .dataframe thead th {\n",
       "        text-align: right;\n",
       "    }\n",
       "</style>\n",
       "<table border=\"1\" class=\"dataframe\">\n",
       "  <thead>\n",
       "    <tr style=\"text-align: right;\">\n",
       "      <th></th>\n",
       "      <th>Work</th>\n",
       "      <th>Price</th>\n",
       "      <th>Salary</th>\n",
       "    </tr>\n",
       "  </thead>\n",
       "  <tbody>\n",
       "    <tr>\n",
       "      <th>Work</th>\n",
       "      <td>1.000000</td>\n",
       "      <td>-0.452176</td>\n",
       "      <td>-0.457187</td>\n",
       "    </tr>\n",
       "    <tr>\n",
       "      <th>Price</th>\n",
       "      <td>-0.452176</td>\n",
       "      <td>1.000000</td>\n",
       "      <td>0.803825</td>\n",
       "    </tr>\n",
       "    <tr>\n",
       "      <th>Salary</th>\n",
       "      <td>-0.457187</td>\n",
       "      <td>0.803825</td>\n",
       "      <td>1.000000</td>\n",
       "    </tr>\n",
       "  </tbody>\n",
       "</table>\n",
       "</div>"
      ],
      "text/plain": [
       "            Work     Price    Salary\n",
       "Work    1.000000 -0.452176 -0.457187\n",
       "Price  -0.452176  1.000000  0.803825\n",
       "Salary -0.457187  0.803825  1.000000"
      ]
     },
     "execution_count": 110,
     "metadata": {},
     "output_type": "execute_result"
    }
   ],
   "source": [
    "data.corr()"
   ]
  },
  {
   "cell_type": "markdown",
   "metadata": {},
   "source": [
    "Стандартизируем данные"
   ]
  },
  {
   "cell_type": "code",
   "execution_count": 111,
   "metadata": {},
   "outputs": [
    {
     "data": {
      "text/html": [
       "<div>\n",
       "<style scoped>\n",
       "    .dataframe tbody tr th:only-of-type {\n",
       "        vertical-align: middle;\n",
       "    }\n",
       "\n",
       "    .dataframe tbody tr th {\n",
       "        vertical-align: top;\n",
       "    }\n",
       "\n",
       "    .dataframe thead th {\n",
       "        text-align: right;\n",
       "    }\n",
       "</style>\n",
       "<table border=\"1\" class=\"dataframe\">\n",
       "  <thead>\n",
       "    <tr style=\"text-align: right;\">\n",
       "      <th></th>\n",
       "      <th>Work</th>\n",
       "      <th>Price</th>\n",
       "      <th>Salary</th>\n",
       "    </tr>\n",
       "  </thead>\n",
       "  <tbody>\n",
       "    <tr>\n",
       "      <th>0</th>\n",
       "      <td>-0.962166</td>\n",
       "      <td>-0.212712</td>\n",
       "      <td>0.386095</td>\n",
       "    </tr>\n",
       "    <tr>\n",
       "      <th>1</th>\n",
       "      <td>-0.509827</td>\n",
       "      <td>-0.770489</td>\n",
       "      <td>-0.373488</td>\n",
       "    </tr>\n",
       "    <tr>\n",
       "      <th>2</th>\n",
       "      <td>1.577891</td>\n",
       "      <td>-1.522069</td>\n",
       "      <td>-1.145323</td>\n",
       "    </tr>\n",
       "    <tr>\n",
       "      <th>3</th>\n",
       "      <td>0.997969</td>\n",
       "      <td>-1.881316</td>\n",
       "      <td>-1.398517</td>\n",
       "    </tr>\n",
       "    <tr>\n",
       "      <th>4</th>\n",
       "      <td>-0.996961</td>\n",
       "      <td>0.174896</td>\n",
       "      <td>0.447351</td>\n",
       "    </tr>\n",
       "  </tbody>\n",
       "</table>\n",
       "</div>"
      ],
      "text/plain": [
       "       Work     Price    Salary\n",
       "0 -0.962166 -0.212712  0.386095\n",
       "1 -0.509827 -0.770489 -0.373488\n",
       "2  1.577891 -1.522069 -1.145323\n",
       "3  0.997969 -1.881316 -1.398517\n",
       "4 -0.996961  0.174896  0.447351"
      ]
     },
     "execution_count": 111,
     "metadata": {},
     "output_type": "execute_result"
    }
   ],
   "source": [
    "scaled = StandardScaler().fit_transform(data)\n",
    "scaled = pd.DataFrame(scaled, columns = data.columns)\n",
    "scaled.head()"
   ]
  },
  {
   "cell_type": "markdown",
   "metadata": {},
   "source": [
    "Функция помогает отобразить наши данные на трехмерной плоскости. Хотя как мы выяснили выше, можно избавиться от одной из размерносте для отображения на двухмерной плоскости."
   ]
  },
  {
   "cell_type": "code",
   "execution_count": 112,
   "metadata": {},
   "outputs": [],
   "source": [
    "def show_data(df):\n",
    "    standart_data = StandardScaler().fit_transform(df)\n",
    "    X = standart_data[:, 1]\n",
    "    Y = standart_data[:, 2]\n",
    "    Z = standart_data[:, 0]\n",
    "    fig = plt.figure()\n",
    "    ax = fig.add_subplot(projection='3d')\n",
    "\n",
    "\n",
    "\n",
    "    for x, y, z in [(X, Y, Z)]:\n",
    "        ax.scatter(x, y, z, marker='o')\n",
    "\n",
    "    ax.set_xlabel('Price')\n",
    "    ax.set_ylabel('Salary')\n",
    "    ax.set_zlabel('Work')\n",
    "\n",
    "    plt.show()  "
   ]
  },
  {
   "cell_type": "code",
   "execution_count": 113,
   "metadata": {},
   "outputs": [
    {
     "data": {
      "image/png": "[encoded data removed]",
      "text/plain": [
       "<Figure size 432x288 with 1 Axes>"
      ]
     },
     "metadata": {
      "needs_background": "light"
     },
     "output_type": "display_data"
    }
   ],
   "source": [
    "show_data(data)"
   ]
  },
  {
   "cell_type": "markdown",
   "metadata": {},
   "source": [
    "# Иерархический кластерный анализ"
   ]
  },
  {
   "cell_type": "code",
   "execution_count": 114,
   "metadata": {},
   "outputs": [],
   "source": [
    "from scipy.cluster.hierarchy import dendrogram, linkage, fcluster"
   ]
  },
  {
   "cell_type": "code",
   "execution_count": 115,
   "metadata": {},
   "outputs": [],
   "source": [
    "link = linkage(data, 'ward')"
   ]
  },
  {
   "cell_type": "code",
   "execution_count": 116,
   "metadata": {},
   "outputs": [
    {
     "data": {
      "image/png": "[encoded data removed]",
      "text/plain": [
       "<Figure size 1080x360 with 1 Axes>"
      ]
     },
     "metadata": {
      "needs_background": "light"
     },
     "output_type": "display_data"
    }
   ],
   "source": [
    "plt.figure(figsize=(15, 5))\n",
    "dn = dendrogram(link, labels=data.index)"
   ]
  },
  {
   "cell_type": "markdown",
   "metadata": {},
   "source": [
    "Определим оптимальное количество кластеров методом каменистой осыпи."
   ]
  },
  {
   "cell_type": "code",
   "execution_count": 117,
   "metadata": {},
   "outputs": [
    {
     "data": {
      "text/plain": [
       "array([   6.29285309,    7.47328576,    8.30662386,   10.27083249,\n",
       "         14.69353599,   14.80033783,   14.8882504 ,   15.96558799,\n",
       "         16.09099127,   20.163829  ,   20.40882162,   20.67776584,\n",
       "         22.59063228,   23.42313671,   25.94609797,   26.09323028,\n",
       "         28.46565182,   29.61840644,   33.24845861,   33.91532594,\n",
       "         34.64582707,   34.74977218,   37.66209412,   47.60640713,\n",
       "         49.63903034,   53.09215259,   53.2601477 ,   59.14997887,\n",
       "         59.75115062,   61.62665819,   64.18000727,   78.56235316,\n",
       "         82.14480304,   91.71954899,   96.76433572,  101.59464061,\n",
       "        112.16897967,  150.62995681,  175.82934909,  210.62902402,\n",
       "        210.96355925,  370.62286619,  429.09318618,  679.88286023,\n",
       "       1346.80219964])"
      ]
     },
     "execution_count": 117,
     "metadata": {},
     "output_type": "execute_result"
    }
   ],
   "source": [
    "dist = link[:, 2]\n",
    "dist"
   ]
  },
  {
   "cell_type": "code",
   "execution_count": 118,
   "metadata": {},
   "outputs": [
    {
     "data": {
      "text/plain": [
       "Text(0, 0.5, 'Расстояние')"
      ]
     },
     "execution_count": 118,
     "metadata": {},
     "output_type": "execute_result"
    },
    {
     "data": {
      "image/png": "[encoded data removed]",
      "text/plain": [
       "<Figure size 432x288 with 1 Axes>"
      ]
     },
     "metadata": {
      "needs_background": "light"
     },
     "output_type": "display_data"
    }
   ],
   "source": [
    "dist_rev = dist[::-1]\n",
    "idxs = range(1, len(dist) + 1)\n",
    "plt.plot(idxs, dist_rev, marker='o')\n",
    "plt.title('Расстояние между объединяемыми кластерами')\n",
    "plt.xlabel('Шаг объединения')\n",
    "plt.ylabel('Расстояние')"
   ]
  },
  {
   "cell_type": "markdown",
   "metadata": {},
   "source": [
    "Разобьём данные на 5 кластера. Отнимем от присваемого номера кластера 1 чтобы нумерация начиналась с 0, так как остальные модели будут выдавать именно такую нумерацию.\n",
    "\n",
    "Скопируем исходные данные и запишем присвоенные кластеры для последующего сравнения нескольких результатов кластеризации."
   ]
  },
  {
   "cell_type": "code",
   "execution_count": 119,
   "metadata": {},
   "outputs": [
    {
     "data": {
      "text/html": [
       "<div>\n",
       "<style scoped>\n",
       "    .dataframe tbody tr th:only-of-type {\n",
       "        vertical-align: middle;\n",
       "    }\n",
       "\n",
       "    .dataframe tbody tr th {\n",
       "        vertical-align: top;\n",
       "    }\n",
       "\n",
       "    .dataframe thead th {\n",
       "        text-align: right;\n",
       "    }\n",
       "</style>\n",
       "<table border=\"1\" class=\"dataframe\">\n",
       "  <thead>\n",
       "    <tr style=\"text-align: right;\">\n",
       "      <th></th>\n",
       "      <th>Work</th>\n",
       "      <th>Price</th>\n",
       "      <th>Salary</th>\n",
       "      <th>cluster</th>\n",
       "    </tr>\n",
       "    <tr>\n",
       "      <th>City</th>\n",
       "      <th></th>\n",
       "      <th></th>\n",
       "      <th></th>\n",
       "      <th></th>\n",
       "    </tr>\n",
       "  </thead>\n",
       "  <tbody>\n",
       "    <tr>\n",
       "      <th>Amsterdam</th>\n",
       "      <td>1714</td>\n",
       "      <td>65.6</td>\n",
       "      <td>49.0</td>\n",
       "      <td>0</td>\n",
       "    </tr>\n",
       "    <tr>\n",
       "      <th>Athens</th>\n",
       "      <td>1792</td>\n",
       "      <td>53.8</td>\n",
       "      <td>30.4</td>\n",
       "      <td>1</td>\n",
       "    </tr>\n",
       "    <tr>\n",
       "      <th>Bogota</th>\n",
       "      <td>2152</td>\n",
       "      <td>37.9</td>\n",
       "      <td>11.5</td>\n",
       "      <td>4</td>\n",
       "    </tr>\n",
       "    <tr>\n",
       "      <th>Bombay</th>\n",
       "      <td>2052</td>\n",
       "      <td>30.3</td>\n",
       "      <td>5.3</td>\n",
       "      <td>4</td>\n",
       "    </tr>\n",
       "    <tr>\n",
       "      <th>Brussels</th>\n",
       "      <td>1708</td>\n",
       "      <td>73.8</td>\n",
       "      <td>50.5</td>\n",
       "      <td>0</td>\n",
       "    </tr>\n",
       "  </tbody>\n",
       "</table>\n",
       "</div>"
      ],
      "text/plain": [
       "           Work  Price  Salary  cluster\n",
       "City                                   \n",
       "Amsterdam  1714   65.6    49.0        0\n",
       "Athens     1792   53.8    30.4        1\n",
       "Bogota     2152   37.9    11.5        4\n",
       "Bombay     2052   30.3     5.3        4\n",
       "Brussels   1708   73.8    50.5        0"
      ]
     },
     "execution_count": 119,
     "metadata": {},
     "output_type": "execute_result"
    }
   ],
   "source": [
    "data1 = data.copy()\n",
    "data1['cluster'] = fcluster(link, 300, criterion='distance') - 1\n",
    "data1.head()"
   ]
  },
  {
   "cell_type": "markdown",
   "metadata": {},
   "source": [
    "Функция позволяет отобразить данные в трехмерном пространстве и отделить кластеры друг от друга разными цветами."
   ]
  },
  {
   "cell_type": "code",
   "execution_count": 120,
   "metadata": {},
   "outputs": [],
   "source": [
    "def show_clusters(df):\n",
    "    standart_data = StandardScaler().fit_transform(df.iloc[: , :3])\n",
    "    X = standart_data[:, 0]\n",
    "    Y = standart_data[:, 1]\n",
    "    Z = standart_data[:, 2]\n",
    "    \n",
    "    fig = plt.figure()\n",
    "    ax = fig.add_subplot(projection='3d')\n",
    "    marker_dict = {-1: \"x\", 0 : \"D\", 1 : 'o', 2 : 's', 3 : '*', 4 : \"p\"}\n",
    "    color_dict = {-1: \"black\", 0 : 'yellow', 1 : 'blue', 2 : 'white', 3 : 'red', 4 : \"green\"}\n",
    "    \n",
    "    \n",
    "    \n",
    "    for x, y, z, cluster in zip(X, Y, Z, list(df.cluster)):\n",
    "        ax.scatter(x, y, z, c=color_dict[cluster], marker=marker_dict[cluster], alpha=0.7, edgecolors='black')\n",
    "\n",
    "    ax.set_xlabel('Work')\n",
    "    ax.set_ylabel('Price')\n",
    "    ax.set_zlabel('Salary')\n",
    "    \n",
    "    plt.show()  "
   ]
  },
  {
   "cell_type": "markdown",
   "metadata": {},
   "source": [
    "##### Исходные кластеры можно разделить на 5 условных групп: \n",
    "\n",
    "- малая группа городов, где количество рабочих часов существенно меньше медианного и уровень дохода удовлетворительный\n",
    "- большая группа городов, где количество рабочих часов меньше медианного, но уровень дохода достаточный\n",
    "- средние, переходные города, где количество рабочих часов на уровне медианного, но уровень дохода достаточный\n",
    "- города, где люди работают больше среднего, но получают невысокую плату в час\n",
    "- Города, где люди работают очень много и их труд плохо оплачивается\n"
   ]
  },
  {
   "cell_type": "code",
   "execution_count": 121,
   "metadata": {},
   "outputs": [
    {
     "data": {
      "image/png": "[encoded data removed]",
      "text/plain": [
       "<Figure size 432x288 with 1 Axes>"
      ]
     },
     "metadata": {
      "needs_background": "light"
     },
     "output_type": "display_data"
    }
   ],
   "source": [
    "show_clusters(data1)"
   ]
  },
  {
   "cell_type": "markdown",
   "metadata": {},
   "source": [
    "На данном графике лучше видно разделение данных на кластеры"
   ]
  },
  {
   "cell_type": "code",
   "execution_count": 122,
   "metadata": {},
   "outputs": [
    {
     "data": {
      "text/plain": [
       "<matplotlib.collections.PathCollection at 0x26205575848>"
      ]
     },
     "execution_count": 122,
     "metadata": {},
     "output_type": "execute_result"
    },
    {
     "data": {
      "image/png": "[encoded data removed]",
      "text/plain": [
       "<Figure size 432x288 with 1 Axes>"
      ]
     },
     "metadata": {
      "needs_background": "light"
     },
     "output_type": "display_data"
    }
   ],
   "source": [
    "plt.scatter(data1.Work, data1.Salary, c=data1.cluster)"
   ]
  },
  {
   "cell_type": "markdown",
   "metadata": {},
   "source": [
    "Напишем функцию, которая будет делать выборку из представителей каждого кластера."
   ]
  },
  {
   "cell_type": "code",
   "execution_count": 123,
   "metadata": {},
   "outputs": [],
   "source": [
    "def show_cities_from_clasters(df):\n",
    "    #находим количество кластеров в датафрейме\n",
    "    clusters_range = range(max(np.unique(data1.cluster)) + 1)\n",
    "    # пробегаемся по каждому кластеру\n",
    "    for cluster in clusters_range:\n",
    "        # создаем фильтр для нужного кластера\n",
    "        df_filter = df.cluster == cluster\n",
    "        # находим половину от размера кластеры, округляя в большую сторону\n",
    "        half_of_df = (df[df_filter].shape[0] // 2) + 1\n",
    "        # выводим половину наблюдений из нужного кластера\n",
    "        print(df[df_filter].iloc[: half_of_df])"
   ]
  },
  {
   "cell_type": "code",
   "execution_count": 124,
   "metadata": {},
   "outputs": [
    {
     "name": "stdout",
     "output_type": "stream",
     "text": [
      "            Work  Price  Salary  cluster\n",
      "City                                    \n",
      "Amsterdam   1714   65.6    49.0        0\n",
      "Brussels    1708   73.8    50.5        0\n",
      "Copenhagen  1717   91.3    62.9        0\n",
      "Dusseldorf  1693   78.5    60.2        0\n",
      "Frankfurt   1650   74.5    60.4        0\n",
      "            Work  Price  Salary  cluster\n",
      "City                                    \n",
      "Athens      1792   53.8    30.4        1\n",
      "Dublin      1759   76.0    41.4        1\n",
      "Lagos       1786   45.2     2.7        1\n",
      "Lisbon      1742   56.2    18.8        1\n",
      "London      1737   84.2    46.2        1\n",
      "Luxembourg  1768   71.1    71.1        1\n",
      "Milan       1773   82.0    53.3        1\n",
      "Montreal    1827   72.7    56.3        1\n",
      "              Work  Price  Salary  cluster\n",
      "City                                      \n",
      "Buenos_Aires  1971   56.1    12.5        2\n",
      "Chicago       1924   73.9    61.9        2\n",
      "Geneva        1880   95.9    90.3        2\n",
      "Houston       1978   71.9    46.3        2\n",
      "Johannesburg  1945   51.1    24.0        2\n",
      "Mexico_City   1944   49.8     5.7        2\n",
      "           Work  Price  Salary  cluster\n",
      "City                                   \n",
      "Hong_Kong  2375   63.8    27.8        3\n",
      "Manila     2268   40.0     4.0        3\n",
      "              Work  Price  Salary  cluster\n",
      "City                                      \n",
      "Bogota        2152   37.9    11.5        4\n",
      "Bombay        2052   30.3     5.3        4\n",
      "Caracas       2041   61.0    10.9        4\n",
      "Kuala_Lumpur  2167   43.5     9.9        4\n",
      "Los_Angeles   2068   79.8    65.2        4\n"
     ]
    }
   ],
   "source": [
    "show_cities_from_clasters(data1)"
   ]
  },
  {
   "cell_type": "markdown",
   "metadata": {},
   "source": [
    "##### Можно сделать следующие выводы по кластерам, основываясь на включенные в них города: \n",
    "\n",
    "- 0 кластер : Города малых развитых европейских стран с хорошо оплачиваемым трудом\n",
    "- 1 кластер : Города более крупных европейских стран, с большим населением. Размер оплаты труда отличается в меньшую сторону по сравнению с 0 кластером.\n",
    "- 2 кластер : Встречаются города за пределами европы. Как правило это одни из групнейших и густонаселенных городов страны. Если город находится в развитой стране, то оплата труда высокая, если в развивающийся, то низкая.\n",
    "- 3 кластер : Густонаселенные портовые города, связанные с международной торговлей. Как следствие, экономическое развитие и цены в городах высокие, но оплата труда одна из самых низких из-за низкоквалифицированного труда.\n",
    "- 4 кластер : Города развивающихся стран азии и южной америки"
   ]
  },
  {
   "cell_type": "code",
   "execution_count": 125,
   "metadata": {},
   "outputs": [
    {
     "data": {
      "text/html": [
       "<div>\n",
       "<style scoped>\n",
       "    .dataframe tbody tr th:only-of-type {\n",
       "        vertical-align: middle;\n",
       "    }\n",
       "\n",
       "    .dataframe tbody tr th {\n",
       "        vertical-align: top;\n",
       "    }\n",
       "\n",
       "    .dataframe thead th {\n",
       "        text-align: right;\n",
       "    }\n",
       "</style>\n",
       "<table border=\"1\" class=\"dataframe\">\n",
       "  <thead>\n",
       "    <tr style=\"text-align: right;\">\n",
       "      <th></th>\n",
       "      <th>Work</th>\n",
       "      <th>Price</th>\n",
       "      <th>Salary</th>\n",
       "    </tr>\n",
       "    <tr>\n",
       "      <th>cluster</th>\n",
       "      <th></th>\n",
       "      <th></th>\n",
       "      <th></th>\n",
       "    </tr>\n",
       "  </thead>\n",
       "  <tbody>\n",
       "    <tr>\n",
       "      <th>0</th>\n",
       "      <td>1678.888889</td>\n",
       "      <td>86.377778</td>\n",
       "      <td>57.266667</td>\n",
       "    </tr>\n",
       "    <tr>\n",
       "      <th>1</th>\n",
       "      <td>1785.666667</td>\n",
       "      <td>67.566667</td>\n",
       "      <td>35.946667</td>\n",
       "    </tr>\n",
       "    <tr>\n",
       "      <th>2</th>\n",
       "      <td>1925.272727</td>\n",
       "      <td>73.836364</td>\n",
       "      <td>48.954545</td>\n",
       "    </tr>\n",
       "    <tr>\n",
       "      <th>3</th>\n",
       "      <td>2321.500000</td>\n",
       "      <td>51.900000</td>\n",
       "      <td>15.900000</td>\n",
       "    </tr>\n",
       "    <tr>\n",
       "      <th>4</th>\n",
       "      <td>2084.444444</td>\n",
       "      <td>57.522222</td>\n",
       "      <td>21.577778</td>\n",
       "    </tr>\n",
       "  </tbody>\n",
       "</table>\n",
       "</div>"
      ],
      "text/plain": [
       "                Work      Price     Salary\n",
       "cluster                                   \n",
       "0        1678.888889  86.377778  57.266667\n",
       "1        1785.666667  67.566667  35.946667\n",
       "2        1925.272727  73.836364  48.954545\n",
       "3        2321.500000  51.900000  15.900000\n",
       "4        2084.444444  57.522222  21.577778"
      ]
     },
     "execution_count": 125,
     "metadata": {},
     "output_type": "execute_result"
    }
   ],
   "source": [
    "data1.groupby('cluster').mean()"
   ]
  },
  {
   "cell_type": "markdown",
   "metadata": {},
   "source": [
    "Распределение по кластерам неравномерное, что вполне объяснимо. Большая часть современных городов хорошо экономически развиты, а количество рабочих часов в них строго регулируется законом."
   ]
  },
  {
   "cell_type": "code",
   "execution_count": 126,
   "metadata": {},
   "outputs": [
    {
     "data": {
      "text/plain": [
       "cluster\n",
       "0     9\n",
       "1    15\n",
       "2    11\n",
       "3     2\n",
       "4     9\n",
       "dtype: int64"
      ]
     },
     "execution_count": 126,
     "metadata": {},
     "output_type": "execute_result"
    }
   ],
   "source": [
    "data1.groupby('cluster').size()"
   ]
  },
  {
   "cell_type": "markdown",
   "metadata": {},
   "source": [
    "# Кластерный анализ методом к-средних (k-means)"
   ]
  },
  {
   "cell_type": "code",
   "execution_count": 127,
   "metadata": {},
   "outputs": [],
   "source": [
    "from sklearn.cluster import KMeans"
   ]
  },
  {
   "cell_type": "markdown",
   "metadata": {},
   "source": [
    "Определим оптимальное количество кластеров методом каменистой осыпи."
   ]
  },
  {
   "cell_type": "code",
   "execution_count": 128,
   "metadata": {},
   "outputs": [
    {
     "data": {
      "image/png": "[encoded data removed]",
      "text/plain": [
       "<Figure size 432x288 with 1 Axes>"
      ]
     },
     "metadata": {
      "needs_background": "light"
     },
     "output_type": "display_data"
    }
   ],
   "source": [
    "K = range(1, 11)\n",
    "\n",
    "# Вычисляем значения критерия качества для разного числа кластеров\n",
    "models = [KMeans(n_clusters=k, random_state=42).fit(data) for k in K]\n",
    "dist = [model.inertia_ for model in models]\n",
    "\n",
    "# Строим график каменистая осыпь\n",
    "plt.plot(K, dist, marker='o')\n",
    "plt.xlabel('Число кластеров')\n",
    "plt.ylabel('Сумма квадратов расстояний')\n",
    "plt.title('Каменистая осыпь. Ищем оптимальное k')\n",
    "plt.show()"
   ]
  },
  {
   "cell_type": "markdown",
   "metadata": {},
   "source": [
    "Перелом образовался примерно при 3 кластерах."
   ]
  },
  {
   "cell_type": "markdown",
   "metadata": {},
   "source": [
    "Обучаем модель на 3 кластерах и смотрим результаты"
   ]
  },
  {
   "cell_type": "code",
   "execution_count": 129,
   "metadata": {},
   "outputs": [
    {
     "data": {
      "text/plain": [
       "KMeans(n_clusters=3, random_state=42)"
      ]
     },
     "execution_count": 129,
     "metadata": {},
     "output_type": "execute_result"
    }
   ],
   "source": [
    "clf = KMeans(n_clusters=3, random_state=42)\n",
    "clf.fit(data)"
   ]
  },
  {
   "cell_type": "code",
   "execution_count": 130,
   "metadata": {},
   "outputs": [
    {
     "data": {
      "text/html": [
       "<div>\n",
       "<style scoped>\n",
       "    .dataframe tbody tr th:only-of-type {\n",
       "        vertical-align: middle;\n",
       "    }\n",
       "\n",
       "    .dataframe tbody tr th {\n",
       "        vertical-align: top;\n",
       "    }\n",
       "\n",
       "    .dataframe thead th {\n",
       "        text-align: right;\n",
       "    }\n",
       "</style>\n",
       "<table border=\"1\" class=\"dataframe\">\n",
       "  <thead>\n",
       "    <tr style=\"text-align: right;\">\n",
       "      <th></th>\n",
       "      <th>Work</th>\n",
       "      <th>Price</th>\n",
       "      <th>Salary</th>\n",
       "      <th>cluster</th>\n",
       "    </tr>\n",
       "    <tr>\n",
       "      <th>City</th>\n",
       "      <th></th>\n",
       "      <th></th>\n",
       "      <th></th>\n",
       "      <th></th>\n",
       "    </tr>\n",
       "  </thead>\n",
       "  <tbody>\n",
       "    <tr>\n",
       "      <th>Amsterdam</th>\n",
       "      <td>1714</td>\n",
       "      <td>65.6</td>\n",
       "      <td>49.0</td>\n",
       "      <td>2</td>\n",
       "    </tr>\n",
       "    <tr>\n",
       "      <th>Athens</th>\n",
       "      <td>1792</td>\n",
       "      <td>53.8</td>\n",
       "      <td>30.4</td>\n",
       "      <td>2</td>\n",
       "    </tr>\n",
       "    <tr>\n",
       "      <th>Bogota</th>\n",
       "      <td>2152</td>\n",
       "      <td>37.9</td>\n",
       "      <td>11.5</td>\n",
       "      <td>1</td>\n",
       "    </tr>\n",
       "    <tr>\n",
       "      <th>Bombay</th>\n",
       "      <td>2052</td>\n",
       "      <td>30.3</td>\n",
       "      <td>5.3</td>\n",
       "      <td>1</td>\n",
       "    </tr>\n",
       "    <tr>\n",
       "      <th>Brussels</th>\n",
       "      <td>1708</td>\n",
       "      <td>73.8</td>\n",
       "      <td>50.5</td>\n",
       "      <td>2</td>\n",
       "    </tr>\n",
       "  </tbody>\n",
       "</table>\n",
       "</div>"
      ],
      "text/plain": [
       "           Work  Price  Salary  cluster\n",
       "City                                   \n",
       "Amsterdam  1714   65.6    49.0        2\n",
       "Athens     1792   53.8    30.4        2\n",
       "Bogota     2152   37.9    11.5        1\n",
       "Bombay     2052   30.3     5.3        1\n",
       "Brussels   1708   73.8    50.5        2"
      ]
     },
     "execution_count": 130,
     "metadata": {},
     "output_type": "execute_result"
    }
   ],
   "source": [
    "data2 = data.copy()\n",
    "data2['cluster'] = clf.labels_\n",
    "data2.head()"
   ]
  },
  {
   "cell_type": "code",
   "execution_count": 131,
   "metadata": {},
   "outputs": [
    {
     "data": {
      "image/png": "[encoded data removed]",
      "text/plain": [
       "<Figure size 432x288 with 1 Axes>"
      ]
     },
     "metadata": {
      "needs_background": "light"
     },
     "output_type": "display_data"
    }
   ],
   "source": [
    "show_clusters(data2)"
   ]
  },
  {
   "cell_type": "code",
   "execution_count": 132,
   "metadata": {},
   "outputs": [
    {
     "data": {
      "text/plain": [
       "<matplotlib.collections.PathCollection at 0x262057248c8>"
      ]
     },
     "execution_count": 132,
     "metadata": {},
     "output_type": "execute_result"
    },
    {
     "data": {
      "image/png": "[encoded data removed]",
      "text/plain": [
       "<Figure size 432x288 with 1 Axes>"
      ]
     },
     "metadata": {
      "needs_background": "light"
     },
     "output_type": "display_data"
    }
   ],
   "source": [
    "plt.scatter(data2.Work, data2.Salary, c=data2.cluster)"
   ]
  },
  {
   "cell_type": "code",
   "execution_count": 133,
   "metadata": {},
   "outputs": [
    {
     "name": "stdout",
     "output_type": "stream",
     "text": [
      "              Work  Price  Salary  cluster\n",
      "City                                      \n",
      "Buenos_Aires  1971   56.1    12.5        0\n",
      "Chicago       1924   73.9    61.9        0\n",
      "Geneva        1880   95.9    90.3        0\n",
      "Houston       1978   71.9    46.3        0\n",
      "Johannesburg  1945   51.1    24.0        0\n",
      "Mexico_City   1944   49.8     5.7        0\n",
      "Montreal      1827   72.7    56.3        0\n",
      "Nairobi       1958   45.0     5.8        0\n",
      "New_York      1942   83.3    65.8        0\n",
      "              Work  Price  Salary  cluster\n",
      "City                                      \n",
      "Bogota        2152   37.9    11.5        1\n",
      "Bombay        2052   30.3     5.3        1\n",
      "Caracas       2041   61.0    10.9        1\n",
      "Hong_Kong     2375   63.8    27.8        1\n",
      "Kuala_Lumpur  2167   43.5     9.9        1\n",
      "Los_Angeles   2068   79.8    65.2        1\n",
      "            Work  Price  Salary  cluster\n",
      "City                                    \n",
      "Amsterdam   1714   65.6    49.0        2\n",
      "Athens      1792   53.8    30.4        2\n",
      "Brussels    1708   73.8    50.5        2\n",
      "Copenhagen  1717   91.3    62.9        2\n",
      "Dublin      1759   76.0    41.4        2\n",
      "Dusseldorf  1693   78.5    60.2        2\n",
      "Frankfurt   1650   74.5    60.4        2\n",
      "Helsinki    1667  113.6    66.6        2\n",
      "Lagos       1786   45.2     2.7        2\n",
      "Lisbon      1742   56.2    18.8        2\n",
      "London      1737   84.2    46.2        2\n",
      "Empty DataFrame\n",
      "Columns: [Work, Price, Salary, cluster]\n",
      "Index: []\n",
      "Empty DataFrame\n",
      "Columns: [Work, Price, Salary, cluster]\n",
      "Index: []\n"
     ]
    }
   ],
   "source": [
    "show_cities_from_clasters(data2)"
   ]
  },
  {
   "cell_type": "markdown",
   "metadata": {},
   "source": [
    "##### Можно сделать следующие выводы по кластерам, основываясь на включенные в них города: \n",
    "\n",
    "- 0 кластер : Как правило, города за пределами европы. Крупнейше и густонаселенные города страны. Если город находится в развитой стране, то оплата труда высокая, если в развивающийся, то низкая.\n",
    "- 1 кластер : Крупные финансовые центры азиатских и южноафриканских стран. Имеют большое население и низкую оплату труда\n",
    "- 2 кластер : Столицы евпропейских городов или развитых стран с высоким уровнем дохода и малым количеством рабочих часов."
   ]
  },
  {
   "cell_type": "code",
   "execution_count": 134,
   "metadata": {},
   "outputs": [
    {
     "data": {
      "text/html": [
       "<div>\n",
       "<style scoped>\n",
       "    .dataframe tbody tr th:only-of-type {\n",
       "        vertical-align: middle;\n",
       "    }\n",
       "\n",
       "    .dataframe tbody tr th {\n",
       "        vertical-align: top;\n",
       "    }\n",
       "\n",
       "    .dataframe thead th {\n",
       "        text-align: right;\n",
       "    }\n",
       "</style>\n",
       "<table border=\"1\" class=\"dataframe\">\n",
       "  <thead>\n",
       "    <tr style=\"text-align: right;\">\n",
       "      <th></th>\n",
       "      <th>Work</th>\n",
       "      <th>Price</th>\n",
       "      <th>Salary</th>\n",
       "    </tr>\n",
       "    <tr>\n",
       "      <th>cluster</th>\n",
       "      <th></th>\n",
       "      <th></th>\n",
       "      <th></th>\n",
       "    </tr>\n",
       "  </thead>\n",
       "  <tbody>\n",
       "    <tr>\n",
       "      <th>0</th>\n",
       "      <td>1908.9375</td>\n",
       "      <td>69.20625</td>\n",
       "      <td>43.36875</td>\n",
       "    </tr>\n",
       "    <tr>\n",
       "      <th>1</th>\n",
       "      <td>2138.8000</td>\n",
       "      <td>55.42000</td>\n",
       "      <td>19.90000</td>\n",
       "    </tr>\n",
       "    <tr>\n",
       "      <th>2</th>\n",
       "      <td>1727.2500</td>\n",
       "      <td>78.15500</td>\n",
       "      <td>46.31000</td>\n",
       "    </tr>\n",
       "  </tbody>\n",
       "</table>\n",
       "</div>"
      ],
      "text/plain": [
       "              Work     Price    Salary\n",
       "cluster                               \n",
       "0        1908.9375  69.20625  43.36875\n",
       "1        2138.8000  55.42000  19.90000\n",
       "2        1727.2500  78.15500  46.31000"
      ]
     },
     "execution_count": 134,
     "metadata": {},
     "output_type": "execute_result"
    }
   ],
   "source": [
    "data2.groupby('cluster').mean()"
   ]
  },
  {
   "cell_type": "markdown",
   "metadata": {},
   "source": [
    "По сравнению с иерархическим кластерным анализом, метод k-means формирует кластеры с относительно равным поличеством объектов."
   ]
  },
  {
   "cell_type": "code",
   "execution_count": 135,
   "metadata": {},
   "outputs": [
    {
     "data": {
      "text/plain": [
       "cluster\n",
       "0    16\n",
       "1    10\n",
       "2    20\n",
       "dtype: int64"
      ]
     },
     "execution_count": 135,
     "metadata": {},
     "output_type": "execute_result"
    }
   ],
   "source": [
    "data2.groupby('cluster').size()"
   ]
  },
  {
   "cell_type": "markdown",
   "metadata": {},
   "source": [
    "Стоить отметить, что при выборе 4 кластеров модель не отделяет наши обособленные данные в отдельную малую группу, она предпочитает делать кластеры более сбалансироваными по количеству объектов."
   ]
  },
  {
   "cell_type": "code",
   "execution_count": 136,
   "metadata": {},
   "outputs": [
    {
     "data": {
      "text/plain": [
       "Counter({2: 14, 0: 14, 3: 5, 1: 13})"
      ]
     },
     "execution_count": 136,
     "metadata": {},
     "output_type": "execute_result"
    },
    {
     "data": {
      "image/png": "[encoded data removed]",
      "text/plain": [
       "<Figure size 432x288 with 1 Axes>"
      ]
     },
     "metadata": {
      "needs_background": "light"
     },
     "output_type": "display_data"
    }
   ],
   "source": [
    "from collections import Counter\n",
    "\n",
    "four_clusters_model = KMeans(n_clusters=4, random_state=42).fit(data)\n",
    "\n",
    "plt.scatter(data2.Work, data2.Salary, c=four_clusters_model.labels_)\n",
    "Counter(four_clusters_model.labels_)"
   ]
  },
  {
   "cell_type": "markdown",
   "metadata": {},
   "source": [
    "# Кластерный анализ методом DBSCAN"
   ]
  },
  {
   "cell_type": "code",
   "execution_count": 137,
   "metadata": {},
   "outputs": [],
   "source": [
    "from sklearn.cluster import DBSCAN"
   ]
  },
  {
   "cell_type": "markdown",
   "metadata": {},
   "source": [
    "Подбираем оптимальные значения параметров. Главное требование: наибольшее количество различимых кластеров и уменьшить количество данных, считающихся выбросами.\n"
   ]
  },
  {
   "cell_type": "code",
   "execution_count": 138,
   "metadata": {},
   "outputs": [
    {
     "data": {
      "text/plain": [
       "(array([0.2, 0.4, 0.6, 0.8, 1. ]), array([ 2,  4,  6,  8, 10]))"
      ]
     },
     "execution_count": 138,
     "metadata": {},
     "output_type": "execute_result"
    }
   ],
   "source": [
    "eps_array = np.arange(0.2, 1.2, 0.2)\n",
    "leaf_size_array = np.arange(2, 12, 2)\n",
    "eps_array, leaf_size_array"
   ]
  },
  {
   "cell_type": "code",
   "execution_count": 140,
   "metadata": {},
   "outputs": [
    {
     "data": {
      "text/html": [
       "<div>\n",
       "<style scoped>\n",
       "    .dataframe tbody tr th:only-of-type {\n",
       "        vertical-align: middle;\n",
       "    }\n",
       "\n",
       "    .dataframe tbody tr th {\n",
       "        vertical-align: top;\n",
       "    }\n",
       "\n",
       "    .dataframe thead th {\n",
       "        text-align: right;\n",
       "    }\n",
       "</style>\n",
       "<table border=\"1\" class=\"dataframe\">\n",
       "  <thead>\n",
       "    <tr style=\"text-align: right;\">\n",
       "      <th></th>\n",
       "      <th>params</th>\n",
       "      <th>clasters</th>\n",
       "      <th>composition_of_clusters</th>\n",
       "    </tr>\n",
       "  </thead>\n",
       "  <tbody>\n",
       "    <tr>\n",
       "      <th>0</th>\n",
       "      <td>eps=0.2, leaf_size=2</td>\n",
       "      <td>1</td>\n",
       "      <td>[46]</td>\n",
       "    </tr>\n",
       "    <tr>\n",
       "      <th>1</th>\n",
       "      <td>eps=0.2, leaf_size=4</td>\n",
       "      <td>1</td>\n",
       "      <td>[46]</td>\n",
       "    </tr>\n",
       "    <tr>\n",
       "      <th>2</th>\n",
       "      <td>eps=0.2, leaf_size=6</td>\n",
       "      <td>1</td>\n",
       "      <td>[46]</td>\n",
       "    </tr>\n",
       "    <tr>\n",
       "      <th>3</th>\n",
       "      <td>eps=0.2, leaf_size=8</td>\n",
       "      <td>1</td>\n",
       "      <td>[46]</td>\n",
       "    </tr>\n",
       "    <tr>\n",
       "      <th>4</th>\n",
       "      <td>eps=0.2, leaf_size=10</td>\n",
       "      <td>1</td>\n",
       "      <td>[46]</td>\n",
       "    </tr>\n",
       "    <tr>\n",
       "      <th>5</th>\n",
       "      <td>eps=0.4, leaf_size=2</td>\n",
       "      <td>2</td>\n",
       "      <td>[41, 5]</td>\n",
       "    </tr>\n",
       "    <tr>\n",
       "      <th>6</th>\n",
       "      <td>eps=0.4, leaf_size=4</td>\n",
       "      <td>2</td>\n",
       "      <td>[41, 5]</td>\n",
       "    </tr>\n",
       "    <tr>\n",
       "      <th>7</th>\n",
       "      <td>eps=0.4, leaf_size=6</td>\n",
       "      <td>2</td>\n",
       "      <td>[41, 5]</td>\n",
       "    </tr>\n",
       "    <tr>\n",
       "      <th>8</th>\n",
       "      <td>eps=0.4, leaf_size=8</td>\n",
       "      <td>2</td>\n",
       "      <td>[41, 5]</td>\n",
       "    </tr>\n",
       "    <tr>\n",
       "      <th>9</th>\n",
       "      <td>eps=0.4, leaf_size=10</td>\n",
       "      <td>2</td>\n",
       "      <td>[41, 5]</td>\n",
       "    </tr>\n",
       "    <tr>\n",
       "      <th>10</th>\n",
       "      <td>eps=0.6, leaf_size=2</td>\n",
       "      <td>3</td>\n",
       "      <td>[28, 12, 6]</td>\n",
       "    </tr>\n",
       "    <tr>\n",
       "      <th>11</th>\n",
       "      <td>eps=0.6, leaf_size=4</td>\n",
       "      <td>3</td>\n",
       "      <td>[28, 12, 6]</td>\n",
       "    </tr>\n",
       "    <tr>\n",
       "      <th>12</th>\n",
       "      <td>eps=0.6, leaf_size=6</td>\n",
       "      <td>3</td>\n",
       "      <td>[28, 12, 6]</td>\n",
       "    </tr>\n",
       "    <tr>\n",
       "      <th>13</th>\n",
       "      <td>eps=0.6, leaf_size=8</td>\n",
       "      <td>3</td>\n",
       "      <td>[28, 12, 6]</td>\n",
       "    </tr>\n",
       "    <tr>\n",
       "      <th>14</th>\n",
       "      <td>eps=0.6, leaf_size=10</td>\n",
       "      <td>3</td>\n",
       "      <td>[28, 12, 6]</td>\n",
       "    </tr>\n",
       "    <tr>\n",
       "      <th>15</th>\n",
       "      <td>eps=0.8, leaf_size=2</td>\n",
       "      <td>3</td>\n",
       "      <td>[9, 18, 19]</td>\n",
       "    </tr>\n",
       "    <tr>\n",
       "      <th>16</th>\n",
       "      <td>eps=0.8, leaf_size=4</td>\n",
       "      <td>3</td>\n",
       "      <td>[9, 18, 19]</td>\n",
       "    </tr>\n",
       "    <tr>\n",
       "      <th>17</th>\n",
       "      <td>eps=0.8, leaf_size=6</td>\n",
       "      <td>3</td>\n",
       "      <td>[9, 18, 19]</td>\n",
       "    </tr>\n",
       "    <tr>\n",
       "      <th>18</th>\n",
       "      <td>eps=0.8, leaf_size=8</td>\n",
       "      <td>3</td>\n",
       "      <td>[9, 18, 19]</td>\n",
       "    </tr>\n",
       "    <tr>\n",
       "      <th>19</th>\n",
       "      <td>eps=0.8, leaf_size=10</td>\n",
       "      <td>3</td>\n",
       "      <td>[9, 18, 19]</td>\n",
       "    </tr>\n",
       "    <tr>\n",
       "      <th>20</th>\n",
       "      <td>eps=1.0, leaf_size=2</td>\n",
       "      <td>2</td>\n",
       "      <td>[8, 38]</td>\n",
       "    </tr>\n",
       "    <tr>\n",
       "      <th>21</th>\n",
       "      <td>eps=1.0, leaf_size=4</td>\n",
       "      <td>2</td>\n",
       "      <td>[8, 38]</td>\n",
       "    </tr>\n",
       "    <tr>\n",
       "      <th>22</th>\n",
       "      <td>eps=1.0, leaf_size=6</td>\n",
       "      <td>2</td>\n",
       "      <td>[8, 38]</td>\n",
       "    </tr>\n",
       "    <tr>\n",
       "      <th>23</th>\n",
       "      <td>eps=1.0, leaf_size=8</td>\n",
       "      <td>2</td>\n",
       "      <td>[8, 38]</td>\n",
       "    </tr>\n",
       "    <tr>\n",
       "      <th>24</th>\n",
       "      <td>eps=1.0, leaf_size=10</td>\n",
       "      <td>2</td>\n",
       "      <td>[8, 38]</td>\n",
       "    </tr>\n",
       "  </tbody>\n",
       "</table>\n",
       "</div>"
      ],
      "text/plain": [
       "                   params  clasters composition_of_clusters\n",
       "0    eps=0.2, leaf_size=2         1                    [46]\n",
       "1    eps=0.2, leaf_size=4         1                    [46]\n",
       "2    eps=0.2, leaf_size=6         1                    [46]\n",
       "3    eps=0.2, leaf_size=8         1                    [46]\n",
       "4   eps=0.2, leaf_size=10         1                    [46]\n",
       "5    eps=0.4, leaf_size=2         2                 [41, 5]\n",
       "6    eps=0.4, leaf_size=4         2                 [41, 5]\n",
       "7    eps=0.4, leaf_size=6         2                 [41, 5]\n",
       "8    eps=0.4, leaf_size=8         2                 [41, 5]\n",
       "9   eps=0.4, leaf_size=10         2                 [41, 5]\n",
       "10   eps=0.6, leaf_size=2         3             [28, 12, 6]\n",
       "11   eps=0.6, leaf_size=4         3             [28, 12, 6]\n",
       "12   eps=0.6, leaf_size=6         3             [28, 12, 6]\n",
       "13   eps=0.6, leaf_size=8         3             [28, 12, 6]\n",
       "14  eps=0.6, leaf_size=10         3             [28, 12, 6]\n",
       "15   eps=0.8, leaf_size=2         3             [9, 18, 19]\n",
       "16   eps=0.8, leaf_size=4         3             [9, 18, 19]\n",
       "17   eps=0.8, leaf_size=6         3             [9, 18, 19]\n",
       "18   eps=0.8, leaf_size=8         3             [9, 18, 19]\n",
       "19  eps=0.8, leaf_size=10         3             [9, 18, 19]\n",
       "20   eps=1.0, leaf_size=2         2                 [8, 38]\n",
       "21   eps=1.0, leaf_size=4         2                 [8, 38]\n",
       "22   eps=1.0, leaf_size=6         2                 [8, 38]\n",
       "23   eps=1.0, leaf_size=8         2                 [8, 38]\n",
       "24  eps=1.0, leaf_size=10         2                 [8, 38]"
      ]
     },
     "execution_count": 140,
     "metadata": {},
     "output_type": "execute_result"
    }
   ],
   "source": [
    "params = []\n",
    "clasters = []\n",
    "composition_of_clusters = []\n",
    "\n",
    "for eps in eps_array:\n",
    "    for leaf_size in leaf_size_array:\n",
    "        clustering = DBSCAN(eps=eps, leaf_size=leaf_size)\n",
    "        clustering.fit(scaled)\n",
    "        unique, counts = np.unique(clustering.labels_, return_counts=True)\n",
    "        params.append(f'eps={eps.round(1)}, leaf_size={leaf_size}')\n",
    "        clasters.append(len(unique))\n",
    "        composition_of_clusters.append(counts)\n",
    "\n",
    "dat = {'params': params, 'clasters': clasters, 'composition_of_clusters' : composition_of_clusters}\n",
    "dat = pd.DataFrame.from_dict(dat)\n",
    "dat"
   ]
  },
  {
   "cell_type": "markdown",
   "metadata": {},
   "source": [
    "Минимальное количество кластеров, которые нас удовлетворяет, это 3. Так как один из кластеров считается выбросами и его нельзя интерпретировать. Пройдёмся более детально по параметрам, которые нам дают 3 кластера. Возможно мы обнаружим ещё 4 кластер."
   ]
  },
  {
   "cell_type": "code",
   "execution_count": 173,
   "metadata": {},
   "outputs": [
    {
     "data": {
      "text/plain": [
       "(array([0.6, 0.7, 0.8, 0.9]), array([2, 3, 4, 5, 6, 7, 8, 9]))"
      ]
     },
     "execution_count": 173,
     "metadata": {},
     "output_type": "execute_result"
    }
   ],
   "source": [
    "eps_array = np.arange(0.6, 1, 0.1)\n",
    "leaf_size_array = np.arange(2, 10, 1)\n",
    "eps_array, leaf_size_array"
   ]
  },
  {
   "cell_type": "code",
   "execution_count": 174,
   "metadata": {},
   "outputs": [
    {
     "data": {
      "text/html": [
       "<div>\n",
       "<style scoped>\n",
       "    .dataframe tbody tr th:only-of-type {\n",
       "        vertical-align: middle;\n",
       "    }\n",
       "\n",
       "    .dataframe tbody tr th {\n",
       "        vertical-align: top;\n",
       "    }\n",
       "\n",
       "    .dataframe thead th {\n",
       "        text-align: right;\n",
       "    }\n",
       "</style>\n",
       "<table border=\"1\" class=\"dataframe\">\n",
       "  <thead>\n",
       "    <tr style=\"text-align: right;\">\n",
       "      <th></th>\n",
       "      <th>params</th>\n",
       "      <th>clasters</th>\n",
       "      <th>composition_of_clusters</th>\n",
       "    </tr>\n",
       "  </thead>\n",
       "  <tbody>\n",
       "    <tr>\n",
       "      <th>0</th>\n",
       "      <td>eps=0.6, leaf_size=2</td>\n",
       "      <td>3</td>\n",
       "      <td>[28, 12, 6]</td>\n",
       "    </tr>\n",
       "    <tr>\n",
       "      <th>1</th>\n",
       "      <td>eps=0.6, leaf_size=3</td>\n",
       "      <td>3</td>\n",
       "      <td>[28, 12, 6]</td>\n",
       "    </tr>\n",
       "    <tr>\n",
       "      <th>2</th>\n",
       "      <td>eps=0.6, leaf_size=4</td>\n",
       "      <td>3</td>\n",
       "      <td>[28, 12, 6]</td>\n",
       "    </tr>\n",
       "    <tr>\n",
       "      <th>3</th>\n",
       "      <td>eps=0.6, leaf_size=5</td>\n",
       "      <td>3</td>\n",
       "      <td>[28, 12, 6]</td>\n",
       "    </tr>\n",
       "    <tr>\n",
       "      <th>4</th>\n",
       "      <td>eps=0.6, leaf_size=6</td>\n",
       "      <td>3</td>\n",
       "      <td>[28, 12, 6]</td>\n",
       "    </tr>\n",
       "    <tr>\n",
       "      <th>5</th>\n",
       "      <td>eps=0.6, leaf_size=7</td>\n",
       "      <td>3</td>\n",
       "      <td>[28, 12, 6]</td>\n",
       "    </tr>\n",
       "    <tr>\n",
       "      <th>6</th>\n",
       "      <td>eps=0.6, leaf_size=8</td>\n",
       "      <td>3</td>\n",
       "      <td>[28, 12, 6]</td>\n",
       "    </tr>\n",
       "    <tr>\n",
       "      <th>7</th>\n",
       "      <td>eps=0.6, leaf_size=9</td>\n",
       "      <td>3</td>\n",
       "      <td>[28, 12, 6]</td>\n",
       "    </tr>\n",
       "    <tr>\n",
       "      <th>8</th>\n",
       "      <td>eps=0.7, leaf_size=2</td>\n",
       "      <td>4</td>\n",
       "      <td>[21, 16, 6, 3]</td>\n",
       "    </tr>\n",
       "    <tr>\n",
       "      <th>9</th>\n",
       "      <td>eps=0.7, leaf_size=3</td>\n",
       "      <td>4</td>\n",
       "      <td>[21, 16, 6, 3]</td>\n",
       "    </tr>\n",
       "    <tr>\n",
       "      <th>10</th>\n",
       "      <td>eps=0.7, leaf_size=4</td>\n",
       "      <td>4</td>\n",
       "      <td>[21, 16, 6, 3]</td>\n",
       "    </tr>\n",
       "    <tr>\n",
       "      <th>11</th>\n",
       "      <td>eps=0.7, leaf_size=5</td>\n",
       "      <td>4</td>\n",
       "      <td>[21, 16, 6, 3]</td>\n",
       "    </tr>\n",
       "    <tr>\n",
       "      <th>12</th>\n",
       "      <td>eps=0.7, leaf_size=6</td>\n",
       "      <td>4</td>\n",
       "      <td>[21, 16, 6, 3]</td>\n",
       "    </tr>\n",
       "    <tr>\n",
       "      <th>13</th>\n",
       "      <td>eps=0.7, leaf_size=7</td>\n",
       "      <td>4</td>\n",
       "      <td>[21, 16, 6, 3]</td>\n",
       "    </tr>\n",
       "    <tr>\n",
       "      <th>14</th>\n",
       "      <td>eps=0.7, leaf_size=8</td>\n",
       "      <td>4</td>\n",
       "      <td>[21, 16, 6, 3]</td>\n",
       "    </tr>\n",
       "    <tr>\n",
       "      <th>15</th>\n",
       "      <td>eps=0.7, leaf_size=9</td>\n",
       "      <td>4</td>\n",
       "      <td>[21, 16, 6, 3]</td>\n",
       "    </tr>\n",
       "    <tr>\n",
       "      <th>16</th>\n",
       "      <td>eps=0.8, leaf_size=2</td>\n",
       "      <td>3</td>\n",
       "      <td>[9, 18, 19]</td>\n",
       "    </tr>\n",
       "    <tr>\n",
       "      <th>17</th>\n",
       "      <td>eps=0.8, leaf_size=3</td>\n",
       "      <td>3</td>\n",
       "      <td>[9, 18, 19]</td>\n",
       "    </tr>\n",
       "    <tr>\n",
       "      <th>18</th>\n",
       "      <td>eps=0.8, leaf_size=4</td>\n",
       "      <td>3</td>\n",
       "      <td>[9, 18, 19]</td>\n",
       "    </tr>\n",
       "    <tr>\n",
       "      <th>19</th>\n",
       "      <td>eps=0.8, leaf_size=5</td>\n",
       "      <td>3</td>\n",
       "      <td>[9, 18, 19]</td>\n",
       "    </tr>\n",
       "    <tr>\n",
       "      <th>20</th>\n",
       "      <td>eps=0.8, leaf_size=6</td>\n",
       "      <td>3</td>\n",
       "      <td>[9, 18, 19]</td>\n",
       "    </tr>\n",
       "    <tr>\n",
       "      <th>21</th>\n",
       "      <td>eps=0.8, leaf_size=7</td>\n",
       "      <td>3</td>\n",
       "      <td>[9, 18, 19]</td>\n",
       "    </tr>\n",
       "    <tr>\n",
       "      <th>22</th>\n",
       "      <td>eps=0.8, leaf_size=8</td>\n",
       "      <td>3</td>\n",
       "      <td>[9, 18, 19]</td>\n",
       "    </tr>\n",
       "    <tr>\n",
       "      <th>23</th>\n",
       "      <td>eps=0.8, leaf_size=9</td>\n",
       "      <td>3</td>\n",
       "      <td>[9, 18, 19]</td>\n",
       "    </tr>\n",
       "    <tr>\n",
       "      <th>24</th>\n",
       "      <td>eps=0.9, leaf_size=2</td>\n",
       "      <td>3</td>\n",
       "      <td>[8, 19, 19]</td>\n",
       "    </tr>\n",
       "    <tr>\n",
       "      <th>25</th>\n",
       "      <td>eps=0.9, leaf_size=3</td>\n",
       "      <td>3</td>\n",
       "      <td>[8, 19, 19]</td>\n",
       "    </tr>\n",
       "    <tr>\n",
       "      <th>26</th>\n",
       "      <td>eps=0.9, leaf_size=4</td>\n",
       "      <td>3</td>\n",
       "      <td>[8, 19, 19]</td>\n",
       "    </tr>\n",
       "    <tr>\n",
       "      <th>27</th>\n",
       "      <td>eps=0.9, leaf_size=5</td>\n",
       "      <td>3</td>\n",
       "      <td>[8, 19, 19]</td>\n",
       "    </tr>\n",
       "    <tr>\n",
       "      <th>28</th>\n",
       "      <td>eps=0.9, leaf_size=6</td>\n",
       "      <td>3</td>\n",
       "      <td>[8, 19, 19]</td>\n",
       "    </tr>\n",
       "    <tr>\n",
       "      <th>29</th>\n",
       "      <td>eps=0.9, leaf_size=7</td>\n",
       "      <td>3</td>\n",
       "      <td>[8, 19, 19]</td>\n",
       "    </tr>\n",
       "    <tr>\n",
       "      <th>30</th>\n",
       "      <td>eps=0.9, leaf_size=8</td>\n",
       "      <td>3</td>\n",
       "      <td>[8, 19, 19]</td>\n",
       "    </tr>\n",
       "    <tr>\n",
       "      <th>31</th>\n",
       "      <td>eps=0.9, leaf_size=9</td>\n",
       "      <td>3</td>\n",
       "      <td>[8, 19, 19]</td>\n",
       "    </tr>\n",
       "  </tbody>\n",
       "</table>\n",
       "</div>"
      ],
      "text/plain": [
       "                  params  clasters composition_of_clusters\n",
       "0   eps=0.6, leaf_size=2         3             [28, 12, 6]\n",
       "1   eps=0.6, leaf_size=3         3             [28, 12, 6]\n",
       "2   eps=0.6, leaf_size=4         3             [28, 12, 6]\n",
       "3   eps=0.6, leaf_size=5         3             [28, 12, 6]\n",
       "4   eps=0.6, leaf_size=6         3             [28, 12, 6]\n",
       "5   eps=0.6, leaf_size=7         3             [28, 12, 6]\n",
       "6   eps=0.6, leaf_size=8         3             [28, 12, 6]\n",
       "7   eps=0.6, leaf_size=9         3             [28, 12, 6]\n",
       "8   eps=0.7, leaf_size=2         4          [21, 16, 6, 3]\n",
       "9   eps=0.7, leaf_size=3         4          [21, 16, 6, 3]\n",
       "10  eps=0.7, leaf_size=4         4          [21, 16, 6, 3]\n",
       "11  eps=0.7, leaf_size=5         4          [21, 16, 6, 3]\n",
       "12  eps=0.7, leaf_size=6         4          [21, 16, 6, 3]\n",
       "13  eps=0.7, leaf_size=7         4          [21, 16, 6, 3]\n",
       "14  eps=0.7, leaf_size=8         4          [21, 16, 6, 3]\n",
       "15  eps=0.7, leaf_size=9         4          [21, 16, 6, 3]\n",
       "16  eps=0.8, leaf_size=2         3             [9, 18, 19]\n",
       "17  eps=0.8, leaf_size=3         3             [9, 18, 19]\n",
       "18  eps=0.8, leaf_size=4         3             [9, 18, 19]\n",
       "19  eps=0.8, leaf_size=5         3             [9, 18, 19]\n",
       "20  eps=0.8, leaf_size=6         3             [9, 18, 19]\n",
       "21  eps=0.8, leaf_size=7         3             [9, 18, 19]\n",
       "22  eps=0.8, leaf_size=8         3             [9, 18, 19]\n",
       "23  eps=0.8, leaf_size=9         3             [9, 18, 19]\n",
       "24  eps=0.9, leaf_size=2         3             [8, 19, 19]\n",
       "25  eps=0.9, leaf_size=3         3             [8, 19, 19]\n",
       "26  eps=0.9, leaf_size=4         3             [8, 19, 19]\n",
       "27  eps=0.9, leaf_size=5         3             [8, 19, 19]\n",
       "28  eps=0.9, leaf_size=6         3             [8, 19, 19]\n",
       "29  eps=0.9, leaf_size=7         3             [8, 19, 19]\n",
       "30  eps=0.9, leaf_size=8         3             [8, 19, 19]\n",
       "31  eps=0.9, leaf_size=9         3             [8, 19, 19]"
      ]
     },
     "execution_count": 174,
     "metadata": {},
     "output_type": "execute_result"
    }
   ],
   "source": [
    "params = []\n",
    "clasters = []\n",
    "composition_of_clusters = []\n",
    "\n",
    "for eps in eps_array:\n",
    "    for leaf_size in leaf_size_array:\n",
    "        clustering = DBSCAN(eps=eps, leaf_size=leaf_size)\n",
    "        clustering.fit(scaled)\n",
    "        unique, counts = np.unique(clustering.labels_, return_counts=True)\n",
    "        params.append(f'eps={eps.round(1)}, leaf_size={leaf_size}')\n",
    "        clasters.append(len(unique))\n",
    "        composition_of_clusters.append(counts)\n",
    "\n",
    "dat = {'params': params, 'clasters': clasters, 'composition_of_clusters' : composition_of_clusters}\n",
    "dat = pd.DataFrame.from_dict(dat)\n",
    "dat"
   ]
  },
  {
   "cell_type": "markdown",
   "metadata": {},
   "source": [
    "Действительно, мы смогли обнаружить 4 кластера. Но результаты такого разделения весьма печальный: почти половину наблюдений алгоритм не стал включать в какие-либо кластеры. Поэтому можно остановиться на 3 кластерах и параметрах, которые дают нам наиболее объяснение данных."
   ]
  },
  {
   "cell_type": "markdown",
   "metadata": {},
   "source": [
    "eps=0.9, leaf_size=2"
   ]
  },
  {
   "cell_type": "code",
   "execution_count": 162,
   "metadata": {},
   "outputs": [
    {
     "data": {
      "text/plain": [
       "DBSCAN(eps=0.9, leaf_size=2)"
      ]
     },
     "execution_count": 162,
     "metadata": {},
     "output_type": "execute_result"
    }
   ],
   "source": [
    "clustering = DBSCAN(eps=0.9, leaf_size=2)\n",
    "clustering.fit(scaled)"
   ]
  },
  {
   "cell_type": "code",
   "execution_count": 163,
   "metadata": {},
   "outputs": [
    {
     "name": "stdout",
     "output_type": "stream",
     "text": [
      "[[-1  8]\n",
      " [ 0 19]\n",
      " [ 1 19]]\n"
     ]
    }
   ],
   "source": [
    "unique, counts = np.unique(clustering.labels_, return_counts=True)\n",
    "print(np.asarray((unique, counts)).T)"
   ]
  },
  {
   "cell_type": "code",
   "execution_count": 164,
   "metadata": {},
   "outputs": [
    {
     "data": {
      "text/html": [
       "<div>\n",
       "<style scoped>\n",
       "    .dataframe tbody tr th:only-of-type {\n",
       "        vertical-align: middle;\n",
       "    }\n",
       "\n",
       "    .dataframe tbody tr th {\n",
       "        vertical-align: top;\n",
       "    }\n",
       "\n",
       "    .dataframe thead th {\n",
       "        text-align: right;\n",
       "    }\n",
       "</style>\n",
       "<table border=\"1\" class=\"dataframe\">\n",
       "  <thead>\n",
       "    <tr style=\"text-align: right;\">\n",
       "      <th></th>\n",
       "      <th>Work</th>\n",
       "      <th>Price</th>\n",
       "      <th>Salary</th>\n",
       "      <th>cluster</th>\n",
       "    </tr>\n",
       "    <tr>\n",
       "      <th>City</th>\n",
       "      <th></th>\n",
       "      <th></th>\n",
       "      <th></th>\n",
       "      <th></th>\n",
       "    </tr>\n",
       "  </thead>\n",
       "  <tbody>\n",
       "    <tr>\n",
       "      <th>Amsterdam</th>\n",
       "      <td>1714</td>\n",
       "      <td>65.6</td>\n",
       "      <td>49.0</td>\n",
       "      <td>0</td>\n",
       "    </tr>\n",
       "    <tr>\n",
       "      <th>Athens</th>\n",
       "      <td>1792</td>\n",
       "      <td>53.8</td>\n",
       "      <td>30.4</td>\n",
       "      <td>1</td>\n",
       "    </tr>\n",
       "    <tr>\n",
       "      <th>Bogota</th>\n",
       "      <td>2152</td>\n",
       "      <td>37.9</td>\n",
       "      <td>11.5</td>\n",
       "      <td>1</td>\n",
       "    </tr>\n",
       "    <tr>\n",
       "      <th>Bombay</th>\n",
       "      <td>2052</td>\n",
       "      <td>30.3</td>\n",
       "      <td>5.3</td>\n",
       "      <td>1</td>\n",
       "    </tr>\n",
       "    <tr>\n",
       "      <th>Brussels</th>\n",
       "      <td>1708</td>\n",
       "      <td>73.8</td>\n",
       "      <td>50.5</td>\n",
       "      <td>0</td>\n",
       "    </tr>\n",
       "  </tbody>\n",
       "</table>\n",
       "</div>"
      ],
      "text/plain": [
       "           Work  Price  Salary  cluster\n",
       "City                                   \n",
       "Amsterdam  1714   65.6    49.0        0\n",
       "Athens     1792   53.8    30.4        1\n",
       "Bogota     2152   37.9    11.5        1\n",
       "Bombay     2052   30.3     5.3        1\n",
       "Brussels   1708   73.8    50.5        0"
      ]
     },
     "execution_count": 164,
     "metadata": {},
     "output_type": "execute_result"
    }
   ],
   "source": [
    "data3 = data.copy()\n",
    "data3['cluster'] = clustering.labels_ \n",
    "data3.head()"
   ]
  },
  {
   "cell_type": "markdown",
   "metadata": {},
   "source": [
    "Черными крестами обозначены города, которые DBSCAN не включил в кластеры"
   ]
  },
  {
   "cell_type": "code",
   "execution_count": 165,
   "metadata": {},
   "outputs": [
    {
     "name": "stderr",
     "output_type": "stream",
     "text": [
      "C:\\Users\\User\\anaconda3\\lib\\site-packages\\ipykernel_launcher.py:15: UserWarning: You passed a edgecolor/edgecolors ('black') for an unfilled marker ('x').  Matplotlib is ignoring the edgecolor in favor of the facecolor.  This behavior may change in the future.\n",
      "  from ipykernel import kernelapp as app\n"
     ]
    },
    {
     "data": {
      "image/png": "[encoded data removed]",
      "text/plain": [
       "<Figure size 432x288 with 1 Axes>"
      ]
     },
     "metadata": {
      "needs_background": "light"
     },
     "output_type": "display_data"
    }
   ],
   "source": [
    "show_clusters(data3)"
   ]
  },
  {
   "cell_type": "markdown",
   "metadata": {},
   "source": [
    "Как видно из рисунка, главным критерием для включения города в кластер алгоритм посчитал уровень дохода: выше или ниже среднего."
   ]
  },
  {
   "cell_type": "code",
   "execution_count": 166,
   "metadata": {},
   "outputs": [
    {
     "data": {
      "text/plain": [
       "<matplotlib.collections.PathCollection at 0x262052317c8>"
      ]
     },
     "execution_count": 166,
     "metadata": {},
     "output_type": "execute_result"
    },
    {
     "data": {
      "image/png": "[encoded data removed]",
      "text/plain": [
       "<Figure size 432x288 with 1 Axes>"
      ]
     },
     "metadata": {
      "needs_background": "light"
     },
     "output_type": "display_data"
    }
   ],
   "source": [
    "plt.scatter(scaled.Work, scaled.Salary, c=data3.cluster)"
   ]
  },
  {
   "cell_type": "code",
   "execution_count": 167,
   "metadata": {},
   "outputs": [],
   "source": [
    "data3.cluster = data3.cluster + 1"
   ]
  },
  {
   "cell_type": "code",
   "execution_count": 168,
   "metadata": {},
   "outputs": [
    {
     "name": "stdout",
     "output_type": "stream",
     "text": [
      "           Work  Price  Salary  cluster\n",
      "City                                   \n",
      "Geneva     1880   95.9    90.3        0\n",
      "Helsinki   1667  113.6    66.6        0\n",
      "Hong_Kong  2375   63.8    27.8        0\n",
      "Oslo       1583  115.5    63.7        0\n",
      "Stockholm  1805  111.3    39.2        0\n",
      "             Work  Price  Salary  cluster\n",
      "City                                     \n",
      "Amsterdam    1714   65.6    49.0        1\n",
      "Brussels     1708   73.8    50.5        1\n",
      "Chicago      1924   73.9    61.9        1\n",
      "Copenhagen   1717   91.3    62.9        1\n",
      "Dublin       1759   76.0    41.4        1\n",
      "Dusseldorf   1693   78.5    60.2        1\n",
      "Frankfurt    1650   74.5    60.4        1\n",
      "Houston      1978   71.9    46.3        1\n",
      "London       1737   84.2    46.2        1\n",
      "Los_Angeles  2068   79.8    65.2        1\n",
      "              Work  Price  Salary  cluster\n",
      "City                                      \n",
      "Athens        1792   53.8    30.4        2\n",
      "Bogota        2152   37.9    11.5        2\n",
      "Bombay        2052   30.3     5.3        2\n",
      "Buenos_Aires  1971   56.1    12.5        2\n",
      "Caracas       2041   61.0    10.9        2\n",
      "Johannesburg  1945   51.1    24.0        2\n",
      "Kuala_Lumpur  2167   43.5     9.9        2\n",
      "Lagos         1786   45.2     2.7        2\n",
      "Lisbon        1742   56.2    18.8        2\n",
      "Manila        2268   40.0     4.0        2\n",
      "Empty DataFrame\n",
      "Columns: [Work, Price, Salary, cluster]\n",
      "Index: []\n",
      "Empty DataFrame\n",
      "Columns: [Work, Price, Salary, cluster]\n",
      "Index: []\n"
     ]
    }
   ],
   "source": [
    "show_cities_from_clasters(data3)"
   ]
  },
  {
   "cell_type": "markdown",
   "metadata": {},
   "source": [
    "##### Можно сделать следующие выводы по кластерам, основываясь на включенные в них города: \n",
    "\n",
    "- 0 кластер : Быстро развивающиеся города, принадлежность к кластеру которых сложно определить. Их показатели значительно отличаются от средних. \n",
    "- 1 кластер : Развитые европейские и американские города, с высоким уровнем жизни и оплаты труда\n",
    "- 2 кластер : Развивающиеся города азии, африки и южной америки, где оплата труда низкая"
   ]
  },
  {
   "cell_type": "markdown",
   "metadata": {},
   "source": [
    "Медиана для кластеров подтвердило наши предположения. Медианная почасовая оплата труда между кластерами различается в 5 раз, что является статистически значимым отличием."
   ]
  },
  {
   "cell_type": "code",
   "execution_count": 169,
   "metadata": {},
   "outputs": [
    {
     "data": {
      "text/html": [
       "<div>\n",
       "<style scoped>\n",
       "    .dataframe tbody tr th:only-of-type {\n",
       "        vertical-align: middle;\n",
       "    }\n",
       "\n",
       "    .dataframe tbody tr th {\n",
       "        vertical-align: top;\n",
       "    }\n",
       "\n",
       "    .dataframe thead th {\n",
       "        text-align: right;\n",
       "    }\n",
       "</style>\n",
       "<table border=\"1\" class=\"dataframe\">\n",
       "  <thead>\n",
       "    <tr style=\"text-align: right;\">\n",
       "      <th></th>\n",
       "      <th>Work</th>\n",
       "      <th>Price</th>\n",
       "      <th>Salary</th>\n",
       "    </tr>\n",
       "    <tr>\n",
       "      <th>cluster</th>\n",
       "      <th></th>\n",
       "      <th></th>\n",
       "      <th></th>\n",
       "    </tr>\n",
       "  </thead>\n",
       "  <tbody>\n",
       "    <tr>\n",
       "      <th>0</th>\n",
       "      <td>1874</td>\n",
       "      <td>105.65</td>\n",
       "      <td>65.15</td>\n",
       "    </tr>\n",
       "    <tr>\n",
       "      <th>1</th>\n",
       "      <td>1759</td>\n",
       "      <td>76.00</td>\n",
       "      <td>53.30</td>\n",
       "    </tr>\n",
       "    <tr>\n",
       "      <th>2</th>\n",
       "      <td>1958</td>\n",
       "      <td>49.20</td>\n",
       "      <td>11.50</td>\n",
       "    </tr>\n",
       "  </tbody>\n",
       "</table>\n",
       "</div>"
      ],
      "text/plain": [
       "         Work   Price  Salary\n",
       "cluster                      \n",
       "0        1874  105.65   65.15\n",
       "1        1759   76.00   53.30\n",
       "2        1958   49.20   11.50"
      ]
     },
     "execution_count": 169,
     "metadata": {},
     "output_type": "execute_result"
    }
   ],
   "source": [
    "data3.groupby('cluster').median()"
   ]
  },
  {
   "cell_type": "code",
   "execution_count": 170,
   "metadata": {},
   "outputs": [
    {
     "data": {
      "text/plain": [
       "cluster\n",
       "0     8\n",
       "1    19\n",
       "2    19\n",
       "dtype: int64"
      ]
     },
     "execution_count": 170,
     "metadata": {},
     "output_type": "execute_result"
    }
   ],
   "source": [
    "data3.groupby('cluster').size()"
   ]
  },
  {
   "cell_type": "markdown",
   "metadata": {},
   "source": [
    "# Выводы"
   ]
  },
  {
   "cell_type": "markdown",
   "metadata": {},
   "source": [
    "На рисунке ниже отображено разбиение данных на кластеры для каждого из методов."
   ]
  },
  {
   "cell_type": "markdown",
   "metadata": {},
   "source": [
    "Стоит отметить следующее:  \n",
    "- Иерархический анализ может собирать отдельные подозрительные данные, но только если они образуют отдельную группу. Этот метод требует детального изучения данных, так как результат кластеризации зависит от выбора расстояния между каждый кластером.\n",
    "- K-means быстрый и не требует большого вмешательства в его работу. Но при малом количества кластеров алгоритм объединяется не совсем схожие данные и различие кластером становится менее заметно.\n",
    "- DBSCAN требует оптимального подбора параметров, которые гарантируют интерпретируемый результат кластеризации. Этот метод хорошо отделяет специфические данные, которые могут не отображать свойства генеральной совокупности. В результате получаются хорошо различимые кластеры, которые легко интерпретировать.\n"
   ]
  },
  {
   "cell_type": "code",
   "execution_count": 171,
   "metadata": {},
   "outputs": [
    {
     "data": {
      "image/png": "[encoded data removed]",
      "text/plain": [
       "<Figure size 648x216 with 3 Axes>"
      ]
     },
     "metadata": {},
     "output_type": "display_data"
    }
   ],
   "source": [
    "fig, axs = plt.subplots(nrows=1, ncols=3, figsize=(9, 3),\n",
    "                        subplot_kw={'xticks': [], 'yticks': []})\n",
    "\n",
    "for ax, data, title  in zip(axs.flat, [data1, data2, data3], ['Иерархический анализ', 'K-means', 'DBSCAN']):\n",
    "    ax.scatter(data.Work, data.Salary, c=data.cluster)\n",
    "    ax.set_title(title)\n",
    "\n",
    "plt.tight_layout()\n",
    "plt.show()"
   ]
  },
  {
   "cell_type": "code",
   "execution_count": 172,
   "metadata": {},
   "outputs": [
    {
     "data": {
      "image/png": "[encoded data removed]",
      "text/plain": [
       "<Figure size 864x1296 with 3 Axes>"
      ]
     },
     "metadata": {
      "needs_background": "light"
     },
     "output_type": "display_data"
    }
   ],
   "source": [
    "fig = plt.figure()\n",
    "fig.set_size_inches(12, 18)\n",
    "\n",
    "for i, data, title  in zip(range(1,4), [data1, data2, data3], ['Иерархический анализ', 'K-means', 'DBSCAN']):\n",
    "    ax = fig.add_subplot(1, 3, i, projection='3d')\n",
    "    ax.scatter(data.Work, data.Salary, data.Price, c=data.cluster, alpha=1)\n",
    "    ax.set_title(title)\n",
    "    \n",
    "plt.tight_layout()\n",
    "plt.show()"
   ]
  },
  {
   "cell_type": "code",
   "execution_count": null,
   "metadata": {},
   "outputs": [],
   "source": []
  }
 ],
 "metadata": {
  "kernelspec": {
   "display_name": "Python 3",
   "language": "python",
   "name": "python3"
  },
  "language_info": {
   "codemirror_mode": {
    "name": "ipython",
    "version": 3
   },
   "file_extension": ".py",
   "mimetype": "text/x-python",
   "name": "python",
   "nbconvert_exporter": "python",
   "pygments_lexer": "ipython3",
   "version": "3.8.6"
  }
 },
 "nbformat": 4,
 "nbformat_minor": 4
}
